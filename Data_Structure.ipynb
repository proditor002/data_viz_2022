{
  "nbformat": 4,
  "nbformat_minor": 0,
  "metadata": {
    "colab": {
      "name": "Data Structure.ipynb",
      "provenance": [],
      "include_colab_link": true
    },
    "kernelspec": {
      "name": "python3",
      "display_name": "Python 3"
    },
    "language_info": {
      "name": "python"
    }
  },
  "cells": [
    {
      "cell_type": "markdown",
      "metadata": {
        "id": "view-in-github",
        "colab_type": "text"
      },
      "source": [
        "<a href=\"https://colab.research.google.com/github/proditor002/data_viz_2022/blob/main/Data_Structure.ipynb\" target=\"_parent\"><img src=\"https://colab.research.google.com/assets/colab-badge.svg\" alt=\"Open In Colab\"/></a>"
      ]
    },
    {
      "cell_type": "markdown",
      "source": [
        "## Data Structure (โครงสร้างข้อมูล)"
      ],
      "metadata": {
        "id": "dnr5JczB6F__"
      }
    },
    {
      "cell_type": "markdown",
      "source": [
        "การเก็บข้อมูลหลายๆตัวไว้ด้วยกันอย่างเป็นระเบียบ"
      ],
      "metadata": {
        "id": "CXzq_3jv6cz-"
      }
    },
    {
      "cell_type": "markdown",
      "source": [
        "### ```list()```"
      ],
      "metadata": {
        "id": "h3nJKfhB6jLG"
      }
    },
    {
      "cell_type": "markdown",
      "source": [
        "*   เก็บอะไรก็ได้\n",
        "*   ลำดับในการเก็บ มีความสำคัญ\n",
        "\n"
      ],
      "metadata": {
        "id": "0BhVPMF5723s"
      }
    },
    {
      "cell_type": "code",
      "source": [
        "list_a = [1,2,3,4,5,6]  ##[ ] square brackets"
      ],
      "metadata": {
        "id": "nspkZ9Nh6Fvs"
      },
      "execution_count": null,
      "outputs": []
    },
    {
      "cell_type": "code",
      "execution_count": null,
      "metadata": {
        "colab": {
          "base_uri": "https://localhost:8080/"
        },
        "id": "R5on-Wad40nl",
        "outputId": "6ba5dfb3-5fc3-44b0-fabd-df80b84ad089"
      },
      "outputs": [
        {
          "output_type": "execute_result",
          "data": {
            "text/plain": [
              "[1, 2, 3, 4, 5, 6]"
            ]
          },
          "metadata": {},
          "execution_count": 7
        }
      ],
      "source": [
        "list_a"
      ]
    },
    {
      "cell_type": "code",
      "source": [
        "list_b = ['ab',2,3.14,list_a]"
      ],
      "metadata": {
        "id": "cZ_LqnMm8KHg"
      },
      "execution_count": null,
      "outputs": []
    },
    {
      "cell_type": "code",
      "source": [
        "list_b"
      ],
      "metadata": {
        "colab": {
          "base_uri": "https://localhost:8080/"
        },
        "id": "0Q_7z_b68K-B",
        "outputId": "e56c02f3-3f5f-4022-d4e7-8ebfd46dd165"
      },
      "execution_count": null,
      "outputs": [
        {
          "output_type": "execute_result",
          "data": {
            "text/plain": [
              "['ab', 2, 3.14, [1, 2, 3, 4, 5, 6]]"
            ]
          },
          "metadata": {},
          "execution_count": 5
        }
      ]
    },
    {
      "cell_type": "markdown",
      "source": [
        "### Indexing การชี้สมาชิกใน list ด้วยเลขลำดับของ list"
      ],
      "metadata": {
        "id": "tKCjgSg38SpK"
      }
    },
    {
      "cell_type": "code",
      "source": [
        "list_a[3]   # ดึงข้อมูลตัวที่ 3 ของ list_a (เริ่มนับจาก 0,1,2,...,)"
      ],
      "metadata": {
        "colab": {
          "base_uri": "https://localhost:8080/"
        },
        "id": "0qqMig4O8Rhz",
        "outputId": "e81d70a8-5a08-4314-9d4d-8d5e4aaa25f0"
      },
      "execution_count": null,
      "outputs": [
        {
          "output_type": "execute_result",
          "data": {
            "text/plain": [
              "4"
            ]
          },
          "metadata": {},
          "execution_count": 9
        }
      ]
    },
    {
      "cell_type": "code",
      "source": [
        "list_b[3]"
      ],
      "metadata": {
        "colab": {
          "base_uri": "https://localhost:8080/"
        },
        "id": "TI64D5H58eki",
        "outputId": "146d6c62-62f7-4d1d-e615-b276235d33d0"
      },
      "execution_count": null,
      "outputs": [
        {
          "output_type": "execute_result",
          "data": {
            "text/plain": [
              "[1, 2, 3, 4, 5, 6]"
            ]
          },
          "metadata": {},
          "execution_count": 10
        }
      ]
    },
    {
      "cell_type": "code",
      "source": [
        "list_b[3][4]"
      ],
      "metadata": {
        "colab": {
          "base_uri": "https://localhost:8080/"
        },
        "id": "yuJk8Tun8hcF",
        "outputId": "0a5d2d0a-31ef-40f6-c9d5-d2a91dcc6c6b"
      },
      "execution_count": null,
      "outputs": [
        {
          "output_type": "execute_result",
          "data": {
            "text/plain": [
              "5"
            ]
          },
          "metadata": {},
          "execution_count": 11
        }
      ]
    },
    {
      "cell_type": "code",
      "source": [
        "list_a[-1]  ## index -1 คือตัวสุดท้ายของ list"
      ],
      "metadata": {
        "colab": {
          "base_uri": "https://localhost:8080/"
        },
        "id": "Q9R7t4vk82FS",
        "outputId": "5ce9a32e-363a-4913-b12e-5181c669e184"
      },
      "execution_count": null,
      "outputs": [
        {
          "output_type": "execute_result",
          "data": {
            "text/plain": [
              "6"
            ]
          },
          "metadata": {},
          "execution_count": 15
        }
      ]
    },
    {
      "cell_type": "code",
      "source": [
        "list_a[-4]"
      ],
      "metadata": {
        "colab": {
          "base_uri": "https://localhost:8080/"
        },
        "id": "Dtni4JDR895D",
        "outputId": "6393402a-79da-4dac-db9f-086c236981b7"
      },
      "execution_count": null,
      "outputs": [
        {
          "output_type": "execute_result",
          "data": {
            "text/plain": [
              "3"
            ]
          },
          "metadata": {},
          "execution_count": 16
        }
      ]
    },
    {
      "cell_type": "markdown",
      "source": [
        "## การสร้าง ```list()```"
      ],
      "metadata": {
        "id": "_0OQpOtF-s7F"
      }
    },
    {
      "cell_type": "code",
      "source": [
        "list_x1 = []  ## แบบที่ 1\n",
        "list_x2 = list()  ## แบบที่ 2"
      ],
      "metadata": {
        "id": "kzLDwq61-SnV"
      },
      "execution_count": null,
      "outputs": []
    },
    {
      "cell_type": "code",
      "source": [
        "print(list_x1)\n",
        "print(list_x2)"
      ],
      "metadata": {
        "colab": {
          "base_uri": "https://localhost:8080/"
        },
        "id": "qmo7j-UK-0IK",
        "outputId": "1a4c1b5f-d5e5-4408-f722-3dac9ec496e3"
      },
      "execution_count": null,
      "outputs": [
        {
          "output_type": "stream",
          "name": "stdout",
          "text": [
            "[]\n",
            "[]\n"
          ]
        }
      ]
    },
    {
      "cell_type": "markdown",
      "source": [
        "### เพิ่มสมาชิกเข้าไปใน list ด้วย ```append()```"
      ],
      "metadata": {
        "id": "bdSw0Ecf_AdB"
      }
    },
    {
      "cell_type": "code",
      "source": [
        "list_x1.append(2)   # เพิ่ม 2 เข้าไปใน list_x1"
      ],
      "metadata": {
        "id": "OX1dTbgK-_kW"
      },
      "execution_count": null,
      "outputs": []
    },
    {
      "cell_type": "code",
      "source": [
        "list_x1"
      ],
      "metadata": {
        "colab": {
          "base_uri": "https://localhost:8080/"
        },
        "id": "63uzYzdc_NLm",
        "outputId": "5d8341e0-f374-4648-d9ba-5bb28b3aa20b"
      },
      "execution_count": null,
      "outputs": [
        {
          "output_type": "execute_result",
          "data": {
            "text/plain": [
              "[2]"
            ]
          },
          "metadata": {},
          "execution_count": 20
        }
      ]
    },
    {
      "cell_type": "code",
      "source": [
        "list_x1.append(4)       # เพิ่ม 4 เข้าไปใน list_x1\n",
        "print(list_x1)          # run กี่รอบก็จะเพิ่มเข้าไปเท่านั้น"
      ],
      "metadata": {
        "colab": {
          "base_uri": "https://localhost:8080/"
        },
        "id": "i7p4mpF3_O_O",
        "outputId": "6e176690-ac68-4b12-ab20-59fa76ad0d38"
      },
      "execution_count": null,
      "outputs": [
        {
          "output_type": "stream",
          "name": "stdout",
          "text": [
            "[2, 4]\n"
          ]
        }
      ]
    },
    {
      "cell_type": "code",
      "source": [
        "list_x1[0]"
      ],
      "metadata": {
        "colab": {
          "base_uri": "https://localhost:8080/"
        },
        "id": "RBpfw0Ro_W_c",
        "outputId": "964341cc-056c-4ff0-82ab-8e6655e6ad17"
      },
      "execution_count": null,
      "outputs": [
        {
          "output_type": "execute_result",
          "data": {
            "text/plain": [
              "2"
            ]
          },
          "metadata": {},
          "execution_count": 22
        }
      ]
    },
    {
      "cell_type": "code",
      "source": [
        "list_x1[-1]"
      ],
      "metadata": {
        "colab": {
          "base_uri": "https://localhost:8080/"
        },
        "id": "RCEK_NBm_ZM8",
        "outputId": "7dd51d20-d5af-4217-de0c-03fd565f05ff"
      },
      "execution_count": null,
      "outputs": [
        {
          "output_type": "execute_result",
          "data": {
            "text/plain": [
              "4"
            ]
          },
          "metadata": {},
          "execution_count": 23
        }
      ]
    },
    {
      "cell_type": "code",
      "source": [
        "list_x2"
      ],
      "metadata": {
        "colab": {
          "base_uri": "https://localhost:8080/"
        },
        "id": "pOVv-lva_biQ",
        "outputId": "f0e62cd4-4a52-4bfa-8622-5ab9e2581f41"
      },
      "execution_count": null,
      "outputs": [
        {
          "output_type": "execute_result",
          "data": {
            "text/plain": [
              "[]"
            ]
          },
          "metadata": {},
          "execution_count": 24
        }
      ]
    },
    {
      "cell_type": "code",
      "source": [
        "list_x2.append('ha')"
      ],
      "metadata": {
        "id": "Qp7iAaSX_dGg"
      },
      "execution_count": null,
      "outputs": []
    },
    {
      "cell_type": "code",
      "source": [
        "list_x2   # run -> list_x2.append('ha') สองรอบ จะได้ ['ha', 'ha']"
      ],
      "metadata": {
        "colab": {
          "base_uri": "https://localhost:8080/"
        },
        "id": "UgFeuIDNBBpz",
        "outputId": "f3b34318-c4e3-4361-ad1a-25e090759c21"
      },
      "execution_count": null,
      "outputs": [
        {
          "output_type": "execute_result",
          "data": {
            "text/plain": [
              "['ha', 'ha']"
            ]
          },
          "metadata": {},
          "execution_count": 30
        }
      ]
    },
    {
      "cell_type": "markdown",
      "source": [
        "### ลบสมาชิกจาก list"
      ],
      "metadata": {
        "id": "Q-X3JxpOAWY0"
      }
    },
    {
      "cell_type": "code",
      "source": [
        "list_x1.append('ha')"
      ],
      "metadata": {
        "id": "TBzZMVW4Au_I"
      },
      "execution_count": null,
      "outputs": []
    },
    {
      "cell_type": "code",
      "source": [
        "list_x1"
      ],
      "metadata": {
        "colab": {
          "base_uri": "https://localhost:8080/"
        },
        "id": "OAvjJJ3wAu7E",
        "outputId": "d93f4fd6-481d-4979-9d5b-2001e9e0c151"
      },
      "execution_count": null,
      "outputs": [
        {
          "output_type": "execute_result",
          "data": {
            "text/plain": [
              "[2, 4, 'ha']"
            ]
          },
          "metadata": {},
          "execution_count": 32
        }
      ]
    },
    {
      "cell_type": "code",
      "source": [
        "list_x1.pop()        # ดึงตัวหลังสุดออกมา "
      ],
      "metadata": {
        "colab": {
          "base_uri": "https://localhost:8080/",
          "height": 35
        },
        "id": "mGGFVlW9_qQL",
        "outputId": "9e9c9d57-829d-436e-f443-83f37cdbbc66"
      },
      "execution_count": null,
      "outputs": [
        {
          "output_type": "execute_result",
          "data": {
            "application/vnd.google.colaboratory.intrinsic+json": {
              "type": "string"
            },
            "text/plain": [
              "'ha'"
            ]
          },
          "metadata": {},
          "execution_count": 33
        }
      ]
    },
    {
      "cell_type": "code",
      "source": [
        "list_x1"
      ],
      "metadata": {
        "colab": {
          "base_uri": "https://localhost:8080/"
        },
        "id": "1XTrAWbbAu5E",
        "outputId": "c51f801c-b992-4875-8c08-08a37cd2034b"
      },
      "execution_count": null,
      "outputs": [
        {
          "output_type": "execute_result",
          "data": {
            "text/plain": [
              "[2]"
            ]
          },
          "metadata": {},
          "execution_count": 35
        }
      ]
    },
    {
      "cell_type": "markdown",
      "source": [
        "### `len()` ตรวจสอบสมาชิกของ list"
      ],
      "metadata": {
        "id": "lobYXFI8B8fq"
      }
    },
    {
      "cell_type": "code",
      "source": [
        "print(list_b)\n",
        "print(len(list_b))"
      ],
      "metadata": {
        "colab": {
          "base_uri": "https://localhost:8080/"
        },
        "id": "x_V0qdwOA3Z9",
        "outputId": "e299a0d1-b94b-45e1-bbd5-722bd8cfca1b"
      },
      "execution_count": null,
      "outputs": [
        {
          "output_type": "stream",
          "name": "stdout",
          "text": [
            "['ab', 2, 3.14, [1, 2, 3, 4, 5, 6]]\n",
            "4\n"
          ]
        }
      ]
    },
    {
      "cell_type": "code",
      "source": [
        "len(list_a)     # len จะนับจำนวนที่แท้จริง (เริ่มจาก 1 ไม่ใช่ 0)"
      ],
      "metadata": {
        "colab": {
          "base_uri": "https://localhost:8080/"
        },
        "id": "t5GhtUc2CUUK",
        "outputId": "0f679eb9-2751-4d2a-aeab-72d57559a76b"
      },
      "execution_count": null,
      "outputs": [
        {
          "output_type": "execute_result",
          "data": {
            "text/plain": [
              "6"
            ]
          },
          "metadata": {},
          "execution_count": 37
        }
      ]
    },
    {
      "cell_type": "markdown",
      "source": [
        "### String is list of characters"
      ],
      "metadata": {
        "id": "CIn2bLGbCwiD"
      }
    },
    {
      "cell_type": "code",
      "source": [
        "st_stat = 'Department of Statistics, Faculty of Science'"
      ],
      "metadata": {
        "id": "QXg6cLlHCYUl"
      },
      "execution_count": null,
      "outputs": []
    },
    {
      "cell_type": "code",
      "source": [
        "st_stat[10]"
      ],
      "metadata": {
        "colab": {
          "base_uri": "https://localhost:8080/",
          "height": 35
        },
        "id": "S5sYuXReDITd",
        "outputId": "0b815e2f-84ce-4f58-f310-ff4440eb1c9a"
      },
      "execution_count": null,
      "outputs": [
        {
          "output_type": "execute_result",
          "data": {
            "application/vnd.google.colaboratory.intrinsic+json": {
              "type": "string"
            },
            "text/plain": [
              "' '"
            ]
          },
          "metadata": {},
          "execution_count": 39
        }
      ]
    },
    {
      "cell_type": "code",
      "source": [
        "len(st_stat)"
      ],
      "metadata": {
        "colab": {
          "base_uri": "https://localhost:8080/"
        },
        "id": "ARv1BfRFDJvq",
        "outputId": "39c23a7b-e610-4aec-8a0e-46d932d7fdee"
      },
      "execution_count": null,
      "outputs": [
        {
          "output_type": "execute_result",
          "data": {
            "text/plain": [
              "44"
            ]
          },
          "metadata": {},
          "execution_count": 40
        }
      ]
    },
    {
      "cell_type": "markdown",
      "source": [
        "### List Slicing `:`\n",
        "`list[จุดเริ่มต้น:จุดสุดท้าย)`\n",
        "\n",
        "`list[จุดเริ่มต้น:จุดสุดท้าย:step)`\n",
        "\n",
        "** step คือ กระโดดกี่ตัว"
      ],
      "metadata": {
        "id": "FHMRMykMDZFf"
      }
    },
    {
      "cell_type": "code",
      "source": [
        "list_a"
      ],
      "metadata": {
        "colab": {
          "base_uri": "https://localhost:8080/"
        },
        "id": "-HVCl0UwDRFa",
        "outputId": "89a2536b-eca0-4566-dcde-67cbf3eb0099"
      },
      "execution_count": null,
      "outputs": [
        {
          "output_type": "execute_result",
          "data": {
            "text/plain": [
              "[1, 2, 3, 4, 5, 6]"
            ]
          },
          "metadata": {},
          "execution_count": 41
        }
      ]
    },
    {
      "cell_type": "code",
      "source": [
        "list_a[2]       # ทำแบบนี้จะดึงมาได้แค่ตัวเดียว"
      ],
      "metadata": {
        "colab": {
          "base_uri": "https://localhost:8080/"
        },
        "id": "3eqARVbuD3WQ",
        "outputId": "69f2e885-9a6f-4c4c-cfca-866ef0e55544"
      },
      "execution_count": null,
      "outputs": [
        {
          "output_type": "execute_result",
          "data": {
            "text/plain": [
              "3"
            ]
          },
          "metadata": {},
          "execution_count": 42
        }
      ]
    },
    {
      "cell_type": "markdown",
      "source": [
        "#### `:` colon"
      ],
      "metadata": {
        "id": "v8BzMfYz_WZf"
      }
    },
    {
      "cell_type": "code",
      "source": [
        "list_a[-3:]     # ตัดมาแค่ 3 ตัวสุดท้าย"
      ],
      "metadata": {
        "colab": {
          "base_uri": "https://localhost:8080/"
        },
        "id": "rLz3RLSREGro",
        "outputId": "b81da20d-42f9-4feb-ebd5-ee7989151fff"
      },
      "execution_count": null,
      "outputs": [
        {
          "output_type": "execute_result",
          "data": {
            "text/plain": [
              "[4, 5, 6]"
            ]
          },
          "metadata": {},
          "execution_count": 43
        }
      ]
    },
    {
      "cell_type": "code",
      "source": [
        "list_a[1:4]     # ตัด 2,3,4 มา   # เริ่มนับจาก 0,1,2,..."
      ],
      "metadata": {
        "colab": {
          "base_uri": "https://localhost:8080/"
        },
        "id": "qfOSOmo2EQx8",
        "outputId": "675adc3a-8d3d-4c8e-ab9a-973b505b79d6"
      },
      "execution_count": null,
      "outputs": [
        {
          "output_type": "execute_result",
          "data": {
            "text/plain": [
              "[2, 3, 4]"
            ]
          },
          "metadata": {},
          "execution_count": 44
        }
      ]
    },
    {
      "cell_type": "code",
      "source": [
        "list_a[:]       # เอาทุกตัว"
      ],
      "metadata": {
        "colab": {
          "base_uri": "https://localhost:8080/"
        },
        "id": "F8Nt_qjYGO13",
        "outputId": "2bfbb589-3594-4d0e-8f66-4a175ece7215"
      },
      "execution_count": null,
      "outputs": [
        {
          "output_type": "execute_result",
          "data": {
            "text/plain": [
              "[1, 2, 3, 4, 5, 6]"
            ]
          },
          "metadata": {},
          "execution_count": 45
        }
      ]
    },
    {
      "cell_type": "markdown",
      "source": [
        "#### step"
      ],
      "metadata": {
        "id": "fGP6td5hG6a1"
      }
    },
    {
      "cell_type": "code",
      "source": [
        "list_c = [1,2,3,4,5,6,7,8,9,10,11,12,13]"
      ],
      "metadata": {
        "id": "c6c_tEDMG2Ed"
      },
      "execution_count": null,
      "outputs": []
    },
    {
      "cell_type": "code",
      "source": [
        "list_c[:10:]"
      ],
      "metadata": {
        "colab": {
          "base_uri": "https://localhost:8080/"
        },
        "id": "NfPBay9oHFoW",
        "outputId": "dac6ea0a-3fe5-4522-cca5-f028fc2843f4"
      },
      "execution_count": null,
      "outputs": [
        {
          "output_type": "execute_result",
          "data": {
            "text/plain": [
              "[1, 2, 3, 4, 5, 6, 7, 8, 9, 10]"
            ]
          },
          "metadata": {},
          "execution_count": 47
        }
      ]
    },
    {
      "cell_type": "code",
      "source": [
        "list_c[:10:2]"
      ],
      "metadata": {
        "colab": {
          "base_uri": "https://localhost:8080/"
        },
        "id": "PA57wR0jHOZs",
        "outputId": "2d1199d9-05e4-426e-f954-238b99a36926"
      },
      "execution_count": null,
      "outputs": [
        {
          "output_type": "execute_result",
          "data": {
            "text/plain": [
              "[1, 3, 5, 7, 9]"
            ]
          },
          "metadata": {},
          "execution_count": 48
        }
      ]
    },
    {
      "cell_type": "code",
      "source": [
        "list_c[::-1]        # ดึงจากท้ายมาหน้า (สลับ)"
      ],
      "metadata": {
        "colab": {
          "base_uri": "https://localhost:8080/"
        },
        "id": "5hoCrAfaHXKe",
        "outputId": "bfb412f7-9705-491b-d53f-d14a2622dfbd"
      },
      "execution_count": null,
      "outputs": [
        {
          "output_type": "execute_result",
          "data": {
            "text/plain": [
              "[13, 12, 11, 10, 9, 8, 7, 6, 5, 4, 3, 2, 1]"
            ]
          },
          "metadata": {},
          "execution_count": 49
        }
      ]
    },
    {
      "cell_type": "markdown",
      "source": [
        "### `range()`"
      ],
      "metadata": {
        "id": "4oCgJ1sgIBmG"
      }
    },
    {
      "cell_type": "code",
      "source": [
        "range(21)       # range ความยาว 21 ตัว ค่า 0-20"
      ],
      "metadata": {
        "colab": {
          "base_uri": "https://localhost:8080/"
        },
        "id": "9thbswGCIT1L",
        "outputId": "b8b157ac-516e-4b79-d99d-9c83986ed0d4"
      },
      "execution_count": null,
      "outputs": [
        {
          "output_type": "execute_result",
          "data": {
            "text/plain": [
              "range(0, 21)"
            ]
          },
          "metadata": {},
          "execution_count": 50
        }
      ]
    },
    {
      "cell_type": "code",
      "source": [
        "a = list(range(21))"
      ],
      "metadata": {
        "id": "hzxErdacHgpo"
      },
      "execution_count": null,
      "outputs": []
    },
    {
      "cell_type": "code",
      "source": [
        "a"
      ],
      "metadata": {
        "colab": {
          "base_uri": "https://localhost:8080/"
        },
        "id": "ZndQHYQcIPRt",
        "outputId": "ae4277a8-c258-48dd-fc43-27ba71bcb290"
      },
      "execution_count": null,
      "outputs": [
        {
          "output_type": "execute_result",
          "data": {
            "text/plain": [
              "[0, 1, 2, 3, 4, 5, 6, 7, 8, 9, 10, 11, 12, 13, 14, 15, 16, 17, 18, 19, 20]"
            ]
          },
          "metadata": {},
          "execution_count": 52
        }
      ]
    },
    {
      "cell_type": "code",
      "source": [
        "list(range(1,21))       # input 2 ตัว"
      ],
      "metadata": {
        "colab": {
          "base_uri": "https://localhost:8080/"
        },
        "id": "DX2d3cssIQUe",
        "outputId": "a9ba8994-5a2f-4bd8-c01e-3fadf3e67f56"
      },
      "execution_count": null,
      "outputs": [
        {
          "output_type": "execute_result",
          "data": {
            "text/plain": [
              "[1, 2, 3, 4, 5, 6, 7, 8, 9, 10, 11, 12, 13, 14, 15, 16, 17, 18, 19, 20]"
            ]
          },
          "metadata": {},
          "execution_count": 53
        }
      ]
    },
    {
      "cell_type": "markdown",
      "source": [
        "## HW2 คำนวนเวลาเป็นวินาทีขอเวลาต่อไปนี้โดยใช้คำสั่ง split() ช่วย (print ออกมาให้สวยงาม)\n",
        "- 12:30:15\n",
        "- 13:41:07\n",
        "- 09:11:50\n",
        "- 21:30:15\n",
        "- 03:10:15"
      ],
      "metadata": {
        "id": "4mrw7FhwJC5E"
      }
    },
    {
      "cell_type": "code",
      "source": [
        "#Ex 01:02:03\n",
        "\n",
        "Ex = (1*60*60) + (2*60) + 3\n",
        "print(f'01:02:03 แปลงเป็นวินาที ได้ {Ex00} วินาที')"
      ],
      "metadata": {
        "colab": {
          "base_uri": "https://localhost:8080/"
        },
        "id": "TrcYOxpnIvyo",
        "outputId": "299a594a-f1bf-4efb-dd0b-05d2080f2fcd"
      },
      "execution_count": null,
      "outputs": [
        {
          "output_type": "stream",
          "name": "stdout",
          "text": [
            "01:02:03 แปลงเป็นวินาที ได้ 3723 วินาที\n"
          ]
        }
      ]
    },
    {
      "cell_type": "code",
      "source": [
        "#1 12:30:15\n",
        "\n",
        "T1 = '12:30:15'\n",
        "T1_sp = T1.split(':')\n",
        "T1_sp = int(T1_sp[0])*60*60 + int(T1_sp[1])*60 + int(T1_sp[2])\n",
        "print(f'{T1} แปลงเป็นวินาที ได้ {T1_sp} วินาที')"
      ],
      "metadata": {
        "id": "NWEB_TznKyzh",
        "outputId": "54f93e2c-d6d4-4e69-8218-cdd277bedb81",
        "colab": {
          "base_uri": "https://localhost:8080/"
        }
      },
      "execution_count": null,
      "outputs": [
        {
          "output_type": "stream",
          "name": "stdout",
          "text": [
            "12:30:15 แปลงเป็นวินาที ได้ 45015 วินาที\n"
          ]
        }
      ]
    },
    {
      "cell_type": "code",
      "source": [
        "#2 13:41:07\n",
        "\n",
        "T2 = '13:41:07'\n",
        "T2_sp = T2.split(':')\n",
        "T2_sp = int(T2_sp[0])*60*60 + int(T2_sp[1])*60 + int(T2_sp[2])\n",
        "print(f'{T2} แปลงเป็นวินาที ได้ {T2_sp} วินาที')"
      ],
      "metadata": {
        "id": "kAvZgvHmFr2H",
        "outputId": "d292b9bc-2793-4747-a854-fe6019acc8b4",
        "colab": {
          "base_uri": "https://localhost:8080/"
        }
      },
      "execution_count": null,
      "outputs": [
        {
          "output_type": "stream",
          "name": "stdout",
          "text": [
            "13:41:07 แปลงเป็นวินาที ได้ 49267 วินาที\n"
          ]
        }
      ]
    },
    {
      "cell_type": "code",
      "source": [
        "#T3 09:11:50\n",
        "\n",
        "T3 = '09:11:50'\n",
        "T3_sp = T3.split(':')\n",
        "T3_sp = int(T3_sp[0])*60*60 + int(T3_sp[1])*60 + int(T3_sp[2])\n",
        "print(f'{T3} แปลงเป็นวินาที ได้ {T3_sp} วินาที')"
      ],
      "metadata": {
        "id": "tTBzO3A7F5bG",
        "outputId": "9e1402f8-5989-412c-eafe-934c0fee2d16",
        "colab": {
          "base_uri": "https://localhost:8080/"
        }
      },
      "execution_count": null,
      "outputs": [
        {
          "output_type": "stream",
          "name": "stdout",
          "text": [
            "09:11:50 แปลงเป็นวินาที ได้ 33110 วินาที\n"
          ]
        }
      ]
    },
    {
      "cell_type": "code",
      "source": [
        "#T4 21:30:15\n",
        "\n",
        "T4 = '21:30:15'\n",
        "T4_sp = T4.split(':')\n",
        "T4_sp = int(T4_sp[0])*60*60 + int(T4_sp[1])*60 + int(T4_sp[2])\n",
        "print(f'{T4} แปลงเป็นวินาที ได้ {T4_sp} วินาที')"
      ],
      "metadata": {
        "id": "Qa9MrvI-F-Zu",
        "outputId": "862e59e9-96fb-467e-aa21-25ca2f939ff4",
        "colab": {
          "base_uri": "https://localhost:8080/"
        }
      },
      "execution_count": null,
      "outputs": [
        {
          "output_type": "stream",
          "name": "stdout",
          "text": [
            "21:30:15 แปลงเป็นวินาที ได้ 77415 วินาที\n"
          ]
        }
      ]
    },
    {
      "cell_type": "code",
      "source": [
        "#T5 03:10:15\n",
        "\n",
        "T5 = '03:10:15'\n",
        "T5_sp = T5.split(':')\n",
        "T5_sp = int(T5_sp[0])*60*60 + int(T5_sp[1])*60 + int(T5_sp[2])\n",
        "print(f'{T5} แปลงเป็นวินาที ได้ {T5_sp} วินาที')"
      ],
      "metadata": {
        "id": "HgtAUuD7GArF",
        "outputId": "7e2921fc-2607-4174-e8c5-f575ff075714",
        "colab": {
          "base_uri": "https://localhost:8080/"
        }
      },
      "execution_count": null,
      "outputs": [
        {
          "output_type": "stream",
          "name": "stdout",
          "text": [
            "03:10:15 แปลงเป็นวินาที ได้ 11415 วินาที\n"
          ]
        }
      ]
    }
  ]
}