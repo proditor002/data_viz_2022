{
  "nbformat": 4,
  "nbformat_minor": 0,
  "metadata": {
    "colab": {
      "name": "Data Structure.ipynb",
      "provenance": [],
      "include_colab_link": true
    },
    "kernelspec": {
      "name": "python3",
      "display_name": "Python 3"
    },
    "language_info": {
      "name": "python"
    }
  },
  "cells": [
    {
      "cell_type": "markdown",
      "metadata": {
        "id": "view-in-github",
        "colab_type": "text"
      },
      "source": [
        "<a href=\"https://colab.research.google.com/github/proditor002/data_viz_2022/blob/main/Data_Structure.ipynb\" target=\"_parent\"><img src=\"https://colab.research.google.com/assets/colab-badge.svg\" alt=\"Open In Colab\"/></a>"
      ]
    },
    {
      "cell_type": "markdown",
      "source": [
        "## Data Structure (โครงสร้างข้อมูล)"
      ],
      "metadata": {
        "id": "dnr5JczB6F__"
      }
    },
    {
      "cell_type": "markdown",
      "source": [
        "การเก็บข้อมูลหลายๆตัวไว้ด้วยกันอย่างเป็นระเบียบ"
      ],
      "metadata": {
        "id": "CXzq_3jv6cz-"
      }
    },
    {
      "cell_type": "markdown",
      "source": [
        "### ```list()```"
      ],
      "metadata": {
        "id": "h3nJKfhB6jLG"
      }
    },
    {
      "cell_type": "markdown",
      "source": [
        "*   เก็บอะไรก็ได้\n",
        "*   ลำดับในการเก็บ มีความสำคัญ\n",
        "\n"
      ],
      "metadata": {
        "id": "0BhVPMF5723s"
      }
    },
    {
      "cell_type": "code",
      "source": [
        "list_a = [1,2,3,4,5,6]  ##[ ] square brackets"
      ],
      "metadata": {
        "id": "nspkZ9Nh6Fvs"
      },
      "execution_count": 121,
      "outputs": []
    },
    {
      "cell_type": "code",
      "execution_count": 122,
      "metadata": {
        "colab": {
          "base_uri": "https://localhost:8080/"
        },
        "id": "R5on-Wad40nl",
        "outputId": "55f6cd28-d923-4fed-f88f-000551138684"
      },
      "outputs": [
        {
          "output_type": "execute_result",
          "data": {
            "text/plain": [
              "[1, 2, 3, 4, 5, 6]"
            ]
          },
          "metadata": {},
          "execution_count": 122
        }
      ],
      "source": [
        "list_a"
      ]
    },
    {
      "cell_type": "code",
      "source": [
        "list_b = ['ab',2,3.14,list_a]"
      ],
      "metadata": {
        "id": "cZ_LqnMm8KHg"
      },
      "execution_count": 123,
      "outputs": []
    },
    {
      "cell_type": "code",
      "source": [
        "list_b"
      ],
      "metadata": {
        "colab": {
          "base_uri": "https://localhost:8080/"
        },
        "id": "0Q_7z_b68K-B",
        "outputId": "21decbac-b509-402c-c6d0-cf0ea6071a7e"
      },
      "execution_count": 124,
      "outputs": [
        {
          "output_type": "execute_result",
          "data": {
            "text/plain": [
              "['ab', 2, 3.14, [1, 2, 3, 4, 5, 6]]"
            ]
          },
          "metadata": {},
          "execution_count": 124
        }
      ]
    },
    {
      "cell_type": "markdown",
      "source": [
        "### Indexing การชี้สมาชิกใน list ด้วยเลขลำดับของ list"
      ],
      "metadata": {
        "id": "tKCjgSg38SpK"
      }
    },
    {
      "cell_type": "code",
      "source": [
        "list_a[3]   # ดึงข้อมูลตัวที่ 3 ของ list_a (เริ่มนับจาก 0,1,2,...,)"
      ],
      "metadata": {
        "colab": {
          "base_uri": "https://localhost:8080/"
        },
        "id": "0qqMig4O8Rhz",
        "outputId": "877cf72d-9b1a-457f-ebdf-eacf019ba4f5"
      },
      "execution_count": 125,
      "outputs": [
        {
          "output_type": "execute_result",
          "data": {
            "text/plain": [
              "4"
            ]
          },
          "metadata": {},
          "execution_count": 125
        }
      ]
    },
    {
      "cell_type": "code",
      "source": [
        "list_b[3]"
      ],
      "metadata": {
        "colab": {
          "base_uri": "https://localhost:8080/"
        },
        "id": "TI64D5H58eki",
        "outputId": "4d64eec0-7169-4f2c-f555-953504aabdc0"
      },
      "execution_count": 126,
      "outputs": [
        {
          "output_type": "execute_result",
          "data": {
            "text/plain": [
              "[1, 2, 3, 4, 5, 6]"
            ]
          },
          "metadata": {},
          "execution_count": 126
        }
      ]
    },
    {
      "cell_type": "code",
      "source": [
        "list_b[3][4]"
      ],
      "metadata": {
        "colab": {
          "base_uri": "https://localhost:8080/"
        },
        "id": "yuJk8Tun8hcF",
        "outputId": "a8f3f5d3-b666-402b-f445-fe490998ec01"
      },
      "execution_count": 127,
      "outputs": [
        {
          "output_type": "execute_result",
          "data": {
            "text/plain": [
              "5"
            ]
          },
          "metadata": {},
          "execution_count": 127
        }
      ]
    },
    {
      "cell_type": "code",
      "source": [
        "list_a[-1]  ## index -1 คือตัวสุดท้ายของ list"
      ],
      "metadata": {
        "colab": {
          "base_uri": "https://localhost:8080/"
        },
        "id": "Q9R7t4vk82FS",
        "outputId": "58a40eb2-b7d4-4fbb-8857-de47c33e4074"
      },
      "execution_count": 128,
      "outputs": [
        {
          "output_type": "execute_result",
          "data": {
            "text/plain": [
              "6"
            ]
          },
          "metadata": {},
          "execution_count": 128
        }
      ]
    },
    {
      "cell_type": "code",
      "source": [
        "list_a[-4]"
      ],
      "metadata": {
        "colab": {
          "base_uri": "https://localhost:8080/"
        },
        "id": "Dtni4JDR895D",
        "outputId": "6d024b76-e3d8-466b-eb14-ef2cd70d5af1"
      },
      "execution_count": 129,
      "outputs": [
        {
          "output_type": "execute_result",
          "data": {
            "text/plain": [
              "3"
            ]
          },
          "metadata": {},
          "execution_count": 129
        }
      ]
    },
    {
      "cell_type": "markdown",
      "source": [
        "## การสร้าง ```list()```"
      ],
      "metadata": {
        "id": "_0OQpOtF-s7F"
      }
    },
    {
      "cell_type": "code",
      "source": [
        "list_x1 = []  ## แบบที่ 1\n",
        "list_x2 = list()  ## แบบที่ 2"
      ],
      "metadata": {
        "id": "kzLDwq61-SnV"
      },
      "execution_count": 130,
      "outputs": []
    },
    {
      "cell_type": "code",
      "source": [
        "print(list_x1)\n",
        "print(list_x2)"
      ],
      "metadata": {
        "colab": {
          "base_uri": "https://localhost:8080/"
        },
        "id": "qmo7j-UK-0IK",
        "outputId": "20d99c97-a8b3-44ce-c6d7-7c4461e3db33"
      },
      "execution_count": 131,
      "outputs": [
        {
          "output_type": "stream",
          "name": "stdout",
          "text": [
            "[]\n",
            "[]\n"
          ]
        }
      ]
    },
    {
      "cell_type": "markdown",
      "source": [
        "### เพิ่มสมาชิกเข้าไปใน list ด้วย ```append()```"
      ],
      "metadata": {
        "id": "bdSw0Ecf_AdB"
      }
    },
    {
      "cell_type": "code",
      "source": [
        "list_x1.append(2)   # เพิ่ม 2 เข้าไปใน list_x1"
      ],
      "metadata": {
        "id": "OX1dTbgK-_kW"
      },
      "execution_count": 163,
      "outputs": []
    },
    {
      "cell_type": "code",
      "source": [
        "list_x1"
      ],
      "metadata": {
        "colab": {
          "base_uri": "https://localhost:8080/"
        },
        "id": "63uzYzdc_NLm",
        "outputId": "f7b62fe9-c13e-444b-d490-6ed9cd35eb09"
      },
      "execution_count": 164,
      "outputs": [
        {
          "output_type": "execute_result",
          "data": {
            "text/plain": [
              "[2, 4, 2]"
            ]
          },
          "metadata": {},
          "execution_count": 164
        }
      ]
    },
    {
      "cell_type": "code",
      "source": [
        "list_x1.append(4)       # เพิ่ม 4 เข้าไปใน list_x1\n",
        "print(list_x1)          # run กี่รอบก็จะเพิ่มเข้าไปเท่านั้น"
      ],
      "metadata": {
        "colab": {
          "base_uri": "https://localhost:8080/"
        },
        "id": "i7p4mpF3_O_O",
        "outputId": "4bfbc0e5-d46e-437c-ab3c-8cb799e97c60"
      },
      "execution_count": 165,
      "outputs": [
        {
          "output_type": "stream",
          "name": "stdout",
          "text": [
            "[2, 4, 2, 4]\n"
          ]
        }
      ]
    },
    {
      "cell_type": "code",
      "source": [
        "list_x1[0]"
      ],
      "metadata": {
        "colab": {
          "base_uri": "https://localhost:8080/"
        },
        "id": "RBpfw0Ro_W_c",
        "outputId": "45c2a05c-1af0-42ed-d92a-a034252e8421"
      },
      "execution_count": 166,
      "outputs": [
        {
          "output_type": "execute_result",
          "data": {
            "text/plain": [
              "2"
            ]
          },
          "metadata": {},
          "execution_count": 166
        }
      ]
    },
    {
      "cell_type": "code",
      "source": [
        "list_x1[-1]"
      ],
      "metadata": {
        "colab": {
          "base_uri": "https://localhost:8080/"
        },
        "id": "RCEK_NBm_ZM8",
        "outputId": "33afce73-3621-4160-b330-b5bb442ba9fa"
      },
      "execution_count": 167,
      "outputs": [
        {
          "output_type": "execute_result",
          "data": {
            "text/plain": [
              "4"
            ]
          },
          "metadata": {},
          "execution_count": 167
        }
      ]
    },
    {
      "cell_type": "code",
      "source": [
        "list_x2"
      ],
      "metadata": {
        "colab": {
          "base_uri": "https://localhost:8080/"
        },
        "id": "pOVv-lva_biQ",
        "outputId": "7eb568df-7332-4ad3-8f05-97623d052604"
      },
      "execution_count": 168,
      "outputs": [
        {
          "output_type": "execute_result",
          "data": {
            "text/plain": [
              "['ha']"
            ]
          },
          "metadata": {},
          "execution_count": 168
        }
      ]
    },
    {
      "cell_type": "code",
      "source": [
        "list_x2.append('ha')"
      ],
      "metadata": {
        "id": "Qp7iAaSX_dGg"
      },
      "execution_count": 169,
      "outputs": []
    },
    {
      "cell_type": "code",
      "source": [
        "list_x2   # run -> list_x2.append('ha') สองรอบ จะได้ ['ha', 'ha']"
      ],
      "metadata": {
        "colab": {
          "base_uri": "https://localhost:8080/"
        },
        "id": "UgFeuIDNBBpz",
        "outputId": "945db198-2354-43f7-ad1e-7a422d456961"
      },
      "execution_count": 170,
      "outputs": [
        {
          "output_type": "execute_result",
          "data": {
            "text/plain": [
              "['ha', 'ha']"
            ]
          },
          "metadata": {},
          "execution_count": 170
        }
      ]
    },
    {
      "cell_type": "markdown",
      "source": [
        "### ลบสมาชิกจาก list"
      ],
      "metadata": {
        "id": "Q-X3JxpOAWY0"
      }
    },
    {
      "cell_type": "code",
      "source": [
        "list_x1.append('ha')"
      ],
      "metadata": {
        "id": "TBzZMVW4Au_I"
      },
      "execution_count": 171,
      "outputs": []
    },
    {
      "cell_type": "code",
      "source": [
        "list_x1"
      ],
      "metadata": {
        "colab": {
          "base_uri": "https://localhost:8080/"
        },
        "id": "OAvjJJ3wAu7E",
        "outputId": "2e0d4213-658c-42e1-d78c-8ff884cc7b37"
      },
      "execution_count": 172,
      "outputs": [
        {
          "output_type": "execute_result",
          "data": {
            "text/plain": [
              "[2, 4, 2, 4, 'ha']"
            ]
          },
          "metadata": {},
          "execution_count": 172
        }
      ]
    },
    {
      "cell_type": "code",
      "source": [
        "list_x1.pop()        # ดึงตัวหลังสุดออกมา "
      ],
      "metadata": {
        "colab": {
          "base_uri": "https://localhost:8080/",
          "height": 0
        },
        "id": "mGGFVlW9_qQL",
        "outputId": "87869f42-cf9e-47f3-f5b4-ae42ef488df6"
      },
      "execution_count": 173,
      "outputs": [
        {
          "output_type": "execute_result",
          "data": {
            "application/vnd.google.colaboratory.intrinsic+json": {
              "type": "string"
            },
            "text/plain": [
              "'ha'"
            ]
          },
          "metadata": {},
          "execution_count": 173
        }
      ]
    },
    {
      "cell_type": "code",
      "source": [
        "list_x1"
      ],
      "metadata": {
        "colab": {
          "base_uri": "https://localhost:8080/"
        },
        "id": "1XTrAWbbAu5E",
        "outputId": "eda78fb5-456c-4d29-d419-7e0cf0f629d0"
      },
      "execution_count": 174,
      "outputs": [
        {
          "output_type": "execute_result",
          "data": {
            "text/plain": [
              "[2, 4, 2, 4]"
            ]
          },
          "metadata": {},
          "execution_count": 174
        }
      ]
    },
    {
      "cell_type": "markdown",
      "source": [
        "### `len()` ตรวจสอบสมาชิกของ list"
      ],
      "metadata": {
        "id": "lobYXFI8B8fq"
      }
    },
    {
      "cell_type": "code",
      "source": [
        "print(list_b)\n",
        "print(len(list_b))"
      ],
      "metadata": {
        "colab": {
          "base_uri": "https://localhost:8080/"
        },
        "id": "x_V0qdwOA3Z9",
        "outputId": "59c15b88-e4be-4572-b2b2-00f0568684f5"
      },
      "execution_count": 175,
      "outputs": [
        {
          "output_type": "stream",
          "name": "stdout",
          "text": [
            "['ab', 2, 3.14, [1, 2, 3, 4, 5, 6]]\n",
            "4\n"
          ]
        }
      ]
    },
    {
      "cell_type": "code",
      "source": [
        "len(list_a)     # len จะนับจำนวนที่แท้จริง (เริ่มจาก 1 ไม่ใช่ 0)"
      ],
      "metadata": {
        "colab": {
          "base_uri": "https://localhost:8080/"
        },
        "id": "t5GhtUc2CUUK",
        "outputId": "8ac39109-0772-4592-ad38-97ae7d2278fe"
      },
      "execution_count": 176,
      "outputs": [
        {
          "output_type": "execute_result",
          "data": {
            "text/plain": [
              "6"
            ]
          },
          "metadata": {},
          "execution_count": 176
        }
      ]
    },
    {
      "cell_type": "markdown",
      "source": [
        "### String is list of characters"
      ],
      "metadata": {
        "id": "CIn2bLGbCwiD"
      }
    },
    {
      "cell_type": "code",
      "source": [
        "st_stat = 'Department of Statistics, Faculty of Science'"
      ],
      "metadata": {
        "id": "QXg6cLlHCYUl"
      },
      "execution_count": 177,
      "outputs": []
    },
    {
      "cell_type": "code",
      "source": [
        "st_stat[10]"
      ],
      "metadata": {
        "colab": {
          "base_uri": "https://localhost:8080/",
          "height": 0
        },
        "id": "S5sYuXReDITd",
        "outputId": "7cd62c69-ed43-4533-c778-23a46a5239de"
      },
      "execution_count": 178,
      "outputs": [
        {
          "output_type": "execute_result",
          "data": {
            "application/vnd.google.colaboratory.intrinsic+json": {
              "type": "string"
            },
            "text/plain": [
              "' '"
            ]
          },
          "metadata": {},
          "execution_count": 178
        }
      ]
    },
    {
      "cell_type": "code",
      "source": [
        "len(st_stat)"
      ],
      "metadata": {
        "colab": {
          "base_uri": "https://localhost:8080/"
        },
        "id": "ARv1BfRFDJvq",
        "outputId": "429c9964-c578-475b-ecd1-49fa7bd881fb"
      },
      "execution_count": 179,
      "outputs": [
        {
          "output_type": "execute_result",
          "data": {
            "text/plain": [
              "44"
            ]
          },
          "metadata": {},
          "execution_count": 179
        }
      ]
    },
    {
      "cell_type": "markdown",
      "source": [
        "### List Slicing `:`\n",
        "`list[จุดเริ่มต้น:จุดสุดท้าย)`\n",
        "\n",
        "`list[จุดเริ่มต้น:จุดสุดท้าย:step)`\n",
        "\n",
        "![1.PNG](data:image/png;base64,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)\n",
        "\n",
        "** step คือ กระโดดกี่ตัว"
      ],
      "metadata": {
        "id": "FHMRMykMDZFf"
      }
    },
    {
      "cell_type": "code",
      "source": [
        "list_a"
      ],
      "metadata": {
        "colab": {
          "base_uri": "https://localhost:8080/"
        },
        "id": "-HVCl0UwDRFa",
        "outputId": "d3c57a68-8e2c-4209-d99e-9575f879be5c"
      },
      "execution_count": 180,
      "outputs": [
        {
          "output_type": "execute_result",
          "data": {
            "text/plain": [
              "[1, 2, 3, 4, 5, 6]"
            ]
          },
          "metadata": {},
          "execution_count": 180
        }
      ]
    },
    {
      "cell_type": "code",
      "source": [
        "list_a[2]       # ทำแบบนี้จะดึงมาได้แค่ตัวเดียว"
      ],
      "metadata": {
        "colab": {
          "base_uri": "https://localhost:8080/"
        },
        "id": "3eqARVbuD3WQ",
        "outputId": "ef5144f6-a6fb-463e-81ab-fc5de445e157"
      },
      "execution_count": 181,
      "outputs": [
        {
          "output_type": "execute_result",
          "data": {
            "text/plain": [
              "3"
            ]
          },
          "metadata": {},
          "execution_count": 181
        }
      ]
    },
    {
      "cell_type": "markdown",
      "source": [
        "#### `:` colon"
      ],
      "metadata": {
        "id": "v8BzMfYz_WZf"
      }
    },
    {
      "cell_type": "code",
      "source": [
        "list_a[-3:]     # ตัดมาแค่ 3 ตัวสุดท้าย"
      ],
      "metadata": {
        "colab": {
          "base_uri": "https://localhost:8080/"
        },
        "id": "rLz3RLSREGro",
        "outputId": "cbb8c74a-244f-4623-c088-978482cf75bf"
      },
      "execution_count": 182,
      "outputs": [
        {
          "output_type": "execute_result",
          "data": {
            "text/plain": [
              "[4, 5, 6]"
            ]
          },
          "metadata": {},
          "execution_count": 182
        }
      ]
    },
    {
      "cell_type": "code",
      "source": [
        "list_a[1:4]     # ตัด 2,3,4 มา   # เริ่มนับจาก 0,1,2,..."
      ],
      "metadata": {
        "colab": {
          "base_uri": "https://localhost:8080/"
        },
        "id": "qfOSOmo2EQx8",
        "outputId": "da85bcee-c36a-4915-d887-8b7340b257a9"
      },
      "execution_count": 183,
      "outputs": [
        {
          "output_type": "execute_result",
          "data": {
            "text/plain": [
              "[2, 3, 4]"
            ]
          },
          "metadata": {},
          "execution_count": 183
        }
      ]
    },
    {
      "cell_type": "code",
      "source": [
        "list_a[:]       # เอาทุกตัว"
      ],
      "metadata": {
        "colab": {
          "base_uri": "https://localhost:8080/"
        },
        "id": "F8Nt_qjYGO13",
        "outputId": "f54c6bce-1340-4524-d9a6-af9d9f65a9ae"
      },
      "execution_count": 184,
      "outputs": [
        {
          "output_type": "execute_result",
          "data": {
            "text/plain": [
              "[1, 2, 3, 4, 5, 6]"
            ]
          },
          "metadata": {},
          "execution_count": 184
        }
      ]
    },
    {
      "cell_type": "markdown",
      "source": [
        "#### step"
      ],
      "metadata": {
        "id": "fGP6td5hG6a1"
      }
    },
    {
      "cell_type": "code",
      "source": [
        "list_c = [1,2,3,4,5,6,7,8,9,10,11,12,13]"
      ],
      "metadata": {
        "id": "c6c_tEDMG2Ed"
      },
      "execution_count": 185,
      "outputs": []
    },
    {
      "cell_type": "code",
      "source": [
        "list_c[:10:]"
      ],
      "metadata": {
        "colab": {
          "base_uri": "https://localhost:8080/"
        },
        "id": "NfPBay9oHFoW",
        "outputId": "e0155067-9a8e-4800-cc35-6199350445e8"
      },
      "execution_count": 186,
      "outputs": [
        {
          "output_type": "execute_result",
          "data": {
            "text/plain": [
              "[1, 2, 3, 4, 5, 6, 7, 8, 9, 10]"
            ]
          },
          "metadata": {},
          "execution_count": 186
        }
      ]
    },
    {
      "cell_type": "code",
      "source": [
        "list_c[:10:2]"
      ],
      "metadata": {
        "colab": {
          "base_uri": "https://localhost:8080/"
        },
        "id": "PA57wR0jHOZs",
        "outputId": "6f8a60d4-3ce8-427d-8c3f-8d88ad6c8a84"
      },
      "execution_count": 187,
      "outputs": [
        {
          "output_type": "execute_result",
          "data": {
            "text/plain": [
              "[1, 3, 5, 7, 9]"
            ]
          },
          "metadata": {},
          "execution_count": 187
        }
      ]
    },
    {
      "cell_type": "code",
      "source": [
        "list_c[::-1]        # ดึงจากท้ายมาหน้า (สลับ)"
      ],
      "metadata": {
        "colab": {
          "base_uri": "https://localhost:8080/"
        },
        "id": "5hoCrAfaHXKe",
        "outputId": "489da2c6-19f0-4488-e7f8-d558061e0309"
      },
      "execution_count": 188,
      "outputs": [
        {
          "output_type": "execute_result",
          "data": {
            "text/plain": [
              "[13, 12, 11, 10, 9, 8, 7, 6, 5, 4, 3, 2, 1]"
            ]
          },
          "metadata": {},
          "execution_count": 188
        }
      ]
    },
    {
      "cell_type": "markdown",
      "source": [
        "### `range()`"
      ],
      "metadata": {
        "id": "4oCgJ1sgIBmG"
      }
    },
    {
      "cell_type": "code",
      "source": [
        "range(21)       # range ความยาว 21 ตัว ค่า 0-20"
      ],
      "metadata": {
        "colab": {
          "base_uri": "https://localhost:8080/"
        },
        "id": "9thbswGCIT1L",
        "outputId": "e48265fc-bf73-43f1-d2dd-5e3ccd1e313a"
      },
      "execution_count": 189,
      "outputs": [
        {
          "output_type": "execute_result",
          "data": {
            "text/plain": [
              "range(0, 21)"
            ]
          },
          "metadata": {},
          "execution_count": 189
        }
      ]
    },
    {
      "cell_type": "code",
      "source": [
        "a = list(range(21))"
      ],
      "metadata": {
        "id": "hzxErdacHgpo"
      },
      "execution_count": 190,
      "outputs": []
    },
    {
      "cell_type": "code",
      "source": [
        "a"
      ],
      "metadata": {
        "colab": {
          "base_uri": "https://localhost:8080/"
        },
        "id": "ZndQHYQcIPRt",
        "outputId": "efb9f20c-0a7c-45e1-a139-706e9ad216f2"
      },
      "execution_count": 191,
      "outputs": [
        {
          "output_type": "execute_result",
          "data": {
            "text/plain": [
              "[0, 1, 2, 3, 4, 5, 6, 7, 8, 9, 10, 11, 12, 13, 14, 15, 16, 17, 18, 19, 20]"
            ]
          },
          "metadata": {},
          "execution_count": 191
        }
      ]
    },
    {
      "cell_type": "code",
      "source": [
        "list(range(1,21))       # input 2 ตัว"
      ],
      "metadata": {
        "colab": {
          "base_uri": "https://localhost:8080/"
        },
        "id": "DX2d3cssIQUe",
        "outputId": "1a6119fb-7778-4625-847d-f38f3ab8680d"
      },
      "execution_count": 192,
      "outputs": [
        {
          "output_type": "execute_result",
          "data": {
            "text/plain": [
              "[1, 2, 3, 4, 5, 6, 7, 8, 9, 10, 11, 12, 13, 14, 15, 16, 17, 18, 19, 20]"
            ]
          },
          "metadata": {},
          "execution_count": 192
        }
      ]
    },
    {
      "cell_type": "markdown",
      "source": [
        "## HW2 คำนวนเวลาเป็นวินาทีขอเวลาต่อไปนี้โดยใช้คำสั่ง split() ช่วย (print ออกมาให้สวยงาม)\n",
        "- 12:30:15\n",
        "- 13:41:07\n",
        "- 09:11:50\n",
        "- 21:30:15\n",
        "- 03:10:15"
      ],
      "metadata": {
        "id": "4mrw7FhwJC5E"
      }
    },
    {
      "cell_type": "code",
      "source": [
        "#Ex 01:02:03\n",
        "\n",
        "Ex = (1*60*60) + (2*60) + 3\n",
        "print(f'01:02:03 แปลงเป็นวินาที ได้ {Ex00} วินาที')"
      ],
      "metadata": {
        "colab": {
          "base_uri": "https://localhost:8080/",
          "height": 200
        },
        "id": "TrcYOxpnIvyo",
        "outputId": "16f57777-41f0-4b34-8438-25f7da1ea33b"
      },
      "execution_count": 193,
      "outputs": [
        {
          "output_type": "error",
          "ename": "NameError",
          "evalue": "ignored",
          "traceback": [
            "\u001b[0;31m---------------------------------------------------------------------------\u001b[0m",
            "\u001b[0;31mNameError\u001b[0m                                 Traceback (most recent call last)",
            "\u001b[0;32m<ipython-input-193-e14d422ab62d>\u001b[0m in \u001b[0;36m<module>\u001b[0;34m()\u001b[0m\n\u001b[1;32m      2\u001b[0m \u001b[0;34m\u001b[0m\u001b[0m\n\u001b[1;32m      3\u001b[0m \u001b[0mEx\u001b[0m \u001b[0;34m=\u001b[0m \u001b[0;34m(\u001b[0m\u001b[0;36m1\u001b[0m\u001b[0;34m*\u001b[0m\u001b[0;36m60\u001b[0m\u001b[0;34m*\u001b[0m\u001b[0;36m60\u001b[0m\u001b[0;34m)\u001b[0m \u001b[0;34m+\u001b[0m \u001b[0;34m(\u001b[0m\u001b[0;36m2\u001b[0m\u001b[0;34m*\u001b[0m\u001b[0;36m60\u001b[0m\u001b[0;34m)\u001b[0m \u001b[0;34m+\u001b[0m \u001b[0;36m3\u001b[0m\u001b[0;34m\u001b[0m\u001b[0;34m\u001b[0m\u001b[0m\n\u001b[0;32m----> 4\u001b[0;31m \u001b[0mprint\u001b[0m\u001b[0;34m(\u001b[0m\u001b[0;34mf'01:02:03 แปลงเป็นวินาที ได้ {Ex00} วินาที'\u001b[0m\u001b[0;34m)\u001b[0m\u001b[0;34m\u001b[0m\u001b[0;34m\u001b[0m\u001b[0m\n\u001b[0m",
            "\u001b[0;31mNameError\u001b[0m: name 'Ex00' is not defined"
          ]
        }
      ]
    },
    {
      "cell_type": "code",
      "source": [
        "#1 12:30:15\n",
        "\n",
        "T1 = '12:30:15'\n",
        "T1_sp = T1.split(':')\n",
        "T1_sp = int(T1_sp[0])*60*60 + int(T1_sp[1])*60 + int(T1_sp[2])\n",
        "print(f'{T1} แปลงเป็นวินาที ได้ {T1_sp} วินาที')"
      ],
      "metadata": {
        "id": "NWEB_TznKyzh",
        "outputId": "809c03f7-1f53-4242-fa5c-210dafc6e877",
        "colab": {
          "base_uri": "https://localhost:8080/"
        }
      },
      "execution_count": 194,
      "outputs": [
        {
          "output_type": "stream",
          "name": "stdout",
          "text": [
            "12:30:15 แปลงเป็นวินาที ได้ 45015 วินาที\n"
          ]
        }
      ]
    },
    {
      "cell_type": "code",
      "source": [
        "#2 13:41:07\n",
        "\n",
        "T2 = '13:41:07'\n",
        "T2_sp = T2.split(':')\n",
        "T2_sp = int(T2_sp[0])*60*60 + int(T2_sp[1])*60 + int(T2_sp[2])\n",
        "print(f'{T2} แปลงเป็นวินาที ได้ {T2_sp} วินาที')"
      ],
      "metadata": {
        "id": "kAvZgvHmFr2H",
        "outputId": "5ed38ac6-5814-4b08-819d-375aa64fd7ce",
        "colab": {
          "base_uri": "https://localhost:8080/"
        }
      },
      "execution_count": 196,
      "outputs": [
        {
          "output_type": "stream",
          "name": "stdout",
          "text": [
            "13:41:07 แปลงเป็นวินาที ได้ 49267 วินาที\n"
          ]
        }
      ]
    },
    {
      "cell_type": "code",
      "source": [
        "#T3 09:11:50\n",
        "\n",
        "T3 = '09:11:50'\n",
        "T3_sp = T3.split(':')\n",
        "T3_sp = int(T3_sp[0])*60*60 + int(T3_sp[1])*60 + int(T3_sp[2])\n",
        "print(f'{T3} แปลงเป็นวินาที ได้ {T3_sp} วินาที')"
      ],
      "metadata": {
        "id": "tTBzO3A7F5bG",
        "outputId": "9ef786d2-5d1b-4a15-e580-a54474ab265d",
        "colab": {
          "base_uri": "https://localhost:8080/"
        }
      },
      "execution_count": 195,
      "outputs": [
        {
          "output_type": "stream",
          "name": "stdout",
          "text": [
            "09:11:50 แปลงเป็นวินาที ได้ 33110 วินาที\n"
          ]
        }
      ]
    },
    {
      "cell_type": "code",
      "source": [
        "#T4 21:30:15\n",
        "\n",
        "T4 = '21:30:15'\n",
        "T4_sp = T4.split(':')\n",
        "T4_sp = int(T4_sp[0])*60*60 + int(T4_sp[1])*60 + int(T4_sp[2])\n",
        "print(f'{T4} แปลงเป็นวินาที ได้ {T4_sp} วินาที')"
      ],
      "metadata": {
        "id": "Qa9MrvI-F-Zu",
        "outputId": "8a19fba0-39c4-4252-c9ac-21c496a78728",
        "colab": {
          "base_uri": "https://localhost:8080/"
        }
      },
      "execution_count": 197,
      "outputs": [
        {
          "output_type": "stream",
          "name": "stdout",
          "text": [
            "21:30:15 แปลงเป็นวินาที ได้ 77415 วินาที\n"
          ]
        }
      ]
    },
    {
      "cell_type": "code",
      "source": [
        "#T5 03:10:15\n",
        "\n",
        "T5 = '03:10:15'\n",
        "T5_sp = T5.split(':')\n",
        "T5_sp = int(T5_sp[0])*60*60 + int(T5_sp[1])*60 + int(T5_sp[2])\n",
        "print(f'{T5} แปลงเป็นวินาที ได้ {T5_sp} วินาที')"
      ],
      "metadata": {
        "id": "HgtAUuD7GArF",
        "outputId": "70216db1-e049-4c2b-9423-7971d5d278d8",
        "colab": {
          "base_uri": "https://localhost:8080/"
        }
      },
      "execution_count": 198,
      "outputs": [
        {
          "output_type": "stream",
          "name": "stdout",
          "text": [
            "03:10:15 แปลงเป็นวินาที ได้ 11415 วินาที\n"
          ]
        }
      ]
    },
    {
      "cell_type": "markdown",
      "source": [
        "# Dictionary"
      ],
      "metadata": {
        "id": "gP8VYMNWPRfC"
      }
    },
    {
      "cell_type": "markdown",
      "source": [
        "- คล้าย list()\n",
        "- index เป็นอะไรก็ได้ไม่จำเป็นต้องเป็นตัวเลขลำดับ\n",
        "- ลำดับไม่มีความสำคัญ"
      ],
      "metadata": {
        "id": "4qOOyFz-QC4P"
      }
    },
    {
      "cell_type": "markdown",
      "source": [
        "### สร้าง Dictionary"
      ],
      "metadata": {
        "id": "qxIDwr_mQ9di"
      }
    },
    {
      "cell_type": "code",
      "source": [
        "dict_a = {1:'Happy','N':'New','2022':'Year'} # {} curly brackets"
      ],
      "metadata": {
        "id": "FmDuGkAwPcnM"
      },
      "execution_count": 199,
      "outputs": []
    },
    {
      "cell_type": "markdown",
      "source": [
        "### การชี้สมาชิกใน Dictionary"
      ],
      "metadata": {
        "id": "cibBYLFvRBgN"
      }
    },
    {
      "cell_type": "code",
      "source": [
        "dict_a[1] # Dict จะยืดยุ่นกว่า list เพราะสามารถกำหนด index อะไรก็ได้ และ index เรียกว่า key"
      ],
      "metadata": {
        "id": "BvywKnJRQT3K",
        "outputId": "3f210a25-1a47-47de-ab71-9c550050659d",
        "colab": {
          "base_uri": "https://localhost:8080/",
          "height": 0
        }
      },
      "execution_count": 200,
      "outputs": [
        {
          "output_type": "execute_result",
          "data": {
            "application/vnd.google.colaboratory.intrinsic+json": {
              "type": "string"
            },
            "text/plain": [
              "'Happy'"
            ]
          },
          "metadata": {},
          "execution_count": 200
        }
      ]
    },
    {
      "cell_type": "code",
      "source": [
        "dict_a['N']"
      ],
      "metadata": {
        "id": "a4N60bFdQWFo",
        "outputId": "386d872d-6409-4587-83d7-e71a65d9dfdd",
        "colab": {
          "base_uri": "https://localhost:8080/",
          "height": 0
        }
      },
      "execution_count": 201,
      "outputs": [
        {
          "output_type": "execute_result",
          "data": {
            "application/vnd.google.colaboratory.intrinsic+json": {
              "type": "string"
            },
            "text/plain": [
              "'New'"
            ]
          },
          "metadata": {},
          "execution_count": 201
        }
      ]
    },
    {
      "cell_type": "code",
      "source": [
        "dict_a.keys()"
      ],
      "metadata": {
        "id": "V6fdQYjRQYI4",
        "outputId": "fef1ade3-3a17-434f-9d7b-25b7d15c640d",
        "colab": {
          "base_uri": "https://localhost:8080/"
        }
      },
      "execution_count": 202,
      "outputs": [
        {
          "output_type": "execute_result",
          "data": {
            "text/plain": [
              "dict_keys([1, 'N', '2022'])"
            ]
          },
          "metadata": {},
          "execution_count": 202
        }
      ]
    },
    {
      "cell_type": "code",
      "source": [
        "dict_a.values()"
      ],
      "metadata": {
        "id": "3VhiqCdwQlBg",
        "outputId": "7f580055-6ccf-4c83-e34f-fde297f1ca7e",
        "colab": {
          "base_uri": "https://localhost:8080/"
        }
      },
      "execution_count": 203,
      "outputs": [
        {
          "output_type": "execute_result",
          "data": {
            "text/plain": [
              "dict_values(['Happy', 'New', 'Year'])"
            ]
          },
          "metadata": {},
          "execution_count": 203
        }
      ]
    },
    {
      "cell_type": "markdown",
      "source": [
        "### การเพิ่มสมาชิกลงไปใน Dictionary"
      ],
      "metadata": {
        "id": "4bLzNvXnRGMd"
      }
    },
    {
      "cell_type": "code",
      "source": [
        "dict_a[7] = 3.14 # dict a ที่มีสมาชิกเป็น 7 จะเพิ่ม 3.14"
      ],
      "metadata": {
        "id": "xQI715mdQ7YI"
      },
      "execution_count": 204,
      "outputs": []
    },
    {
      "cell_type": "code",
      "source": [
        "dict_a"
      ],
      "metadata": {
        "id": "JYxHodM_RUUi",
        "outputId": "f69588db-7180-4c13-d2a8-753062e8a068",
        "colab": {
          "base_uri": "https://localhost:8080/"
        }
      },
      "execution_count": 205,
      "outputs": [
        {
          "output_type": "execute_result",
          "data": {
            "text/plain": [
              "{1: 'Happy', '2022': 'Year', 7: 3.14, 'N': 'New'}"
            ]
          },
          "metadata": {},
          "execution_count": 205
        }
      ]
    },
    {
      "cell_type": "code",
      "source": [
        "dict_a['N'] = 'NNNNEEEEWWWW'"
      ],
      "metadata": {
        "id": "eE-XooxTReFA"
      },
      "execution_count": 206,
      "outputs": []
    },
    {
      "cell_type": "code",
      "source": [
        "dict_a"
      ],
      "metadata": {
        "id": "cq0Civ-URtN4",
        "outputId": "af34448c-7d7a-400d-b52e-fad6e9a122c4",
        "colab": {
          "base_uri": "https://localhost:8080/"
        }
      },
      "execution_count": 207,
      "outputs": [
        {
          "output_type": "execute_result",
          "data": {
            "text/plain": [
              "{1: 'Happy', '2022': 'Year', 7: 3.14, 'N': 'NNNNEEEEWWWW'}"
            ]
          },
          "metadata": {},
          "execution_count": 207
        }
      ]
    },
    {
      "cell_type": "markdown",
      "source": [
        "## Numpy Array"
      ],
      "metadata": {
        "id": "H8xJD1tHSHUN"
      }
    },
    {
      "cell_type": "markdown",
      "source": [
        "![2.PNG](data:image/png;base64,iVBORw0KGgoAAAANSUhEUgAABWgAAAL7CAYAAABgJmwnAAAAAXNSR0IArs4c6QAAAARnQU1BAACxjwv8YQUAAAAJcEhZcwAAEnQAABJ0Ad5mH3gAAP+lSURBVHhe7N0FWFTp+z7w79ottoKSgggqdnev3d26xtrd3V1rdyegElJ2dyJhd7eC6O7//s/z4vGH7KDgqszg/bmu5xJh5sw5Zw7sevOc5/0fiIiIiIiIiIiIiChWMKAlIiIiIiIiIiIiiiUMaImIiIiIiIiIiIhiCQNaIiIiIiIiIiIioljCgJaIiIiIiIjIwLx79w7Pnj3DiRMnMHPmTDRq1Ag5c+ZEsmTJ8L///U9V4sSJkS1bNpQvXx79+vXD9u3bcevWLbx9+xb//PMP/t//+38ft/Z18tjHjx9j5apVWLR4MRbHpJYswbLly7Fu3Xp4eHiofb5+/bra3qtXr9SxyP4QEZF+DGiJiIiIiIiIDICEpGFhYbh//74KW5s0aYLMmTMjUaJESJAgAeLFi4fffvvtU0ArH0vFjx8fCRMmVOFtoUKFMG3aNAQGBiIkJCTaQa087uzZs0iRIoUKfr+1kiZNqrZhYWGhguNu3bphxYoVOH36NO7du4fXr1/jw4cPMQqPiYjiOga0RERERERERLFMC2dPnTqFLl26IEOGDCp41ULZiMFs5NK+Lo/VwtqSJUvC1dUVL1++jFb3qjzmzJkzKmDVthfTktePWLIvUhIuZ8yYEXXr1sXChQtx/vx5tV8MaYmIwjGgJSIiIiIiIopFElTKGIADBw6gVq1aKmCVgDNi+Cohp4Sn6dKlQ5YsWVTJx8mTJ1df0x6nPUeCUXNzc9W9KiMPvhaGagGtdMFGDH8jbu9rpQWz2n5ELPm87Kd0+Up4PHv2bPj7+3/q8iUi+pUxoCUiIiIiIiKKRRJQSldp1apVVdAZMeCUYFPGHJQtWxbt2rXDqFGjMH36dFXycefOnVGhQgUV2GqhbsTnyozanTt34u+///5iSBtVQCv7It2vTk5OyJs3r96Sr+XKlQt2dnYwNTVFypQp1XFE3E7E7cl+pU6dGvXr18eOHTvUrF0iol8ZA1oiIiIiIiKiWCLBqCyk1bVrV9U5q4WzEmImSZIEpUqVUmHssWPH1KJb0mkroxCk5OOnT5/i5MmTmDFjBooVK/ZpRIEWiMo2K1asqBYP+1KnalQBrcy/bdy4sQpSZQEwfeXu7q5m5m7atAlLlizBhAkT1PHUrl0bDg4Oqss3cvAsH8vxFShQAIsWLcLDhw9ViExE9CtiQEtEREREREQUS2TBLC8vL2TKlOmzDlgJSitVqqS6X782okC+Jo/Ztm0bihYtqkJVbTuyTRMTEyxbtuyLAai+gFZCVBlJMGzYMLx///7jI79OjunJkydqhIEEt8OHD1dBszaKQdu+Vvb29vjrr7/w6NGjj1sgIvq1MKAlIiIiIiIiiiXSCdusWbPPwkv5M3/+/HB2dsabN2++Oj9WyGNk4S1ZhMvS0vJT+CnbktC1adOmXwx6vxTQDh06NEYBrZDXkW3K8ySsPXLkCMaMGQMbG5t/BbXy9xw5cmDt2rV4/fr1Fzt9iYjiIga0RERERERERLFAQswbN26oGa8Rw1kZCdC3b181mzU64axGgs2bN2+iSpUqn82AlW3KnFj52s8KaCOT15VxDNLlW7x4cb2zdmXxsBMnTvzn1/ovZD+l5HxELulAlor8+Zi8R5FFfD3t48jb074euSI/TmjP176uVUTa1yNX5Md9ibbdyNv40jn6r9uPyfO/5kdvnyimGNASERERERERxQIJsmS2q8xilYBSAksJLmWxrfXr16vQKCYkYJJwU8LdVKlSfRaASueqzKqNapvy+R8Z0Ap5jZCQEBw4cECFsdI5G/m1evXqFaujDuQ9ka7mBw8e4NSpUypQlrm6MuN36tSpah7w4sWL1efl6zI7Vx7/LQGfPF46hqXDWCsJseUcaeQx8vdLly5h8+bNmDNnjtqXDRs24Pr165+9n/JY6biWbUTcptY5rZVsLzAwEC4uLmq0xMyZM7F69Wrcvn07yusjInmMXA+y3cuXL2PPnj3qepVtTZs2TZ0n2c81a9Zg165duHLlinqsjL6IzvblPZBfTkQ8Bimtm1zqv5B9kPMuM521bcvH0oEur00UGxjQEhEREREREf1kEjJJGOT6cW5snjx51GiCDBkyoGy5cqqT9FtI+CQBmWwn4kxbC922JSyLKoCS5/3ogFYjAaEsLCZBdMQQWfY3ffr0KvCTMO+/BnHRpb0XslibvHafPn1QuHBhZM2aVZ3HtGnTqjm+qVOnViV/l89ny5ZNLcwmM3bPnTuH0NBQdR6ju9/y2MmTJ6uF0kqUKKG2VaFCBaxbt+7TPknX85AhQ9QICHnNNGnSqH2xtrbG7Nmz1XnSyMdz585FmTJl1LZkm7LtVatWqW1J3b5zB+PGjYOjo6Pq3Na2Jx8vX75cPUbf/svnZH/lNWTBOVnYTRaBk/3InDkz0qVLp7alnSPZpnxOvpY9e3bUr19fhbgSHn8tqJWv9+7dGwULFlTHIB3X8j3SvXv3f4XSMSXHIUFskyZN1Hss25aS15H3Qr5GFBsY0BIRERERERHFAi2Ee/funerok65NCaCkInZRxoSEVzKHVoKxiAGthL979+1Tr6ePPO9nBbTyWhLUSVAYefau/L1Lly4qKPsvQVx0yWtIB6x0wzZu3FiFi7LImuyHdDNLyXnUV/I1eZycMwlPR40apY4rqnMcmQSRf/75p+qgTpgwoSoJSsePH6+ujatXr6ogUUZeaPujvbYE2VOmTPnsfZHXHThwoApHte3JtiXgldeSsLdz587qc5G3J8c8b9489Th9Aa1s+8WLF+oxEspq+xx5O5FLO0favkjo6ufnp865vtcR8lrSqSzXnvZeSEmoLF3E33otat9vEsLLtrXtymtI2C7HRhRbGNASERERERERGQAJkCLWt5DAUW4zj9xBK12MZ8+ejTL0lM//rIBWyPFJl3D58uVViKe9puyzhYUF/P39ox10fivZB7n13s3NDfny5VNhnXbO5Ni1gFECPAkXkyZNqv6Uv2uhZMRzJedOFmOToF32/WvvoYSh0q0rryvPl5KAWM63dPOOHj1adaVG3CetpDtVOj4jvi/yehLGauMtpGTbPXr0UCMDZOyA7KO+7UmAqi+glY/l2pBfGkhwLt3D8nx5jmxDO0fyfNm2nCMp+Vg7n9pj5U/5nIShMjZCfgmh73qUcydjESSsjnhtyLUox/KtIzDkWOSXIXLOZX+17co+Sdfx8ePHPz6S6OdjQEtEREREREQUB0gAJZ2Jcit4ihQpPgvRpHPx/v37n4VvEf3sgFZIt+nYsWPVvkZ8TdmH+QsW/JDX1Mh5kO3v378fuXPn/hSSavsh+5AlSxbkzJkTFStVUt21LVq0ULfqlypVSgXeEcNTKflYwtu2bduqY4sqDNdIGCqBqoSF8tpSci7k9n4ZRyG33Wufl6BSOmklwE2ZMqXaNxllETmglXEL8hjteXJcf/zxhwrn5ZZ+LTCV7cl7q21Ptr1Ad84jB7RyDBI49+vXTz024vHKdlLpPicdtXJ91apVC82bN1chdbVq1ZA3b141JiLyNSXbkPEWGzdu1NspLq8pQaoEwrL/2nPl47Jly+Lw4cMfHxkzst07d+6oBfMiblcCbfmeef78+cdHEv18DGiJiIiIiIiI4gDpPJQgTuaPakGaBGLS0Si3tkv4FpXYCGhlf3bu3KmCvIivKeFZw4YNVUj3o8jx3r17VwWv8nryuvL6ct6kS7RGjRpYsWKFWpxLFpCSBaokTJTO1nv37uHgwYMYNmwYZHawdNVq+y/Pl78vXbr0i+dbyNdHjBjxWUArQWnr1q3VtmU/5GvSUVyxYkV069ZNBboSlspohO3bt3/WZSzB6siRI1VwrG1Pjq1Vq1aqO1brbJXQVLYnAejgwYPRv39/tGzZEju9vP7V+SsdxmvXrv1sXrC2XQmpZUG6vXv3quBTAk45R/Ic+VgWEJPFzGRWrYxdiBjuSpBduXJlnD9//uMr/R95fdmP3bt3fwqbtXMrXbUywuNLIxKiItvcsmWL6j6O+P0h831lwbSvvV9EPxIDWiIiIiIiIqI4QEIymUEqIZYWhEmnpNxS7unpqULJqMRGQCuvGRQUpMJY7TW115XQTG7Lj2kIF11yPK6urqp7MmJwKN2kEpBKMCuBnuyj7EPkks/L3OBNmzapjkwtRJQ/ZXuy8JQEu/LYqEggOGbMmH8FtHK7vYx+kHMvi3xJZ6u8t7LP8rqyXxJQRg4p5WPZngS72vbk/Zdu1qpVq6ptyyiHWbNnq3m08nxtexKG6ws9g4ODVVdsxJEAcnwSGstiZto+yfMil7ZtWVSsffv2/9qGdAHPmjVLbzAqz5eZtxLiyjHIsWjnt127drhx44bafkzIMXbs2FEF6Nr2JGiW8yPnV16TKLYwoCUiIiIiIiIyQhIoSQAWGhqKwMBANbPUyspKBVpaCCaBq8ztlEW3vhRASdj1swNa2R8JYeWW/ojhnfa6ckwxDeGiS8LIDh06qE5OLayTKlSoELy8vKLVvSv7JiGihOJa16q2/xKSent7q/cnKhJMyoJgWkArz5WPM2XKpEJ2CWc3btqkXkNe62sBonxdFl6TDlFte1qYKp+zt7fHqlWrVBewPPZr25PXlGDfwcHh0zUlJR9L56x0FX/t/ZHXkOOUwFs6bmV/tHMk4WibNm1w/8EDvfsi74GE09L5qx2PlITMcm7lPYwu2U/p6JXnavsgf8p5mTBhgnqfvnY+iH4kBrRERERERERERkJCJAmbJDB98uSJClXlVvxmzZqpjkQtxJJAS8K+Ro0bq2AqOmHczw5ohWxXFruKeCu7lASnu/fs+WHBmdyGL12lEtBpHZVS0p0pHZ9fCx41sm8enp5wdHT8LMSUTlxtEa+o9l+Cy0mTJqlj1UJDKdkPCXglvJVwNrrHL4+TsDF9+vSfnUv5WDqFJVT9WlAfkQSg0iVra2urnq+NgpA5uX5+fjF6b+Q8yJzXiGG0lIxaOHnqlN4gW87PhQsX1IzgiOdHzu2EiRPVnN/okm2tWbsWZmZmn7YjxyPhs8y0je5xEP0oDGiJiIiIiIiIDJQEhRcvXsTs2bNV+DZx4kTVKSsr0cuiVZUqVYKNjY0KGSUglCBLQjBLS0sVyGm36n8tgIqtgFb2a9GiRcicOfNnwZ0cw/oNG35YQCvHI/NvV65ciblz56pzK8fp5uam5qjG5DUDAgJQunRpJNDts7b/ct5k7q90gUa1LQkNJcSNHNDK+yjbO3DgQIz2Qx4r10fkgFa2JzNkjxw5Eu3gWci5lxEHMsZh8eLFmD59uppxKwu7yRzemOybHKvMo5XrK+Kx5i9QQL0P8vXIZF+lw1pm7kYMvyVYrV6jhvq+iA7ZTwm6pWM64oJ08h7JfF6ZlxuTYyH6ERjQEhERERERERkoLdjKlSuX6qqUkm5TCWQjBl1acGVubo6WLVth8+bNuH//frSDp9gKaIXcdi+34Uc8HgloJbiV4/9R4ZlsV0JI6RSVjloJA+XPmL7ew4cP1aJiEc+dvD8yW/dLYW9UAa2cc1kE7MGDhx8fGT3yOvoCWtmXJk2axKh7NiK5NmRfJWyWbUigqa/j9Uvk+RI4R75upYPV2dlZfT0y2VctSI8Y4MufGTJkwNatW/XOzY1Mvn7y5CkUKVJEfY9ory3nSb5P9L020c/GgJaIiIiIiIjIQEl4JAGmdMRKMKWVFjJpgZXMLG3eogU2btyoOjplzmhMQrTYDGjXr1+vuoAjB7TSNSzH/y2hYkzJa2gVU9Kd2aBBAxU+avsv57F27dpfDHzl2PQFtFmzZlVdvdGZgxuRvI6+gFbGE0ydOjVaYebXfOs5kmM9deqUup4iHqssBicdulFdX/JaV65cQb169T4LV6WjVjprJRz/WlewbEPC/qxZs6nXlnMjf+bPn1/9EuNrzyf6GRjQEhERERERERmoiAGthEoRS4ImrSTkky7DokWLomfPnti1a5cKB6M7IiA2A1qZc2ptba2OSXttCWglpJTX/ZZA8FvJa8m5kJJzF7nk/Yhc0lXaqFGjfwW0tWrV+qaAVubZuri4qK/HhLyOvoBWuq6379gR4+1FRV4npudJwma5vpInT/7ZsX4toBVyfuVakGtRe54cnwSs58+f/+JxyX7K81u3bq3ek4jfL8OGDfuh1zVRTDCgJSIiIiIiIjJQEnZpCzXJavZSEgRKScgkQaZ0E0roJMGX/F2CrDRp0qB+/fo4d+5ctELO2AxoZZGzbNnCuxu115bjWLp0qQrfvrbv34MWOsrrhYaGqnEHN2/exPHjx9Ut9nIrvMyrlVmsCxYsUIHhrFmz1FxWmckqt+pHnJP6XwJauRV/37596r2PCXkdfQGtjAOQ91be4/9KXkP2SxsL8eDBAwQGBmLPnj3Yvn27ulaXLVumOlbnzZuHOXPmqHMk1a1bN/W+Rty36AS0cp6OHj2qzov2PNmGfC/Ia7158+bjI/9N9lXew5IlS356XXmfZKEx+XxMzzHRj8KAloiIiIiIiMhASagmIZgs8LR3715Vu3fvVmGYhGBym3fx4sVVIKsFfRJESckt4dI96eLq+sXFqkRsBbSyTxJ4yogGLUCTkiBv85YtKkD70n7/V7JtCQAl5AsKCsKSJUvQsmVL1Z0p504LxOW8SMk5jlxynrXzru3/fwloy5YtizNnz363gDZTpky4devWfzqPcn1IKPv06VN1/Q0ePFgtUCed3XKNfHaO9Jwn7RcJEY9TKjoBrfY9INd6xPMs511+CSFfi+rYZJ8XLlyoZhxrrynPq1Onjgriv0doTfQ9MKAlIiIiIiIiMlASPElJWCeBXuSSYEtu4ZbgVlakz5IliwrDJIiSIEvCqHTp0qkFlb4Wgv3sgFaOS0Iy6UCV1fUjhooS6kkoLfv1X4LFL5HtyiJectx9+/VTIZ68rpwzCRO1QPFrJfsdcd+l/ktAW7FiRVy6dCnG4aG8jr6A1szMDPfu3fvm86gFpNIdW65cOfVeyTUWk/Ok7xxJRSeglf2W61+uYVkET7Ynz5XtSXewXCdRBfly3G3atPnsupaPt2zZos7/t54Tou+NAS0RERERERGREdMCrCdPnqhb7+3t7VV4poVi8nHBggXVrehRdWXGVkD78NEjdO7c+bPwTj6Wha2uXbv2wwI0OV5ZSE1mvcqt8xKSaudL9kFCQDlvcj4kkJQOZQkDpRtVQnBTU1MVfMqCXvKnnCctOJT6LwFt5cqVERwc/N0CWisrK7WY1recS+lAlbBY5hrLjGPtupLtyp8SzkpYK8efOnVq9csA6YaWx2rnSc6RjLCQc6eFtdq+RSeg1Vy8eFF1zGq/gJCS/Rk9enSU3bAyKqJEiRJqP+Xx8vrymo90192PuraIvgUDWiIiIiIiIqI4QAIq6QiV0E8LwySUkkBMgjPpVJWv6xMbAa2ExRcuXkTt2rU/vaaU7He+fPnw4sWLj4/8/iQclXBWZvtKeBcxNJS/S6gowa3sW4cOHTBo0CCMHz9ezVKVuaoyX1Xm0S5fvlyNRShcuPBnweF/CWirVKmCy5cvf5eAVv6UBdi+JaCVx0uoL8cvgXnEcFX+lAW/ZEGz8uXLo1mzZirEHTlypDqmmTNn4q+//lLjBWSWsMwZlvMn5yXiuY5JQCud4rJtGT2hPV/eqwIFCuD+/fv/+uWDbFP2QRufISXvkbyXEjwTGRIGtERERERERERxhIRqN27cUF2YEcNW+Vhmhl6/fl1vUBcbAa2EZK6urmqBrYivKV2Rbdu2/SEhmhy7BHlBwcGqqzhyR6iEm7///jtmz56tFpGSW+QlZJV9kZLzELkkSG7YsKGaw6odh7EHtPLaMm92ypQpansRw34JRaVLu3v37tixY4fa1+fPn6s5x1GdI/na6dOn/9VpHJOAVs6XLEYmM5e145NtyZxgCdvl6xrZ/zt37uCPP/74FCzLn9LZe+DAgc8eS2QIGNASERERERERxRESwklIJt2Kcsu5FoRJqCbdjn5+fnqDutgIaOU28xEjRqjuzIivKfuwcuXKH/Ka2vkZOGjQZx2v8romJiYq0Dt79uynRdW+FmrK11+/fo3GjRuroFDbnrEHtHLuDx06hKJFi37alpTsZ65cubBq1So1IkL2Ubb7tW3Lscp5la7biMcak4BWXkOumT//7PrpOpV9k5BdFnaT90wjr7d//3413kB7LfkeaNCggRoFEtNzS/SjMaAlIiIiIiIiigVasCVhkZR0dkppode3kOdJOLVhwwYV1EUMp2TFfQnW9G1bXvNnBbTaMR8+cgSlS5dW+6a9poR3dnZ2CAoK+tct69+DvO6tW7eQPXv2z15XwlrpOj569Kh63Zicf+k0rVOnzmfnztgDWhknIGMcIofnsm0ZGyBdwzHZPzlWObcSYv+XgFbeG7mGbWxsPm1H/pSRFDKzWNsnCY9lHrPMDdb2Xd4TGbcg82pjci6IfgYGtERERERERESxQDo5ZXX8q1ev4vz589i//wB8fHwQHBzzcC4iCcPk1nOZvakFYVqIJTNB9YVT8no/M6B99uwZJkyYoBbg0sJEKQlNe/Xq9ak783uTgG/nzp3/Cgrl1ncJS6UbNqZkQa+yZcvGqRm0d+/eVYu3Re4ylhBbFg2TfY8JefzWrVvVeYl4rDEJaDX+/v5qDEXEfZNzKPOA5XXkOK9cuYLWrVt/eoy8Zu7cuXHu3LkYnQein4UBLREREREREdFPJiGRdInKqvRlypRRt5Lny5cfxYoVU/NPJbz9FrJdCanWrVv3WQetBFQWFhYqxNIXUP3MgFY6GCUklVvlI4azso9mZmZqzqgWtH1vEtBKSB05KHRycoK7u3uMg0fZR+1YInbkGntAK780qF69uhofoO2XbKtfv35qWzHdN7l+ZBGxiDN/pb4loH3z5g3GjBnz2S8gZLv16tVTwb68x7t27VKzjbXzKkFt79691b4TGSIGtEREREREREQ/mQRcEsKZm5t/FuzJQlNNmjRRi1N9CwnhJNwdN27cv2bQyugAWZRLX1D3MwJaeV0JzwICAlQIKcFkxNeSEK17jx6qq/hHkVB00qRJ/wpFJRg/fPiw2r/okuOR8zJq1CikTZv2s+DR2ANa+eVByZIlP7s2ZR+nTJ2qxh/EZFtyHHI9RxxLoNW3BLTyHkm3ufxCQztO2U/pED916pRasGyqbj/lPZCvS5mamsLNzU39coDIEDGgJSIiIiIiIvrJJOCS8K5mzZqfdSlK0FSwYEH4+vrGKATTyHNkJmrt2rVV2KttV14jf/78OHnypN7t/uiAVl5TAsmr166pea2RRwzIaxUuXBjHjh37LmFwVGQfZLRC5FC0ePHiMQ5oZVsnTpxA+fLl1fumhYVScSGglXMSOaCV4DMmAa08Tn5hMGPGDHU9RjxHUt8S0Mo2ZR9atWqlriPZpuxbypQpMWXKFAQGBqpu2ojnoG7duj9srjHR98CAloiIiIiIiOgnk5BJQqmZM2eqgC5imCShaJ8+fWK8EJNsU0I/6ZKVUC5iuCbhmIS2sgq+vnDtRwS08jqyXQnFJKST7RcpUuSz45WScM3ExATLli37YqD5Pci+yCJXcpwRQ9F8+fLBy8tLnb+v0Y5LQk+5bV4W0op4PFKyfZmTKrfjR3U8hhzQygxX2Y/IIw4GDRqkrqHo7Ju8nhzjoUOHkC1btn+NN5CSrm5Z0C6m15e8/urVq9V25dzJdqUDu1KlSnBxcVHdtPI5Kfk+kGBZxh/E5BwQ/UwMaImIiIiIiIhigYRMMutTArWIAZ2EStmzZ1crzsekW/Hdu3dqESRtwaqIYZjM65TZtlEFYbIvUQW0w4YNi3GApoVzEopJ2CdjAKTDUUK6iMcqJZ8fMGCAWpjqRwdoEtBu275dBdYR9yNLliyYPn06QkJCPj4yarINWeRMukLl1nnZVuSOYDn/0oH65MmTKI/JkAPaO3fu4I8//lDHoe2XbEv2LbqLhMn1eOHCBZQoUUIdY/IUKdT1FfG6lBEfMhc5pjOX5Vhu3LihRlNo+yjbTZMmDWpE6EqXcDZPnjxqrvGPvraI/gsGtERERERERESxRILP4cOHqyA0YnAlAZOtrS1mzZqlAk4JaiXEkmBMAkKt5O8SKkpXo4xFkK5N2Za2HdmmbKtQoUJfDP30BbRSsq3+/furgE/Cxi/V48eP1fzY27dvq9vMPT09Vcel3MaudaxGPEYJzyRQ69qtmwqq5Xh+NC0Uz5w582cdxnKOJHyUMQcSLMq+SKCnlTxPzrV0+Mqt8jLjV+sKrVixIlq0aIF06dJ9dmzy/slIiYjbisiQA1qZ4yoBdORrScL0OXPmqPda9l/2UTs2+VhKrlMZs+Hj46PGP8g2JMAeprvO5TqMeKzSfSzXvzxe20509lMeI68jwX/EWcuyjxGvM7nuJGi+fv36x2cSGSYGtERERERERESxRAKt+/fvq1uzta6/iEFTihQpVOgqoZh0AUqIKh2MUufPn8eRI0fUDM/u3burRZgkGNTCKSn5u9zuLeMDtKBQH9kPfQGtPL9o0aKqw1XC1oEDB0ZZffv2RceOHdXsVVlBP3ny5OqYIgezUvJ5S0tL9TwJz7Sg70fTgr327Tv863xLiNi4cWMVLN68eVN1yUowLn9Kd690g27cuPHTDF15vnSArlq1CitWrFCBbcTtycJhY8eOVeGohOgS7spra8dpyAGt7Ofu3buRK1euT/slJfspxzx//nx1Dcp2ZRSHlPyS4Nq1a9i3bx9GjhypusDlHMnxVa1aVYW6Mhs2YjAuH1euXBl79u7F69evP52n6OyrXM/HT5yAlZXVv64vraTDWTrRo9MZTRSbGNASERERERERxRIJoiSoO3jwoLoVXFv0SAuY5GMJsSQ4lQBQbumWsEuqdOnSKgiV+a1ym3fEkE97nnSKyoiCr41KiCqglZLtyPajUxLIyeMj7otWsk/ydemalc7KBQsWqoDvZ3TOauQcyOsdOXL005zeiOdbwsTcuXOjQ4cOGD16tApQ5c9u3bqpTlnpkpXjlOOT8G/EyJG4desWjh49qt4L7bhlm/KxhYWFCqEXLlyo6vTp05+O15ADWnltCaVl36XLNeL+ycfyi4PqNWqo0F5eUxZek4+bN2+uzoMWYEvJonf79+9HaGioeqycP23/ZFsS5EuoL/OY5RytW7cuWoGqHI/M+JVQPeI2tZK/S/grC7n9zGuM6FswoCUiIiIiIiKKZXJbvXQeNmjQ4LOALWLY9LWK+HgJvhwdHTFmzBjVAfq1cO5LAa2UvtfTV/qeKyVfk9vjS5Ysqbpxjx8//lk36c8moyVk5qy2mFTE/dRKzmHEivh5mVkr4aV0jEr4Jx2kEk7KPFp5TMTtyeMlqJQgXTpP5biFIQe0Ql7/2LFjqFmzpgpRtf3TtqsdW+TSvibXUtFixeDm5qaub217ElrL4yJvT86RBK0yu1eu2eiQc79582YVGEfcpmxPRivIeyTjGmLrOiOKLga0RERERERERLFMAiQJsS5evKhCtgoVKiBDhgwqsNI6UiV0ihhqRQyj5OsScEkoJrNPJSyU4Eo6Z6MT9GkBrYRaWufjt5bss4SOElZKB6/MHW3atKnqsty7d68K3yRYi83QTI734aNHmDJlCvLmzavO25c6f7XzK92kpUqVwtSpU1U4K9uR45A/5djKlCmjjlseK8/RSv6uBbTagmtyDuT1pdtUzpl2/mSkxbcGtHKOM2XK9Nn2vjWgFTJuYNeuXWjWrNmn7crx6LsW5fNyDuW9l7EDrVq1grePj+pyldeWkkXjZB8lGI94bWvPlc9Jl3h0A1o5R9LpW7hwYfV8bV/k45w5c2Lr1q0xPo9EsYEBLREREREREZGBUCHW69c4euyYmjvbtm1b1VEogZYWnmoBmRaGyaxT6ZaVTkfpTt2yZYsKD6VDM7rkdWUxstq1a6vxCRISxrRq1KihZoxKOPznn3+qOaSyQr8EfLIwl9Y5aijkmCUI3LFjB3r06KHOc8aMGT91tErJ+ZbuUZmnKrNnx48fjwMHDvxrZIR8LMcnc4JlHrB0CtvZ2amgUhZJkwCxYcOGar6tdru9/Cnzg6tVq6ZKO49Dhw5VoWPE7UeHPF5m5EoXtrYteS/lGopOF3VU5DqSXxzIgnX169dXxyXnRK6/iNehnDsJV7t06YLVq1er9zzyNShh6b1797BgwQK1LQnHJUCW+ckyWqJcuXLq+GUebXRo5106ZSXc1QJa2R/ZfnBw8MdHEhk2BrREREREREREBkRCJwnvJASUkEsWAvPw8MDatWsxb948tbr+tGnTMHv2bLUAkrOzswoGZdGwBw8efLqdPCaBnDxW5n7KNqST9uzZszGuc+fOwd/fH0FBQbh585ZamV/mjkpIF9P9+Vlkv+R83blzR51nV1dXLF68WJ1jKQkSZSaqr6+vCinlmOR49B2LfE6+dvv2bTWT1s/PTwWyElAfOnRIPT/i7fbyp3S2RjyHcu7lPZd9+pbzJduT9zDi9gIDAz917X4ruR5l3+X9leOSa1F+gSCdxPKnLEK3bds2dQ5lgTXpvNXXuSrHJNuSTlrZlsymlXMk51c6kGVe7I0bN/4V7EZFXkNeS+bQSpiuBbQyH1i+R+RrRMaAAS0RERERERGRgdPCv5DQUHXLuHQYSvgk3YP6gjD6NlpgK+dYSgJmreOV/o+6FkNCYv06lPdG5trKTGBtxIF09Uo3tMw55ntHxoIBLREREREREZGRkKA2YtGPwXP8dbF9juR1pTO4d+/eaoawBLNSMie4V69eKjjm+0fGggEtEREREREREREZFa171tLSUgWz0j2rFgdzcFCLkzGcJWPCgJaIiIiIiIiIiIyGhK8yE7dFixZq8Txt9myKFCnQrl07NXqBAS0ZEwa0RERERERERERkFLRFxqZMmYLMmTOrrlnpoI0XLx6yZ8+uFjGL7iJjRIaCAS0RERERERERERk8CV7v3LmDmTNnwsrKSoWyWjgrnbTdu3dXi7yxe5aMDQNaIiIiIiIiIiIyKBK0BgQEICgoCJcvX8b58+fh7u6OTp06wdTUVHXOylgDCWgTJEiAIkWK4OLFi/jnn38+boHIeDCgJSIiIiIiIiIigyEdsNIpW7duXTRo0ABNmjRBhQoVYGZmpsJYbVEwKemetbe3h6enpxp/wO5ZMkYMaImIiIiIiIiIyGBIyHrlyhUkT55cBbJS2qxZLZyVYFY+7+TkhNWrV+P9+/cMZ8loMaAlIiIiIiIiIiKDIUGrjDVIkiTJp07ZyCXhbdWqVeHi4oKwsDCGs2TUGNASEREREREREZHBkLD19p07KFSokJo3mzZtWpiYmCBjxozImTMn6tSpgylTpuD48eMIDQ1lOEtGjwEtEREREREREREZFAleDx8+jG3btmHDhg1Yt24dtm7dij179qjFw16+fMlgluIMBrRERERERERERGRQJHz98OED3r17h5CQELx9+1aFtjJrlouBUVzDgJaIiIiIiIiIiIgoljCgJSIiIiIiIiIiIoolDGiJiIiIiIiIiIiIYgkDWiIiIiIiIiIiIqJYwoCWiIiIiIiIiIiIKJYwoCUiIiIiIiIiIiKKJQxoiYiIiIiIiIiIiGIJA1oiIiIiIiIiIiKiWMKAloiIiIiIiIiIiCiWMKAlIiIiIiIiIiIiiiUMaImIiIiIiIiIiIhiCQNaIiIiIiIiIiIioljCgJaIiIiIiIiIiIgoljCgJSIiIiIiIiIiIoolDGiJiIiIiIiIiIiIYgkDWiIiIiIiIiIiIqJYwoCWiIiIiIiIiIiIKJYwoCUiIiIiIiIiIiKKJQxoiYiIiIiIiIiIiGIJA1oiIiIiIiIiIiKiWMKAloiIiIiIiIiIiCiWMKAlIiIiIiIiIiIiiiUMaImIiIiIiIiIiIhiCQNaIiIiIiIiIiIioljCgJaIiIiIiIiIiIgoljCgJSIiIiIiIiIiIoolDGiJiIiIiIiIiIiIYgkDWiIiIiIiIiIiIqJYwoCWiIiIiIiIiIiIKJYwoCUiIiIiIiIiIiKKJQxoiYiIiIiIiIiIiGIJA1oiIiIiIiIiIiKiWMKAloiIiIiIiIiIiCiWMKAlIiIiIiIiIiIiiiUMaImIiIiIiIiIiIhiCQNaIiIiIiIiIiIioljCgJaIiIiIiIiIiIgoljCgJSIiIiIiIiIiIoolDGiJiIiIiIiIiIiIYgkDWiIiIiIiIiIiIqJYwoCWiIiIiIiIiIiIKJYwoCUiIiIiIiIiIiKKJQxoiYiIiIiIiIiIiGIJA1oiIiIiIiIiIiKiWMKAloiIiIiIiIiIiCiWMKAlIiIiIiIiIiIiiiUMaImIiIiIiIiIiIhiCQNaIiIiIiIiIiIioljCgJaIiIiIiIiIiIgoljCgJSIiIiIiIiIiIoolDGiJiIiIiIiIiIiIYgkDWiIiIiIiIiIiIqJYwoCWiIiIiIiIiIiIKJYwoCUiIiIiIiIiIiKKJQxoiYiIiIiIiIiIiGIJA1oiIiIiIiIiIiKiWMKAloiIiIiIiIiIiCiWMKAlIiIiIiIiIiIiiiUMaImIiIiIiIiIiIhiCQNaIiIiIiIiIiIioljCgJaIiIiIiIiIiIgoljCgJSIiIiIiIiIiIoolDGiJiIiIiIiIiIiIYgkDWiIiIiIiIiIiIqJYwoCWiIiIiIiIiIiIKJYwoCUiIiIiIiIiIiKKJQxoiYiIiIiIiIiIiGIJA1oiIiIiIiIiIiKiWMKAloiIiIiIiIiIiCiWMKAlIiIiIiIiIiIiiiUMaImIiIiIiIiIiIhiCQNaIiIiIiIiIiIioljCgJaIiIiIiIiIyED9888/+Pvvv/H//t//+/gZIoprGNASERERERERERmg9+/f4/bt2zh//jyePn2iwloiinsY0BIRERERERERGQgJYSWYffDgAXx8fNCxUycULlwEY8eOxalTp/Dq1St21BLFMQxoiYiIiIiIiIgMxMuXL3Hw4EEMGTIEufLkRa4CJVCqcj1Y2eVCyZIlMWvWTNVRGxYW9vEZRGTsGNASEREREREREcUS6YSVrtmQkBBcvHgRs2fPQeUqVeGYtzBqt+yGKat8sW7fdQydvQEVa7eAubUdGjdughUrV+Lateuq25ajD4iMGwNaIiIiIiIiIqJYIuHqw4cPsXLFCtSuXRs5HPKgfK3mGDZnI7YcvQfvwHfwCXoPb12tP3AdvcYtQomKtWFpbYv27dtj+/btePLkycetEZExYkBLRERERERERPQTSdeszJF98+YNdu7ciTZt2sIpXwEULFUFvcYtwAqfS/C48BregWHYeendp5K/u59/jUVuJ9G27wTkL14OBQsVxoABA3Do0CG8fv1aBb6cT0tkXBjQEhERERERERH9RBKiyhzZHj26I08eJ2SzcUC7vhOw2OMs3C+8Ut2yXgGfh7NayeclqN1+9jlmbtyLOq17wDZnHhQuVAiTJ0/GzZs3VfhLRMaDAS0RERERERER0U8g82IlQJ02fRqKlyiBzKZZUa9NL8zechCupx7pDWSjrIB38Lj4FpuP3MW4JW4oW70JbO0dULVqVWzctEktNvbhwwd20xIZAQa0REREREREREQ/iLYI2Nu3b7FtmysqVqyADBkyolCZapiwbCfczj1RXbFRdcx+rbwC3uv+DMHmI7fRZ/wSWNvnhalZNjRt2hRnz55V3bQce0Bk2BjQEhERERERERH9ABKOhoaG4vTp02jTujWymJrCxiEf+kxYCpcTD+AVEApP/5B/ha4xr1BVXgFvsXbvVTTvOhwZM5shQ/oMGDZ0GO7evYewsDCGtEQGigEtEREREREREdF3onXMSiB6+/ZtTJ06DXY5ciBtBlPUbd0TK30D4BMcPkdWf9j638on6AN8L4dh3vYTKFyuFlKbpIWDgyPWrl2H58+fqzEL7KglMiwMaImIiIiIiIiIvgMJPSUAvXv3LjasX4+yZcshk6k5yvzeEFNX+8Hj4it4B77DTn/peP13uPq9ylO3fe+gMN2fbzHyr63IVagMsllYo06dOvDy8sLjx4/VfhKRYWBAS0RERERERET0H0gwKwtyPXz4EHv27EW7du2QMYsZ8hUrj17jFmHL0Xvwvfz+m+fMfnPpXk+6adftu472/cbDJmdeOORyQv8BA3D48GE8e/aMC4kRGQAGtERERERERERE30jCzZcvX+LgwYMYPHgIsppbIleBEmjdcwxW+ASoTtafHsx+VqFqnIKn/2v85XwU9dv1ho19HhQvURKTJ0/G2bNn1JxchrREsYcBLRERERERERFRDMkCYG/evMHZs2cxc+ZMlChZCjmdCqFak86YtWEvPC6+gU9QbAazkSrgHbyD3sP5+AOMmLsFleu1hnUOR9Sr3wArV67EtWvXPs2nJaKfiwEtEREREREREVEMSIgpgeaiRYtQq1YtZLfPjUp1W2HMIldsO/UMvsEGFMxGKunm9Qp8h3X7rqH3+MUoXrE2rGxs0bp1G2zduhVPnz5lNy3RT8aAloiIiIiIiIjoK7Q5s0+ePIGrqyvat++A3HkLoGSlOugzfjFW776MnZdCYnmcQfRKC2ndL7zGwh0n0b7vBOQqWBJ58+VHz549sW/vXrx+/Vp1CRPRj8eAloiIiIiIiIjoK8LCwnDixAn07t0bjrlywzF/MfwxcAoWu59R4wy8A9/rDUMNuSSolRm5O86+wOzNB9G00yCYWWZH8eLFMXr0KFy6FMBuWqKfgAEtEREREREREZEeMspA5rLevn0bkyZNQtGixZDD0QkNOvTFzI174XLyEcK7ZvUHoMZSsv+el0LhfOw+JizzwO8N28Mqew5Ur14DS5cuxb1791T3MOfTEv0YDGiJiIiIiIiIiCKQrlEJI0NCQrBlyxYULVoEplmzoViF2piw3AOupx6pUNMYxhnEpMKPJxSbDt/EwGlrkb94RWTJkgVNmjTB3r178fbtW3Vu2FVL9H0xoCUiIiIiIiIi0tGC2Xfv3uHw4cNo0KABTM2ywso+L4bMWIetxx/C0/+tCjH1BZxxpTz9Q+Fx8TXW7AlGhwGTYeuQF+bmFujbrx+CgoLU+fmHIS3Rd8OAloiIiIiIiIh+aVowK7fxyziDocOGwdTMDMlSpEbzrsPhfOIR/K580BtmxuXyDgyD7+UPWOR2BuVqtUDqtBlga2uHlatWITQ0VC0ixrEHRP8dA1oiIiIiIiIi+qVJR6gEs8uXL0fBgoWQMbMZKtdrg/nbTsInKATSMStdpfpCzLhfofAOfAf38y8xdvEOOBUrj3QZM6NCxQrw9fXF06dPVbBNRN+OAS0RERERERER/XKk81MWAHv48CF27vRCo8aNkdXcSs1dHTprA7affQafoPd6Astfs2Q+re/lMGw5eg+dBk+HdY7cyJTFDN26dcPx48fx7NkzFdRyPi1RzDGgJSIiIiIiIqJfioSzz58/x4EDB9CrVy/YO+RCroKl8MfAyVi396rqGFXB5C/bNau/pItYglqfoHdY7u2PBu37ws4xP+xzOmLihAk4c+YMXr169fEsE1F0MaAlIiIiIiIiojhPmzMbEhKCM2fOYtq0aShRsjSy58yLuq17YNbmg3C/8Ipds9Esn+D36nxNWO6JcrWawz5XPlSrVh3Lli9HcFCQOs9yvtlRS/R1DGiJiIiIiIiIKM6TBa2uXr2KBQsWoFq1ajAzt0HVBu3UXNVtp57AJyhMbxDJ+nJ5B73DpiN3MWDqChSvWAcOufOhaZMm2LRpEx48eKDOOxF9GQNaIiIiIiIiIoqTpHtT5qLev38fW7ZuQbt27WFplR2lf2+APuMXY60aZxAGL13pCx9Z0Ss5hx4XX2Ox+1l0GjwV+YqVR+GixdX4CD8/P7x+/UoFteymJdKPAS0RERERERERxTkSBspt9nv27EHXrl3h4OCIPIVLo+OgqVjp64+dl0LhzXEG368CpJv2PXacfYE5Ww+h2Z9DYWmXC8WKF8ewoUNx6dIlNfKAiP6NAS0RERERERERxRkSAoaGhsLf3x8jR45E8eIl4Ji3iAoMZ28+gO1nnsNLWwSM9d3LKyD8zy1H72L8Ug/UaNoJFlbZUaFiRcyb9xfu3r2L9+/fs5uWKAIGtEREREREREQUJ0jo9/TpUyxbtgzlypWDmbkVKtVtgymrfOFy8lH4OIMAjjP4GRV+riWovY0RczbBqWh5mJllRbXfq2H79u2qu5khLVE4BrREREREREREZLQk5JP5phL47d27Fw0aNIC5pRXyFauAITPXY/Ph2/C8+FZviGhQFRAG78D38An6oKu/4ROsK93HXrrPydf0PscoKlR3/t9gw4Gb6D5qHmxy5oVdDnt06tgRp0+fRlhYGBcSo18eA1oiIiIiIiIiMjoSzMo4A20RsD69eyNN2rTIktUS7fpOwPoDN+ATJLfcG2646ekfqtu/99h1VQLZMLicfIo1u69isfs5LPG8gPX7bsHt3Cvd19/rvv5B7zaMpeR98A4KwXLvS6jTqgdSmqSHg6Mjpk+fjnv37nERMfqlMaAlIiIiIiIiIqMiQZ7MMX38+DEWLVqIrFmzIm2GTKhUrw2WeJ5TwawsWiXdm/rCQkMoLxkBEPgGa/deR79JK1CmelNktbJH0uQpkThJUl0lQ4rU6WCXuzDqt+uD6ev2wOPCCzU6QN/2jKHCA2ndx/6vMGW1H4pVqInUadKhXPny2LZtmxpPIYE7g1r61TCgJSIiIiIiIiKjIB2zckv8kydPsHOnF6pUqYJMWbLCoUApjF24A57+IfAN/hAeAuoJCA2m/F9jpW8A2vYZj8zmNkiUOCmSJEuOlCZpYZIuo6pUJunU5xIkTIgECRIicdLkqFinJRZsP4WdASH6t2skJe+PvE9bj91TYw8c8hVDuvQZ0bFjR5w6eQovXrxgRy39UhjQEhEREREREZHBk3BWgtndu3ejS5fOsLG1h32ewug+ai62Hn8I38th8FQBoOF2zUo5H3+AAVNXwcYhPxIlToJkKVLBKkcelKvVAt1GzsWYha4Yt3gH+kxYgupNOyO7Y37dY1IjfoLwoNbUyh4TV3irkQH6tm9sJWHtcm9/NOk8GHa58iO7rR3GjR+PCxcu4M2bNwxp6ZfAgJaIiIiIiIiIDJKEc9JJ+erVK5w+fQqTJk1CoSLFYOeYHw3a98XCHafhHRiixgXoC/8MqWQfNx25q+bjps+cFfHjJ1CdstIVO2P9Hmw/80LNofW7IjNpP6jA2f3Ca8zZcghVG7ZHqjQZEC9efBXS5ilSFmv3XjPqcQf/VzKbNvxYJ6/yQbkazWCRPSdKly6NZcuWISgoSC0AJwE9UVzFgJaIiIiIiIiIDJLMmQ0MDMSCBQtQqXJlZM+ZB9WbdsLE5Tux/cxzowkoVberfwh6j1+ETFmtEC9+fCRMlBgNO/SD66kn8An++Fh/6f792AGsPpZRANJ1exdVG7ZTHbfx4sVDmvSZMGDKyjgS0P5f+QSFweXEIwyZuQ6lqtRDNqvsaNSoMdavW4+bN28ypKU4iwEtERERERERERkMCeFkoagHDx5gw8aNaNmqFXLmckKpqg3Qb9JybDhwQ90Wb0y3+HsHvsemw3dRvlZzxIufAL/99htM0mXGEo+z8Al6r3vMl8cySFftjPV7kSJ1GhXQJk+ZGg3/6K8W3dL3eGOu8MXT3mH17mB0HjIDRcr8jtx58qFnz17YuXOnGnPB+bQU1zCgJSIiIiIiIiKDIKHb27dv4evri/bt2sHBMRecipZHl6EzsMLHH57+b42ya1T2efXuyyhesTb+97//6eo3tQiYhK4+QR90j/ly0Cph9Pr9t9SCYtJ9mzR5CtVJ7HHhrd7Hx4XyDnqvO743mOdyDC17jELugiWQP39+DB8+HKdOnlRjD4jiCga0RERERERERBRrJJSVevfuHU6cOIEBAwagaLFiyO6QD616jMKcLYex7cwzeAfqD/KMoSRgdT31FPXb9VELfqkRBwkToXytFnA9+QTeAdJFq/+5UvL8DQfvIIuFnXquLCxWv31fePqH6H18XCqvgFBsPfYAE5d7oFbzP+GYtyAqVKiAyZMnq/EXYWFh7KYlo8eAloiIiIiIiIhijYRr9+/fx5w5c1CqVCmkSpUKCRIlQts+47H9zCPsuvoPvAK/HGAaQ0lH6JzNh5C3WEUkSZYCTkXKode4xdh2+vlXxzV4B37Acu8AmKTLpALalCZp0b7/JN3Xvj7iQLbtd+UfVb7Bf3/1tQyx5NzJLN6VvhdRoXYLJEqcFJkyZUL5cuXg4uLCkJaMHgNaIiIiIiIiIvrpZM7ss2fPsH37dtStWw8WltYoXbUBarfshrQZsiCbtT3qtumJJR7n4B0QapSjDSKWBKPuF15j7tYjGPnXViz3vogdZ5/D4+LXu2B9L3/ApBXeavastkiYLKQli2rpe7wqfzln7+F+/hVGzXdFu74TsMjtrO71jGssgswbdj//AlPX+KFC7ebIaGoOe6ci6tqwz1MYOexzok3rNjh58qTqwuZCYmSMGNASERERERER0U+hjTOQcPbChQvo3LkTsmbNCqscufDn8NnYePAG3C88VZ2mxSvVVYGkpV1u9TXnEw9VULnTCDtAI5YEtWohLPkzmsey6+p7dB81D0mSJcdv8eIhQ+asmLFhH3yD9XcWSzArC4st8biAyvXbwiRtBqRIlQaOBUpg9IJtuteV5xnyeQzvDPa78gFr915F406DkNHMEukymqFOy+5qcTX380+x0jcADTsMQKrUaWBlZYXRo0fh3r17+Puffz5da0TGgAEtEREREREREf1w0tn4/v17PHr0CNNnzICtnR0ymVmgbuueWO7tD+9ACeVCVUep6pb1f40Rc7fCNndhdUt/7sJlMG7xDtVNKav8G+Ot+t9UuuOUsLVxp8Hq1n4JaDNns8YyL/+PC4x9/njf4DBsPnIXrXuPRYpUaZEoSVLd85LozrUlWvcagzV7rhp2yO3/Tndc0vn7Gn0nroCFXW6kSpMehcpUw5TVvrrr45XuvQ+F58W36k/voBAs2HYKJSrXR2qTNMidOzfWrVuH58+fq18EEBkDBrRERERERERE9ENE7Jh98eIFPD13okyZMkidJh0KlKyCSSu94en/Gr7B/w4aJYCVYHLjoVto1XMUMpiaI33mrKjetAsWbj+le94b3ePCQ93Iz41LJd2uci5+b9wJCRMlVgGtlX1ebDp8L8Js3lAVVrqeeoxhszfCxrEAEiZOggQJE+nOdXqUr9UcC7adgO/l96q7NvJrGEbp3seAd/C8+BIz1u9F4TLVVQe1ha0jeo5ZoDu2R6qjVl8w73v5b93zXmPIzPWwcSiATJmzoFHjRjhw8CDevHmjrj9205IhY0BLRERERERERD/E33//jadPn+LgwYNo3bo10mfIDMf8xdB73GI4n3gAn+CPwVykwE0rT38JHuXjN5jrfBS/N+qgukcloJRFxFb4+Ku5ruoxhtwV+h9KCyQrN2j7KaC1dsiHLUcfqLBVjt3l5CNMWuGFcjWaIpVJOvU4mVPrVKQ8xixw1Z2jV1+eVxuLpR3fjnPP1Xtcu2V3tRiauU1ONOo4AKt3Xw6/TtR1EFWFB/U+Qe+wdt81tO49RneNOMHewREDBw7EqVOn8OrVK86nJYPFgJaIiIiIiIiIvisJZqVj9vTp0xg7diysrGyQ3SGvCtxW+FxSs1NlZX79Ydu/S0I8mT8rXZTSJVmsYi1kyJINhUpXxYCpa7D+wDW1+FV4mBu3So7dR3e+6rXppUYVSECbxdwGSz0vqEXG5rkcQdPOQ2BqkV0FszIOwC53IXQaMg1bjjxQXcj6uk4NpdzOvcDSnRfQeegMWObIg6zWOVC2RhPVResVGKo79n93V3+pZDyCdGXP3Lgf1Zv8gaxWdihdpiwWLFiAgIAAhIaGqqCWHbVkSBjQEhEREREREdF3IaGXrKR/8eJFzJkzByVLloKtQ15UbdgBszcfwM5LIfAOCoOnnmAtOiVBozx/3b6r6DJ0BvKXqAiT9FlQoU5LjJrvjC1H7+keY8i38X9b7bryHl1HzEGSZClUQCtdsu36TsSfw2bD3qmoGmcgX8vumB9NuwzBwh1n4BUYEh7M+hveCAhZJG1nQAhW7w5G3wlLULBUVWS1skfR8jUxbPYGbDv9TM3S1ffc6JZcJ9JZPGLuFpSr0QRZLWxQr359rF+3Drdu32Y3LRkUBrRERERERERE9J9I2BUWFoabN2+qBZqaNGkKhzz5UbpqAwyesQZbjz1Ugdv36eQMU7fre/q/xV/Oh1G/XR/kcCoCM6scaNxxIKat2wPXk090ryXjEQy3czQmJV2h87edVOMd4sWPj/gJEiJNRlOkSptRLRxmZmmHqg3bYdwSN2w7/fRjQG2oxx6iFjEbs9AFvzdsD6sceZCvWAV0HDQFK30Ddfv+/d43WWxOapVfEDoNmY4iZavBJrsduvfogZ07d+Lx48ecT0sGgQEtEREREREREf0nMs7A3d0dHTt2hEMuJzV6oMfoeVi1KxheAR87OfUEaP+twoPa7WdfYMpqb9Rs1gXZrO2RM29RtajYgu0nsTNA5pK+jxPzaT0uvkGTjoPUwl//+9//8NtvvyF12gwoWaUBBkxZiY0HbxpuKB0gC3l9UPOCZ6zfg7ptesE6Z17Y5iqIlt1H4C/nI/C48EqFqXqf/x9LdW37v8Uit1O61xsJ+7xF4OTkhAEDBqj5yDL2gCg2MaAlIiIiIiIiohiRjkOZMyvjDE6dOokhQ4eieMlScMxfXIWjc7cewY6zL8LDwh88F1ZewzvwHTYeuo3BM9aqhbKyWtujaIXa6DFmPtbuvaJup//R+/GjS+brrt1zFc26DEV2xwLIVbC0mjO72OMs3M//uHDzv5a8PxIcL/fxR9s+45C3aHk1zqBGsy6q43frsfvq2H50sKxdJ9JhPGWND+q37QU7x3yoXLkypkydoubTyvXM0QcUGxjQEhEREREREVGMSIh1//59zJg+HSVKlICFla1afX/Kal9sO/1EhYU/OnCLXOG39YdilV8AeoyZB6ei5ZDR1FItODV6gataUMvv8j8/fb++Z8l8XQkYZ28+iPmuJ1QILsdtiMck++V35QO2HnuAPhOW6N6PskiXyQzFK9bBkJnrsOmQdPyGjyHQ9/wfVTL/Vhao23LsHkYvdEWF2i1gbmmDWrVqYfWqVXj06NHHq5zo52FAS0RERERERERfpXXNPn/+HBs3bkDFipVgbZMdJSrXw6h5W1Xg5nHxrQGEhaHYfuYZ5m87hhbdRsDGIR8s7XKhTqvumOdyHN4Bun000G7T6JSEmqobWErP1w2hfILD4HbuBSYsc0fJKvXVjFwbh/zoOWYBVu0KVB2/6jj0PPdnlby+x4XXWL07CH3GL0HBkpWQwz4n2rVrh927d+P169fqeud8WvoZGNASERERERER0RdJSCWLKR0/cQLNmzWDubk5LGwd0Xf8Emw6fAcSiqpg1kBCQ9kXCeB2nHuOGRv2oELtlkifORvMLLLjj4FT1CJiu65+CN9nPc9nfVtJZ6pP8Hss9/ZH7ZbdYKo732kyZkGTzoOxwjcAO/3fwFu9N4Zx3uUakX3x1O3Xsp3n1XxaK911bWlpiSFDBqtF7xjS0s/AgJaIiIiIiIiI9JJgKiwsDFevXsWIESNgb58TGbJkRYtuw7F271XsDHgDT/9QveGX4VSIGrswar4r7PMWh0m6TLDOmR8j/toK9wuv4BssoxH0PY8V3ZKQUxbi2nT4FjoPnam6lmUBs3I1m2H25sO68/z843ViwNeKfwjcz79UC5ZVqNMKWczMkTt3bqxYsUJ108ovKBjU0o/CgJaIiIiIiIiIPpEQSmbMSiD14sULbNq0CYUKF0byFKlQvFJdzN16FD7B7+ClZr7qCboMsCRAlHmorqeeoEP/yUiZOi1SpEqDMtWbYKHbaXgHyfFIJ6Whh82GVXK+pCN256VXmLDME/mKVUDS5Clgm7sQBs9Yp4JZ6ag1lgXa5DqR/fX0f4tR85xhlSMvkqdMhQoVK+DwkSNqETF21NKPwICWiIiIiIiIiD6RAOrJkydqDmejRo2QKbMp8hWvgMEz1sL19GN4BYYHc/oCLkMutc8B7+B7+R1W+ASiZvMuyGRmoW7Db951uLrF3f3Cy/BFq4wkUIyt0kYUuJ9/gXmux1GtSUeYZMgC65x50arnGNVd7a27TlTHrNFdK7K/ofAJeoctRx+g46CpyGplC1OzbOjRoydOnz6Nly9fMqSl74oBLREREREREdEvTuuaffXqFc6eO4fhI0bALkdO2OTMqxbaWr3rsgoujXlxrYilujr932D8EncUKV8Tmcws4VigFPpOXIb1+6+qxaP0PY8lFQp33flZ5ReIjoOmI6tNTmQxt0GFOi0xa/NB3dffwicoboyN8A58D9/gMCzxOI/qTTsjm7UdnPLmw6xZsxAYGIg3b96o7xuGtfRfMaAlIiIiIiIi+oVJuBQaGgp/f3/MmTMbhYsUgbV9HtRo2hmzNx9UYaXqhoxjt/97+suiVu+w8fBt9BgzH/lKVIKZpR1KV22IUfOdsenQbd3jQlVIp+/5v1aFqYDe4+IbrNkTjD7jFyN3oTIq2C5esTZGzN2EbaefwicobgT4EUuNcdAdu9u5lxi/1F3N1c1unwtVqlbF6tWrce3aNTX6gOi/YEBLRERERERE9AuSYFYWAJOAae3atWjQoCFMza1RplpDDJuzCS4nH6kFtGSle33BVVwpNdLA/w0W7jiN5l2HIkeeQqpzuH673pi+zg+uJ5/A+xceeSDjDDz9Q7Dx4E2MnLcVleq1UcGsjL3oPHQ61u27Bp/guNNdHVWphdAC32H9/hvoMXoeCpSsjFxO+dGxU2e4ubnhwYMHXEiMvhkDWiIiIiIiIqJfjIRIMmd22zZXdOjQAZY2tihWviZ6jluIDQduqhX5f7U5rBLUbj/zDFPX+KFO6+4wt8mJnHmLqvm0C3ecgOfFEHXrflwPrLVSgaTueLfpzsnkld6o06o7slrbwyF/cbTsPgKLPc6oc6ECbjW3Vf924lqFz2B+gyUeZ9Gu7zjkKlASBQoWRp/evbF//37Vjc6QlmKKAS0RERERERHRL0IWAJMFjg4cOIAhQ4agYKHCKFC8PFr3HouFO06qTsnwwE1/OBXXK7xLMkx1iw6ZuQ4V67REuszmKFq+BrqOmINVfkG6x4XG+W5RCefdz7/Egm0n0bbPOOQuVBq2jgVQq0VXTFrhgW2n4uY4g+iWCqZ1x+966jGmrPZFww79YGOfB5UqV8GECRNx8aK/6k6X+bRE0cGAloiIiIiIiOgXIOFscHAwxo8fj5IlS8LOMS8atOuDmRv3YvuZ5+Fds3rCqF+xtK5Qmbfaa9wi5CtREekymaFU1QYYMnM9XE8+hm/wBxXo6nu+sZYcj9+VD9hw4Ba6jZiDfMUqwNTCFmVrNMGo+Vuw6fAd3bkJf5y+5/9qJedBwvotx+5hzKJtqFyvNTJkzIxq1aph8aJFePjwIbtpKVoY0BIRERERERHFURIOfXj/Xo0zkAWNatSsiZy5nFCxdkuMXuDycSGsENURqC+A+tVLbmd3O/8Ki9xOol2/CbDLXQhWOXKjepNOmL5uD9zOvQg/d8Z+/mTBtEBZCOuVChpL/d4IFraOcCpSHr3GLsAK30twv/Ca10kUJefF8+JbrN0bjP6TV6Bw2Wqwy2GPZs2awcPDHS9evFDzaYmiwoCWiIiIiIiIKI6SrtlDhw6hSePGMLewhEP+EipAWr//OrwCwlen1xc4sf6vwscevIfbueeYu/UQajbvirSZzGCVwwktug3Hql3B8L38wWjPpU/QB/jp9n+R2xlUbdgBmbNaIaOpBVr3HIMlnufg6f9aHRu7Zr9W4eMx5Bcea3YHodPgabC0y4Uc9vbo3r07zp07x5EHFCUGtERERERERERxiIRA79+/x7Vr19C/f39YWlkjq2V2tOkzHiv9AuFx8RV2+v86izp9z/K8FAKXEw8wZtF2FClXQ409yFWotAq9XU89UQGdp7Gc24B38A0OU4vCtek9Dtms7WGSLiMq12+Lv7Yegdu5Z2om8a+2WNz3KLkGpLtaZvjWbd1L9/1ni0KFC2PmzJm4e/eu+v5kWEsRMaAlIiIiIiKiOEFu55fQQ0o6R6XkY/l85DmQ+j4XFW2bhk6ORy0C9uoVli9fDitLSyRLlhxlajRV3ZG+wXIb+3u9gRIr+iWdpL6X38P5xH10GzkP5jY5kSRpcpSoVBfznI/D74rMJdWdZwMOan2D38PjwiuM+GsrbBzyIYnuOsmeqxDGL/WEd8Bb+AR/0Ps8VszKJ0jO80tMWLYT+YpXRFLdea5YsSJ8fH3x9u3bTz+fiBjQEhERERERkdGToEMCj8uXL2PdunWYNm0a5s2bhwMHDuDp06ef5j9KGCKrq79580Z1sX0tHJHAUxbV6tmzp/rYEGnBrMy59PLyQpUqVZEhUxY4FCiJCcs84BUQYlydncZSARLAhWGVXyDqtemFzNmskTJ1WjTsMACrd12GV+BbeOl7XiyWLGjlfv4lZm7cj3I1miFdRlOYWtqi67BZqgPY97JcJ/qfy/rWCtVdJ+/gfPw+uo+aB7tcBZAmbXp06tgJFy5c+BTU0q+NAS0REREREREZNQkoQ0NDVTBrZ2eHxIkTI1GiRKoyZ86MPn36qOBWQkwpPz8/9O7dW4W3EtR+KRyRYLdKlSqwtrZWga4hkeOW/Xv58iVOnjypQmQrG1u1uFOHgZOx9eh97LoinZCcHfqjSnXTBr+Hd2AopqzyRaHS1ZA+kxmyWtmj97jFanyAh/8b3WNjOxwPhfv5V1jufRGteoxSXb+ZzCxRvWlnLHY/A9/Lcizsrv6RJd3rvsEfsGznBdRq0R3ZrOxgYWGpxh5cv36dQe0vjgEtERERERERGS2te/TEiRMqjE2aNCmyZcsGBwcH2NraIk2aNEiRIgXGjRuHx48fq+5Z6a5Nnjw5smbNitWrV6tgJKpOWglAq1atqoJfQwtoJVw+e/YMpkyZgoKFCsM6Ry40aNcHC3ecglfAG12946zZn1gyQmLb6acYMHUlchUsqRbbKly2OobN3ogNB2+qjtufvdCWdE57XHyDVX4B6DFqPnIVKIUs2axRrmZTjFvihh3nnqnH6Huu4VT4AmURS//jjKO092TqGl+UqtoQ2axsUbJkKaxatQpXr15VP6Po18OAloiIiIiIiIyWBKsSnI4YMQJJkiRBnjx5MGfOHHWr/6ZNm9CmTRtkzJgRJUqUwPHjx1WnrcxnzZcvnwpzCxQogLNnz0YZ0Mq2pYPWEAJa2UfpsJP9uHb1GtasWYNatWvDIrs9ytdsitELt2H7mafqtntjD7GMtSR8870iYw+C0KrHSOR0KoJsNjlRq0U3TFntA+fjD3SPC/nX835MhWLzkTsYOW+rCmTTZzZH/hKV0G3kXGw8eDP8OjHgcDY8jA1Vozncz7/GjnOvsOPsK93Hb9TiZfILCGO9zmW/ZY6xy4nH6Dtxie59qQhr25xo3boNduzYwYXEfkEMaImIiIiIiMhoSWj57t07NGvWDCYmJpg6bZrqQNPGGVy8eBGNGjWCmZkZNm7cqLpOZSbtzp07Ubx4cWTJkgWzZs2KMggxpIBW9vHRo0fYtm2bCp6ts9uhRKU66DVuETYcuAHvQMMOrOQWb1l8Ks6Hx/66Y5XFoS6+xqyN+1G/bW9kd8ivFuNq0W045mw9hB3nXn5ciOv7ngsJXGVhKpeTjzFppTdqNe+KjGZWcCxQUvfaI7DY44zuceEzifU9P7ZLrg0fNTIiDM7HH2HhjhMYu3gH+kxYij+HzUYXXfWbvFJ3bDux0vcS3M6/UsdrnNdUaPjxBr1Tgf4fA6cgX7HycMiVB3379lWjWJ49f/7xu5/iOga0REREREREZLS0gLZJkyZIly4d3D08VDCrkfEFkyZNgrm5uZr1KAtpSdApIe7ChQuRKlUqdOrUKcrbimM7oNW6Zl+9eoU9e/agf//+cMqbD3kKlUbrXqOxyO2Uul1aQir9IZBhlMxo3Xr0AVb6BsLjwhuDDQi/Z0n4JqH5lqP3MHzuJlSo3QIWtrlQqMzvqotVzoWEpd8rXJRz6nbuJf5yPoIW3UfAPm9RmGd3QO2W4d272888D++aldEXep4f2yXhsufFt1ilOy8Dp61B3dY91Lmyss+D9JmzIqVJOqRInRbps2RDdscCKFOtEToMmIT5rsd03wM/qyv5x5T88kLeu5kb9qJB+77Ilb8oypQtj4m6n11nzpz+NJ82qk5/Mn4MaImIiIiIiMhoSWAh4erAgQNVQLt+/frPAloJVWW2o8ykHTtunOqelefIY3bt2oVkyZKhXr16eP36td7wI7YDWpmBK13AI0eOVB2/lraOaNJpIGZvPgC3sy/hHWTYQaeEjx4X32LWpv2o0bQLSlauh55jFmDjoVvwvfxBBVP6nheXKnyMQAjW7r2CPhMWq7m0ZlY5UKxCLQyesQauJ5/C78p73eO+7VxIt64Ewat3B6PjoKnIW7Q8MmW1QqV6rTF6gQucTzxU14mhdpmGd5G+V0F2n4lL1TWS0dQC8RMkQJJkyWFplxt5i1dAvmIVYJ0zH1KkSoPf4sVDPF3Jx3K8/SatUNeZoR5jdEqCc3kfZQzG2EXb8HujDrBzyI1KlSph/vx5uHPnTpSd/mT8GNASERERERGR0dLCVm9vb6ROnVp1w0ZcDV0Czq1btyJv3rwYPnw4Hj958q+Atm7duiqg1Sc2AlrZP3mtmzdvYtGihahVqzZs7HKieuOOGL/UDVuO3VdhjlGEUbr9HDZ7E5yKlEWSZCmQMFFitXhWhVrNMXqBK1xOPlKhlDEHa9Et6XDdcfa5WsSt48ApqgvU2t4JFeu2Vh2u0kHpExz986CuAd02JdgcPHMdylRvDDNLOxQpV10Fnat3B6r5rYY8Z1ZK9m+R+xnUbvEnTC1skThJUtUpW7F2CxXmT17li3mux1RNW7MLfSYsUd3IJukyIX78BEiQICGyWtlhxF9bVYewsS+MJ9eJdMVL4C4LzhUtVxO58uRVo1pcXbepbnr5+aXvF0pkvBjQEhERERERkdGT0QVt27ZVQermzZtVMCvkT1l0RxYDGzJkCB4/fqyCDfn8ggULkDJlSnTo0MFgRhzIvknA7OHhgYYNG8LcwhKFSlXB4OnrsOnwTRV4Gst4AK+A99h67CGKlq+FRImT4H//+194/fabCmqzWtujZouuKniTYPJHzGQ1tJIgWrqGJaid63wU9dv3QYo0GVSXaIN2fbDc2x++wX/DJ0jOhf5tSMnXZWzErI0HUKVBW2Qxt4GVfV607z8Jy7zOw/3Ca6O4TiRkXuxxDuVrNUPS5CkRL358WOXIg0HT1uiu9xvhXbG68yXnTCsZg7Dx0E10HjId6TKaqk7a+AkSomSVBrrz+kLv6xhbhXfTyhzjN2oURpehs9Q1YpcjB9q1a4vTp0+zmzaOYUBLRERERERERk8C1ytXrmDAgAHIly8fpkyZgqCgIDXSwNnZGU5OTujVu7fqSpWFtiQAzZEjBzJlyoSpU6dGGXb8rIBWXj8kJATnz59Hj549VRDjmK8oOg2ehhU+F+F2/iVkUSF9YY6hlt/lD5i5cT+yWdurAC1ZShM06zIE2WwckCBhIlXJU6aGbe6C+GPgVKzfH77Qmb5txcXy9A+By8n7qkO0zO+NkDZDFrWYV9cRc9UIiKg6i32CQrFmz1W07D4CFtkddOfTHrVbdcfsLQex7fQT3WOM4zqRAHLz0Xto2KEfUqQyUWMLMppZYtwSN7hf+ML1/rFzeOvxByhRuZ4K/6WLtnil+rrzFQJfFfaHL77lEywlHxvz4nSh2H72KRZuP6XGm2TIbIp8+fNj3LhxuH79uvrlErtpjR8DWiIiIiIiIjJ6csvv4cOH0bVrVxW6pkiRAlZWVihZsqQKZ6VTNmvWrChdurT6e5o0aZA4cWI4Ojri7NmzUQYcPzKgldeUknBWOoDnzp2LnDlzIn0mU1Rv2hmLPc7C0984F9SSMMw3+IOaiZo6bUYV0OYvUUl3PM+xxPM8qjfpjOQpP84SjS+zRlMgb7FyGL3QVfeY1/C9/LduO8Z9q3p0KnxMwTtsO/0IA6etho1DfqRMnRYFSlXBhOU7sTPgLbQF4Pyu/A2vSyEYPGMdrOx117TucXmLVcRE3eOkc1RdJ7rtRX4NQy05rrlbDqnxFzKqQK6F8rWaw/X0HRVe63uOVtJVu+30MxSvWEcFtAkTJsK4xW7YdPgupq72RZ/xS9Bx4FT8OXw2RszbiqU7L+q2+VadQ33bM/T6v5Emr1TXdLEKtZHaxARFixbDpk2b8ObNG/VzhEGt8WJAS0REREREREZLAgkJZw8cOIBUqVIhUaJEiB8/PhIkSICECRN+Kvm7lHxdgtmkSZPCzMwMLi4uKnj92QGtvJ50vkmw4ufnh+LFisMkbXrkLV4Rk1d6w/PiGxXIyAxRfYGNoZeMN3A5+UQFSQkSJVYjDf4YOAV+l8PDZo+LLzFxuZcKIhMnSaZubZeOWpk/WqF2Syx2Pw+/K7ptGVHg+M2le4/lfZaFvKSLuHnXEchkZoU06TOjetNOWOp5Xve4V5i5YZ/ufFVVXcdZsmVHr7GLVMeszF01xutEAtpZG/cjV4GSakGw3377DfZ5i2Klb9AXj0e+L2S8Q4/R8z6OOIgPp6IVUPr3xkhpkh5Jk6dQi4vJdSXXkwS4yVOaIH/xShg+dwvcz7+Al57tGkOp6yQwDG7nnmPwjLXI4VQY6TNkVPNpjx49qsajyM9DMj4MaImIiIiIiMhoSdApwenQoUNV8Cqdsbly5ULRokX/VcWKFUPx4sVRuXJl9O/fX3XOfm2xnR8V0Eq32/Lly1GvXj2137JwVreRc+Fy4hH8rhjz7djh5R30Hit9AlGgZCUkSZoMyVKkwtytR9Tn5etyfD7BMqP2ProMm60Wy5JQTToppVKaZED7vhOx4cAN3ePf6irud9NKSWjpFfAWszYdQMkq9dVcVku7PChRpQFSpEqrOy9pUbd1D6zedRm7rshjjfc6kWth/f7rqN74j0/vvVwnDdr3g9v513qPTUYYbDhwHe36TkDGLOYqnE2QMKEKrSXQljm8RcrVQIlKdZGnSDnd95W1OocSAMtj5RcFleq1wYaDN+EdEH4tGmNp3z9r915Dk86DkCaDKaytbTBE93Pw0qVLalwKO2qNCwNaIiIiIiIiMlpaQDtw4ECYmJhgxowZePT4sRoZoK9kBfTQ0FDVvRqdldB/VEArr929e3c1iiFhoiToNnIOtp+5DU8JI+NI16jHxRDMcz2Oqg3ao2iFWuqW9Ihfl25AuXVbwtfF7udQr21vmGd3QOKk4R21EqbZ5SmCfhOXq87SnZdCPj5ef4UHeqFqYaWvPdawS87LS925O4CCZX5H0uSpkCxFajVntUH7vnA5cR1eKrTW91zjKk9dzdp0ECWr1FPzdGs264wZG/bB48Lbj+9n+OPkY/nczA371bWUNFlK9X0jc3tzFSqNLsNmYcGO09h67BF2+st7H4IdZ1+qcRrt+o5XvwCQTlp1XSVMpLax4eBtI75GtHqD1bsuoFbzP9UokVQmaVGoUGEsWbIE165d43xaI8KAloiIiIiIiIyWFtAuXLgQZcqUwcmTJ6N9i688V7rMvvT4HxnQdvmzC5KnSAlrOwdkymqFxh0HYvbmg3A99RiqYzQOBLW+we+x/cxzrPAJhMeFkChuXZd5te/hdu4lxi/zQMmqDZDRzEJ1PUqlSJUG5Wo0xbglO7D58B21in/kjlov3d+3n3mB+dtPoPe4RZi43BNbjt3DTv+Ir2P4JeHy+gM3MOKvLShRuT5MLWzVGIhqTTrC3qkwTDJkQY1mnTFltS+cT9yPEHIbd8m85TlbDmPH2edqdvG/HhMQBvcLbzF700FUqd9ahbl5CpdF1+GzsW7fdTU6w/fyB7XwmDxWnqN1mXoFhmLUAhfY5MyrZiHHixcPiRInRY9R89TX//VaRlAyT3fz0fuYuGKn7ny0g5mFHXIXKoOazbugoO56yWxqjpYtW6nFEO/evasWUWRQa9gY0BIREREREZHR0gJad3d3zJkzBw8ePFCha3TI84KCgxEQEBBlePEjA9qOHf+ASfrMmLXWDXVadET2nE6wdSyAdn3GY8G2k3C/8FrNm4zYSWh8JQFiGHwC30cRzn5eMk91y9H76D95BQqVroo0GTKrrkcJamUMhHTZTl3jq0ZByDgACdhkQanl3ufRacgMOBYooWaPWtjmQp8JS1UXpaGfP9k/mT+79fgDjF+6Q4WxFtkdkbtQKXQYMBErfQPgcfEt5rseQ902vdQ1Ymppi6adB2PWpv0q1DT260T2Xxt/8aWSx20+chdTVvtguZe/7nNv1CJrX7q25Lx46L6X6rTuoUYo/PZbPNVFW79dX/WaxnLeZD/lepdfRMxYv1t1U1vZ50GOPIXQ7M8hWLD9pO46eY01uy+j0+BpyF+iIrJmM0fPnr3g6+uLZ8+eMaQ1YAxoiYiIiIiIyGhJ4CDdYTNnzkSRIkUwe/ZsXLl6NcqOMfmcBLiyOJenpyfad+ignhMbAe0ff/yBNBmyYG/wM/hdeoSxf61G+eoNYG2fG8Uq1EKfiYuxyi8ofMEwPYFNXC3pgvQOfIfl3v5o338i8hQuo27xl6A2SbIUyJm3KNr3nYCFO05h9a4gDJi6CqWq1keylCZqUagsFtlRtUE7jFviDrdz+meZGkpJ96vbuVeY63wIzboOg0O+4rBxyIf67Xpjxvq9cD//8lP46hschu1nX2DsIldUrNMSVjnyIG+xCugybAYWe5zTPfaV2p6+14lL5aU7H9JxHT6v9+vvrYTfm4/c0Z2zFmrWrXTQylzaQdPWwEdft64Blryv7hfeYInnWXQYMBlORcsjm3VOVG/cUXedu6nF4uQ45XzIn9JhO9f5MOq37QPHfMVQWPezcfz48Th+/Lga8xLduwzo52FAS0REREREREZLC2iXr1iBJEmSIEOGDGjfvj327NmDd+/efXzU/5Fw9saNG5gwYQIKFCigHj927Ngou25/fECbGX7+j3Hs7t84eisULoeDMGjyPBQtWwXZrHOgXM1mGD53I5yPP1S3cBty2Pi9S4Im9wuvMHfrITTuNEgFkgkSJsJv8eIhpUk6FChZWS2klSGLuVpgKmmK1Cj9e0MMnLZaLQIlIyIM9Xz5BIXfjr/C55IKoZ2KlEVGMytUa9wRYxa6wvnEw4/BbITnybgGFcC9w8aDtzFo2iqU0h2/maUdilWsjT4TFqtZveq2/l/gOgkPI6P+npDzK+diy9G76DBgEtJlMlPXjow5qNygHbYevWfw5yn8GD5g3b5r6DFmPoqUrQ6T9FnUyI/BM9Zi06HbnwL8yM+VbvQdZ19g8iovNdvXNmceVK5UWc3pDgoKYkhrYBjQEhERERERkVGTcFUWxBkyZAiyZ8+uFgsrV64c5s+fjzt37qggQkJcCWx37dqF5s2bI3PmzEiVKhUaNGiAgwcPxmIHrQS0T3D09t84cus9jt15j/1XXmCF52H80W8k7PMWhl2eQqjbuqdaIElmlEogE3kGa1wtCZ7kFna5rX3ckm2qczRl6rT47bffPq3gnzBxErVQVKch07HM6xw8LmjnSP82Y7ukO3jjoTtqjIMErOmzZPvYMb0Ua/cGY6f/26/uv3xdbttf4nEGnQZPhVORcrDK4YSqDdtj/FJ3bDv9VHfu5NZ//c839pLjl87jdftuqFv+ZVEwn+B34RUUPqNVRmXIjNbaLbqqGc8S7qdKkx61WvyJ1buD1Pkx5O8juU7kFzOj5jujct3WMLO0De+YHjoLy70vqFnMX7tO1PdPQKiaazx4+hqUq94EDrnzoVmz5tiwcSMePnzI+bQGggEtERERERERGT0JGJ48eYJt27ahRo0aSJYsGbJmzYouXbrg7NmzuH//PubOnavGIEinrbm5ubrl19/fX610HpWfHdBKHb0dHtTuDXqCBVv90KBNV2TOaonsDvnRsvsorN59BX5XPqjuQX2hTFwr6SL0vfwe6/ZeRcMO/VT3rAS0UmZWOdCi+3AsdJOZva9U1622SJQhlQRlvpf/VmMIJq30RrkaTdRM3eyOBdBl6Eys9PNXs3TV/ut5vr6SgDE8qHyuuoybdB6MbDY51fxaGZGwyP0s/HTnzVhu449uyfXgcvIJuo+ahyLlaqBWi27oN3k5Jq3YienrdqvF5OScSve5pV0uJE2WQnXNymiM3uMWY/OR8K5TfduO7VLXie79koB5ztbDakG4rNY5YGGXG616jNK9p6fCf0mjrpPoH4Mcr2xzpe8l9Bg9D3kKl0Z2Wzt07NgRBw4cQGho6MefTBRbGNASERERERFRnCAhbUhICM6dO4fRo0fD1tYWGTNmRNmyZfH777/D2tpadc02adJEjUB4/PixCkq/1D0WGwFtxKD20I0QeJ27jSnLnVGiYnVkMrNArgIl0XfiUnUbvE+wYQZN36X8w4Ml15OPMWTWBhXGpc9shoSJEiN12oxqzuzUNX5wOfFA9/jwxcj0bieWKzwMDMEitzNo0KG/mjFramGLxh0HYv6249hx9tl/Gscgz5Nwd+vxeyqkrFC7BbKY28Aud0F0HjIDmw7dge/lsDgxx1jCWek+bvbnMGS1yoEkSZMhRao0yGhqoUaCWGR30H3eDhkyZ0PylKmRNFlK2OYqiDa9x+nO9TG1oNpnYyMMqXTvo1dgKFbtCkLbvuNhn7coMmezRrUmnTBt3W64nHyoe9y3X+dax/B23fUm56JZl6Gwc3SCU958GDFiBK5fv65+xkV3kUX6vhjQEhERERERUZwiAcOLFy/g7e2NChUqIH78+EiQIAFMTU2xcOFC3L17V93WGx2xGdCqui1B7QccvfMO3hfuYsiUJTC1sEaa9JlRuGwNTF+3B3ILs3TdxaSjzhjK48JbzN5yCBVqN9cdbyZ1i7pU7oKlMWzOJricuK9CJ0MNZiV0lbnBEjB3GzVPdctK92/xSnUwZbUP3M7JGAL980O/pcK39U53Xh5iyIz1sHEooG7pt89XHKMXblMdlLI/xnydyDFK9+zE5V6o364P7J2KqsXhfosXP7yrOl48tZCcdc68qFy/DfpNWo6VPgHh3dWB3+9cf++S90X2ceisDchduLTufcug+7MMhs/dooLZ73mdq+tEdy7czr/A9PV7UKpaY2TMbIpcjo5YvWY13r59q36GcuzBz8WAloiIiIiIiOIMCRW0gHbLli0oVKiQCmhl5Xbpnh0zZgwePHigwtboBBCxHtBGqMM33+PY3bdwO3kDrbsPhkm6DOo2+bqte2G5t7+a1SodhvpCGWMrGd+w4cBt5CteCclSpFKdktms7dFx0DTd569jZ0CI3ucZSqlbyi++xKQVXihUplp4UJq3KPpPWQnnE/c+7v+Pm3/qFRiCLUfu4o+BU2CSPjPSZTJF+dotMM/1ONS81iAjvk78JWSUc/dazZld7h2A2ZsPY+qaXZi16RCWeV3CpsN34XHhpTpWCcr1bscAyitARlCEYJ7LcZSp3hSp06ZXYxmk83njwRvwuvRjr3M5j9JVPPIvZ/ULhPTpM+D336th7959auwBg9qfhwEtERERERERGT0tmJV5sjdu3EDfvn2ROnVqNYu2aNGiqFq1KrJkyaLmz5YqVUrNXZRxCIY84iCqOnb3A07cD8XSHQdRunItpEiZGlb2edBzzEJ1u78sLqQvjDGq8g9Vt+Sv8gtG/Xb9UKNZVyzxOAff4PcGPHtXQsMw+F3W7feuYNRq/ieS6d6bjKbmaNxpENbvv646nX9WiC6vs/vaByzzvoSKdVoheUoTdct8615jVfgXF64TOUafoL/he/n/we+Kri7/A5/gv3Wf/wBD7ZbVgnnf4Hdq/ESL7iORPFUamKTLhCoN2mOZ1wXd8ch1/nOuEzlPu65+UJ3JbfqMU+NDMmcxRe/evRF8+bJaXJFB7Y/HgJaIiIiIiIiMngSesiK5s7MzihcvjhQpUnxaJEwWAnv58iXWrFmDAgUKqE5a+fqAAQMQGBiobumNKnwwxIBWq2N332N34COMmrMKBUuWR/pMpmpOq9zOvvX43fCQ02BDqq+Xp9p/+ThE3Z6vZrn6//txsV3aLeMe/q+xdu8VdBo8A5myWSOLrmShqtmbDuoeF/Jx/39c16y+knMor+t+4QXGLnbTXR81kT5zVjgWKIn+k1diw8Hr6tzK/ut7Puv7lRpToDvPcr43HLyFPhOWwtw2FzJkyYb8papg0vKduq+9gY8sABYL14kayREcisVuZ9XiZKbm1sibLz/++usvXL58Wf1Ci34cBrRERERERERk1CRcvXPnjuqaNTExUeFrsWLF1LzZR48eqa9LSSh68uRJNGrUSM2jTZ48OcqUKaMWDDPGgFZKummP3w2Dy+EgtO89HHaO+ZDJzBJ1WnXHnC2H1IJA+gIZYyoVgBpo0CyhmwRuGw/dVAuZ5S1WAekzmSF3odIYMnMdtp95Br/L72N9/711r+8TLAts3UKnIdORw6kIMphaqAXFJq30/rTQmr7nsr5DfbxOthy7i3FLdqBklfpqYTNbxwLoMWY+nE88gt+V2L9OpHyCPqj5tCPnO6tf+GSztEGt2nXg4uKifs7KXQrsqP3+GNASERERERGR0ZKQQBb8WrBggRpnYGZmhhYtWmD//v2fggSN9tgnT55g1qxZKFy4MDJmzIhRo0Z99riIDD2glTp8K0x10x66/hpLtu9D3ZYdYWOfC5Z2udGmz1gscjsFt/Ov4B1kuEGnsVX4glPvsPXYPYxdtA0V6rRE5mw2KpjtOGgK1h+8BZ/gd2pMg77nx1bJnGIJChfuOIlGf/SHXa6CMM/uiIbt+2H2loPYfubFx2PjdfI9Ss6jXCeupx5j6hof1GrRFeY2OWHvVBgtuo3ACp8ANeogvFPcgAJy3f7ItSJjObqOmI0CJSrD3iE3OnXupBZflJ+hUf3MpG/DgJaIiIiIiIiMlha6zpw5E/nz58eECRNw8+ZNFYBGRZ4jYauvry+aNm2K2bNnR9kNZgwBrVZHb7/HiXsfdNt7hPEL16NizYbIZGaOgqWroueYBVjpdwkeF9/wdvb/WBKmbTv9BDM37kOzP4fC2j4v7HIXRIMO/fCXyzHd+Q39afNDv6Vk/2WW77bTTzFuiRuqNmgLU0tb5JJweeA0LPE8A/fzrxEnZhnHYsl5djv3Egu2n0CH/hPhkL8ELHPkUeMDpqzygdv5l6qrWd9zDaVkMTn5mTHf9QSadh6EHHkKoUjR4hg9ejSOHj2qxsOwm/b7YEBLRERERERERk0Cgn379sHNzS3agYEW0l6/fh0BAQEfP/tvxhTQaiVBrXTUup28hoET56FEherIYGaBsjWaYPCMtdh85K4KEH/WYlVxpeSceQWEYInnObTvP1EFmha2jqjWuCMmLPOA66mnqvvUU89zDbEkQJSu6k2Hb2PAtFUoU60R0qQ3RdHyNVWgv27fNXU8hhw2G2KFL1wWhjW7r6D7qL9QqPTvyGplj/K1mmP4nI3h339GFn7LdSCBvozDqNOqm+oCrlChIqZNm4rAoKAv/kKMoocBLRERERERERk1CVtDQ0PVSAMJUaWjNialhQuyHQl3peRzWohrbAGtVjKf9tCNEKzxOYaO/ccgb+FSsLbPg3qte2LyKh9127Xcxszb2b9e3oGhamGnfpOXokTlurDKkQelqjRAv0lLsXbvVd051BY0M74KD5VDsMzrAjoPmYECJSurjtrfG3XAqPnO2Hrsvjo2XidfL++gULieeIIR87agfM1masxIgVJV1JiA5d4X1XgJY+1gV+MadPu+4eBNDJ6xTs0vlvm0zZo1x5o1q3H37l318/Rrvxwj/RjQEhERERERkVGTQPXWrVtqZMGuXbtiVLJA2LVr1z6Fs7Id6cY9ceIE3rx5Y9QBrVbSTbsn6BmWuO5B0z96wdLWEba5CqBZl8FY7H5WzUpll6SeCgiD35W/4XnxDcYtdUOZ6o1hZmWnblXvPvIvLPfyj1MjI6SbVkYbLNx+HC27j4SNQz7dtZILtVt2xexNByDdw3LLu77n/urle/mD7noJxcwNe1G5QTuYZ3dQ3dXt+07Egu0yA/pl3LlO1HGEYs3ey+g5bhEKlKwEW1tbtGnTBl5eXuouBoa0MceAloiIiIiIiIyWBAESdq5cuRL58uWDk5NTtCtv3rwoUaIE5s+fr7YjHbjLV6xAqVKl0KpVK1y5ciVOBLRSR3V1+GYoPM/cxpRlzqhUuwkssueEU5Fy6DF6HjYdvgOfIFmkiCv5S4V3i4ZiwfaTqN2ymwors1jYofmfQ/GX8xFsO/M0wuP0b8NYS7qBtx5/gMmrvFC9SSeY2zioULpd3/FY5RekglpeJ+EV3ln8Dsu9/dG823A45CuGtBlMUadVD0xftxuuJx99fFwcvE4C32HHuZdYuP0E2vYeB8f8RVGwYCEMGjgQ586dQ0hIiPo5R9HDgJaIiIiIiIiMlgSrEpxOnjwZCRMmxP/+979oV7x48ZAmTRqMGDFCdc9KoDBx4kSkT58exYsXx4ULF+JMQKvV0TsfdH+GwuP0DYyYtRw5nQojbYYsKFy2OiYu94JP8Af4Xf5HbyDzK5RXwHvVNbvx4C10GDAF1vZOSJYiFcrXboEZ6/dhx9knKmyLi4FbxAo/xnfYcuQuRvy1FflLVoZJ+kxwKloOg2esh9u5V7rz9CtfJ2Hwu/o3XE4+RN+JS5GrQAmkSJ0GRcrVxISlnth26qHqmP0lrhPdce44+xxzthxG9SadkdnMHEWLFsW8efPw6NGjjz/x6GsY0BIREREREZHR0kYTXLp0CWvWrIlRrV27Fhs2bFTdXrIdmZ/o7++PTZs3q1t1nz9/HucCWq0O3wrD4Zuv4XI4CH/0HYXMWa2QIUtW/N6wA5Z4XlBjD3Ya6UzVby1Z2Gn7mWcYNnsT8hQpizTpMyN3oTIYvcBV9/nHan7oL9c56h+qO+43WL//GroMmwXLHLmRLpMZSldrjLnOR1XXdVwPISOX3OLvceEVJq3wRolKdZEuoyns8hRGnwlLseXYnV/zOtGVp38IXE480H2/uKBQqarIYpYN1atXh4+Pjxp7ID/z5Ocs6ceAloiIiIiIiIyeFtRKSRCgfRydihgayMcRK64GtFodv/s3Tj38gA27zqJc9QZIlDgJTNJnRqfB0+Fy8hH8rnzQG8bEpfIOCFPh7CL3MyhfqwWSpTRB+szmaN9/srpFfdfVv/U+71cqCSV3Xf2Alb4BqN60M1KkSoMkSZOhaZeh2HT4rvqal57nxbXyDX6PtXuvoX7bvkiVJj1Sp82o+7iP+px0Xv9qv9SIXBLW79KdB5cTD9Fl6Cz1i5+kSZKgS5fOuH37tvolWOSfuRSOAS0RERERERHFCfKPfpkjK52voaGhnwWtWklAII/RurmkviSuB7RSh2+G4djdMBy+FYLpK3cgd6ESSJcxCxwLlMSwORvhfPwB5HZ3fYGMMZcck3Q7rvILROueY5DV2h4ZsmRD9aadsMjtjO7rv2YnZJTlH6rmjsoM2mlr9yBfySpIq7t+s9k4ove4xWqOscyv1ftcYy517Ydg46Gb6D56nppHLF2zpX9vhOnr9+quoddx87j/S+nOmXfQOyzz9kfNFl2RJaslspiaYebMmWohxnfv3n31Z++vhgEtERERERERGT35x/7Lly+xc+dO9OvXD/v37/8sAJBg9sGDBzh48CC2bduGAwcO4M6dOyp0/VJQ8CsEtJ/q9gecfvQ3vM/fxZ9DJsDKzgGZs1mhasP2mLVxP7adfqJuY9YbyBhVyW37Idh89DYGTV+LPEXKqcCtUOmqGDnPGe4XXsAn6D1+tVv3o1tel8K7aWXuaM+xC2Ftnw8ZspijeKW6mLjcE87HH6rg2/jD7fDrxPXUA4xb4o7C5WrAJF1GOBYogT4Tlui+Hx7D9zKvk6grTM20lvB64vKdyFeiMjKbWaBs2bJwdnbGvXv3VFArHbXEgJaIiIiIiIjiAAlPly1bBlNTU1haWmLJkiWfglf5MyAgAF27dkXmzJmRNGlSmJiYoEGDBjhy5MgXQ9pfKqCVuhmm25f3OHrrDdZ4n0SzTr1hkzO3rvKiRdfhmOdyBNvPPFe3vEsAoz+YMcySfZYwbcvROxi7xB3lazVD2oymyFe8Av4cPhsbDtxQXX9xsVv4+5eErzIaIhQrfQPRqscI2OYqgGw2OVG7VXdMW7tLjcjQzrn+bRhmyf7KwlfOJx5iyho/1GjaGanTZoJDvmJo2XMUVvoFfrxO5LjYORudkpnWrqeeou/EJXAqXAY2djnRpk1reHh44P79+wxpdRjQEhERERERkVGTcPX69RvIkSMHUqVKhYYNG2Lv3r3q81Iy8mDAgAFIly4d0qRJg1y5csHa2hopUqRAnTp1cPPmTQa0kero7Q84fu8D9gY/xdTlLqhcpymyWduhQMnK6DF6gZpF6nHxrfGEmbr9dD31BDM37EfjjgORwcwCdrkKol7bPli446TuOEJU16ze57K+WHLePC6+wtQ1fvi9UQdY2OZCznzF0b7fJCxyO4Ud514YzXUi+ym/gJjnehxte4+Hue5YrHLkQeX67TBr037dY97CJ5jXybeUV+B7FdQu87qI5t2GwSFfUeTNXwjDhw/H4cOH8eLFC/VzMaqfxXEdA1oiIiIiIiIyWvKPeRlfsHz5ciRLlkzdPnvp0iX1D30hX9u9ezcKFy6svt65c2ds374dK1asQP78+WFubo7Vq1dH2cH1qwa0Wqlu2jthcD91A0OmLkKZqnXU2IPSvzfE4BlrsfHQLXgHvYd3oOGFVtLhKGGa+/lXWLD9JNr0GQu73IVgaZcbvzdqjymrveF27pVaIEzf81kxqIDwmaNbj97D0FnrVXeyqYUtCpaqgp5j5mP1rmDVTSvXit7nx2JJKCshs+fFN1ju7Y8/h82EU+GyMM/ugHI1m2L0AmdsO/Ncdy3xOvke5a37fnM79wLT1+1G/Xa9kSNXfpQuUwbTpk3D+fPn1diDXxEDWiIiIiIiIjJaEtDKol89e/ZE6tSpMXnyZBXKat6+fYupU6fCzMxMBbKnTp1SQauEAPLYtGnTqpm1WqAb2a8e0Gol3bSHbrzF+l2n0GnAGOQpVEIFWDWbdcaE5R5wPfkY3oH6A5nYKHX7uSwAtitIBYTFKtRGNmt7lKneGINnrsGWI/dU4Ca3sut7PuvbSsI36TJd4eOPLkNnIH+JSmrsQcU6LTFi7mZsPfbA4K4TmZG64eBNDJ6xBuVqNtNd144oUra67rpZgDV7Luv2N9QgfwFhzCXfd7Lg3ObDdzBk1joV6Ns7OqFhw0ZYuXIl7t69q36O/0qjDxjQEhERERERkdGSf8BL2NqkSRM1wsDFxeWzsPX27dto166dGn3Qp08ftVCYhLryGFlQTMYctGzZEqGhoR+f8TkGtBHq9nscu/sB+668xLId+9Gq6wBktbJVq9rXb9sb812PqcWhZGGgnWo+p/5w5kdWeNfsBzXOYPjczShTrRFMLeyQr3hF9Bj9F1btCtTtmwRuDGZ/ZMn5De9cPo42vceoMQESkMuCc9I56X7hNXwvywJSsfU+hF8nsh+TV3qr/TK3dUQOp6Jo338iFrufhseFN7xOfnCF/4IkBGt2B6P3uIUoWLoq7HM6qp/n7u7uePPmzS8z8oABLRERERERERktLaCtX78+0qdPjx1ubp8FtIcOHUKZMmVUeCudWdo/+OV5u3btQvLkydG4cWPVaasPA9p/l8ynldEHPhfuYeYaN9Rs3A6Zs1qpbslOg6ep29mlK/Fnd6dKmCazUGdtPoi6rXuohc1kpEGrnqPxl/NhbD/zzOADN+nUlPK6ZPzBoOpODXwHlxMPMXWtH+q16YX0phZwLFASzbsOxxKPs7rHhfz0sQfeuv3yDgzRvf55NPtzKOydiqixFw3a98U03X7K/sp+G/LcXHWdBMXeL0K+a8l4DN335Y6zL7Bwxyn8MWASbOydUKBgIfTo2QPHT5xQP+PlZ3ZcDmsZ0BIREREREZHRkn+wyz/epUtWQtj169d/FtCuXbsWlpaWamGwAwcOqJBV66B1dnZGypQp0b59e7UNfRjQRl3H7nxQXbVe525izNw1KFC8PNJlNEWhMr9j2OxNcDv/Ar6X//7hXZLegR+w+/rf2HjoNlr3Gg1Lu1zIaGaJ3xv9gZkb92Lb6ScqAIq9bs2vl0/QB129w/r9N7Hl2H3suvKPCuH0PdbYSt3Orjv3ricfYMyiHWrcROq0GZG7UGn0GLsALicf/pTrRBap2n3tb91+PEHXEXOQ3SEf0mUyQ8kq9dWYDucT9z8Gs4Z7ncg1sevqB921fgcbDt6C31XddSJBrZ7HGlvJeZfjczv3HPNcjoUH+rr3R+aHT540CXfu3GFAS0RERERERGSI5B/sEpyOGzdOha0yxkDCVvncvXv30L17dyRKlAjNmzfH1atXVTAqJR2zHTt2VF23I0aMiHLWIQPar9fRW2E4eO01nA9dRNehk2GbKx+yZLNC1YbtMNf5CHZeev2DQq8wtcCXdN4NnrkOOfIURUZTC+QrXgmj5rlgy9H7useERHqOYdamw3dV97GMiyhcthpGzXfVHdezOLWAmZeuPC6+wfr9V9Br3CI45C+he7/MUapqfUxcvlMFc94BEtTpf/63VnjwFz5yYdxiNzgVq4AMWbLpznV+DJiySi10J6M59D3X0Gr76WfoP3kFbHMXVp3I/SYvVx2/vsFxaEauev9D4Xrqge668EKZ3xvC1CwrqlStii1btuDp06efzRmPKxjQEhERERERkdHSumH379+PxIkTI2vWrFi+fDkuXLiAKVOmwMLCQgW0M2bMwOvXr1UQ++zZMwwePFgFutbW1vD09GRA+x1KddTeCsH6XWfU2AOTtOmRNpMZWvUaja3HH2DPtX8goareUCaGJfNDpety7tYjKFqhNpKnNIFJ+szoNvIvOOtey1cWADPgTkitpPtx/f5bcCpaDkmSJsNvv/2G+PETIFWaDKjWuBOWeV1UxxJXummlVGAaEIo1uy+jcceBSJvBFKnTZkLtVt3VeAzpEP1eoyhkfIJ0mco4g8oN2iNN+kxImiK17pocg42Hb+vObfj+6HuuIZW8/87HH6NE5fpImiwFfosXD/HixVfXfYkq9TB7yyHdY0Lh85PHRfzIkvfFR3cduJ56iD4Tl8HaPq+6S6JF8+Y4ffq0Cmnl539c6aplQEtERERERERGTf6BHhYWpmbJykzZpEmTIkmSJCqYlY8lYD158qR6nASxMupAwtm0adOia9euCAkJifIf+QxoY1aHb4Xh+N33OHTjtZpPm7doaaROm16FK8PnbIL7+RffHr5JZ52aVxmKVX6BaNihPzJmMUfqNOlRu0U3rN1zDX6XIz3HwEuCt63HH8LMyh7xEyRQAW28ePFUSJswUWKYWdrhj4FTVZen3H6vbxtGWf6hCO+UfYuZG/ejeOV6MEmXCVmtc6LH6AVwPfVIjXzQ+9xolndQKDYcuK4W/cpmY49UJulQoU5LLHI/h11XdY8JCFX7oe+5hlZeAe+x49xL5C5cFgkSJNRdJ/FUSCvXSYKEiVRHsITdK30DdI+Vc2v4oXP0Sncsuj+9ddf+ql3BaNxpEEzNbWBtkx3jxo3Hrdu3P82nNXYMaImIiIiIiMjoSeB57do1tVhY5syZVfgq4wvKli0LNzc3hIaGqsfJP+QDAwPVTNr+/fvj8ePHX/zHPQPabytZSOzUw7/he/EB+oyZBYvs9kiRygSlqjbCzA374Hb+WXhA9q9A5kv1FpsO30Tfictgm6sgUqfNgCLlamDqml2qE1K6avU/z7DLR7fvjTr0R4KECRE/QUKkz2IO8+wOqlMy3scAzqloeYxeIGMPHn+6BVzftoytJEj0u/JBLeA2YOoq2DsVRsrUaZG/RGV1e/uOc09UQKfvuVFXKJyP38PIv7Yib7EKKpiV8zdszmZ4XHgJv8vGeZ34XXmPzkNmqOshXvz4SJU2I6xz5kPyFKnDg1rdtSPfF/103x9bj93RPUeukbhxnUjJ97en7mfAtHV7ULxSXdUNXaJkSWzZuhUPHz5UP5+NuZuWAS0REREREREZPfmHudzyKuMLfHx81JiDrbp/uF+5ckX9w10LYeVx0jF769ataK0MzoD2v1SY7rje4/i9MGw9EICmHXvBOkcuZM5qpbpf/3I+ouaOSidlVB1/8nnpCNx85A5GzduK4pXrIqPu+TISoM+EJXA+/hDeQWHwNJJOSH0l+z9uiTuSpUituiId8hfHwOmrUa9tT5jb5FRBrQRwSXR/VqnfFtPX7VELbqlz851GARhCScfsmr1X0KrnaNg65odJ+kxqzIMc77Yzj6NxnbyDy8lHmLzKF1UatEUm3XWSM18x/DFwCtbtv666MI2lY1ZfybiGhW5nkNIknRpvYGqeXYWxbXqNho0EtalMVHCbOEkylKhcD2MX79B9f0hQKx2ocaejVt5HlxOP0H/KShQoUREZTbOiabOm8PH2VkGt/Gw1RgxoiYiIiIiIKE6RwFULXr8UvkYHA9rvUyfu/a07xjD8tdEbles0hbmNPXLmK47uI/9Sc1bdzr9UAVvEMMbrkiwU9AQzN+5D/ba9dc9xgG2uAmjSeRCWeJ6Hd5DuMXEgeJJwef3+6+p8yHgDWTir9/h5umO/j3GLd6Bs9SZq8TMZeSBdkhnMLNGi63DMcz2O7WelE/nz7X06jzHuUI79khmqEsDN2XIYVRq2h4WtI7Jld0T7fhOxcMdJtXCaNupCe44E+G5nX6qvt+41Glb2TrDKkRs1m3fBXN12vAJCVAge8XWMsTx13w8eF16jcNkaiB8/PlKapEWzPwdj2+kHmLFhH6o16QgzS1sV0Eontsxkrte6J2bpvn+2nQoPuCNuT/1dfc74rhMZDSILo63cFYSWPUYhp1MRZDO3xLBhw3D48GH1izr5Gfsff/z/VAxoiYiIiIiIiKLAgPY71k2ZTxsGnwsPMHruSpSuUhsW2XOieMXa6D95OdbuvabCOQlePC68wYLtx1T4kiNPYVja5UKd1t0xbe0u7JCuW+mG1BPcGGNJQOt+4QWadhmqOiMTJU6Kqg3aY+PBm/C9/B6bDt1G3wlL1TgHGesgs2oTJ0mqAt3OQ2dg6c7zuue/VreAS8C54+wLzN58EHO2HsL2My+xM4quU8MtWewqTLfvzzF6oTPKVGusu04ckLdoeXQbOQfLvf11jwnRHe973bkLwVKvc+g8eAZyFy6jukqle3bsou0q3Fdds3pfw/hKrhMZc9BjzHx1Dciog/wlK2OFzyX1eVmIb/jczShXoykyZDFXX5fHWdjmQmvd99F81+Pq2tCuE7lmFm4/iVmb9qs5yPpe07ArVP2CRq6Bv1yOonarHsjpVBhFihbF5MmT1UJiISGh//mXdD8LA1oiIiIiIiKiKDCg/f519M4HHLkdik37LqDb0AnIX7wsbBzyonqTjpi4zB1LPc+ix+j5KFKuOjKaWqJ8zaYYMmMtthy7B7lVO6rb3I23QiHdrmMX7UDyVGlUqOZYoKTqfPQN/qC6BaVLdInHObTtMx65C5VCoiRJ1diD1GkzolTVBhgwZQVW7w7GIrdT6DhoKvIUKYd8xSui76TlcL/wxijPmeyzdEmv2XMF3UfOQeEy1WBplxsVarVQC84t8TiDgdNWoUz1xkibMasK+nuOXYj1B26o60TOm77tGnP5BH3AYt11kCZ9ZvX+Z7O2x8h5W+B7Ofw6keNe5ReEriPmolDp35EkaQp1PSVLkQoFSlZFt5Fzsdz7ogq5e41doEL/PIXLoNPgGXA5+cRov7fklzqy/yPnb0HF2i2QM08B1KlTF8uWLsO5c+c+ddQaMga0RERERERERFFgQPvj6tjt99h35QWWuR1A+17DkN3BSY0wKFiqCtJmMEXhstXQd+ISrNkdBK1bTl84ExdKgjFZgT9XoTIqUDNJl0mF1Oq4L4Uft9ym737+NeZsOYBGfwxQnZHyWLmdPXM2a5SsUl8trpUqTXokTJxEzbLtNW4x3HTPMeZQW/bd48IrLHI7jU6DpiJHniJq3EWBkpXVcTsVKYc/h8/Gcu/zuseHqJBS33biROnOhYx5kEWy5H2XucWNOw1SHefaeyzd5R4X32CR+ym07jlGdaDLYyXQTZshC4qWr6kqfSYzJEyUBNb2TmjffzKcTxhvQCsVPrIhBOv2XcPg6atQvEJN2NjaoXr16lixcqUKaQ0ZA1oiIiIiIiKiKDCg/bF19PYH3Z/v4H3hLqatdEG+omXU7fsSKFWs21p1+vkGfwxf9IQycaUkGHM5+RCNOw78uEp/AtRs3hVbjtz77NjlY7ltf7Pu8+OWuKBsjSYqjP3tt9/UAlGyyJh8LOH21DXu2Hb6sbo1PuJrGWNJOO1x4SUmrfRWncESLMooCKliFetgnusJ3WNkAak4HM5+LJmpK52wMpNYRmIUq1ALq3cFf37s6joJg+upp5i+3kd3Lf2JpMlTfrpOZNaxfOyQvwSGzVmDLUdvw/OiXCfGfa2Eh7QyHuUEKtRpiURJkiFp0qRqNu3DR48+/vQ1TAxoiYiIiIiIiKLAgPbn1NHb73H45hu06NIXKVOngVUOR6RJnwn5i1fAwKmr4HLyMfyufFBBpr5gxugr4J3qjh0xd4u6ff1///tNdYb+5XJE9/XPQzOZH+oT/E7ND61YpxXiJ0yke/z/PpUEb1mtcqDjoIkqyN119W+j7T6WkFFuX5exBR0HTVHds1nMs6vwvuuIOShTvYmat5ozb1H8OXwONh++q66TuDjeQCtZLGyeyzFkymqle6/jqQXRxizapvve+Pw68Q78gF3X/sbavVdQv11vFVZGvE6kZPG5Jp0HYKVvoJGftzD4Xf6g+znxCH0mLEHuQmWQSXedpDGzRtoMmTBv3l949erVx5++hokBLREREREREVEUGND+zApF6+6DkCZdBkxZtgUDJ89Hdoe8amX6stWbYMpqX7iff6UWkNIf0hh3qQWvPM+pW/f/99tvMEmXGX0mLIXbuf8bUeB7OQybD99DpyHTYZMzv+4xGZE4aQrkKlgKtVt2h1WOPEiUOAkSJkykgt7chcuqhaO2nX5udJ20PoHvsePMcwyfsxmFy1ZH5mw2yFu8IgZNX4N1+69h+9lnWH/gOgZMWaWCWwksC5auglHzndUCYz7Bcfc62XrsHsrVbKY6YZOnMkHzrsOx7dSzTwGrHLvrySfoN2mZ7twUVaMNEidJpq6POq26q+tF/i7d2jISw96pKHqPXwSXE0/U9o3pWlGdw7p9nrLKF6V+b4gsFtlh4VgILYbOR5OBc2ChO+aFCxfizZs3H3/6GiYGtERERPSfyeqokeuff/5Rpe9r/5W+bX5LERERfQ0D2p9Xh29KQDsY6TJmwXL3ozh+7zWcD/qjSYdeMEmfEZmzWqFhh35YvfvKx8Wz4lgAF/BOdQDKmAPpgpWQtU6L7th8+BZ2X/tHdUiOWbgDOfMXR7KUqdU4A+mAlDmjq/wCdNt4icVup1G7VXekNEn76Xb2tLprTG5x33rsIbyMoENSOj93X/0bi93PqRBSQmh579v3nYD1+6/pzkOI6giW0Fr+9A4MxcYDN9Gm11iYZDBFukxmqFS/ne5cnIVP8Hu1sJa+1zHeCoWn/xt0HzVPjThIkCAhSlWphxU+F3XXyf9T3xfT1+1FoTLVVDe6PCZl6rSo27qn7pye1j3/pbpeWvYYjQym5uHXycfHFK1QBxsO3IZ3gOFfJ3ItS3f46t2XUbPFn+pnaaq0GVGxZV+Mc72IRSde4c9ZzrByyI+FCxbgzevXH3/6GiYGtERERPRNJOD88OEDQkNDcfnyZaxeswZ9+vRBzZo1UahQITg5OSFv3rwoXrw46tWrh4EDB2LDhg24evUqQkJC1HNjEpLKY8PCwhAcHIydO3fCy8srRuXr64u9e/fi2LFjahtPnjxRv0mX/Zd9kTCZiIjiDvnvhoSgEqq+e/dO/bfn7du3quRj+fkv/1352n8DGND+vPosoHU7jKN35PNhus+/xGKXfShTtY4KnLI75kfvcYvhcuJBnAtppXNxyMz1SJ02o5rDK52OC3cc0tUJlK7WGMlTmiBRkqRIoTsPFWq3woLtJ9XCSOHPD1Uhr4R3U1b7IW/xSkieIhWKVqiNmRv2w/3Cm89ey9BKAlff4FBsOnQHLbqPRKo06VQX8O+NOmCJx1l4Bb7VPUYeq7+70ztIFsY6i0r12qqwMZu1Pdr1m4ANB2/AKyh8+/qeZ5SlOw+zNx9CJjMrdZ1Y2Dpi/FJnrPS7iFotuqlQXjpkpQqW/h0z1u/TPS/S+dNdN385H0XZGk1111sGNRZgwjJPuJ179X+vY4Al76OP7v3cevwBugyfjYxmlkieKg1yl66NwasOYtEJ3XVwPBQLj7/BnzOcYc2AloiIiOIq+UelhJv79u1DmzZtkDp1asSPsOCAvpKvJUiQAOnSpUOrVq1w8OBBtQ2ty/Zr5DFPnz7F8BEjkDChrEQbP8Ylr58oUSKYmJjA0tISFStWRO/evbF23Tr4+/vj5cuX6h/xcnwxCY+JiMgwyM9u+e+K/Cx/+PAhDh06jAULFqJfv35o2bIl6tati1q1aqFBgwbo0KEDRo8ejQ0bN6r/BrzW/eNdAtjIP//jVEB7M+zjn+F/l7mvx+6+w7E7Hz8fy/V5QHtEt2+ygFj4QmInH/yNfZefYujUJbBzzIfkKVOrleinrtkNT/+XKrCKKrgzpvIOeq/CWFkIS4K3FCbpkL9kFd05MUMC3f//JE2WAra5C2P0AhdIR63v5X/P5ZUQzu/qB2w/8wKzNx2Cx/mX2HXl74/hnGGWLHy27fRTDJ6+FhZ2uZAilQnsnIpi4goveAfLaIfodcFKx6yn/yuM+MtZhdsSaOcuWFr3963YfvZJnLlOpHN4w4HrqsNYXRcpUiFXoTJq9rCMLUicNBmy2ThgwJSV8Lj4JnwO8b+ukzA1d9bj4ivMczmObaeeqMftNOAg20t3nbide4Fxi93U+I4UqdMik5UD/pi0HouOv8XSMx+w8HgIFh57q/7OgJaIiIjiJPlHq3QbXbx4UXXLZsmS5VNYqgWxkRcf0Er7ujxWniMhqXTVSketbPNrtIB22PDhn73et5SExRED2yRJkiBDhgyoVq0aZs+ejePHj6sOW/nHMxERGQf574R0w167dg1z5sxByZIlkSpVKiROnFj9rJf/9kQu7b8BmTNnRtOmTeHu4YFnz5599vM/rgS0h268073OY7geuYwNu85j6fZDmL5yB4bNWIrRc1brPh+Ig9ff6h4be2FtVAGtVipQvvMOzgcD1ONsHZ1UcFmvTS+1YJbbuecqhDTmTkmZIbrlyD00/mMAkqVIpf6/JX78BCqwlODyj0FTseXoA/he1v/8/6tQdR6iG2zGRsn+ybxTlxOPMHH5TpSq2lDNkbXO6YTuo/+C6+mn8L2ie4ye536tvIPC1HzaDgMmI4dTEaTNaIpKdVtjxvq92Hb6sXqMMV8nsu8yZ7fbiDmqW1j9/63u/23lmjGztEOzP4dizZ6r0bhOdKXblo+6TuR8GF54Hf4+haoAf9am/fi98R/IYmGLLNY5UavLKEzZeR1LT79ToWzEYkBLREREcZbcEnro0CHVfZQ0aVL1P4MRA1gtfE2WLJn6R7GU/MNXglCtuzbi41OkSKH+QXzhwoWvdq1KR5QW0Mq2tO1E3J58/kslj9Eq8vO1bcg/1nPmzImRI0fixIkTasXX6Hb5EhFR7JH/jgQEBKj/rkgoK/8tMjMzUz/T8+XLh8KFC6uxOyVKlEDRokVRsGBB5MmTB9mzZ0f69OnVz39bW1tMmzYNDx48+PRzPy4EtBJs7r/6CsNnroBT4VLIZp1DLQyUKHFSFf5JB17hMpUxdt5a+Po/VI/Xt50fXV8LaFXd/oAT9//WPfYtFjnvRsVajWBmYQPz7I74c+hMrPAJUAuJGXK36BdLt98eF99i1qaDKF+rOTJltUQ2G3vUbtkVi9zOQBYJ844TM1XDA7e5Ww+jccdB6hZ9c5ucaNC+L5buvAC/K+HdxPqfG72S2bMyr3ae63FUa9JJjTwws8qBVj3GYInHObid0zqvjbM8LoZgmZe/ujZMzW1gapEdFeu0xPR1e3Rff/ufz58hlHwfy/u02OMM2vWbiOy5CiJDVhuUrv8HBq88gEXHX2PxyX+HswxoiYiIKM6SrqTDhw+rLlP5h2/EkFM+lrA1f/78Krzt1KkT+vfvj759+6J169aoXLmy+odt5OdJaCohrtxmevPmzS/OAPxSQCuhsPwj3MrKKsqSkQbZsmVDxowZ1T/aI29DK9k/CZolWJZ/xC9ZsgS3b99Wx09ERIZJu8uicePG6me8jY2NGqcjP8Nl/rgEt3fv3lVjDx49eqQCWPnvzpkzZ+Du7o5x48apsTeZMmWCtbU1Vq9erX4pKduNKwHt3uAnaNtjiFrhXxYEkgWm5L956k9dxU+QQHXfDZ66GMfvyfN+fidttALaCHVCt5+7Ap5g/IK1KFWpJrJks0aBkpXRd+JSrNlzGZ7+WkhlbJ2S0v36DhsO3MTQ2RsweZUPtp15+nHervHeni/HJMcgt9wv8TiDDv0nw7FASZjbOOD3Ru11x+mtbl9Xx+n//Y5Tumm3n3mGcUu2o3zNZjCztIV93mLoMmwWlntfhMeFN+o6Mb6O2vDrZOuxBxizcBvGLNiGzUfuqfPnpffxxlPSSS5/rt4dhJ5jFqBAqSrIkM0Ghao0RuepmzB770MsPhGqN5jVigEtERERxTkSjso/ZLt27fpZ56wWZkp3ksxy9fT0VI+T2bIy/0/qxYsXuHTpEtasWaO6mtKmTfupm1ULRc3NzdXtqDL/LypRBbSyHQleR40ahaVLl6p/jOurxYsXY968eZg0aZIaz9CsWTNUqlQJjo6OSJkyperyjbhP2rYtLCzUKIagoCAV0rKTlojIsMjPZQk75b9BEs7KfxPkvyn379//dAeEvp/d2uflMRLGnjx5Uv1SUX7hKPPVZVSCfC2uBLT7Lj9Dt2GTYWXnAMd8hVGwRDmUrlIL5as3UIGohLSyGnyzzn1x/F7sjDmIaUArdezu3yqo3Xb0CnqMmIqCJcurAO73Rn+oOa2bDt9BeJBlbOFbeEjlG/xBlZcRrKr/pZLzLzNz1+2/hoHTVqFU1QYwNc+OEpXroe+Epdh46JaaH/uj3qfwc/lehd69xi5AkbI1kCGLBcpWb4JB09fo9usqPC+FqNmu+p5vyCWBrHadaMGmsZZ2nWw+chej5rugcv22yJTNBg7FqqBhn6mYsD0Ai0+GYtFXwlkpBrREREQU50hwKgGrdKJGDDElnC1SpAg2bdqkRgHIPzYj/mM44j9+JdyUebPSWRu5g1VuK61RowbOnz//8RX/TbahL6CVj6Vz9+zZs+o1vlbyj2tZwVu6qM6dO4cdO3Zg7NixqFmzpppDGzmkle1Ll6/8I/ry5cvqGImIyHDIf2dklvngwYNVuNq8eXP1y0Htv0fRIY+T/0a4ubnByclJza89cuSI+pkfFwJaqUM3QrDG+xSmLHfG0u17sGHXKbiduIot+y8hb5EyKpyVat65L06ogNbwO2gj1rG78nw5xuNo33sYHPIXgVWOPKjbpiemrd0F9/Mv4WOUXZLGXXK+ZQ7utlPPMGqBMyrVbaXGDOQtVh5dhkxXHazS6fyzRlKo7tLAd1jh46/m0zoVLafmmf7eqAPGLtqObaefGGk3rXGXuk6C32PHuZeYssoLNZt1RlZre1jmKozanUdi+PpjmH/4JRadCF8ALDrFgJaIiIjiHOkiktWvZZSAFlxKkCmz+rZu3YrQ0NBo/SNY/rEsHbZ16tRRHasRQ1CZAbh+/foot/O1gPZL4W5U5LXkH8gSQJ86dRqzZs1CmTJl1HiDiK8hxypdttJBLIvHyL4QEZFhkJ/lcsdGixYtkDp1avWz/Ft/mSa/7Kteo4a6M8THx0cFsnEloNVKQs8T93V17wNOPvgbO8/eRYESFdTK7/8X0L7TPda4AloptYjY3fe68/kIM9duR71WnZHdIS+cipRFh/4TscTzPDz9X/+0MPDXrvAgVOYBz958AHVb94JtrgKwsMuNZl2GqMWedpx9Hh6Y/uwwVPf++wSHYbvu9aev34UGHfrBNndB2DsVUYtrzd16RI1a4HXyM0ref5mn+wYLd5xC867D4ViwFNJny44KTbuj9/ydmL3vkRpnsOh49MNZKQa0REREFKdIGCnz+2QmX+RgdNCgQXjy5Em0A0stEPX19VUhaMQAVLpqZUyBNvMvsh8R0Grk9WT7Mpph37596hZXExOTT6+h7aOMZ5g5c6b6B7q+fSQiop9PC2hl5qz87Jaf098a0MqdFXJHhQS03t7ecTKgjVjH7vwNj9N3UKB4+TgR0GoVvsjZO3ieuYXJSzejbLV6MLWwQd6i5dF73EI4n3iE3Vf//vnB4C9SsjiX3+W/sdI3EK17jYFD/uIwSZ8ZNZv/iSmrfOBy8pEaJRDb51+CQbmdfuux+5i43ANV6rfVXSe2an//GDAJ6/Zeg98V4x8bYKgl51Wuk/X7b+DP4bORr3hFpE6XGUWqNUfXmS6YueuuGmUQ02BWKwa0REREFGfIP3olMJUZrhEX+JJQNGvWrNi9e7e6JTQmYaU89vnz5+oW0shBa+fOndXiLfq29yMD2oikG/jixYtqoTPpxIr4WjLSQcY8HDp06Jv/8f9fybmRcy5hhJwr2Ve/Xbvg4uKCDRs2qC5k6Wr28fFV50RGOcgxxfR90shxyvNlLISUXA/yd+34ZZvysYTb/v7+8PD0xObNm7Ft2zZcuHDhX4G7vI+RtyfHEtX2ZKbkxo0b4erqitOnT6vnRuc4ZBtyy7OM3rh+/TqOHjsGDw8PtW/r1q1T29y+fTsOHjyovi6Pk8fL/n1t+/J1CWm0Y4h4LN96niOT7cj2Ir/G9wyHiOIK7Xty2LBhSJ48ORo0aKBGHGg/V6JDtiGPl58TefLkUSMOjh49qj7HgPbn1fcKaKUkpJU6eP0NnA9ewoAJf8EhbxGY29ijVNWGmLzSBx4XX6sFpPSFR6xvKzmfW47dQ7/JK1CkXA1kNLVAsQq1MXT2Jmw+chOe/iEGF4xLUOt58e3/Z+8swKrKvj78zdhdiKJgIHZ3d3fH2N3d3d1dmGN3BzYqiITd3T22COr8f9/5bTzMBa8KyL1ccL3Psx6Qe84+e++zAe/LOmtj5ZEb6DtxGXIVLg/b1OmRr2RlDJm5VmX67pN1EqrBzGmWk2Cd2eKV68PGzgEZ8pVGk8HzMW7HFcw78TbEYlYPEbSCIAiCIEQY+IaVMnXcuHGqrh9rxVLSUlRygy3uih0SKMLq1q2ryhzo0pfB7CeWQKAkC4y5BC3htdgeSzFQTOvXYl/ZZ9Y3pFQ0N7wfFIkUCN26dUOBAgWUME6ePDmSJk0Ka2trFdyFnF/ja4ULF1abojEzmGIhOPKQx/J+8HzujM6N1Ro0aKB2O79z5446Rp8rZh1z1/RkyZKp67M/nCcKZP1+sj1KZcpvtsP2eMygQYNw48YNdQyPZQYbZX2GDBkCtFeyZEm15vT2vgdfZ3vcJIiiJlOmTGojOpuvbelzZGNjozYT4nVq1aqlNpGjrA1K++xjy5Yt/cfBDfA4B/o8/wqUsxTHbE9vnx85b4bzKQiCH/zZQtnJPxry9xR/XkycOFGVpAkqPJ8/X1gmgW00b9ECt77+PBBBa74ITUGrhyp78OCz1vZ7rHM+jxZdByFeQisktrFTGZ1LnC7i4M0v2Hfts1GRJPHzoOBkndm9lz9g6uojKFG5vjbHiZEmU050GjITq47ewJ7LHy17Ay5m06r+fcDyg1fRpt8k2NilQcLENihZ5S/M3eqh1sn+61++PVciyMHs6v3XfbBw51lUadhezW/SVBlRte1QjNp8DvPc3vnVmXU3Ll2DEyJoBUEQBEGIMOhvevkm99KlS0oa7dy5E3+vWIEDBw7gzZs3X48MHhS0lFuBBW2jRo1x+/YdowKKXzOXoCXs4549e5AzZ84AfeTnzB4+fOSImhtzwOswo5RZqaVKlVKCkcKcNYE5fvbJWPA1HsNjeQ4l6+nTp9XYgipqed+Z7cwSFDFixFDZaaVLl4aXl5fq19GjR5WY5esU94b9qVChgv9xRBe+lKNsS2+vaNGiKiuZ9/jw4cOqDjC/Hrg9PnJMMWpsfbBtipMnT54o4UvxykedWUojcDuGwa/zdR7H43PkyIFZs2apdihKjcFrXb161b+fHAfP5xz06tXLf+f4kMDzWDaEY2B7bJft8x5WrFgxxH8UEYSIDr8vmXXO3y383rGyslI/L/n9zM2++McXPlHA32f8wyN/nzx69Eht/njw4EEM0X638HcJN4VMlSqVeiJB/6OWCFrzhSkEbcDwgcudN1i60w0lKtdGvARWSJk2M9oPnIoNbg+x/5pkSQY/fLHvmo+SmvXa9IN18lRIamePWs17YNHuc9h5/p3KmjV+rqXGR63Pb7FgxylUqt8W8RNZwzpZCjTsOBirnW9j/3W/uqnGz5X4Xuy//kn7PnuEtv0mInnqDEiY1A75KzfBgGUumOPyCvPd3hsVrSENEbSCIAiCIERY+EbVMEIKBSEzJwMLWmYM3r9/36jc4tfMKWj1N+V9+/ZVpQ4M+0lZxgxWZtH+yjwEBbZPYTdy5EiV8WnYD0PJGDj01/RjGZzvlClTqkf7g/oo/pUrVwKUo6DMZOYuhQdla+7cudXXAl+LQaERWNA+ePBAZbfpx/NctsG6xNeuXUP16tWNtsX4kaDlNSif2VbgdcXPGYHniKG/ZngsN4RjBi83x/veHPGeDB8+QmXaGZ5Lwcs+fk/u/gyOg/PAzGfDfjGTm2uA1xUEwTj8/mGWPjPO+T3Dny/8ecA/VCVKlAjp06dXf3TLkyeP+rnGPy7xjyw8hscy+MedyZMnB8i+FUFrvjC9oPULz8df4P7QF+MXbUTazDkRLUZMZMlTFOOW7FGbiO27KjVHfxoXP6qs2d2X3qPvpOWwS5MJMWLFQY6CpTHx7wNwuspsyfA9j/uvsZbuJzWeDDkKIWr0GLC1z4gB01Zhx9lXSjgaO0/CMD6q7PR92noYt3gP0mTKpb7fbNNlR/uJ6zH/5Hs4evlqH3+tnIGxEEErCIIgCILwE5jlRAFFQaYLKL4x7t69u8psMibFzC1oCfvBR9b5Rp5v4PVr8s0+r8ksyqBIzpDCMXM+xo4dq7JOOUd6HyjvmFnJr3MDN0oH1kzkvLK/FLEJEyVSfTU8h+PgI/97nZyUKP8ZHCPHqs85+8D2mXE2YsQItXEa22XwNUoRBq9jLIOWmansmy4feQ6lJmvMMtONElrvK69JAcr2OI7MmTMbFbSUofw65SyPN1wf7AczY5n1zHFTLjNjN3/+/EibNq26HoW73h+9T5xbZsNSKOv9N4RzxyxyBwcH//PYBvvKUgnvQvgmgDV2N23apKSRYZ8op3m90JRDghDR4M8Yfr/y56bjokUoUaKEEq7MpuUfXvQnAfTg9xn/AMefo/xe5lMG3BiMTywYft+LoDVfmEvQMlzv+ML9ITcSu4+OA8YgVdpMSGKbGhXrt8PM9S6q7qhkSX4bfhtr+WDr6ecYv9QJeUtUVhmmGbLnR48xjtjk/hROV7RjjJwbHmP3RQpGX228L9Ft5DzYZ8iOxEntULhsbSX0t3o9l3ViJPzWia/2ffQPpq09hlLVGiF2/ERIZp8JtbqNx2Sne1joGTqlDL4XImgFQRAEQRB+AOUaH5s3zErlRz6CT7FlLDuShJWg5Rt9Zvvyjb1+TQo8PgJLkWZKQcsMXZY14IY1+rX1MVMosL4qN7tiXVKKT5ac4MY4fGz35MmTmDp1qhKSfEzeUPbx36yvq9d9/RHM5sybN6//nPMj+7N06VLVNoUo5SlrvPLfrOXKfrFGcefOnQPUjOVcPX/+XIkQvT+cS7Y3ZcoUdZ4uZClUKVFr1qyJevXqqcf7WYuV/TFcI2yTWaUtWrRQolUfI9vnOLk2hg0bhiNHjqi6uVxDrOPLczh+bmrWtm1bdT3DdcXgmFauXKlkTWDYBz4yzesankchXK1aNSV2Q7I2uN44b5xTw++P5s2b4+bNm9/9/hAE4T/4vcfvFX6fsy4tfxYyK561z6tUqYLKlSurbH3WjuYfYhYtWqT+mMTvdWPfYyJozRfmFLR6sD4tRe3SXW6o2qAFkqWwR5qMOdC67wQs238RO8+9BbMAjUmo3zG2n3mJ2ZtPombz7qrObIo0GVG3dR8sP3hNZZRyZ35j54X3oGxkaYMley+hVovuSJ46ndpIrF7bvpi/3QPbT7/SjpN1oseOc6/huOcsmnQZDuvkqZHYNg0KVWuJEetPw/GULxZ6+hiVqqEZImgFQRAEQRC+A980M3uWj2obZnZSajGr8dixY1+P/Ba+aTa3oCV8Mz579mwlkA2vycxRjsOUwoxCkRtDGT5Gz2tTzlI4UDSyf3yTz34YBrNKmeXJzNKqVat+0wazWBcsWBAgS8wYFKIUrxSp+rnMRGU5CgpM1mukjGUGLMUw7y+zQCmL+YiwYb1bXaZScujyke3x35TgzGjlvFaqVAlr1q7F/QcP/NtjRirlbuCyEvx848aNsE+Txr+PDMpZ1p9kBjT7wPkIPEccO7/OeVy2bJl63FnvF4NrlELHmMjW1zLnkBm6hjKV2XrOR4+q9g37+jN4LMsqcH45L3p7bJ9rkNcLTnuC8DvD7xX9ZyF/TvJnh/6zhN/zHz58UF/jzwf95yjPMfY9xtdF0JonwkLQ6nHygS8OXX6O8Y4bUbZ6fSVqcxUuq7JCVxy+quqoRlT5+KOgmHS6+gnbzrzC/O1eaNV7HFKkzYLU6bOibO3mmL72qHacNjdXfVW2qbE2IlIwM5TlDSYsc0KFeq1gZ58BmXIWQtv+k+G4+4yqucv5MnZuhA6uE+37g3/QWLLvIroMn42MOQsimX1G5C5bH11nblcbgFHMzgvlWrPfCxG0giAIgiAIRuCbXr4ZZWYn6wAayrQECRKgd+/eSsB9D77RDgtByz4z+5IZs/o1Kc34eCw3o+EbfFPA+WLmF8sJGM4VP+d1mWnJOfkR+px7eHgEKCvAjxS2rVq1UnNqTEjocAOdQoUK+feB51JWp06dWj0yzExcZslSgvyoHcLXeT0KSMO+UMpSjjKrunbt2qq/gUXs96C07NChQ4AyBfyYLFkybNiwIUgyhfNImTx69Gh1X/V2uLaSJ0+uyjlwHo3B9VyyZMkA94h/cBg8eLDq28/ukY5+r9atWxdAprNd/vGCG/QJghA2iKA1X4SloGUwm/bkg0/Y7nELPUZMRb6iZZA4WUqUq90cI+ZvwfoTD4zLqQgalJG7LrxX2bG9xi9G3hKVkMIhE/KXqoKB01di66l/VNbs7/aIvy6t17s9Qq9xi1CgVFVY26ZGkfK10X/yCqw5dkc77uNvNS+7L37Qxn0XQ2auRYkqDZA8TSZkyFcSjQbOxiSne3D08sEC99CvM/ujEEErCIIgCIJgBIqqe/fuqc1bDB/fpgRj3VQKqO9JMBJWgpbX5aPsrAGqX5NBccbHZCmVgyISgwuzulavXq1qpBrOFwXi9u3blSQIynV5DNvio/gUh3o7DGa+njlz5ofzTkHL+2MoINkG/03Ryqzn4PSFIjRLliwB+sHP2TeWOmBJB8Os2x/BY7im+MgyS1BwLeh9Y5+ZrRvUdjgHHAv/eGC4vtiv+fPnq2w7Y21xV/iBAwcqWa2fw/NZV5cZ0D+aW0O4ziilKd95Tb0tiucePXrg0ePHX48UBMHciKA1X4S1oNWDktb1rjdW7fdEyx6DkTVPQSS1s0eNpl0w8e/92Or1AvuuUUz6GpVV4T32XmE2pI8SkENmrUPJKn8hZdosyFO0PLoMn4UVh29or3+MMHVmQxqcJ2YPL3G6gNZ9xyNnwdKqjnH52i0wcsFWbHR/qjZKi7DrRBvXvqu+2vfDPxi3ZDcq1W+DlOmzwyFHYdTsPBrD15/GPLe3ZhezeoigFQRBEARBCATFFkUWswoNHwenyGKmI+uPfk+A6YSVoGWfKPoKFiwY4LoMZjZSwv2o3yGFEuDUqVOYOHEiBgwYgK5du6J169aqjiKFcXCuyezWxYsXq8xMwzFwJ/N9+/ap178HBS03HzMUtAy2xfvJexJU2Gdm/lLQBp5LikiOkbVbg4p+b1atWqU2LGMtyU6dOikZPXPmzCDLUZ0rV66ochCGY2U/OU6KZWNzTplMqZw1a9YA51Cks37tj+bWEPaV5Q2YmWx4fQrjNWvWmCxTWxCEnyOC1nxhKYKW4Xb/EzwefsLhqy8xZ91e1GnWEanTZUaWPEXRrNsIzNvmoR5n95N0xgVWeAwnbTzbz77G1FWHUbtlT6TPlg/psuZFky5DMXOjC3Zor1E6Gjv3dwxdUm4/8xrT1zqjXts+2jrJirSZc6Nuq96Ypn2Nr1F4Gzs/vAbXye4LHzBvqwcadx6qfV8UQzL7zCjTqDt6zN2LGUee+dWZDSM5yxBBKwiCIAiCYAClFuXWuHHj1OPihvKJj7RzQyRmQf5MOIaVoCVvtf/QcZOqwBmofPQ/8KZVoQnlHh+TZz1XisiHDx/i/v37SgoGB7azf/9+VZfVcO4oSjdv3hxsQcs5YMmEAwcOBEsc/kjQsv7sihUrgi0i2Sbng5v7sO1nz57h7t276uPP1lRguA7btmsXoD4y+9mxY0f1BwZj95lfo1hlZri+NvQsXm5CFNTx8B5QonODNMO54YZjFMemWmOCIPwcEbTmC0sStHpQ1DKjdv+Fx5i4eCPK12yksmlzFiqDTkNnYvXRO6r+anivT8tH9vdf+4Rl+y+jcZehyJijIGxSOKB6k86YtGIfNns+w94IJhlDM5hNTGm52es5Jizbi6oNOyKprT0y5SqM5j1GYem+y2r+wrvc5jrff/0zVh+7g7b9JyF7/pJImNQOBas0QadpmzFl/32/jNkwFLN6iKAVBEEQBEHQoByjVKJU5GZaemYg5RUFFGWhXr80KJmObCusBC0lac2aNQOUGmBw86yLFy+aTZ5xToMrHQnn98SJE/5lAPT+Z8iQAevXr/+hcPieoGV5hKDeOx32/XuClht6uXt4BKu97xGSOSLc5IxZuIEFLWv1PnnyxOh95rUoiKdNm4akSZP6j4tzlChRIpw+ffqn64NtUOQye1f/IwBD34iOGxuFdEyCIPw6EUXQUjS6BxKeImiDHqxP63LnAza7XEL/ifORt2gZ2NmnR6mqDTF8zmZs8XyuBJ0xqWXJ4VdP9SPWn3iEnmMWImeh0rBJkQZFytXGoOlrsOboLez9zeqp/kroGdWrj93CwOmrULhcLSX0C5apjt7jl2Cd6wMlasPbfHKd7L3yEZs8nmHQjDVqPCznkD5/aTQf7oix2y+rTcAWeFDMhr2cZYigFQRBEARB0KCU4uPqffr0UZtKGQo+SigKuZ/VPzUkrAUtZXJYC9qQwjlmuQSWETCcOz4+z02pQiJoWWqB9zc4Y/+RoK1bt26w2wtt9Hqyhpt0sZ+sC/v48eMf9s3F1VWVvDCsH8v1QsHK+f2RYGW7Fy5cUEJWX1+cb65rlqAQBCFsiQiC1u3eZ2x3v4P1Ry/B/dEXuD/8V/s6N8QSQRvcYDbt8VvvtLk8i7a9RyClQ0bY2NmjcoO2mLfVE/tvfILT1c9GJZdlhS/2X/+CPRe9MWbRTuQtURlWSZIjRdrM6DV2EdYcu6Ud463EnPHzJX4UqgTAxQ9YeeSayrR2yJIbiW3sUKJyfUxacQBOl72x71r4WCfsJ7PEp609ipLVGikxm8g2Der1moJxO64YiFnjojSsQgStIAiCIAi/NRRRfFyb4pK1QBMkSOAvnfiR8ou73l+6dCnIm0ERSqywErTvtP/QVapUKYB8Y5i6xEFgOFe8FgUBsyr5WD+zPs+ePQtXV1ccPHgQe/bswc6du7Bt+3Zs3rIFGzdtwrp16zF27Fg194aC+VcELcXj9+qyfg8ea0zQcl4pKV6/fh2s9r4H2+AaZFYqaxtz3XAcnp6ecHZ2hpOTE3bv3q02W9u6bZuaow0bNqoSAywpYDjWoAraV1rfu3fvjrhx4wYYFzc++9G57Cvnf9asWQHEMGvYNmrUSEljQRDClvAvaH1x8qEvJizaiIzZ8qDb0MnYdequ+hpF7S4vEbQhCbf7vnC+/hKLtx9D1b9aIVkKe9imTo9Wvcdhg9tj7LtqTHZZRjB7k7FgxxlUbdQJtvbpkTBJcjTpOhzLD1zF7otvteM+fnOeRAhCm+cd595g/g5P1G3dR5vrDCpDuV6bPli2/6rKXjZ6noUEa+f+ffAaGnUagtTpsyOeVXKUbNAZQ9a4Y+6J10bFqKWECFpBEARBEH5bdNlEEabXbNWFE6Ue/80d91lHNaiZszphJWg5Jl6XMtbwugyKS27YZWpByz4wOGcUwo6Ojkp+582bFzY2NiozlkKPZSNYw9RYBM7+ZfyKoJ0xY4YSxOxXUOGxgQUt22L/+/XrF+z6s4Fh+7wXlLKU1UOHDkXlypWVVGF2Kks8cI6+N08UpIbjZARV0FIIb9myBRkzZgxwLussb9iw4bvrXe9vuXLlApRWSJEiBRYuXBiqMkgQhJAR7gXtXQpaH4ycsxKRtZ8z0WLERI78xTD1751wf+gNp3MPkbtwaRG0IQi3+5/h+fgLXO68w7S/dyBd1tyIHiMWUjhkxbA5m1UW5QFmqRoRX2ERzIY9eOMLNrk/QYfB02GXJgOiRI2G4pXqY+5WD+y//lHVojV2rsQvBDcSY7bsZW9MW3MEeYpWRIxYcWCTMh16jHHUjtH+33Lz32/PC8NgndkdZ1+i/+SVaqM4/nzImL8Meszdg/kn32Chly/muxsXo5YSImgFQRAEQfgtoWh6+/Ytdu7ciezZswcQgrqEa968uapJS5kVHLFH2H5YCFpel5tOsV6rfk0GRR6zakOyGVVwYNuc18OHD6NZs2ZIkiSJEoyUiRTeHD+Dc/yzMOw/I6SClp/PnTtXlX4Izth5rDFBS4k5bNgwtS5CAtvlGChRZ8+erdYfZSylK9ch+xvSOeJ5QRG0fI1ru0KFCup6enu8T8yE/V62OM9zcXFRol2fY16T5TOYZf6jawqCYB7CvaDVwu3BFyzf44GcBYohdpx4SrbET2SNmk3aY+bqvcievygiab9TRNCGPDwff8KBS8/QY/hUJEmeQs1v0Qp1MXODC3Zd8MtIDdNyAZd9sO30c4yYuwW5ipRD3ARWyJqvOAZPX6tEHGun7r5oudmcqlbuFR9VGoBjCY81cXdra2DfNV/tPvyj6tGmTpdVuw+JkK1AaYxf5oSd59/4jSssx6Zde9eF15iy6giKVqyH2PETIUXG3Pir30xMP/QQCz0+Yv7J99/IUEsMEbSCIAiCIPx2UCJRni5YsADJkyf3l2+6bGL2Yu/evdXj+CEVTvo1zC1o+Qb6+PHjapMz/ZoUb5SkFM7MfjQVvDbF4IQJE5AyZcoAkpR94NgZFLUUgcyijRUrlpLhceLEUY/bMyhA+bXAAjKkgpbSk1m8wd286nuClmUwxowZE+K1wX5wEzRmoXIeDMepzxP7z37zvlHe6nOkzxPniB8pdQ3P57lBEbSEr0+aNEnVXNbHx7C3t1f1lo2dTyk9evRodW2ew2uzTyyXEJoiSBCEkBMRBC3D7b4vdnreRbs+I5EiTXrEiBlb/Wy0TmaHWHHiaT9/+PskChp16C2CNoRx8uEXnHr2GRuPXUGtpu1hbWOLpHap0bjzUCzee16JWu72b1SMmTB2nHuN2VtOolKDdoibIDFSpcuKJl2GY5XzTZVRu/eKpWfNemOL1zNM/Hs/+k5chqVOF7D7wnsjx4WPcNLm++DNz1h15DYatOuPJMlTKaFfvUkXlcm88/zrMJG0uy+8w7J9l9Cw4yDET2wDa7u0KFGvE0ZsOItFpz9hoYePURFqqSGCVhAEQRCE3wpKp3v37qmapJSDfLNHycSgOEybNq2SVo+fPFFvRoMj9AzhdcJC0PLN+Pz581XmquE1KRX5CP3PpF1I4TyxFMSgQYP8hZ+hOKRs5GPwOXPmRIkSJVCrVi31Rr9bt27o27ev2uxqiDZXI0aMUAKwc+fO38jLkApatrNo0aJQE7QU+KyRG5K1wb5zI63cuXP7j08fI68RP358lf3MjFRmtzZu3BgdO3ZEr1690L9/fzW/vI+jRo1SnxcvXlytW32sbCOogpb99/D0VOuR90dvI1GiRJg8efI3JRx4PNd0mTJl1DXZb84z/xiwY8cOk60tQRCCR0QRtKoW7YNPcL3zDkt2uqJW03aws0+H6DFi+v/cZBZtg9bdtOM+aP2h1DXWjukivAtahuvdT3B/yI8fMHPNXpSuWh+2qdMiU67C6Dx8NpYduIzdFz74ZdOaKKOWbTMjduf5t3DcdQYteo6GnUNmpHDIhIr1W6us3t0X31t0Fqoag9a/raf+wYz1x1CjSRcktkmBaNFjIUfB0hi1YDu2n3ntN49Gzg8PwRIYzAqetckNZWs1UyUnUqbLgla9x2r37TR2affPbx5Mt07Yh13aely2/zI6D5sN+ww5YG3ngNxl6qhyBnNdX2OhBW4AFpQQQSsIgiAIwm8D31xS4HXp0kXJMUPpxizFfPnyYdmyZWrzp1+VTWEhaCnQWF6Ab6CZcalfkxKNcnTNmjUmkWi8LjcmYw1Sw4xkzis/T5YsmdrMiuLY3d1DyUNm8lIc8J6wT4bBr7MuMAW64dz9iqANzQzakApaju3y5cuqrrGhfOZHZspyXfTs2VPJTtbu5bUpSZm1GniOGJxHSltDucp+BkfQsi5vhw4dAqwX9oXlMFgCwXCMvFeHDh1SGbb6sczgLVu2rLpecOdDEATTEHEErV/odVMPXn6OsfPXolTl2kicNLmqT8sM2mx5i2D6ih3Yd/6hdryvWSVtRBC0eqh5fvIZe848QN9xs5C3aGkkT5UWJar8hRHztmCty33svuitJKQxeRbSYHu7zr/H34euoudYR2TNVwLWyVKiUJlqGDxjDbadfon91z+ZTPqFRuy94oOd599h0Z4zaN1nAtJlyaPKcvAPCH/+GUmt08Jla2Lp/ktKMBprI9yEdr8OXP+MbadeYsDUFchXvLJaJ3mLVUL/yX9jxeEb6n6aYp3svuCNNcdua+tiLQpp85kwiR0y5iuFxoPnYfqhx1h0yhcLVEkD4wLU0kMErSAIgiAIvwWUR5SirVq1UjLWULjxEW0KxD179gR7I6nvQTkWFoLWy8sLefJobwwMsiop8Pi18+fPm0SiUSCeOnUKpUuXVuPTxSM/Z3YlSx6wXIShkGU/vhdsLyIKWspzZgcnTZo0gJxl/5gty8xarj9dyOrz8b2gFOVmZTxfHyv7GVRBS3g/WIeZNWX1Njh3FDsUxbyODmv4svYuM2z1Y1lqYfr06eqeGB4rCELYEdEErX+oDFlfbHe/ib5jZ6NgyfKIFTe+ErU2dqnQsF1PzN90EEeuv1KilMLRaDuhGBFJ0OpBwc1s2jWHz6JD/9HInq8IUqfPhqqNOmL80t0qQzQ0hClF5b6rn7Dm2B0MmLoKJSo3QKIktshforLKjFx99LbK1rRkMatvULbi0FV0GzkPuYuUQ5So0dXGa6nTZ0W+EpVgk8JeidqE1skwfN4W7XjLrZsb3Nh72Rt/H7yOTkOnI1fhskjhkBllajTBkFnrsP7EQ+3+/no2rVon1z5jw8lHGLlgKyrVawtr2zTIkLckanYeg7HbLmOhpzcWuIdfMauHCFpBEARBECI8fFNJIdqiRYsAtTP5kY/+szarq6urEmOhJZnMLWjZb2ZbsjwDBaDhNSk6KabfvHljEonG7NmlS5eqx/N18cigvBs+fDhevHgRrOvyfvF+GIp0RngXtBTkFStWDJDxyn5mypQJR48eVeMODg8fPkKPHj1CnEFLOAZuHFeyZEnVF46PwXvJ7FyuKR7DuHXrlpI+zJrV54IC6OLFi0G6liAI5iHCClrG/c9wf/RZidEVTifRsvtgZM6ZH1GjRVc1arPlLYTOg8Zh9cFTOHbznXacaevSRkRBy6Dc5licb7zGnPX7Ub9VV6ROlxlZ8hRB4y7DMH+HJ3ZdeK8yR41JtZ8Fpd0Wz2eYsGwvajfvrsRe5tyF0ajTECzceUo75qOSt8bOtYRg/5nRud71AYbMWo9ytZohfqKkKmuW3x+lqzXCkNnrMGfLCfUav/6H9vu5Tqve2OzxVGsjgkhabR5Yn5alDViGokH7/kiXNa8WeVC7ZU9MW3MY28++UaLd6Pk/Cc7x9jOvtLaPq7WRNktepMqUB6UbdkO/JYcx1/UNHD19sMA9fJY0CBwiaAVBEARBiPBwd/nWrVsrGasLRIosCkRubnTlypVgy7GfYW5Bq0toZmLq9UH1ayZOnBibNm1SAtoUPH369BtRyOsXLVpUZcIGVxCwn1u2bFUi0HDuwrug3bp1q2rLsG+cM2al6iI0OFCYskZtSGvQ6nC+mQVrKMTZR8pkXoPtsG8bN25UwkcXubwuv6+YWRvcvguCYDoitKA1CNanPXLtNRZuOazq0CZP6ZepGC9BIhQqVREjZq/AwctaPx+YTppGVEGrh17X1+ncI0xcvBFVG7RAwiTJkbNQGbQbMBnLD17D/uuf4XT1s1HBFjiYCclasvO2eaJRp8FwyJwLaTLmQK3m3TFl1X5sO/1Ka8uCSxlcZjbnJ+w89xYTl+9H1UYdYGefAVGiRlORp1gF9Bi9QGXU7r38ETvOvkbnobOQMLGN+r1pr411zmY39ai+sfbDa1CksobwZo9nGLd0D2o064qkdmmQKWchNOo8BIv2nFfZxrz/xs4PHFxPTlc+Ytn+K2jbbwKy5C4CW4csKFK9BTpP34JpBx9hQTitM/ujEEErCIIgCEKEhW8m7969q+ShlZWVkk/8DzI/UkYNGjzYX0CFNuYWtJSkAwYMUDJWv5Yu0cqVK4fnz5+bZJyEm67VqFEjgCjktbnRF+uYBve6FAoDBgxU8pLt6G2Gd0EbuEYvgxL6yJEjaq0Gt28sK8G6yYZjZdvBFbQ8jn+k4AZ5hm1lzJQJmzZvVvPN0gv8PmIGuv49FCNGDOzatSvU/7ghCMKv8bsIWgYzPSkQ9565jwmOG1C+ZiMksLJW2bQVajfGlhNX4f7QdP2M6IJWj5MPPsP1zkdsO3kVgyY7okCJ8khqmxrFKtbFgKkrsfHk4x+K1b1aULitcr6NzsNmqsfhU6bNgpJV/sKw2Ruw5vg97TjWt7VkOeuj5PLCnWfQpOswZMieHzHjxFPZ2xTNLXuOwfztHth57p16LF9JSy1mbzqBHAVKqt+d0WLEQqve47Dj3Guj1wjv4Vdf169O7IBpq1C0Qh1YJbVFvuKV0G3kXKzV7vO+q9qx2rwYO5+x75ovNrk/Rb/Jy1GgVFW1WVyWIpXQYsRijNt+FfNOvA3XdWZ/FCJoBUEQBEGIsPDR7TFjxqhNqnTRx48UdkOHDcOTJ0+CLdmCijkFLbMvWWLAwcHhm2tRRFNqmlKiUXIXK1YsgNzjPLPeKgVncMUj71v27NkDjIURngUt53/atGnqDwX6WmQwi5sbggW3XxzLypUrA2zuxWA/gyto2R6zYLt27RogC5oZ53379lXrmOUZypQp4z8PlPEFCxZUrwVXwAuCYFp+J0GrB7NpKUu3e9zA0OlLkKtQCZSoUAMbnM+JoA3F4Dy73PHGZteL6DZkMtJmyoGktqlQtmZTTFtzFLsvfsD+a5//E63axwM3vmD3pQ8YOX8r8havpMRu5txF0Xv8Yqw6ekudY8lilrH3yiesP/EIXUfORbb8JRAnXkL8GYl1ZZOrR/lnbTyB7adfqZIPey/9NxaOa+upl6q0AeUsNwxLlT4blu2/DKcrQcsmDY/BbFre11XO19FjzAKkz5YfVklsUbB0NYxauAM7zr1R6+K/++6L/de/KMk/bY0zilaoi6Qp0sAmTRbU7zUZo7deVOUMIkopg++FCFpBEARBECIcFE6+vr7YsGEDMmbM6J/ZSblEAdWrVy8lAU0plswhaDlOZjayfIG+MZihiOZYmzRpoiSjKcd68+ZNFC5c+BtBO27cOLx+/TrI8lG/b4sXL1YbtxmKTAYF7dq1a8OtoJ08ebI613Bc/Hdws7jZFrOW69SpE2BtMfjvkAhatuni4qKyYvX+cf1UqlQJXqdOYdmyZUiTJo3/dfiabA4mCJaJKQVtWwsVtAxm0p6454ujN99gzcFTmLnaCXvPPFLZn8aOD4343QQtw2+efXDk2kss2+2G+q26IVkKe6TJmBMNOw3GUqdL4OZRrCHrdMUb87Z7oULd1rBNlQ62qdOjeY/RcNx9FjvOvrJ4McugcF285yKKV/kLVkmSI3rMWGpzuiLla2P0wu3YePIRdl/0VlnCxs5nSYQxi3ciTaYc2v9NIqtSCC16jdHmx1udZ+yciBDMHmat3R1n32jzdwFNuw5Hcm0NsN5w1cadMHeLu5K4fuvkIxY7XUSdVr2QIk1GJLBOjjKNe2DQyhOYdew55lPMRnA5yxBBKwiCIAhChINvIi9cuIBatWoFEGsUmJRaLAdgaqlkakHL/uubc/HRdF1CG16Hb84pT0091tu3b6vsysCCdsDAgcEqrcDjmKlJIRp4PAyOJ7wKWh47e/ZsWFtbBxC00aNHx9mzZ4MlaN9/+IDZc+ao7FnDthjsJze9C46g1WEWrX4f2S7bohSfp71J6NSpk5K3vAZf4zju3Llj8rUlCELwMaWgbdWypcoadL72BiwvYEzghXVQIDLT8+R9024QxvgdBa0eqryENs/Hb7/GjNV7kK9YWSUu02bJg35TVmD5oRto1n2kNjfJECNWHJSq3hjzt3MDMG4u5lcCwJjYs7i4+BFrjz9As24jkUAbS+oM2dFjjCM2uD2A01W/LFmj530NbqK10f0ZKv/VXs0Df7fGS2SNOZtPKnlr7JyIFJyfvZe1cV5+j5kbXFG8cn3EihMfdvYZ0W7gVCzbfw1dhs1GijQZED1mbGQsVAH9ljpj/sm3WOjxUUlLYzIzIoYIWkEQBEEQIhwvX77E+PHj/YWSLq4o2k6fPh2qb1i/hykELWUYN3T68OGD2jm/bdu2StKxTUNRx3/z8fTdu3er400t0R4+eqSkoOHj8ewPBTkf3+eb+p/BfrJebc2aNVVZBrali0K9zVSpUikhzSzb72HJNWhXrFgBe3v7AOuB42R2Ktfkz9rjmmI5i3379qlSCTyXItuwPX7Oeb9//36Q5t0Q9mGJNr+si8txMpjJzBrGzNDW7wev2bRp0xBtbCYIgukxlaDlz+mGf/2FWLFiw3HrUXg88laCzpi8+13idxa0hnHygS8OXHyMfuPmwiFjNsSOmwBxEyRWj/VnzlMME5Y6Yc9lb1WjdPfFj0ZFnsWG1l+VHXvxPZYfvI5VR27D6Wt2qNHjjYTTFR9MW30YDplyar+nI2m/R6MgV9HyarOx8JBFHFpBKb/jzD8YMnM9MmYvgOja+oibwFpbLwlhmy4H2oxbhfkn32Ohpw/mub3/RmBG9BBBKwiCIAhChILC6OTJk8idO3cASUepNHfuXCVvmSlIWferQUH1PQH6M0Hr5eVltM3Awb6yjAFLBTAr8vDhw+jSpQuSJk0aoF09OOZEiRJh6dJl6nxzCLSXr15h3PjxKhtU7wdFHiUipeTbt2/VfBj2hZ8z+HX2k1mkf2lv/CkEKR7bt2+PzJkzBxhj/PjxMXLkSNXe97BkQevs7IxChQoFyA7m5ywPQTltbC3x3wy+xjXAsh1JkiRR51H2MiOcG3fp7bGfXPvc9IvnBAcKXWbFBp53Xdbqn8eKFQtbt241yx86BEEIPqYStPwZ0bp1a8SIGROxYsdF0079scXtOtzufwBLCxgTdxE9RND+FycffoHn4y/Y7HoFJSrWVJtnMWo27YZ1rvdVuQNj0i68BEXqvmufse9q8GvHqizSK75o1n0E4iawwh/a79jI2v91Gnceit0X3xg9J0LGZUrtd5iz+QSKlq+DKFGja//fiISS9Tph0p47WHT6029RyuB7IYJWEARBEIQIA2UfhRprn1Jg6VKJwUeyBw0apB7XDq1YsmSJysilqA3M9wQt+2RnZ4ehQ4di/vz5RtvVY86cOZg8ZQr6DxiABg0aIFu2bN/NLuXnFKSUiX///be/FDUHzGhlViczXA37xD5mzZoVGzduVDVT2SddPPNzlppgSYMFCxYgb968qv+UqRSMt27fRoUKFb6R7NWqVYOnp6e/HKd8MJSalixoKdhZH5b3UO8b2+W4W7VqpeaCJSGYIc2+8iP/oHD37l0cPXrUv8wAx0NJO0RbW2vWrFHrSW+P/aNAZaYxz9XnKCiyluuFfwwYOHBggPkzDPa3aNGiePDgQbAzdAVBMA+mFLQdOnRAnLjxULhsFdimdoBDphzoO3Y2trpdw/Hb71S9V78apb9HiKD9Njwef0LnQWORwMoaWfMUQvKUaWBrnwmdh87G34euYdd5v6zR3ylzlMFaq6uO3EL+klWUuObvU/6ho/PQGdhx7iX2hJeSD8EMda+1j9vPvsbCXadUneIUabPAxj4zrGwdEC1mPHSYtOG3FrN6iKAVBEEQBCHCoGcAVqlSJYAU1YPyil8PrWBG58SJE/HmzZuvPfiP7wnakPSFx+oRuB2+TnFJYUd5uWfPHpV1G1x5+CtwrBSwHTt2VLLRsJ/sH+U4BSSF86pVq1Qwm7lfv35KpuplGigFKRS2bdumRCElNmW03hbb5ZxTcm7evFmVcDh48GAAQW7JgpaihBmweoaq4Txx3vLly6fGTLm6evVq9XGCtr4aN24MW1tbNSaeR8FLYc+1zo29mJWrt8PgcZT5nGOK8507dyr5+7P+8nV+Dx05ckRlYRtbb7wfHDvrH5vrDwCCIAQPUwratm1aI6F1Muzyuo9hM5cie76isE3lgOIVamDCog3Yc+Y+XO96/zaSVgRtwGBdWmbStu87Ws2J45ajGDl7ubZOiiCpbSq1i/+QWeuw9vhd7Lr4AeGmDm0oxb6rPpi+7ijSZWXZIL9EgoSJk6LbyLnY4vU0ws0Hx7PrwgesPHINPcYsRLYCJZEwqR3ylK2LLjO2o1qHEYhrlQxtx6+2TEGr9WmBFuYqtyCCVhAEQRCECAPfPHJTrNKlS/sLtcDB/wyHVsSLFw+TJk0KkaANTl+Mnctgu5SfHC+zhq9evarejAdXHP4qvB6vy/ILzK5kDVO9j+w/+0mJTFHK7E4GjzHMBObrmTJlUvVYKf+Y8cmSABTPhvPHY3keJSklIsf+4sWLrz2xbEGrrwmKaZZ/CDwu9pljY5YspbWeLcu54bEMzl2NGjXUJnicc2aysuQFz2Mbels8lnNsY2OjymGwJnNQhCrHxHILtWvXVtfV+8dgmxTFx48fV99rwR2/IAjmwZSCtk2bNkhglRQHLr2Ax0MfbDp+FZ0HjkWO/EWRJkNWVG/YGjNX79Jefwa3B75K2BkTeRElRNAGDH9B2280EiVOilX7T8HriS+2nbyJLoPHIWeBYmozqAp1W2O04w5sPPlESbzfJ5v2o6rDO3zuJthnyIY/1R9eI8Haxg7t+k/EWpe7EWI+OEaOYZ3LPQyavgbFKtZFgiS2yF6sChoPmotJe+9goZcv6vachDiJklqcoKWUZR3c2cdfYcSGs5jp/EL7uun7J4JWEARBEIQIA9883rp1S+1ET7lE4WXKYDbn9wQt5ZUStIMHh0pf2AYlHIUdpWzOnDlRu04dJQrd3d1VxmlYw3lgOYOyZcuquWG/KQt1cWgYukTkuBInTqxkwsqVK5UQ1WF7PXv2VBuesS0er7enn5s/f348e/bs6xnAjRs3UKxYMX/5y2B26qJFi4ItaAn7wzIN+j3kR8pVCvGQCEqewz5yXCwJwX7q4wo8Rwy+xuvyvmfMmFGVOaCc1QUpRTYziVkigkKWxxvOE8/lvRg+fHiQM14pyCm0eZ5hvzj2Ro0bqw3IBEGwXEwuaBMnxYGLL3DywRe4P/yCYzffYOGWI2jYrqfaIIqPtbfpPRzL9rji6I232nHGZV5ECBG0ASOgoLXByn2n1DrxePQFrnfew3Gbs7ZOeiBd1lxIny0fmnQZihnrj2Pb6VdKTBqTfREyLn/EkFnrYZ8+m/Z72i+TNnFSW9Rr2wdzt3pi5/l34XI+VDkDbWybPJ5i/NK9qNWsO6yTp4ZDziKo3HYIhq3z9JefCzx8UKeHgaA1gwANasx1fYsRG06jVpdxyF+5MSbuvoWFWn+NHRuaIYJWEARBEIQIAwUUs/9YI4/Cio+MmyrYfsmSJbFi5UqjcpTyjIKRj/X/Sl8KFiyI4sWLq7INzZo1Q9++fdWj605OTipbmOUMOO6QyMLQhn1g3VQ+dk8xzX5TJlMSGkpHvhHhY/qUB7Vq18aUKVNw6tQpda6hRKQM4BiHDRumpCuFJuUohS7rrlKccjMxQ6lLeUiBYDiH3ISLm1qxVm5wYa1cbl5meA9LlSqlMn1DOucc46NHj1QN40aNGiFDhgxqPgxlKIPzxvlj/ylmN23apGrU6nJWh+NnyQe2xWxfZswyu5gfHRwc1NyxLnFQBS2FDqU/N7Mz7BPbXKz1mQJXEATLxVyC1u3+FwMx54t9F55gyvKtqN6wFWxTp0XeIqXRdegkbHW7Do9HFHcRT16KoA0Y3xO0+usnH/jiwKWnmL5im8q2TumQEdkLlESbvhOxdN9l7LvqC6crn4zKvwgVlK8XP2LYnI3Imqeo/x9X48RLoGrU9pu8DGuO3TV+rkWG9v1/9RN2X/yAWRtd0KBdPzhkygXbtNlQtnF39Ft6RGWjLvT4T8Iu8PhokYJ2jssbtB63CtmLV0G0mHGQ2NYB43feEEFrBBG0giAIgiB8F10QUvbt379f1Sc1VRw4cEBt3HT33j18MrIBE/vCN8bMlmRfeLyxdn4WLBvAR8q9vLxwXWuLj/NTNLL9kApCU8M38dwA7NixY6qO6pgxY9CnTx9069ZNfWSd1enTpyupeO7cuR9uaMavU0qyrXXr1qlMWIpNbo61a9cunD17NoB45f3nJmL6fPMj55DiPqiC0hBdVhreP9ZoZf3XX4H3jrVzr1y5omruzpgxQ236xcxaxoABA1R2NOeP/WcpA2bLGrvn/Bqzgy9fvqzqzS5fvlxlwPIjpa5+flDXC+eTa44Zu7qg5Uf+QYLrMCgbjgmCEHaEhaD1k2+f4XbPB1tOXMXASQtQpGxV2NmnQ6nKtTF6zkrsv/AU7g99tPP+Oye8hyUL2rAoL/EzQcvw20jOR20sN3jKQhQtVw2p0mZGkXI1MWDq39jk8QxOV7jbvzERGLFi1/n3mLRiP4pVqIsYseIqSRs9RiykzZIHg2esw07t9fBR7sAbyw9cRftBU5C7aHkkTZ0BBas2RYfJGzDt4EMs9PiIBe4fA8pICxS0jp4+GLraA2lyFEbkKFHxZ6TIsLJN+1XQBuy/KUIErSAIgiAIEQpKKAZlnMnj67V+RGj2RR9beEAfN+UAMy4plilt+ZGZxcz81TNBfzYmvS2KQcpDBj/X58QQvT19zvT42TV+RGi3p6P3lfNAwfr69Wslo1my4eXLlyozm/MX1OvpbfEczhE/8t/B7S/7wdIdrHerC1pm87JMAst2BKctQRDMD7/3w0LQ6uH24BOO336PDccuoNeo6arsATcSK1u9Puasc9KO+QjPx1/CRCCGdliqoHV/9C9OPfuf9tH4PTJVBEXQ+h/7dZ2sP8p1MgMOmXMgeaq0KFapHiYsdwLrte6//iWQCIyI4Y2l+y6iWbeR2vjTwT5DdrToMQaL9lzE7ouWK6opjg/c+BdbvF5gwNRVKFC6GhIltUPmQhXQYuRSjN91w086GmTNGobFCVrWwHX/oEoxxIyTQPv/z58iaH+CCFpBEARBEARBMAEUr5S5LCtRqFAh/9IUzOjhBm579uxRgkYQBMsmrAUtg1myDOfrL7F8z0k07dgP1slSIEO23GjcsQ/WHTmvvR7+s2ktTdC63vWF+yMfrNx/Cv3Hz8FOr3vweOSLE2aa5+AIWoYu6blOlu0+oa2Nvtr6soFDppyo06oXFu0+B6crEX8TMdab3XjyMaauPqxq8rKG6+6L3kaPDfv4CCdVa/Y9pq89hgp1W8HWPgNSZcqNmp1HY/j6U5jj8lLJxh9t/GVpgpYCdvi6U3DIUUSJ2f/74w+1iZsI2u8jglYQBEEQBEEQTAAFLTN5WTeZG6vptWe5kVm7du1w9+7dr0cKgmDJWIKg1YMCloLu+O2XmL/xEEpXqYuYseMiU4686DturqpH6vX0f3B7ED6zaS1J0FJ2ej39jEXbjyJtlpyIl9AK2fIWwaQlm3H05nt/GWrKCK6g1cNvnXzW1skrLNjijJJVaiNGrDhK1HYeNkvJy0M3/43Q9Wn9NtjS4orfR2PHhHU4Xf2EQ7e/YJ3rQzTsOBhWSZMjgXVyFKvVFoNXnMC8E29VKQNuBGZMQBqGRQlarb/cGKxGpzGIq/UndsKk+OPPSCJof4IIWkEQBEEQBEEwAZQv165dQ/r06VXWrC5ouYkZa9ka1voVBMFysSRB+1/4asf74ODlJxg+cwWy5i6E+AmtULhMZcxcsxcud97i5AO/44yfb5lhKYKWYpT1fWeu2oUUadL51c/Ufo7zY5JkdmjTeziO3/qgjjN2fmhFSAXtf+GLk/d94XzjBUbNWY1MOfIjXsLEyFO0PEYv3IGd516rjcSMyUMJ08b+65+wXZv/fpOWI1mqdIib0Brp8pZGt9m7MPv4S1Ue4EcZs4HDkgSto5cvhq31Qoa8pZScLVKzNaLFiCWC9ieIoBUEQRAEQRCEUIbZs6wVXKdOHUSOHNm/9izf4Ddv3hz3799X5Q8EQbB8LFPQ+gUFHjNmd3jcRrMuA5HUNpXKqK3XsovaXMzjEcsehJ9sWksQtMw+dn/oi7Hz1yB5Snsllfjzmz/HGZS0pavUw6HLL4MpS4Mfvy5o/YLtnHr6L3afvo8W3QYjsY0tYsVNiMp/tceSvRfVJmIRveyBpQSzlvde8cb0dceQu2gFRI8VB3GsbNCw/2wlZhef+RykjNnAYTmCVruu1v/a3SciTsIkyF2mLpoOWYiYcROIoP0JImgFQRAEQRAEIZSgmPXx8cG9e/fQtl07Vc5Az55lDdosWbKo7NnQ2hhNEATTY8mCVg+3+75wufMei7YdQ4VajZAsRWqkSpsRvUbOwC6vW9ox3n6i1sJr1Ia1oKUMPXTlHwyYMB92qdNqP7cjK6kUI2YsWCdLqf4dJUo0lKnWQDvuVbgRtHpwnbjefYfFO1xQqW5TJLVNqTbRatt/Mv4+dBW7L34A67caE4sSIQ/OqdMVX+w4+wrztnmgdsueSGJnD2u7NCjbtBfGbr8Gx1NBK2XwvbAUQcsxjNhwFlmLVlZZsy1HLkGHyRsQK15CEbQ/QQStIAiCIAiCIIQAStY3b97g8ePHePbsGZ48eaI2BNu1axcqV66MqFGj+mfO8mPChAnRq1cvdawgCOGH8CBoGZR5no+/4Mj1Vxgx+2/kLlRCic7chUpiwqKN2HfhgXbcRyXpjJ1vCRGWgpbzsu/CY3QdMlGJS8qkP/78E3HixUftZh3RuudQlT0bJWr4FbQMtunx+DOcb7zCqDkrka94WVglsUGuwmUxeMY6bDx5H3suMqPWuGyUCF5wHnedf4cVh66i05CZSJM5NxIlS4VcZeui98IDSlSyJIAxwRicsARBSzk7+9gr/NVvJhLapESG/GUwZtsZdJ6+WQRtEBBBKwiCIAiCIAjBhNmvb9++xfr169G+fXt079EDHTt2RKVKlZA4ceIAZQ34MVasWKhbty4uXLigpIwgCOGH8CJo9VAbRD30wbaTN9Fl8ATkKlgcVkmSoVqDVpi+Ygf2nX8IbiDFMHZ+WEZYCVrW69128gZadh8M62R26smHP/+MhISJk6hyEaz123XIBESJAIJWD9X2A19sPXkdXYZMRJ4ipbTxJkP52i1UfdoNbg9V1mdE3kjMlMENwPZc8sYq51sYMHUlCpSsiqQp0yNb8WpoMXIJph54GKqS0hIE7UJPH4zYcAbZi1dV5Q0a9J6Gua7P0WnaJhG0QUAErSAIgiAIgiAEEwra58+fo3///uqNPCWsHpSyupjla5SzzKh1dnaWsgaCEA4Jb4JWxf1PcH/0BW73fLFirzvqteqCDNlyI3X6LGjVYwiW7jyOI9deKplr9PwwirARtB+x8fhFNGjTHfETJVZilj+7k9mlRqvug7H37EOceuaLzgPHI0rUiCNo9XB/xDn2wd973VC/VVekz5ITyVNnQKOOgzBj3TFsPfWPZNMGM5yu+GCL53OMX7obVRt2gF3azLDPVhA1Oo3CqE3n1QZgCz18jErFkIYlCNq5rm9Uvdm4VjbIXKgChqz2hKOXDzpNFUEbFETQCoIgCIIgCEIw0QXtgAEDAkhZw+Ab/AQJEqBp06ZwcXHB58+fv54tCEJ4IlwKWoNwf/gJh6++wvSVO1C9YRukzZQD2fIWVhmh646cg+vdD9oxphWNQQ1zC1pmGq864ImKdZogVtx46uc564WncsiAniOmYd+FJ3B78Akejz+h86CIKWj1cH/0CUeuvcbMNbu0ddIaaTJmQ6acBdGq91gs3HUGuy+8x76rnyCbiRkPzsu+a5+wS5un2ZtcVJ1Zh8y5YZc+Byo274t+S46qTcAWeJhGnFqCoB299TLylKuHmHETok73CZh19B8sOuUrgjaIiKAVBEEQBEEQhGBCQfvy5UuMGzcOVlZWKks2evToiBEjBuLFiwd7e3vUqFEDU6ZMweXLl1W9WkEQwifhXdAyWM7A7b4PdrjfxrDpS1C8QnWkyZgVJSvVxrAZS7D71D3tGB+4GTnXnGEuQet611cbry+W7jqu5iJa9Bjqj2qUs8wgHTR5AfZfeKpkKLOMPZ5EfEHLUKUvHvpil9ddjJi1HCUr10bKtJlQpHxt9BrnqB7X33vZWzJqAwVLQey59BFLnC6iTf8JyF2kHOInsUORGi3RccpGTNn/QGXM/somYD+LsBS0HNccl1doOXIZEtqkQPo8JTFguYuSsIu8vido/ebDpHMiglYQBEEQBEEQIj4UNZcuXcLKlSsxc+ZMTJ48WQnZRYsWYc+ePeo1b29vkbOCEM6JCIJWD8rG47feY8Oxi+g9agay5SmMVGkzomz1Bpi5ejdc73irjcaMnWuOMIugVXL2Exy3OiN73iKIFDmKypzlBmCZcuTH2AWrvyn/8Dtk0BoGx+5y5wM2uVxCn7GzkbNACdjZZ0DJqn9h9MLt2HnuLfZf+/yNqPzdgvV591//jE0eT9Br3CLkL1EZCayTIXuxamg1ZgUm7rmF+Sffm1RC6hGWgpYidvzO68hVpg7iWdmgeqdRmHHkqRq3cUF7E4tOfValHphlO8/tndF2fzVE0AqCIAiCIAjCbwLlq4+Pj9ow7PXr13jz5o2/lJV6s4IQMYhIgpZB+cZMyUNXXmDx9mNo3nUgUqbNqGrUNmzXE2sPn8XJ+x/Vo/3GzjdlmCuDloK2UfveiBwlisqcjRo9BnIXLoXpq3bA+fpLbewBr/u7CVoVap2wPMY/qmYxN1BzyJgdDplyok6rXpi/7RT2Xv6AvSp71LjAjKjBcgZ7r/hg+5mXGL9sL8rVbg5b+wywz14I9XtPwchN5zDX9a3JyhkYi7AUtPPc3qP9hDWIHd8K6XIXx4Dlx5V85WsBBO2fFLQOmLDrFsZtv4Z6vaeh2bBFmHXspUkktghaQRAEQRAEQRAEQYggRDRBq4fKEL3viyPXXmDhliMoX6sx4idMjNTpMqHrkInYf/EpTj3jI/6mrQNrGObKoOWmWJXrt0CkyJEROXIUZMqeF4u3H4LnE+9v5CzjtxS0X4PrxE1bJxS1C7ceQYXajWGVJDlSpMmINv0mYJPHMxy69UVJS2MyM6IFs2YP3PiMxXvOo2aL7kieOh0SJUuFCs37Yti6U5jj8vqrbDSfIGWEmaB1e4+pBx4ib4UGqvZspZYDDObgW0EbP0kK1Os1BenylkR8azuUbtgdM448U/3/pu1fDBG0giAIgiAIgiAIghBBiKiC9r/wxYn7Pjhw6SnGO25AllwFYJUkGXIULI6Jizfh6I3XYL1Wc4hacwhaVy3YbtehkxE9ZiwlXOMlSITK9Zpi2e4TWh8+qMxRw3N+Z0H7X/iJ7QOXnmDcgvXIrK0T3qeMOQti+NzN2HnuDZyuGJeaESF2X/wIp6u+2OzxFN1GzEW6bPkQ3zqZeqy/x9y9mOn83KgkNFeElaBd4P4RnaZuRqx4iZA6Sz70XXwEjl6+/q8rQTuNryf024QvSlTEjJsAUaLHRKJkqdGg7wzMcXnjL3RDM0TQCoIgCIIgCIIgCEIEIeILWr+gDPR69gVHb7xCt6FTECdeIi3io1zNhlh98Ay8nv7PNBmtBmGuEgdKfD74hOkrdyNr7kKqNiY3CEuSPAU69BuNfecfqVq8eh1aEbT/BfvEzOrD116i65DJiBErLmLGjovilf/C/O2ncPDGv9h39ZNRyRleY9/VzzhwwxdTVzkjZ6Eyqm5xcoesaDFqGWYff4FFpz+ZRDAGJ8JC0HLMzJbNUaqmKm9QpkkvbT5e+c8FPy4774sOk9cpQft///d/KiJHjY7U2Yuiy8wdmGfCGr0iaAVBEARBEARBEAQhgvC7CFq/YDbtJ7g//Ig1B8+iVpN2SGyTHKnTZ0a7viOx1e0qXO98UMfp8jI0w1yCluF611cbpy/2nX+M7sOnwj5DFsSMFRvRosdUm4eNmrMa+y481I79CM8nImgDBrNpP2nz4oMNRy+hZuO2SJw0Oezs06NJl2FYtv8ydl98jz2XPmLvZePS0+Lja793X3yLhbvOoUrDjogdPxGSpsqASq0GYtzOa1joGfqP5Yc0zC1oWXfW0esTeszbg6jRYsIufQ70X3ZcmxMfJVy58ddkp/toPHg+EqfMgD8jRcYff/6JmHHio1bXcZh+6LGavwUm7KcIWkEQBEEQBEEQBEGIIPxegtYvKF89n/yLY7deY9LSrShcpjLiJ7RSG2mNmrsGe8/eUzI1tCWtOQWtHrwGM2RXHTiFmk3awcY2FaJFj4HosWKjfM1GWLD5MFzvPEfngeMRJYoI2sDh+eR/2sf3mPr3DrVOElolQdY8xdBv0gqsOX4Xuy9+CH+SVuvvrgvvsOLQdXQYNA1WyVIgQRI75CpTF/2XOMPRy0fJSWNSMKwiLDJo5554g1xl6yJG7HgoXq8j5p14qzYHm3HkKbrO3IHsxaur15Sc/eMPlaluZZcWU/bdM8v8iaAVBEEQBEEQBEEQhAjC7yho/wtfsP7sLq+76D16BvIWLY2ktqlQqU5TTFuxU9Uj9dtEKnREalgIWj04ziPX/sHU5dtQrkYD2NilVKLWOpkdWnUforJEKZiiRBFB+21o6+ShD/acvo++Y2crkW9jlwalqjbCyPlbsd7toZK0lr6R2N4r7J83Vhy+gT4TliB7gVJIYueAjPlLo92ENZh19B+Lypo1DHMLWtaZ7TZ7J6LHiotkabKg7+JDmH38OfouOoRSDTojoU1KRI6mff9o82eXPhcia983StDapsX4nTewUOuvsXZDM0TQCoIgCIIgCIIgCEIE4fcWtIzPcH/0BScf+mKFkzv+atsDGbLlhp19OrTsNgjLdrviyLVXWv9/vexBWApaxskHn+Hx6DN2n76HPmNnIV+xMoibIBEiR46CGLHjqizAyFGiomz1Bjh8lYLWtP0LP4LWL9y1+8V1snKfFxp36IX0WXMhVbosqN+2L2asP4Ztp19h7+WP34hRywhvJZLHLNqB8rVbIGnKtHDIUVg9jj9x9y0sOu2rJKgxEWgJYU5By43BZh//R2XIRosZGyXqdsTglSdQu9sEpMyUF5EiR0VcrR8ZC5RD6zFL0XzEYsSMk0AE7U8QQSsIgiAIgiAIgiAI30EErV9QvlK+UcbOXrdX1adNmSY9MufKjw79R2PVAU8lWN0ffQ6xqA1rQasHNxBjX9YePoM2vYYjW97CSsz+39fHtAuUKIeNxy5px7GOren6GN4ELUOtE5WN/FKtk7otOyGVQ0ZkzFkQzbqNxLxt7th94YPaSCzMM2q16++/9hnbTv+DySsPoE6r3kiZLhtSZ82v6swOXnFCPbZvyWJWD/MJ2veqzmzXWTtU+YJoMeOgRL1OyFa0MqLFiotY8RIhXa5iqN1tHEZuOg9Hr3foNG2T2iTMT9A6iKD9DiJoBUEQBEEQBEEQBOE7iKANGMwapZTce/Yhhs9chjJV66m6rSUq1sCgyQuw3f2Gdhzr0/ptJBWcsBRBy6AcpWx2vv4WCzfvR96iZdQmR5S0iayTokajNpj69zbsv/BU63fwxxqUCI+CVo//1skDjNDWSdlq9bW1boNCZaqj28h5qoxAWG4ipuTwxQ9YtOcc2vSbgOz5SyK5Q2YUrt4SnadvxYzDT5VE5IZXxuSfpYW5BC3nY/rhx8hdtp4qWxApSnTtmjaIGj0mbOwzo3yz3uiz6BBmHWM5CB8sOvUJnaZS0CYCa9EmTpEOE3bd0ubWx2j7oRkiaAVBEARBEARBEAQhgiCC1ngwy5S1R7ecuKLqjhYoUV7Vp61YuzEmLNqAg5efqY3GKBmNnW8sLEnQ6sGMUK+nPujQf4wqdcAyB3/88Seix4gJh0zZ0Kxzf2w4eilY4wxqhGdBq4ffOvHBVq6TcXORv3h5JE5qh5JV/sKQmeuw2eMpDlz/YrZsWqcrn3DgxidscHuMnmMWIE/RckiaMh1yl6mD1mOWY+KeW2CWaHgRs3qYS9A6nvJFlxlbkSCJLf78M5L6o0Ws+IlRpGYrdJm5DVMPPvw6d37XX+Tl6y9oo8aIg+J1O2D64afaMZJBGxgRtIIgCIIgCIIgCILwHUTQ/iAoEB98gvP1N1i+xxUtuw9Gphz5kC5LTvzVtjuW7HSBy513XyXdz8MSBS3D88kndBk8AVGiREWkyFFgmzodchUsgTjxEiBZSntMWLRJHRfakjYiCFqG3zg+4djNd9oYTqJ1z2HIkC0P0mTMgZpNu2D62qPYee4NnNQmXcbFamjEvqu+2H7mtaozW7RCbaRwyIzUWQvirz7TMHLjWcxxeR2usmYNwzyC1huLTn9C3Z6TEDu+FaJGi4kshSui+fDFGL/zqvb6+2/KQTCDtuvMHchUsAIaD5qLcTuuYt6JdwGOMVWIoBUEQRAEQRAEQRCECIII2iDEfb9M0yNXX2LB5kOo0bgNbFM5IHW6TKo+7S6ve/B8Qpn74zFaqqD1ePwJnQeNR5SoUbWIhpKVa2HFPg90GTwR2fMXxei5a3DiLjdJE0H7o+AaUevk+is4bnVGrSbtYWNnj5Rps6JJtxFYeeQm9l//pLJcjQnWEMVlX+y79lmLT1iw4zQq1muD5KnTIVaCJKjSdgiGrTuFOa6vw6WUNQyzCdpTn1Czy1gkT5cDjfrPwrid1/zq9H5n/pgpO3nfA4zeclGJWXPOswhaQRAEQRAEQRAEQYggiKANelAout7xxt5zDzB+0QbkLVYWNnaplMQcM28Njt9+q2SnsXMZ4UXQlq3eAIevvoTz9X+wwskTW91umaQObUQTtHr4rZOPcNLWycRFm1CgZEVYJ0uBHAVKof/kFdh66oXaRMyocA1G7L3iC6erPlh99DZa9xmP9NnyIl6iJChYtRn6LTmKmUefYb47RV74lrMMc9agHbbWSwXF9nw1dz+7lrc6z9zzLIJWEARBEARBEARBECIIImiDHxRw7o8+Yf/Fp+gxYjqsk9kiVuy4KFSqElbsO4VTz/+Fx6N/vznPkgVth/5j/QVtmWoNcOjKK61//yqB6vbANP2MqIJWD7VOHn7CgUtP0Wv0TJV1HVNbJwXL1MC8rZ44fPtflf1qTL7+MC77Yj/r2l55j2FzNiJjzoKIHjM2UmUtgI5TNmKe2xs4evpGCDGrh7kELWOBh4/fJl8WPn8iaAVBEARBEARBEAQhgiCCNuRBcen+yAebXK6idvOOiJ/QCgmtrNXGWttO3sDJB94B5KblCtovmL5yF6yS2iJmrDgoV6Ohn6A1sSyN6IJWj5NcJw99sPH4ZdRp0RnWNraIHTcB6rcbgJXOt+B01TtIm4j5H3PxHeZucUeZGk0RL5E1kqbOiFpdx2Oy0z1VY9aYzAvvYU5BG15CBK0gCIIgCIIgCIIgRBBE0P5qfIbH43+1+IyFW52Rv3g5JEiUGPbps2DQFEfsv/hYG/tH7ThfixW0DIrSNYfPo3rDNqjTvBMOXn4JNxG0oRh+68Rdu+fzNx1G3qJllNBPnjoDeo1dhA1uj7D38sdvpKx/XKag/YhVzjfQoucY2KRwULKyYPUWGLrGU4nZhZ6+RkVeRAgRtN+GCFpBEARBEARBEARBiCCIoA2t8FWlAg5efoHBUx2Rs2Bx2KZ2QLEKNTBl2VZVj9T17ju06GqZgpb9P/ngE5yvv8a2k3dw7NYHJVCNHxs68XsJWj20dfLok6rxO2TaYmTNXQjJUzogf6lqGD53M9afeIjdF73hdMVXZcyyzuzuC95Y63IbfSYsRZa8xZDIJiVylKiODpM3YNbR51joGTGzZg1DBO23IYJWEARBEARBEARBECIIImhDN/wfZz92Ga26D4JDxqwqm7Zh255YvP0g/mrTBYm0ObE8QesXqm4q6+feN/56aMbvKWj9guP0fPIJm12uoXWPIUibKTtSOmRCrebdMXX1IWzxeq5E7caTDzFm0U6UqdkUseNbIW2uoqjbczIm7r6NRac+KXFpTN5FtBBB+23ogja1CFpBEARBEARBEARBCN+IoDVF+OLk/U84euM15m08hHotuyBNhqzInq8I0mfJiTjxEmDpTjd4PqagtTxJa674nQUtw/WuL9wefMKxW2+xcMsR1G/VFQ6ZsiNjjgJo1m0kBk1fjToteyKJnQPSZCuAii37Y9g6L8w/+R4RaQOwoIQI2oDB+7/Q0xsdp21Eyow5MWvmTLx9+/brT1/LRAStIAiCIAiCIAiCIHwHEbSmC79s1C/Ye/YhRs5egTJV6yF+osSIFiMm2vUdiR2e1+F2z0c7zvj5ET1+d0GrB+fBQ1snTuceYdScFShbvQFsU6eDdfJUSO6QBUVqtEKPObswx+U1HL0ibp3ZH4UIWoNw/4C5J95g5KazKNesFxInS4kpU6bg9evXX3/6WiYiaAVBEARBEARBEAThO4igNX1QwLre8cbG4+dRtnpdxIwVR5uXJChTrR7GzF+Ng5eeq03GKOqMnR9RIywELUtQGPu6JYTbfW4k543NrhdRuym/d2xQq+s4THa6i4UeFJIWKiXdvbHA3bSlFkTQ+mXNOp7yxeR999F8+CJkL15Nm48kiBMnDmbPni0ZtIIgCIIgCIIgCIIQXhFBa744+eAjmncdgHgJrVClXnNkyJ4HDpmyoU7zDliw6SCO3ngDtwe+OPGbiFpzC1qWFDhw8bmSoJaateyXTfsRvUZNhk3KtOg6cwdY0sCYsLOEoDSc5/YOM52fY67rW6PHhEb83oL2vTZ+b21+36DHPCcUqdkaydNlR+psBZGteHUktUuNBQvm4/37919/+lomImgFQRAEQRAEQRAE4TuIoDVnfESzLv2RyDop5m88gOV7XdGofW8kSZ4SGbLlVq+td74Aj8f/KnFpvI2IE+YUtJSz3Lyt29DJ6DJkInaffgDPJ18sMqOWIr/nCD9B22X6Nsw98c6ItAvboDB09PLBhF030WjAHDQbtkhJWlPVxv1dBe1CT1+1GdyoTedRpklPJEuTGVbJ7VG+WR8MWH4ErcctQ+pMOf02CRNBKwiCIAiCIAiCIAiWy7///ovPnz+rj4H5maD93//+p2QrPwaHsBS0FH96GHs9rMJVCdoBSGRtg6U7T+DkAx/sv/AQU5ZtRakqdZWozVesDAZOXgCn84+013218xjG2wvvYW5B6/XUB9UatIK1jS0KlaqIiYs34ci1V3B/aPycsApLF7QLPX0w+/grtJuwDpkKVUCSlOlRrmkfzDjyTIlUY+f8avyOgtbR6yOm7HuA+n2mIVWmPEiQxA45y9RG15nbMe3QQ+2Yd+g0bRPsM+XyE7Tv3n396WuZiKAVBEEQBEEQBEEQfmu8vb1x/sIFXL5y5etX/uNngvbGjRs4c+ZMsLOzwkLQckMuz6f/U5KP4fXkfzil/dvdQrJRXe/+J2iX7DiBkw8pkSnkfOF0/j4GT16ETNnzInacuChWvjrmbjikvf5BZdQaay+8h7kFrecTXzRq1xORI0dBpMiR1X2o2qAV1hw6B49Hfht1GTvX3GGpgtbR0weLz3zG8PWnkbtcA8SKlwh/RoqMGHEToHyL/pjp/EIyaH8xOH/MmJ3v9k6JWIecxRAzTgIkTZMFrUav0Ob4GRZ6+Hyt+/sBHaeKoBUEQRAEQRAEQRCEcAFl6f79+9GlSxe4u7sHELHfE7TMuL106RL69OmDzZs3w8fH5+srQcPcgtb1rg82Hb+CZp37I0vugsisRfWGrTFuwXo4nX8M90dhn4lqTND+97qvNkc+2HLiKpp06ofkKe0R38oaDdp0x9aTN+H5WOv/3YiVTWtOQes3d77Yd/4pOg8cj4RJkiFKlKiIFiMmUqXNhM6DJ2DXqTtaf3gfjJxvxrA0QUtpuNDLG5P23kWVdsMQK15CRNbm7o8//sT//d8fsLHPhI5TNplMzjJ+B0HLMbJ0xNC1XihYoxXiW9uq8VbrMAJT9t/HQs+AYxZBKwiCIAiCIAiCIAjhCMrS8+fPo3bt2qhevTpOnTqlvkaMCVqWQrhy5QoaN26MkiVLwsXFRQnb4GBOQUvRt8PzNoqUq6oyI//v//5PxR9//IFIkSIhS66CGD1vDY7efBVIipo3fixo/cLj8Rd4Pv4Mx61HUbhMFcSNnwiJk6XEwEmLcFg9jh9xJK1ZBe3XYPunnn3GqoNnUbF2E8SKG09bI5G1dRMF2fIVwcQlW3Ds1qswlbSWJGgXen7ErKMv0HLUMtg4ZEWkKFHx55+REDV6TG3OtM+1769cpWpi2sGHWGii8gaMCC1o3Tk+b0zZf08b40QkTpEWMWLHR56y9TB4tTsWn/mkykoEPk8ErSAIgiAIgiAIgiCEI1g/9vnz5+jXrx+iRYuGunXrwsPDQ2XFBha0vr6+uHjxIlq3bq2Obd+hA+7fv2+0fu2PMJeg5aPrrOU6as4qRIkaFX/8yaw+PznLLL8oUaOpR9qjRY+OMtXqY+kuNxy/9cZoW6aOoAhaBsUlReyhK/9gxMy/kS1PIVglSYY8Rcpg0pLNqm6tX8btt+eGpwgLQavHyQefcOTaC4x33IDCpSsjYeIkaq3Ejhsfles3V4Kcr5/Q5tjNzBuJhbWgVZmwbu8x/fATdJ+zGznL1EHMuAnU91M8KxtkyF8WdXpMQPykKZHIJiWaD18MRy9fo22FVkREQcsxzXN7h8n77qDNuNXavJZB/CS2yFK4ohqjXzmD70tvEbSCIAiCIAiCIAiCEM6gMF28eDESJ06MqFGjKknr6emp6tPqgpafs6wBxWr06NERJ04cTJo0SX3dUjcJo6A9ce8D+o6dgwSJrFV2H7Nok9qmRKHSlVCkTFWky5IT8RMlVgI3Wco0GDJtMQ5deWp2wRlUQasHZaXX0y/Y6XkHrXsOhUPGbEicNDlqNW2PRduO4vDV59px4TejNiwFLYPXYt3iXafuocuQiciUIx9ixYmnhH4Sbf207T0C646cw7Fbb826VsJS0FL6zTr2DwatcEX55n1hldxefU+xDmqKjLnwV78ZShxWbTcE0WPGQeZC5TFux3Us9BRBG7zwxsyjL9B74UEUrtEScRPbImWmPKjZeQwm7r6lhLeqNWv0XL8QQSsIgiAIgiAIgiAI4ZAjR46gYMGCiBIlCiJHjoz69RvgxIkTKFeunBK0Z8+eRdu2bVXmLI/JnDkztm/fHmw5S8xZ4oCx7eQttO87Emkz50DyVGnQe/R07bpPcejyS6w5dBZdh0xEzvxFES16DMRLmAjt+ozA7tN3cdKM2ZHBFbR6uGvHsT7tst1uqN+qKzJkzQX7DFnRptcwLN3lCufrLH3wRQlPY+dbaoS1oNXj5MNPcLnzHsv3uKFhux5Ir81v9JixVMYoy2P0GjUDG49dwPHb77/eC9POs9kFLWvMenzEXNe3GLH+FGp3n4DUWfIhctRoiBEnvhKzlVoNwLB1p+Do9QGjt1xCwmSpVTZtwwGzscAMsjQiCFpVy5clI479g4F/u6BSywFIkiqjNr+5UbphN/W1eSfeBrlUhAhaQRAEQRAEQRAEQQiH3Lx5E02aNFEZtCwBQAlbq1YtZM+eHcmTJ0fz5s1V5qwqDxA5MqpVq4Zz5859PTt4mFvQUrQevfFalQDoNGActpy4DK8n/yoB6PmY8tIXS3YcQ8nKtREjVmwktLJG217DsP/CY+01422GdoRU0DIoBT0ef8bhqy8xcdEGlK5SD6nTZUa+YuXQf8I8bHa5orX/wWxjCY2wFEHL8JvfL2p+p63Yjkp1msDGLqXKxmbZgzLV6mHUnJXY6XUbLnd8jLYRWmFuQTvP7T0m7rmFliOXIkfJ6ogeOx4iR40O6xQOKFa7DbrP3qWkol9WpzcqtxmCKNGiI032Qhi3/WqQheKvRHgXtKwxO/fEW4zadBb1ek1G2lzFkCh5ahSo1BCdpm3BDOdncDzlqySusfONhQhaQRAEQRAEQRAEQQiHvNPewI8ZMwYJEyZUdVr//PNPJWKZMcvNtChu+TW+Fjt2bPTq1QsvXrz4enbwMLegZVBOut71Vlmzx29RVgYUoKzrut39Gqo2aKHqjdrYpUKfMbNw5Nors9QZ/RVBqwfH6Hbvo8oYHjR5AYqVqw779FlQomItjJrzN/aefQT3R9oxYSQ6gxOWJGj9g/P7wBe7T9/HiFnLUVKb1/iJrP3WS4rUqN2sA5bsPPHN2grNMKugdfdGvyXOKFSlCRIksVNZw3ESWiNv+fpoM24lJu2947eJlcr+9MGoTReQJFUGxIwTHzU7j1XC1mi7oRzhVdByzpg1O2nvLTQZsgDZS1RH/KQpkKt0bTQfsUTNr5KywRCzeoigFQRBEARBEARBEIRwyOfPn7FlyxZkzZpVSdgfRerUqVXNWm4aFhLCQtAylPR7wMfQjb9Oebnh6FnkLVJKlTvIlqcw5m44YBYxGBqClsGxsaTBsZtvsWKfJzoNGIvMOfOrR/NrNm6HeRv2+T2Or43V2PmWEhYpaL8G5/fEPR+sP3IabXoNVVm0f/zxJ+LET4huQyd/Pc40ktacgpYCsWLrQSojljVl0+ctifq9p2DkprPa6++/Zsf6yUMeW6PTaESLEQtJ7TNjxIazZsmeZYQ3QUvpyqzZ6UeeoMuMbShWp60S2+lyF0ftruMxfMNp7ThtfrU5NXZ+UEIErSAIgiAIgiAIgiCEQ/79919cuHABFSpUMCplDaNI0aKqPi1Fa0gIK0EblHC58wGj565BAitrVe6gQZtu2H/R9JuGhZagNQz2+fDVf7B4+zE06dQXNnb2qkZtw/Y9sd75PDwff1YbYRk7N6zDkgUtg6Lf+foLtOw2UNWkZemPqNFjoE3v4dq99FX9N3ber4ZZBa2HD4rV7YAEyVKjRufRGLLGA7OPv/omq5ObgE3YdQN2GXIhcpRoKNu0t/Z1E9fGNYjwJGj9sma9MWilG0o37IrkabNqkQ2s4ztohYsqF6Hm18i5wQkRtIIgCIIgCIIgCIIQDuFmX2/fvkXHjh1VWQMKp8BiVq8/27BhQzx58iREG4QRSxa0rnd9sM3tCvIXL6/GmzlXAczbdFB7zbS1RU0haBksz8Aau3vP3ceU5dtQrvpf2jWSIlfB4ugzZgb2nL6nXcvHLGUcghOWLGjZt2O33qJp5/5InDQ5/vjzT1UGhGUxhkxbYjI5yzB3DdouM7aj+5w9mOn8zC/z04g85GP6TQbPR+z4VogWMy4G/n3il7I/gxvhRdBSzE7cc1vVmbXPXlBlzRas0hRdtTmeeuChkqqhIWcZImgFQRAEQRAEQRAEIZxC4TpPezNva2vrX282sKBljdpRo0aFOHuWWLKgPXHPF4evPkPjDr2VeIsbPxE6DRqvfe21ScWbqQStHn71aX20+X6MMfPWIlOOfCpLmOUcJi/bqh3jDc8n3DDNMkStpQrak1q/XG6/R7OuAxEnXgL/P2RYJUmGdn1HwuncE5PW+A2LTcIWnDQuZhmUo1P2P0CmQhURNUYs5CxdB/N5TiiJxqCEpQvaxWe+wNHTGx0mb0SanMUQJ2ES7WNRtJuwRpu7+37HhfJ8iaAVBEEQBEEQBEEQhHDM4cOHkSdPHpURGFjQ8muZMmXC9u3bvx4dMixd0B698QqdBo5VgjZKlKio0agNdnnd+Vp71Ng5vx6mFrQBwxs7PG6hQ/8xSJ7KQWV+Vm/YGqsPeGn3wlsLXyPnmDcsVdByk7COA8YgbvwE6o8Yf2rfExTdrboPxqEr/2jHmHbuzC1ofyYOF53yRaepm5DY1h5Ro8dEh8kb4Oj1yeixpgpLFbSU1I6eHzF0tQfylG+AeFY2sEpuj5pdxmL8zmva3L7/emzo91cErSAIgiAIgiAIgiCEYx4+fIiqVasiatSo3whaljcoVqwYLl++/PXokGHpgtb5xj9o3XOY36Pr2phLVqqFjccuRCBBS9H3BZ6PP2HNoXOoULsxIkeNhuQp06hNrg5cegyvp//T7ovxc80Rliho3R/5YuyCNUiYOIn/90TsOPHQoHU3HLn2SvXX2HmhGWYXtD8ICsi5rm9RpGZrRIsZG0nTZMW0g48x76QuHs0TliZo2Z/FZz6p7NgqbYchRux46vurQOWmGLX5ApaojFrTloAQQSsIgiAIgiAIgiAI4RgfHx+MGDECVlZWAeQsI27cuKpG7YcPH74eHTIsVdD61WH1wWbXc3kvYRQAAP/0SURBVMhfvJx6fJ2CtkjZqlh7+EyEErR+4YuTDz7B+fpLjHfciIIlK6j6tHmLlsG4Betw6PJj7ZiPYSJqLU3Quj/6jMU7XJAmQxa1Jpg9GyNmLFSq0xQHLz832xxZkqBlndkhqz2QKnMebU6ioFKrgSpjlGURjB1vqrAoQev+AVP23UPz4YthlzEP4lsnR4Z8ZdBt9m71Ovv6zTkmCBG0giAIgiAIgiAIghCO+fz5M7Zt24a0adN+I2ht7eywdOlSfPr06evRIcNSBK2qy6rEmi+48/7x22+wyeU86jTviMhRouL/uClalCgoX+MvbDlxFe6PIpqg9YuTDz7D6+m/2Ol1B50HjUfG7HkQN0EiVGvYCot3uuDoDb9H980pai1J0LIv+84/QZV6zRE9Rkx/cZ+ncGns8LwNj0fmvFcWImjdvTHP7R0a9J2O+Na2iB4zDnovPABHL1/jx5swLEPQvseMw0/Rc/4+5C5bT82JbfpcqN9nGmYcearq0IZ2ndkfhQhaQRAEQRAEQRAEQQjH/Pvvv7h58yYKFSoUYKMwSqms2bLh9Jkz6phfISwFrZ/4+6w+Ot94g92n72LNIS9M+3sHOg0chxz5iyFy5Cj+Y4+XIBHa9RmJg5eeK5FprM3QiLAUtHqw9qzrXW/8vdcdDdp0Q/qsuVTZg5bdh2D5nhM4euO1Ngd+c2js/NAMSxG07Mfx2+8xaKojkqW0174P/OrO2tilxtKdrvB4xJqz5qvZaymCltmzE3ffQp5y9dTmYA45i2Ky010lBo0db8oIO0Hrrc3DR8x0fo5+iw+hbJOeSOaQFSky5ESllv0xbN0p7ZiwuT8iaAVBEARBEARBEAQhnMMyBy1btkSMGDGUmGVEiRJF1aZ9/fo1/ve//309MmSElaB10+LojXfYdvI65qx3Qq9RM1C3RSfkLlRS7cLPmrN+QvoPJWhjxo6D0lXr4u+9nirD1liboRWWIGgZFJKej7/g6M23mLJsK0pVqQPbVA7Inq8I+o2bg43HL+L4rffacdp8mDCj1lIELctabDh2CUXLVUOUqNHU90KMmLHRdegkeDzy66ex80wVliJomSnbfc5uJSOjRIuOii37Y47LK+0182evhoWg1evvjtx0FvV6TYFDziKwTpEOBao0RddZO9RcUGLzOGPnmzpE0AqCIAiCIAiCIAhCOIcZsvPnz4e1tbXfTvVaxIsXD6NGjVJy9VcJE0F73webXa4oyViuegOkSpsRMWLFViUMIkWKpDIjWdKAAo7lDVKmyYA6zTrAcesxuNzxMd5mKIalCFo9WM7g5AMf7DnzEMNmLEXJyrWVqC1RqRYGT12E7R434a710VRZxZaTQfsJQ6Ytho1dKiXw//wzEnIXKYU9Z++p14ydY8qwBEFL6cg6s7W6jEWseFZaJELHyRsxL4xksTkFLaXrQu16E3bdRNOhC5GtWBUkSm6PvOXqo8XIpZi4944qZRBWYlYPEbSCIAiCIAiCIAiCEM6hoHV3d4eDg4OSl4xkyZLBycnpl8sbEHMLWpc7H+C4zRkV6zRB4qTJ/csX6I+rU9IyWzZlmvQoVLoSGrbtiTHz1mCH5y3tfNZeNb0stTRBq4cqB/HAF+ucz6HjgDHIVbAEUqXLjNpNO2DGql1+G2Rprxs791fCEgQtBSxrz9Zq0l5Je8r7aNFjYOi0pXB/6GPyrGpjYRGC1sMbk/beQf5KjbTvpchIkSkvhq8/o2rSGjve1GEuQbtQG/f0w0/QadpmFK7WHIntHJAudwnU7jYOIzeeVeOnwA2LLOLAIYJWEARBEARBEARBEMI5LGHw8uVLVKpUCdGiRVPlDfLmzYuHDx+GO0FLybbCyRN5CpdC1GjRlWRjCQO/+rJWquZs/ZZd0GfMbMxeuxcbjp1T9WZd7/qA9VaNtWmKsFRBqwfnwvn6K61vR9G860BVn9YhYzY06dgHy3af1I7xhsejf785L6RhGYLWVxubK3IXKvG17EUkbdy51YZxpqxH/KOwlAzavouPIE32QuqPHAWqNsWU/fcx7+R7o8ebOkwqaLWxspzDvBNv0W/JERSv2x7J0mSGjUNWVGs3FINXumH28VdKWhs9P4xCBK0gCIIgCIIgCIIghHMoaH19fTF69GjEjh1bSdouXbrg48ePv1x/lphL0DLD0eX2OzTp2Ne/fiiDG3+VqVYPw2csxwonN+w5cw/Hbr1X0s39kd9j++auLWrpgpbhJyV94HTuEab9vQ2V6jRF6nSZkTN/MfQYPhk7Pe/C43HoZJVagqA9ftsbI2b9rTYEo6BlpnXj9n3gfP0fs68PPcJa0FLOznF9g8aD5yOeta0q+1Cz0yjMPv7S6PHmCFMJ2gXuH5XoHLXlAqp3HIm0uYohoU1qFK/TDj3nO6lsWpY74HHGzg/LEEErCIIgCIIgCIIgCBEAStTDhw8jfvz4iBkzJtZv2IDPnz+HK0HL2rFHrv2DwqUrq+xHZvsl1K7Zrs8I7DlzB653vbVr+2XZhpVw0yM8CFo9/GqvfoTTuQcYPW81chUqhSTJUiBb3iKYsGgDXO98hNeTL780p2EtaCmjD156gdY9h6laxRT7MWLHwZh5a1XJDFNukPajCHNB6/ERUw8+QrkmPRElegxEjh4Tbcet0l4Lm+xZRmgLWkpox1O+mHX0BZqPWIJ0eYqrtrMUqYwOkzdi+qGH2nFhX2f2RyGCVhAEQRAEQRAEQRAiABSxT58+hb29PaysrHD79u1QKW9AzJlBe/TmKxSvUENlP7L2bGIbW3QZPBEHLj2B+0Pz1JcNSoQnQcugpKXEdLnzDtvcrqP78CmwsbOHjW1KlKneAMt2u2nHfFQbiRk7/2cR1oKW/d5z5j7qNO+IKF/rz6ZOnwXL97jD9Y75a8/qEdaCljVWR20+j5ylaiKSNi/cIKv3woNhmkUamoKW0nXeidfo43gI+Sr8hYRJ7ZAyU1406DsD43Ze1eb7rUWLWT1E0AqCIAiCIAiCIAhCBIEZs40bN0bJkiXx6dOnr1/9dcxZg5bhuO04CpSoiEiRIivRxo2eCpashPmbjsDzsS/cQ7F2akgjvAlaw6Co9Xr6CVtPXEe1hm1Urd+EiZNo4+mPvece4dSzf9Uxxs79XliCoN128joq1m6CyJGjqHVToER57PC4qt0rH6PnmCMsQdD2djyEFBlzI5I2L/bZC2HoGg/1qL+x480RoSFoKZiXnvsXk53uomzjHogRJwFiJ7BGyQZdMHb7FThq4w7LMQY3RNAKgiAIgiAIgiAIQgSBGbNLlizBjBkzQi17lphV0N6l1PqEg5eeYMCkhciUPS9ixo6jMmrjJ0qMhu16YuOxy9qx79Xxfo/vmz/Cs6DVg1Lz5ANvzN1wCAVKVEACK2tkyJYbw2cux/4Lj7VjPirxauzcwGEJgnbjsQsoVamWv6CtXLcZnM7d017/XQWtNxZo0XrMCsRJmEQJ2mzFqmLMtovhWtBSZs48+lyVM7BOlRFxtXYyFaqIHvP2Yp7bWyVnjZ1nySGC1kTw0RL+tfLt27f+8U6bXG9v71D5Jcm/irK9twyDawQleN779+9VsXj2kb9o2Sf2OTRqEwmCIAiCIAiCIAhhA9/TPXv2DLdu3QrV93fmzqBluD/8As/Hn7HlxDU07tgHyVLYq0zPPyNFQkqHjOg3fh6czj/Eyfs+YSJpI4KgZVCsej39F4evvUS/cfPgkDGbqvtbomItzN1wAEdvvNKO+XmJgLAWtJz/be43UKdZB7WpHIV+g9ZdceASRfNvWuLA3RtzXd+iXo9J2vdNZCVo81X8CxP3XMdCz3AmaN0pMb0x+9gL9Ji7G5kLV0SM2PGQ3CELmgyZj5nOz7D4zGfVttHzLTxE0JoA/hJk3Z+tW7di2LDhGDbcL0aMHIm///4bL168+HpkyKBMvXLlCkaNGoXhI0b4tx/UGD1mDCZNmoT58+djw4YNOHjwIE6dOoWbN2/in3/+CbUi8oIgCIIgCIIgCIL54fu50H5PFxaCVg+Kt2M332DO+v0oX7MRkqe0R/QYMRElajTkL14OYxesw96zd5UwDe5j+b8SEUXQ6uG38Zo31h4+h2ad+yJtpuywz5AFjTv0xrI9rjhyzU/Ufi+jNqwFLcPlzkdsO3kL3YZPQY78RdGx/xgcvvJce+33FbQzjjxDpZb98X9//KEEbeHqLTBp761wI2hV/VgtZh59jr6LD6Nk/U5IaJMSdulzoEKrARi77TIcvT76HWfk/PASImhDEf4C9PHxwcWLFzFixEjY2NggUqRI+L//+z8VUaJEQbly5XDt2rWvZ4QM/mLcvmMH4sSJowqm6+2HJNinJEmSIH/+/GjUqBHGjRuHnTt34sKFC3j16pW6lshaQRAEQRAEQRCE35uwFLQMilfPJ/9i/4WnGDZjKQqWrKDKHfz5ZyTEiZcQtZt2wOx1TmojMT+JaLyd0IyIJmgZlKyej/9VQnzWGidUrtcMyexSI3u+oug5cgY2u1z4KsKNnxvWgvbEvc/weMRreqtNzxbvcIXzjbfav39XQfsBUw88UFLzjz//RIw48VGheR/ta/fDRYkDStc5Lq8wbL0X6mrH26bLgSQp06FAlabos+iQNgZvLDr1STs2fMtZhgjaUIJZrcyM3bhxI6pXr464ceMqOcuaJ7oMjRw5ssUJWvaPwb5S1kaLFg3JkydH+fLlMXToUOzfvx/Pnz8XSSsIgiAIgiAIgvAbE9aCVg+/LE9fbD5xFV2GTESugsURK048tYlYqnSZ0KLrACzecQxHb75RxxprI7QiIgpa/9DmjhJ279kHGD5zGcpUrYskyVOiWPnqGDLVEbu8bitpbjhmyxC0/wX7zzXgejfs5CwjrAUts2WL1GwFK9s0KFGvA/ovO4a5rm/CNOP0Z4KWr1NYjtl2CY0GzEamQuVhY58ZucvWVcdPO/hIyVnDc8J7iKD9RShm9azZsePGIWvWrErEGpOhpha0FK38N2UrrxU4+HU9eBzDUCAHDgrbvHnzYvDgwTjp7q5q1oqoFQRBEARBEARB+P2wFEGrh8fjL3C5+xFLdx5H4w59kC5zDlXyIFbsuMhTpBT6jZ+DHV53lTQ0dn5oRIQWtF+DdYApOtc7n0engeORu1BJWCezRe2m7TH17+3Yf/Gp9rpf2QNLE7SWEmG7SdgHTDlwX9VobTJ4Hibtva1KG4R1OYBvBK1BfxZ4fMDUg4/QccoGFKzSRInZDPlKo17PSRi95aL2urc637C9iBAiaH+R169fY9u2bahfvz6sra1/mNFKSWpKQcvs1wwZMqjs14oVKxoNXr9EyZLIly8fHBwckCBBAiVsDfuph55Zy2xgnrdixQo1XpG0giAIgiAIgiAIvxeWJmj1oBw8ePkFZq3ZjZpN2iNp8pSIHCUqUtinx+Sl24yeE1rxOwhaPTjPR2++w/I9J9C6x1BkyJYbaTJmQ/1WXeC49Yg2Fx/g+fgL3B/+K4I2UIS1oOUmYTMOP1WlAigBjR1j7jAmaBedZqmCd+jtuB9Fa7VF8rTZkCJTHtToNAqDVpzA7GP/hLlYNmWIoA0BFJTcSOvu3buqZmvOnDkRM2bMAFIzXbp06uuGAtXUgjZx4sTo1asXTp48CS8vLxWenp4BwsPDAydOnMCRI0ewa9cuLF++XG021rx5c9Xf2LFjq34aZtbyc2bTZsmSBdOmTcOTJ09E0gqCIAiCIAiCIPxGWKqgZbg9YPamL3Z43MaIWX+jaLnqSGqXGsO1z035ePvvJGgZfhmyn3Ho8gvMWE0h3g4pHTKoMhOdBo7FJpfLOPnAGx36j1RzIoLWL8Ja0DIWuFvWJlqGgrbd+DVY6PEeo7dcQJW2g+GQozAS2qRCibod0H3Obkw//ET1PSLLWYYI2hBAOevm5obatWurDbYMSwVQbpYqVQrbt29H7969ETVqVH/RaWpBmyxZMiVQWXKBpRd+FGyD4evrq7Ji79+/r4TuggULVB+Zjau3qwfFs62tLSZNmoSXL1+KpBUEQRAEQRAEQfhN4PvHthYqaPVgvdHjt99jw7GLGDZjOZbtdofrHR+jx4ZG/G6CVg9V2/euD/acuYeJizaieIWasEqSHAVKlMfwmUvRqH1PJEoiglYPSxC0lhb/CVobVWOWQTEbK34i5ChVA52mbsLU/fe1Y99HeDGrhwjaEPBOm6SWLVsiVqxYAcSslZUVOnfurDJV37x5g2HDhgUQneYQtNOnT1fSNSRQuLLfN27cwMxZs2BjY6OkbOBs2rRp02LVqlV4//791zMFQRAEQRAEQRCEiAzfhzZr2gQJrJPB+forcIMoYzIqrMOv5iwfx3+LY7feq8+NHRca8bsKWobfZm2f4HL7PTa7XkaPEdOQOVd+JE9pD6skyRArXnysPXLab07CeJOusA4RtN+Go5cP6veZhjgJk6jNyxIlSwW7jHnQbMgCTNx9S5VlUGL2N5GzDBG0IeDVq1eoWrVqgNqtmTJlwqJFi/Ds2TP/zNTwJmh1KGq5IZi7uzuyZ88e4Br6OAoXLqwybgVBEARBEARBEISID58kbdSoEWLFio1OA8bj0OV/cOoZN5D6faRk4PidBa1h+Mnaj1h35Bz+atMDCRMnQaTIkdGwbU/sPv0Qp59znfy+mbQiaP+LhR4+WOT1CaM2nUPO0rXwZ6QoiJ0wKSq3GYzxO2/C0dNHO+73kbKGIYI2BPDxfgpaisoYMWKoTblcXFyUGGX5AArO8CxoCcfw6dMnnDlz5htJyyxajqVfv/5KSHPM5obXZP+YxXv79m0cPnwYy5YtUzWBBw4ciD59+mDQoEGYOHGiyvZl3V3WzqV45n8sggPngudQzD9+/BgPHjxQ8eTpU3z48MF//Dzm7du3qgbwPO2baciQIRg8eLAS9/fu3VPt6Bhr75H2Oftn2B7LTzAje+FCR7Wehg4dCkdHR9Ue18HP4DEsecFrnT59Glu2bMGsWbMwfPhw7f71UzFixAjMnTsPu3btxtWrV1WGuL6Wf4Qu8rkGHj16pMbw8OFDNSb2O7jzHBh9DT5//ty/fQbb53j4miAIgiAIgiAI5oHvLdq3b6+eJI0ZKzbSZcmJiYs24fjtd3B/9Bmud43LqYgcImgN4zNOPuBHb7ToOghx4ydE9JixVC3gIVMX4+iN1/B4xDkLfF7EDxG0frHQ4yOmHniA+r2nwSZNZkSJGh2RokRF06ELtddfY7678fN+lxBBGwIoaKtXr47kyZOrOrOUR4byjZ+Hd0FLdEHGzcTYduBSB6lTp4azs3OoXS8o6H3iBm0rV65ErVq11OZohtnMxoKbnKVPnx7du3eHq6urkpBBFcu8JkUw/zPCeWAdXn7Mli0b1q1bp0Qkg3WJ69evj7hx4/pfl/cnfvz4SqoaCtV//vlHrR3OIdtjWFtbq7nmcWzv7NmzaNq0KeLFi+ffHueda2r16tVKvH4Pjo19piymqKZk5/ozvIeBg6+x72XKlMGixYuVCP2RBOW8UM7WqFHDfwyMVKlSoUWLFkoi/wocw4ULF5AnTx71vca2+TFDhgyYMGGClNgQBEEQBEEQBDOiC9o48ROhbZ8RSGxji3gJEqFMtfpYvscNrnffq0xKY4IqooYI2oDB8hLuD7+g44CxSGCVBI079IFdmnSIFScuchcuhbkb9uP47bdfRe7vE7+7oGWpgrmuL9Flxnakz1sK0WPFhX32QkibpwRixrdC+wnrtOMsOGtW6z83WTP6WiiGCNoQQDHELE1mbPJziiTKKh1+HhEELfGTcM9VliWvp1+LMo8boPXq1UsJa3PAeWY25Zq1a1GihPaNHDOmEq/sy4/Eox6UuOwzJR/vH7NFKUIN750x+Lq3t7eSr9GjR/e/HtuZPXu2kr3OR4+iVOnSqj+G90QXtEuWLAkgaF+8eIFWrVoFaI99W758uboWs12ZpR24PR7HNbVWmwNjgpZ95deZ+dyjRw/VRx4fuJbw94LHcJ2yXwUKFMCmTZtUNqwxmc1rUeAyG5eZ5Po4eH7mzJmxefPmn87tj+B8zZw5E7Fjx/bvP4PlRJgJ/KsZuoIgCIIgCIIgBB3+/7xNm9aInzgpDl95gXVHLqJBm25I6ZAe9ukzo1X3IVi53wPON1if1u+xd2OyKiKFCNqAQUF78uEXtO87Ggm1dbLm4Cns9LqH1r2GqjWSPGUa1GneCYu3H8Phq8/h9pusk99R0Oobe806+hwDlh1HsTptEdcqOVJlyYdqHUdi3M6rqNtzkvY1G7Qdt9rias3q/Z/h/AyDV7qhvzaGua5vvjkuNEMEbQjgLyZKye/JJ349oghawuux3mzx4sWVINOvx2tnzJhRic5fEXFBgYKQWadTpkxBkiRJAvSDn7MvnF8+bsOMU0pRzg/nn68ZHs+g8GvYsKHqO8f3Izg2Ss9mzZoFuJ9JkybF5MmTceXKFZUxavgar8fgdRIkSPCNoOX66dChg5LM+jmUsXPmzFGlGDp26uQvnw3b41goTylojd1nlhw4fvw4KleurM7X29bb0CU154ZzxLliHzh3xuaJcz1X+8HAkgLG7jHvCzN9mf1r2Fe2z/IJLAERkrXBcyi+q1Spovqmt83PKa5Z6sDUa04QBEEQBEEQhP/g+5k2bdogQeKkOHDpBTyf/AuXu+8xbeVOlKxUEzZ2qZE9XxEMnLwA292vw+X2hwgv38JO0Ppq1/YLfm4p8+wvaPuNVnOyct8peGnrxPPxJyzZ6Yoq9ZohRep0SJspO7oMmYgNxy7g2K13EX6d/G6C1i9j9g1GbDiLml3Gwso2LaxTpEPBai0w8G8X9fqi059Rt+dkxEmUFG3Hr9bOsxxBq/d/1OYLqKX1P0WmvKjYaqB2396aVCSLoA0BPxNDfD0iCVqOh3KUmZIcj6GIo+xbs2ZNkDJRfwUK0qVLl8LGxibAmNkHisa8+fKhVu3a6NKli6r9yrlnHdrmzZujZMmSKpOUctLwPApMZrFybD/qO1/j9Vu3bq3kqN4GSysws5ilFvhYv94vHkOxaWdnp67Lj8yMNcxCZVZqt27dVHao3h7XB4XvsWPH1PmG7VGA8hF/3mO+tmHDhm/uM/tJWVpbmwfDfnKsbIt9ZL1klk3g3LCeLWvkdurUSZWKyJEjh5K1+v1lcM5YhoElFYyVO9Dnpl69egFEKj9yrTMT+GcC3Bg8h+UZ2Ge9TY6B88C6wnzdlOtNEARBEARBEISABBC0F18oGeem5JMvdp26i4GT5qNouWpIkSYDSleph3EL1mL3qXtw016PqBuJmVvQcs6P3niLVQe8MPXvHZiybBuW7nLF7tP34HrHW5UXOBGGsjOAoE3sJ2j1zcHcH37CwUvPtHWxDmWrN0CqdJlQoER5DJ6yCFtOXNXm0tv/2IgWv4WgdffGQs+PSmKO3noBjQbMQtpcxWCdIi1yl6mNDlM2Yqbzc3UMZewCDx/U6THJogQta+TOc3uHsdsvo/HAuaocQ+QoURFX62ONzmO0196LoDXAIgTtz6A4ikiCllAubt26Ffb29gGuSYHHR+kNN7cKbTifnDMKxMCSlf1hXdn9+/erWsDM2OT8sC+cB2Z+njp1CpMmTULevHmVUDYUkMy4ZTbqjwSzLiHbtWsXQHxaWVmhc+fOSnCyTcrNPNo1WJeJEpHZsDNmzMDIkSNVfVrD+Xnz5g169uwZoF4tx0bhy9q0/JxlA1g7tm3btqrmKjf34v0dNWqUymg2fMSffaT05XEU1voY+ZFtlSxZCgsWLMDFixfVcZwb9odzxTm7f/8+tm/fjubNW6jz9XvM8ymymZHLe2DsHrMfLDlA2Wy4Nih2uUEa10ZwoQzmHCZMmNC/PX7/cA1wLr93rwRBEARBEARBMA3fCtqvMu3+J7g/+gLXe95Ye/gs2vQehsy58iNN+qyo17Ir5m5wwpFrr3Hy4bfiKryHeQWtL47f/oBxjhtQuHRlJEthj6R2qZCzQDHUbdEZY+atxnaPW9pxHwOdZ774kaBl8DW3Bz7Y6nYdPUZMQa6CJZA6fWZUqd8CU5Ztxv4Lz+D+kFnB37YdniOiC1pmnC7QPk7ae0fJ1vyVGiFRcntkKlAWDfvPwsQ9t+Ho5YuFHj7/nePx0WIErV7OYLLTPbSftB4FqjRFzLgJ8WekSKoEQ8EqTdBn0eFvzgvtEEFrAiiPIpqgJZSCFSpUUOPQr0n5V6xYMbx9+9YkgpZzSVnH0gaGj/xz3MymZFYvxexnbU54bGBxx39zvihEmQVK4WkoeTkWborFLNrv9Z9tUNB27NgxgKClXC1dujTy5cun5CRr1Do5OamNs3g8+81gTVneE8O+sT/MYjXcAIxjYtkF1ljlveVGdLt378bTp08DtEfhGbg9jpHZqlxf+hwxONaCBQvi6NFj6lyO0dgcMShab926pf7TRTlsuLaYybpw4ULVRmDYJvtYqFChAHPLNii1uaFbcGBfuEEZpbDhfHOOW7ZsqQRz4DEIgiAIgiAIgmBavitoA4ioTzhy7RUWbDmMJh37IHW6zMiYPQ+adOiDFU4nldD0ePRFibzA54bHMKegZaby304eSJ81l/Y+1m+vkj/++FO9B4sSJSqSpUiN8jX+wpTlW3D05lsTy2Lj8TNBqwfXyTGtj3/vdUe7viOROWd+pMucE7WbdsDCrYdw/La3tk4+R5h1ElEFLcWmo6cPZh97gW6zd6JorTZImjozHHIWRY3OozF83SmVdWpsgy1LELTs/0L2//hL9Ji7FyXrdYR1yvSIEi0GosSIhaxFKqHxoHkYv/Oadvz7b84P7RBBawIojyKioKVoYzanYW1TXp/yjhmY7FdoQ/n36vVrVf+W86fLR37Ox/U9PT2/HvlzuMFY3759A2Rl8pcZ/83H6b/Xf95PClJmyxoKQ84Ds2h5PvvC2q/GBKYxKLRZo5XZqnp7HBtLIvC+Fi5cWLUX1DmlBKaANqzPy4/MEJ7Hb+z3778e+WM43xS9Dg4OAWQr2+F/xiifA8P54binTp0aQKLzfGYtHzx4MFhClcfu27cPGTJk8O8D22R5i/Xr1wfIHBYEQRAEQRAEwTwERdD6ySi/nfz3nnuACYs3oXK9ZkhonQyFSlVEz5HTsOXENe1cH3WcsfPDU5hT0Ho+8UWnAeMQ5etToX9o78UpauMl0N6TavckWvQY2mvRkCFbbnQcMBb7LjzByft+NWqNtWeKCKqgVcdynTz6ggOXnmHm6t2o16IzktimRK6CxdG2zwisdz4Pt3sRY51EREFLuTnP7Q2GrvFA1XZDkSZbQSRPmw2l/+qCHvP2YMaRZ0re6tmp35wfxoJW9f/EGwxb64XqHUfAPmsBRI8ZB5GjREPKzPlQrcMIDF3roUoecBzm2MRMBK0JiKiCluUCWLPUUFLy+swCpSg1hTijMLxz5w6KFi2qBB2vzV9GzKbs1asXXrx48fXIn8P+bd68GZkzZw7Qf2Z6Mjv0R4KWc9q1a9cAY2ewL+nTp8eyZcuCLEEJN8AaMGCA2kAscHuUvo6LFikpHFSxyaxSiliKVUpfilKOjX1j5nNQxTHnmyUPmjRpotar3i+2V7FiRVy4cOHrkQFhPy9fvoyUKVOqMehjodhleQnOTVDHwj6w1APFt94WRS0zdJktHdR2BEEQBEEQBEEIPYIqaPXgxk+ud32w+/RtjJi1AgVLVYK1jR2Klq2KkbNX4PDVf+DxmI+8h18BZy5B65dJ6oPSVetp7438EpdixoqNYuWra3O5ElOX70CngeORLU9hRI8REwmtkqB6wzbY6XkH7o/MN7/BEbR6+G0Q5guncw8waclmNcYEWv/zFimNvmNnYd/5x/DU1kl4FrURSdBSbC4+8xmT991D3V6TkCZ7IVjZOSBfxYboOmMrpuy/rx3HWq3Gz9cjrASt6v/pT5ii9Z/lF9LlKYnY8a0QKXJkJLBJibKNe2LAsmOYdfSF1ketT2YQs3qIoDUButCLaIKWko2lBgwzUHXBeeDAAZMIWs4lZSYlIzMxt23fjhUrVmDx4sUq6zU4Y+W8nTlzRslevf/8xcZ7RFn6vf7r95ObegUWtBx/jRo1VGkAisWgwjENHDgwgKBlXygi8+fPr0RkcNpj/+7duwcXFxfs3bsXGzduhKOjo6qv+6PyDYHhWClz9ZISet+4dpnVyw3MvgclMf/DxmN1scpg6YerV69+V4Abwn4+ePBAlTfQ22FwjbGcRVBFsyAIgiAIgiAIoUtwBS2D8o3S0uX2e6x3PosugyciY/a8SOmQATUatYbj1qM4fust3B5ox4fh5lYhDXMJWkrOYzc/IGeB4qouJt8jMVN29trdcL3zXpu7zzh87QVW7fdEgzbdECt2HMSNn1DVdnU6/1g733i7oR0hEbR6UMByo7Dt7tcwcOJC5MhXFMlTpkGZavUwbcUOOF9/qR3jq65h7HxLjogiaNUmYK6v0Xn6FmQsWB6J7Rxgn6MImg5ZgHE7/MoAqIzZIEhNswtabvClfZx34i26zdqJnKVrI0ESW0SJFhMx4yVC7jJ1lBylYKYo/V7mrylDBK0JiKiClo/RM0uTmaz6NXl9SsudO3ea7NFzzifFHcfNa3B8rMNKWcfXggrbuH37NsqWLevff/5io4jkRl/BFbQ8l9mqFIdBkY+GfE/Qcr2wDENIRKQ+TxwHz+ccMQs3qHKWsA2ev2btWrWhmt43iuPcuXOrGrvfg9fiRnLMbuZY9HPTpEmDHdp6Dcq65LVZdzdbtmwBrs0/CjBLO7jzLAiCIAiCIAhC6BASQWsYlLWUsasPnka9Vt1glSQ5bFOlRfMuA7HD4xZOPf03yDLPUsJsGbQUtLc+IGdBP0H755+RULpKXXUf9MxSzi/D+fpzdBwwRpVCYPmD5l0H4tjN92YRm78iaPVQGbV3vbH1xFW07T0CNnapkSR5CtRo1AZrDp2B15MvqoSGsXMtNcK7oHX0+oTFpz9jyGp35KnwF+JZJUWchElRs/MYjN12BfNOvgu20DS3oGX/uAlYiXodtf7bIHKUqNr3UWSkyJgHzUcsweR9dzHf/atgNnK+OUIErQnQhV5EE7QUcNyV39bW1v+auqBl6YDvCU5LgfeF2Zl8VF/vvy5o+R+N4Apajp0lBVj7NbgYE7RsjyUBtm7bFmYikmPltSncAwvanDlzKnn6PXgeBTg3kjNcl34ZygPx5MnTr0d+H0plft8kSpTI/3x+39StW1f9gSA4slkQBEEQBEEQhNDjVwWtHsyWdb7xEtNX7kSBkhWRwMoaGXPkw8g5q3Ds1hu4P6T4NH6upYU5Sxy43PVB0XLV1KPYUaPHQO1mHeBy++M34tVNfXynvd5R1aW1Te2AMfPXwONx+BC0ejDr1+X2GyzefgzlazVUZQ/SZMiKHsOnYd+Fx9o68Q036yQ8C1pHLx9M2nsb1ToMR2K7NIgZNwHyV26CYWs9MN9dG8dPShl8L8wtaBed+oQuM3cgeqy44B844iSwRoXmfTFm2yUscP+6AVgYylmGCFoTEFEFLeXZggUL1HX0a+qCdvv27WEmaDnfDD3LlsG+BA5mlXIzs0qVKvlneOqClpuf8RhjfE/QUlrmyZMHR48e/Xpk0DEmaNle3LhxTZYpqs/Rj+aJc0QRv2fPnmALWrbPcU2bNk0db3hukSJFcPbs2a9Hfh9+b1SrVi1AeQX2Y8PGjap/vIYgCIIgCIIgCOaH7x9CQ9AyWHf21LP/4dCVF+g3bh5S2KfT3gNEVQJy+R5PeD7xgfujf42ea0lhvk3CPsPjia+SrpG190rRYsREnRad4XLnW0HL4L1xOvsI6bPn1t6PRUbeImWww+OOCfvnF6EpaBlsz+vp/3D81huMW7gemXLkU+PPkb8opq/cA/cH7+ERDtZJeBO0zCJ19PLFnOMv0X7COtilz4nIUaMhdbaC6DpzOxad/qTFZ6PnBjXCQtC2HLlMjeNP7Xsifd5SmOn8TH3d2PF6mDOjVgStCdCFXkQTtNw8asaMGUicOLH/NXVBy7qnFGjmgPNLicjaqqy7ev78eVUbddOmTao2Lfs4fvx4jB07Vm02xfswaNAgVWeWpQzs7e39+/8rgpb3s1ixYt/dOOtHfE/QcpMtbooWGpmibIPXefLkCW7cuAEPT09VomDlypWqVMXkKVPUHI0aNUqVaRgyZIjqE+epdu3a30jWoAhaXpO1gTNmzOh/PueYNWR5XUr+70lWfl3fxI3n8jw+vpMhQwY8f/EiVOZEEARBEARBEISQEZqC1i8+a218UpmQG45dwl9teiBlmvSIn9AKTTr2xdrDZ+Fy562qTaseezfaRtiG+QTtJ3g++YS+Y+cgarRo6vHsirWbwPnaWyUxAx/retcX7o98MGz6UpVFmzR5CvQdN1ubzw9Gjw+tCG1B+1/4au36qlIY7fqORLrMOZAgUWJU/6s1/t7jjuO3X6njLHWdhBtBSxmpxayjz9FrwT7kq9AQCZKmgG36HKjbc5Kqz8o6tPOMnRvMMLugPe2rNgWLHCUaIkWOisyFK2Gm84sAAlZ9rgXHN/v4c0w9cB+Tne5i5tGn2utfs2xNGCJoTYAu9CKaoH3z5g1GjhypHsPXr8nr89/Hjx83uaDlvFLMUmBSFFK6cj5Tp04dQJwGJ35F0PK8MmXK4ObNm1+PDDrGBC3XB2uvBmdTr8Cwr1wfL1++xOnTp7Fg4UI0bdoUuXLlUmUDOF79esGJoAhaHWYpd+zYMUAGLtdJ69at8fjxY6NjY79ZwoDfM3oNW/3e8D6HpCavIAiCIAiCIAihR+gL2v/C88m/qvTB3A0HUax8dVVzNFXazOg/bi62nbwO17sUi8bPDcswp6Dl+HkNloTg+6uCJSpoc3Pju9fk/dl28ibSZ82NqNGiq3nd7HoN7o9C774FDtMJWr9gtqzH4y9YvscdVRq0VJuIJbROhk4DxmHDsYs4fpvC2vJEbXgQtJSTc1xfY8SG06jSZjCsU6aHtZ0DitdpjyGrPVSpg4UePkbPDUmYW9AuPuOLml3GqD9uRIoSDTlK1sJc1zf+gpYfuYHYxD230GXGVpRv1ltJ3PT5SqFEg87ou+iwdvxb/+NNESJoTUBEFbTMxOzevfs34i1p0qRB3qU/pLBtXn/Dhg2qHmmSJElUPzin7ENIxeOvCFpen/Vs7969+/XIoPM9QZs3b171WkgF7fv37+Hp5YURI0ciR44cSp5zfHpGqn6t4EZwBC0zrVetWhVgMzleO23atCq71phs5XivXLmCWrVq+feT95X3meeYKztbEARBEARBEATjmFLQ6sFs2oOX/8GIWcuVgEzpkAFFylbFyNl/Y4fHTe2aPtA3xbKEMKegZVbswcvPUaZafe29UiSVRTpzzW64PfA1ejwlpfP1F2jYrqfKuk2dLhMmLt4Ij3AsaFVo42I27ZFrrzFl2RYUK19DrROWPeg/YS42uVxW94XrxFJErSULWpUR6/YOo7ecQ4O+05Eud3EkSZkOhao2RZcZ2zDD+SkWePhllho7P6RhbkG75KwvKrboj0hRoiJKtBjIV6mx+voC94+qL6yz23rM38hVuhZixUvkJ3IjR1HlEKJEjY6UmfKi14L92nyFnqQOHCJoTUBEFbSXL19GvXr11Dj0a1LcUQS+ePHCZIKW8o5ydvTo0Spb1lA08nPOAfsUM2ZMtds/5yFVqlRKCKZLl049Ip8pUyZkzZpVfeS8GZ4fUkHLe1u1alW18Vhw+Z6gLVSoUIg2w9IzUPft26dquLKWrd4ug3PEe0WpzNesra1hZ2enyj0YzhHLCzCLN/A8B0fQch2w7ET16tX92+BHXnvChAlq7IHh/G7ZskVd3/CalPGvX78OsbAWBEEQBEEQBCF0MIegZVCscUOrTS5X0aHfKGTLWxipHDKiVpP2mL12t3btJ0rUGjvX3GFuQXvinjdGzVmFuPETIn7CxGjZfTAOXnphVFpTTrrcfofBUxYhesxYiBU7Llr3HIZjt0xX5sAsgvZrsI6x15Mv2HPmIfqMmYm8RUvDLnValK/ZUInoPWfua8exRq/x880ZlihomQnKmLzvLtpOWIM8ZesibmJbZClcAY0GzNa+fk/JSMpLY+f/aphV0GrjZAZtiXqdlHSNFiM2itVpr8bPrFlmCJdr0hMJk9h9lbKR1B9B/lC+ze/p3qgxYqFE/Y6YfeylkrpGr/OLIYLWBERUQevs7KwyPCnO9Gvy84YNG6qsSVNINLb59u1bjBkzRj2ib3htBjNEKQ4bNWqkaqdOnToVixYtUvVO169fr+rSbt26VW1itmvXLqxevRr58uXzP/9XBS1lqCUIWtZ2ZR3e8uXLq/EYrgt+zixnZvuy9ABF95w5c7Bs2TKsWbMGGzduVLVft23bhh3auuIGYTwmsIgPqqDlfLEcxrhx4/zLFehtFC9eHI8ePVLHGELBzzq4hmKZc/3333+ruQ98vCAIgiAIgiAI5sVcglYPvwzQ11i0/Riadx2AjNnzIkO23GjWuR8Wbz+K47e4QZRp+/CzMKegZXBOtrvfRMlKdVTZgsy58mPO+n1+1zUiXY/f+YhpK3YjfiJrJZsoL3d53cHJBwGPC60wp6DVQ4noOx+w+uBpdBwwFjkLFIN9+iyo26KTyjA+fPUfv7IOJpLSQQlLErSUkixXMP3wE3SZsR3FarVB/KQpkT5vSdToPAbD159S0tJUYlYPcwpaNWZPHxSo0lQJ2Oix4qJcs96Yd/I1us/ZhSxFKiNG7PiIEScB7LMVRN5y9VRYp0j7VdL+H/7vjz+QuWA5jN1+FQtNJa1F0IY+EU3Qcjys/UrxyQxVXbjpY6IUNZVE41gpWG1tbQOMlbIvZapU6Ny5sxKL169fVyKXx38P9o9ysHLlyv5j+FVBG9oZtAULFgy2oGX/uFlau3btVBax3h7HxjZLlSqlhKyHhweePn2q7uX3YFucwz179gYoZREcQUvYDjck4zm6VGd/KGD3HzigxsdjdM6dO6dkty6Fea+zZ8+OS5cuBThOEARBEARBEISwwdyClkHhx9q0+y88xcQlm1C5XjOkdMiIfMXKoseIqdhy4hr4uHtYZUmGhaA9fuuderQ/TYYsiBkrDqo3bK3mwdgcUNA6bj2GpLap1Pux3IVL4u+9Wj+/UxbhVyMsBC2DY+fcH776CnPWOaFui85ImzkHsucrgnZ9RmDVgVPavdLrGJtm7D8KSxG0Cz28McflNQb+7YJKLfsjZea8SOaQFWUadUPfxYdVdihFJoWmsfNDM8wtaOe7fUCOkjURKXJkxIybAFXaDkHPebuQPk9JRI0RB6ky50PVtkPRc74Txm67jHHbL6PlyKWInTCJvz9Km7MIhqzxUGUhjF3nV0MErQmgUIpIgpYyjXVW+cvY8HpcpBSMzNwMbsZnUOA8vnr1Ss0ZJZ/+TcHgI/h8XJ79Yk3TwMLPGHz94cOHqFSpkn9b/BieBa3eN2YIs+ar4RzxXrF/zHxmm1w3QZkjHrdr1+5fErSEm7m1atXqm++BXr16qT7rY+T1mMGbMmVK//XFe9KnTx+VWSsIgiAIgiAIQtgTFoJWD4o117veqg4t69MWr1BDbRBVoER5DJ+5FAcuPYfnk88wd31acwtaPQ5d+Qddh05CQu1e8NqN2vVUG4J5PP73q4T0C5c7H7Fg8xEktrFT7xXTZMyK6St3aK+ZpkREWAlaPfzG7oO9Zx9g0pLNqFy3OVKmSa+yanuPnqHKIfitE/P1iRHWgpYylDFu+1XU6jIWaXIURmK7tChSszW6zdqpsmnNIWUNw7yC9qMS0+nzl1E1ZWPEiY/c5Rogfd5SiGuVTGXW9py/FzOOPMUCdby3ktnz3N4gV5m66hxm0KbNWRRDRdD6I4JWw9yClo/PszwAa5Xq12JQ2pUtWzZEgjIoUOCdOHECiRMnDiBUmSXaunVrdd3giGEee/v2bXUP9DFEBEH78uVL1ZbhWuDnDmnTqpIFzJj9mZjV4XGch3Xr1v2yoOU4mHXNesCG7bDWLTOZdWH84p9/MGz4cHU93g8GM6a55rj2BEEQBEEQBEEIe8JS0DKU/HvwGcduvsV65/MqgzZt5pxIlTajenR/7vp9OH7rLdwfGj/fFBFWgpb1V7d73EKj9r2QIJG1ErVV6rfAkp2ucLnzTm22pubh7mv0HTtH1aDl+yxm0g6bsVybJ281n8ba/pUIa0Grgtm02vy43P6ArSeuY/AUR+QsWFyJ2iJlqmDy0s04euMNPB4ZOddEEZaCliKUArbN2FXIWaoWrGwdkLlQBbQYsQTjdlxTG4Qt9DDdxlffC7MKWm18M51fIEWW/Pjjz0iIFDkqYiewRvwkdijdqDtGbb6g5oF9Mjxv8WlfVGs/TJVF4PdPpvxlMGbrJZPNlwhaE6ALvYgiaO/fv6+EqOFYuDj571mzZhnd9OlX4RwyM3b+/Pmqjql+XY43TZo0WLFiRbDkLOG88TH/woULBxhHeBa0HBOvzw25DNcCx9SyVSvcvnNH9T+o6PM+duxY1YbeXkgELcfA0gUVKlTwb4d9pGDfvGWLmm/2nxuKsXYu7wWP4cfatWvjxo0b6nVBEARBEARBEMIe/t88LAWtYTBT8vjtt1h75CyadxmA+FZJlIBr0LobNh2/rGrTuj80ff/MX+Lgi79Ydbvvq+rJNu3cT9WYjRErNlJoc9C4Q2/MWuOEFU6eGDLVEXba1/74w++9IjcW6zlyBpyvv/NvJzTDIgStQXCduNx5j82uV9B50HiVSWxjlwoV6zRR8+P+6LNZ6hiHhaClRFzo9RH9lx1D/kqNkDBpCiRPmw11e0zC2O2XtT68wXx34+eaI8wpaDkX0w49gXWqTH7eQYuYcRKgeN2OmLD71jdiVg8K2uodRyJSlKhK7OYqXQvTtXa+d/yvhghaExBRBC0F2/v377FkyRJVO9TwWlzUFJ2Ua98Tm7+CPof9+vULUFeVopCbfLm5uX09MuhQPC5fvlwJXsNxhHdBS5GZJ0+eAPeHfRs9Zgz++eefr0cGDf2eswwE+6O3FxJBy3ljBuzgwYMRL148NdcMttu4cWM1p9xcjtm6VlZW6jr6/ZgxY4aqKcw2BEEQBEEQBEEIeyxJ0DL0R/mP3niB+ZuOoEy1BkhoZY2suQui77g5cDr3ACcf+PgfZ4owt6A9dPklnJn9+Vj7tzYuv/q8T9Bv/FykcsiAaNr71Tjx4sMqiQ2SJLNDgkSJtfdfftl/fL8VM3ZcdOg/FoevvlYy1dg1fiUsTdAy9Pt//NYrrNx/CjUbt0N8bV4cMmZDu74jVSayqdeJuQWto9dHTNp7F5XbDIZVcnsVJep1xKAVrph9/CUWeJi3nIGxMLegnbzvAeIltlWiNUq0GMhYsDzGbr+G+T8o7cB6vCXqdVIZtDHjJkSl1oP8XjNROQgRtCYgoghaCk3Wl2W9V8PrMCjsmD1LmWcKicY2+Wh++/btA0hRzmGJEiVw5cqVr0cGnWfPnikRG3gjrfAsaNnnixcvImPGjAHuEYX63LlzleQMDlxbx48fV5vB8R7r7YVE0OqwVAE3/NLb45xTyLJGLUsddO3a1T9bl2PImjWr6oMgCIIgCIIgCJaDpQlaw/B4/AWud99hzLy1cMiUA1GjRUfugiUwe+1+uD/y8dvF38h5vxrmFLSUnyv3nUapqvUwcs5K7L/wTMlPljvwfPoF646cR+1mnRAnbnz1novB91extX8nSZ5Cvd+KFj0mWvccjkNXXqnzjF3nV8ISBa1hMFvW64kvZq/bjxz5i6l1ws3ERmvr5sTd9/DU1pEpxLW5BO3i01+U5Gs5ajniJUmpRKR9zmLovfCAEqKOXp+MnhcWYVZB6+mLibtvIUbs+IgcJRoyFqqAYWu9fjgfrEPL+5Q6WyElaJOmSo9O0zZj0WnTzaEIWhMQ3gWtnkXp4uKC9OnTq37rf3FjcEx8BN2UO+zrc9ihQwfEiBHD/9rsS7FixZSUDCpsiyJz69atyJYtWwDxGBEELe8D67oargWWhaBAf/Pmzdcjf45+35s3b67GZnjPOWc5cuQIkaClhK1bt+43c8ds5jNnziBLliz+fWcd2g4dO6rN3wRBEARBEARBsBwsWdAy/OSgL7advIE2vYYjdbrMSGxji3otu2DNobOqJAJ38A/NTElzClpXLShlC5epqjJhi5athg3HLmrX9Hv95AN+9MZ654sYOm0xWnYfrOr0stxB0XLV1Pu7aDEoaIfh0JWXv6Wg1cP90Sfsu/AYvcfMRPqsuWCVJBnK1fgLjtuO4uiNl9oxoZtRa0pB67e513uVGdtr/j5kKVIZcRJawzpFWjQeNFdtfOXoZf4asz8LswpaL1+M3noJqbIVQtOhC7W5+ucnWcTvVfbsoJVuiBI9phLdWYtWweS9d01ar1cErQkIj4KWfWYwa/bx48dYunSpas+wfQb/nStXLiXqmOFqKvQ55OPxgUsc5M6dG87Ozl+P/Dl6likloaF0ZPDfvC8tWrQIl4KWa+HWrVvqPMN7RdE5ZMgQlTUcFDhGvZxFkiRJvpknzjvl9vbt27+eEXS4phYsWIAUKfz+asugFK9fvz4WL14cQJgnT55ciVvOgSAIgiAIgiAIloOlC1oGBaHH43/h9uAjlu50Rfkafyn5liptJvQYOQ27Tt3Wjgk9+WZWQXvXFyfuf0CfMbNV5mfylPYYOn0RXO54a6/7XZfj93z8P5x+8T+c/ed/OPX8M3Z4XEHeIqXVe7wYseKgXd9RfiUOfmNBy2BWtccjX2xwvoC6LTrDOlkKJE/lgJbdhmDD0QtqXkNrnZhK0KosT9fXGLLaHWUa9UCCJHaq1mzZJj0xfud1LDn7GQs9LU/OMswpaFmSgJuETTvwSJsTZhkHpYbsWxSr20Flz3JOW41ajoVan40fGzohgtYE6ELPmKDlZkjXr1//emTI+J6gpdwKrqBlXykDX79+rcQxs0xZHzRWrFhKnBmKOvaf9VvnaQuFmZlBlYghgf2iMKWs4zj1PnC8FMfTpk1TgpjHfQ++Rjl44cIFdOzYEfHjx0eiRIlUcCwcG4PjpGhlvVRj6PfTEgUtj2OGar169QKsBX1MFy5e/OEcEf3+r127FhkyZFDjSpUqlX/ZAQbb5r1fuXLl17OCDtu/fPkyihYt6i9j2R7XK79muMZY+/b06dNqjQuCIAiCIAiCYDmEB0FrGMySPHT5OcbMW4WiZavAxjYV8hUri5GzV2LXqVtwvfMR3O3f2LlBDfNvEvYZaw+fQ+acBVQ2bOmqdbHZ9arRDdEoF120Ma7c54nU6bOo911xEyRC92FT4Xz9rWor8Dm/GuFJ0Orh/vATjl5/hekrd6F8zYawS50W2fMVQd9xc7Ht5BUcv/1BG4PffBo7PygRuoLWW4nZOa6vMWLDGdTuPgEpM+VF0tQZUKBKU1XOgBmgFKD8aLyNsA+zCloV3ljo4Wvk64FCm1tmyXaZsQ3RYsVF1BixkLtsPUw/9PjrnBo5J5RCBG0IYO3MH8Xt27dx8+ZNdO/eXWUy6vKJAq548eKqrisf4TZ2LoM77zOL9XsZnd8TtEmTJsXw4cPVplHG2tVD7x+lmaenJ5ycnJTY/euvv2BtbR1AmDH4b8o6ljuYPHkynj59+rUnpoVij4/A29jYBOgTJV/ZsmVx4sQJJVV5HCWkHvw35+7ly5c4fPiwyo6lcOZj//ycMlPftEofH0sEcE44t3o7OvzckgUt5ero0aPV+XpbHBPb5n198eKFGpfhPPFzfo3zxz8YULpnzpxZza2trS3mz58fIJOWHym4eR2eE3iOfgbnr0+fPqo2rt6mYfBrnFtm/XI8wWlbEARBEARBEATTE94ELYPi0vPJF2xzv4Eug8cje94iiJ/IGtUbtcGMVbux/+JjbRwhL3tgfkHLTdFeoe/YOSoz2NrGFj1GTMHhq/8YHQOzQCcs2qzELN9zJUmWAkOmLcGxWx+040XQ6sE+ej35F3vPPsCAifNRoER5JLCyRukq9TB+4Qbt6/e040K+TkJL0KpyBm7vMGH3TbQZtxLZilVFwmSpkaVIJTQfvgjTDj7CotOf/Y4zcr4lhfkFrWEYvxbnjdm1Q1d7wiFnUUSOEhWpMuVB/6XOcDxl+kxkEbQhoGnTpj+NZs2bq0fCDQUqfyAy+7NWrVrqdWPnMZo0aYIhQ4eqx9ONiarvCVrWauVu/k3YTrNmRttmsP0GDRqgevXqKFKkiNoEjAKTEtawPT34GjMdHR0d/WWfOeDYKTJZmkDPeNX7RNFXrVo1ldF59tw53Lt/X0ltCuizZ8+qR/Ep+woUKKAkOcdVuHBhHDx4EBMnTlQy23CslI9jxoxR5QKYHUxJSFGqi0hLFbTsG2X0gQMHVNZr4PWWNm1ajBgxQpWEoIBmtu3Dhw9VtjT/UMDSAw0bNlTrktenxB40aBCePHmCfPnyKWGrzzvbphjfv38/nj9/ruaIEZT1wPHwPHt7e/8sWsPg1yiImcFtbM0LgiAIgiAIghC2hEdBqwczIClTV+7zQJNOfZE1d0FVo7ZJxz5YsPkwjt54reRqcKWluQWtHjs876BO846IFScuHDJlw8BJ87D/whO1CRbHoETpgy9wvv4Cf7Xtob3X49ORf6hjp6/aobXh802boRHhVdDq4VfH1wfrnS+gQ//RyF2oBJLapkKtpu0xbcV2HLzMjdmCv05+VdBSHLKOLLM4O03diMLVWsDGPjMy5CuFuj0mYuSm85jn9i5ciFk9wkLQcn5Y8sGvxEHA6/mVL3iP/kuPImfJmogWIxYS2zmg3YS1Ji9toIcI2hAQWC6ZIrjrPWWhMVn1PUEbWkEhx3Yp7PgYeqtWrbBv3z4lFc0Nx0qxR4kcWOzx3xSQNWvWVP9R6NSpk+prjRo1kDVrViVTORYely5dOiWYKV/37NmjMmYN2+NYU6ZMqTJs+/fvrzJFPTw8/LNOLVXQ6lC69uzZM0A5CAbHz68xc7tZs2aq1EP79u3RqFEjlCih/bJJmlTNA4+j4KesZUYty0f06NFDSXtd0DIoskuXLq1e69evn6ohy7H8TKrydUpd3hvDOdSDc8k/GvxqfWZBEARBEARBEExDeBa0DEo1ZtMeufYa01ZsQ7UGLZEmQ1bkKlgCPYZPxtrDZ+Fy+712nPHzjUVYCVq3B5+wwskdZarWRZx4CZAqbUa07TMCaw6dwdEb77RjfFR5g6l/b4Vt6v9n7yzAqlq+Nv73XkUJAQElVFQU7O7u7u7uvnZ3d4tid3cXISFS9rUVC+vaiKDX7/1mzfF4UbaFpzis93neBz1nds3ee2bP76y9Josc39O4rni5ath4IkwsHxNnnZpwQge0ZDqG4If/wk9cCx67PeUkc2458yFbnoLoPHAMVh88hZM3X8lzEKiwvJJ/B9DSZFaLA15h+Do/VGkzEBlyFEJa1zzi3wMweIWXzEGrgo4JB86SdQ1oVXA2ChN2XkTveXuxyF/UW7CoN1G/9N2sY/fkfuQsURXJzVLKSdZaj1yKJYHiOmBAq6hEA2hpxnx9AVpaJ4FZgnjr1q2T+0FRmj+CcNoQbZOA5cKFCxXTL6hBMoFEten/6g6I4GOuXLmw1MPjc0QyRYcSrKRoUfV6qKx6XQQLCehu2rTp83EbOqClXLuUroJgNa1HvU6yuh5i1xP9Ww1m6bjpWqLo6rCwMHmsdNwUYZs+fXr5/dfroqhkqgua6Ivq9Uf7S3VI66TJ5wjyxt4/Ml1vs2fPlhOVsVgsFovFYrFYLMNTQge0aqsA7DscCL2LSUs2olKdJsiQJRtKVKiBodMW42DYXYQ8pAjUH8NWvQFacQwBd6Kw7kgwajfrACsbO/lKfuHSldC+zwiMmOmBroPHI0fewp/HxjSxWNOOfXHibzp32tlPYwC0alMdn74fjWMXH8vo2botOkkQTlG1vUZMxg7/ywiOoDI/rsv4AFqCrsuEKTq2dvdxyJK/FKzSpEf5Jj3QZ/5eOeEVgcWEBmbV1iWgpTpa5P8KPefsQJ7SNZEpV1GxzU2YfeIBpuy7JqFoucbdkCaDG0xSmME5e0F0nLgGiwNe67R+GdDGQ7FhoLZcoECBbwJagmH7DxyQcI8godLyP2sCbbQOSmNAUarVq1eXEaQ7duzAlStXJKzTt6gOKLXCokWLkD9/frnPBBipkyGrIZ/6/2qAaGNjI/PN7tq1S+aj/fipLgkU+vn5yQhSihpVw0q16f9ZsmTBxo0bPwNaAqCUU5igrrruzMzMZJqI+ABaApEEaO3s7D6vj4AnpZyg6NVfBbS0j7Scv78/2rVrJyNjaZ10PEr1pIbRdPz0Y8CECRPkZGp0nLQu2v7r169lOgjKAUz1GbuOyPRZo0aNfgrQkqgM5V6m7X29P5R+gnIK00Mfi8VisVgsFovFMjwZC6CVJpB4/wP8w99iq8959Bs3G3mLlJZpD2o0ao15Gw/C9+ZrOYFUwB2F5T9ZX4CWTAAx8F4Mtp28hE79R8Mpg4sYA5rAKpUtHNNnlH+TJFEF2/whxm90bNOWbxPHrbw+TdiYAK3aKgAbjd2nr2PkrGUoXqE60ru4oXzNhpjkvhEn/n4ijjlGXAvfjkr+VUDrEfIOs4/dQ9uxy5C3bG1YpUmHPGVqocOE1Zh+6KYoo47qTJhwlqwrQEuAldI/NB+yAOnd8uLPpMmQ1CQFnDLnRP7ydZGrRDWkzZIbZimtkSy5qazvvvP3YaH/S7mPSuvUlhnQxkP0Gr22PX78ePlK+LcALU2eRZ1jp06dFJf/kbt06YLevXtLSEiRi1u3bsXp06flBGMEQwnU0XaUtq8P0X5Q1Cnt4+TJk2UuVIKQBJcJNqqBIUFrysNLr+ATmKUJ0Qhcxj4O+jd9dubMGZnKgKA0QUNKe0B5V+n/w4YNk3WsrgMCtZs2b45ThxTZ++LFi09r/nnR9nfu3IlevXqhQ4cOcn30d8qUKZ8haXxEQP3u3bvyfNL1QXldCSoTjFVDWQLLlK+WciHPmzcPgYGBEmB/DUfp2OkapP3s2rWrhKgUjUzpNygnMaUkoIhYgs0/u7+0fxS9TOdLDY4JElPaBUo/Ed/jZrFYLBaLxWKxWNqVUQFatSXkpIm3Xsr8tJ36j5HwjdywXXds9rqA0McfEBTxUXF5fQJasowGvheDE1eeyCjPynWbwdyCJmZWRc3+71NgjI04Zx37j8bRi48/Ace469KEjRHQqk117XfrDbadvIB+4+Yga+4CcEyfSQL95XtOimskGsEPla+TnwG0BBKXh8WI717hr8WHULByI6SyT4eMuYqg5fBFmLr/WoLLM/s96zKC1j0wEuWb9ZYAVn1f0D1CP1yQk/zxB+wzZEWd7mMxYed5Wc9K69G2GdDGQzTRkrZNkJSgoJIIYtFr8DQpltKyP2t61Z+2Q2CMZuYnIGfoojohmEjRxZQjlvLJbtu2TUb8Hjx4UMJGymP6+PFjeUzfA370gEHroonFrl69isuXL8tlCepSVGhssEt18+r1a1lvlO+V/lL9E5z91nn6nmh9FKFK54DWp17ns2fPPkPh39Hbt2/l+v7++285QRhB1i1btmDPnj3w9PSUE6lRNCud++/tP+0L1SMdK+WmpahqMoH8e/fuyeV/dn+pHF1vFB2ufs2G/qqjlel7FotleKK2ktpDmhSQ2gJqN6ld+PpHHWoHfrYtoLaT2ruv16Ep0X7QPtOPTOo2lq19U79D1wf90EjnlkznWqksW3tWP8PQvUZ9PP2QSveuUlm25k33AZnqnZ9tWMYmateNDtB+suqV/2h4XfsHS3acQNX6LZHGMR0yueVAn9HTcfj8AwQ/jBshqW9AqzbtP0UDHzx7D9OW70CD1t2QPV9hpM3oKtMeDJ3mjkNnHyDgrnZyz6ptzICWrLpOYuBz44XMRdu4fS+kzZAZGTJnRbs+w+XkbSGPRB0TOI+13I8ALUHXpcFvMW7bGVRq9RccMuVAamc3VG07GGO2hGGh/wtRLuGmM1CyTlMciG0NXxeAVA4ZkTRZchlFS06WPAVsHDOgXJMeGLzcE/O8n4jykXqrZwa08ZB6EKpt/0hKy8THCU3q/aaHXnpIoMEHmf5Nn/3qcanLf20l/UyZX5Gm1xdb6nXGrqOv6+lnpV7X1/5ZUVna9ubNm2XqCXV6A4p6rlKlioTkv7I+FoulG9F9ST9a0VsdlIIlc+bM8i2FgQMHyh/K1PCB/hIMpR+dfnQvEzgaPXo0qlatKn9M0/S9T+sjMLJ69Wr5ZkS6dOng7OzM1rIpZznVNaUP2r9/v4T4NMlnpUqV5Of0vdJybM2a6pry6C9evFj+qELAkNI9Uf3zOdCdKbc+pZxSz3/AYhmLjBnQxnbQgw/wu/0GM1fugmvO/DA1t4BrrvyYIf5/6u5bhD76KI5dVdZQAO1ni/2ivKiB96LgefUFjl16Cp/rr8R+RX+CiwrLaNDGDmhjm851wJ23cN9+AoXLVIWZRUqkcUqP0XNXwffWa4Q+putEVeffBLQyavYDFvr+gxZDF8A+YzaksLBG3vL1MHiFtyhDEbO6fc1eV9YloCUvDY7GiHWnUKZRV2QrWhlFa7aWdT5u21nxve4mAvueGdCyWCytiwYnFEVFOXspLYUa0FKairlz58poKxaLZViiQRhFzlOuacqRTT+oUG5r+kv3cdmyZeX3VI6i9mfOnAlXV1eZu/p7UILAXY8ePSTopRzemoYXBIvpDYFatWp9kU6FrRvTtULplwjs9+nTR+a4VyrH1p7pui9WrJi8P9evXy9TG/G9oFvTG0L29vYy3Zb6hywWyxiUWACt2sERMfC68hx9Rk5HGidn2Nk7olqDVlhzKFB8/xan7xkgoP3sD/L8EBzV5XlKTIBW7aAHMfC5/hKj56yCU4bMsLa1Q9FyVeG+3RP+4W/kNRF47x36fQFoafKpd1gS+Ar93A8jR/GqMLNMhUy5iqD9+NWY5/0IS4ONK2L2a+sa0C4JjJTbpHqlCcMIyi4LjZZg1lDqmQEti8XSuih6dt26dXBycpKDFoKzNIApWLAgbt68yYMXFssARSlM5syZI4EbQTbKaU3RkHny5Pk8SWXPnj0lcKWygwcPliCIJj8cN27cN/NTqwEt3f/aALQ0eKR2pUKFCrK9+fPPpDBPaSknymBryTa2MmqE2naC+JRrnFLs0CCerh/63MzcQpZTXJ79+xZ1a2FphT8/5ZynSVUpddPSpUs/5+tPZqKaOIbPg3adVNwDdM1TW0hvDtEzEItlLEpsgJZM+VrDnvyLLV4XUbdFZ9jY2SNtxszoNngC9gVfF2Veo13vobBN42BggFY/ToyAlkzHfeafjzh45gFadx8EO3snpHZIi2ad/8I23wvi+5cYMH6GCtDO2wv3wOeYsPMCyjbqhuTmlrBLlxnVOgzD9EO3sPzMB3gERysCPGOyzgGt2kGfwLcBwm8GtCwWS6uigcn58+dRvnx5GXmnjiyxsrKSk6LR95oGNCwW6/dF6QfatGkjIQNN5Ec5uilSlnJZUrQsvcJLr1PTK9QEXffu3SsnWSR4S9G1vr6+ciD3tXQFaAkmU1vj7OKGv8bOlPnk6BU0tua9dOcJdB08TkZpEqCl6yY2oKXz0K7PMCzdpbw8+/e9dKcnBk9ZAJesOWV9U7732ICW4Gy+4mWxYPMRcS94Kq6D/XumNoZmfc+ap6A4B38yoGUZpRIjoFX79P338L72DDNX70aFmg3h5JwJhUpWwJi5q1CnRQekskuDVfsDGdAmUkCrNl0nAeFvRL/sjZpN2iF9JlfkyF8EAyfNR4sufWHn6IzmQxegQZ8psE2XBQ4Zs8pX7Qev9JYTUyUGMKu23gCtAZvyEPecs1MCWnf3xXKifEMWA1oWK4GIoIsalFCUXezcs0mTJgW93kyTs3H0LItlmCLwWqNGDRmJR5MwqiED3duUsoRgLEXM0sSDdB/T5wRxGzRogIwZM0owRPlmv5auAW2OfIXhsfMowp5QBMz/sTXujzj79D1mrd4pIweVAC2B24mL1+HsPzEIe/xRYR3s3/XZpx+w5tBJ5C1SUhHQJhfnoXK9ZmLg+E6cB+V1sH/PZ55+lK+yFq9QXUYyM6BlGaMSM6AlUzRtcMS/crKtAePnija3FOzTZoC1rb18k4R+AKPX3dX5aROjEzugJVMd0HXieeUZxs1fi6Jlq8DR2QVWNqlhksIM1vbOwumQtVB5CSYX+j3H8rD3Rp3OQMkMaL80Rc8uOf0anaeuh7NbHsybO1e+pWjIYkDLYhm4CLaQX79+jdOnT6NXr14yDxsNGAnOUgStpaUlli1bJnPPahrOsFgszYgiZSn/bJEiReDl5fUFZKAB2siRI2W07MaNGz9HwhO4pejaNGnSYMyYMXKSoq+la0CbLW8hLNxyBKfuxZ1Rl60ZB96PwdRl2/DndwDtmPmrxYAtWpTX7uzRidWnxTlYvtcHeQqVUAa0yVOgYu0mOHkjMtENlHVlGpB7XnkpBuJVGdCyjFaJHdCqTaDWPzwSa48EoU3PwXB2yYrkKUxlCoRle7zgde0Fgh6o2gWl5Y3ZDGj/swrUR2HbyYvoPmwS3HLRhHMp4ZK7GJoOmo1pB2/BI8Q4JwD7GTOgVZnAPOXFnev1EH0X7kPByk1gbWePWbNmKY6lDEkMaFksAxPBlWfPnsnXmYODg6Vp5m6a/Isi7KytrT9HzhKcpejZVq1a4Z9//mE4y2IZsJ4/f47hw4cjR44ccqKh2JP50QBt3rx5SJ06tQRAakBLr+F4eHhIQDtgwAB5n38tvQJahYdn9u865ucA7bzVYoAWjYA7fB60YToHy/d4/wSgfcOAVktWAdoXDGhZRi0GtP9ZFSX5AV5XnqJB666wSGmFVHb2yFO4JHoMm4xNXmHwC38r2lzl5Y3Vuga09FxBwDxQWOl7fZsgLUXT+t56iU79R8LOMT3aj10J98DX8AiNUQR2hmBd5GhlQKuqg8UBrzByQyDq9hgPlzwlYGplB0trGyxetEgGvRmyGNCyWAYmelALCAhA6dKlZZ7ZcuXKyVeiaWBCMFYdOUumQTq9Mn3p0iW5HIvFMlxReoLDhw9L0NO5SxfcuXPn0zeQKQ0oCp6i4xcsWPA5Gp5ew1GD22HDhknI+7UY0BqbGdAaghnQ6t8MaFmJQQxo4zrw7juZZ50mD+s0YAxqNm4L+3QZUKJCDZl3dG/QTdFGq6JulZY3NusU0H56ptjqcwlHLjySwJy2H6ecAZhSDPUfPxOOGbKgz/x9WHzqjSKw07uDouAR/A6zj0dg8t5rWOT/SnyuHXCamAEtHfuy0GhM2XcNTfrPQPailWCfMRtK1uuAcs37IF3m7Fi6ZAkiIzkHLYvF+gXRwOPIkSOfJ4JRw1i11ZOC0aC9Zs2aOHXq1OdoOxaLZbgiCPvkyRPMmDEDJUqUwIQJE3D37l0JY2NiYrB69WoJaOfMmSOhK31GOWhbtmwpJxAjUBsVFfVpbf+JAa2xmQGtIZgBrf7NgJaVGMSANq4D7rxD297DYJvGESv2+mNP4N8YPHmRbAvSZXJFzSZtMW3FDlFfj0X7K/pMhXUYk3UJaOmZIuTRe3TqPwZ1mnfAkh3HRT/3WlXPBpbWSgLacQRoXdF77h6DA7TugZESGlI+3L8WHUL5pr3RbNA8zPf5B0uDtJOGIVECWgLgIZTO4DE6T92AAhXrI00GN+QoXgWthi/CpD2X0GP2NrjkLIgl7u6I5EnCWCzWr4gGHhRl9y1AS59RNF3v3r0RFhbGeWdZrAQiuk/VsHPIkCHIly+fzElLEbMHDhzA4MGDZQ7ajh07Yv/+/TKitnnz5rC1tUXhwoXlDzdKYIIBrbGZAa0hmAGt/s2AlpUYxIA2rmMD2pX7TslJwnxvvcFm7zMy1UG2PIWQ0TU76rfqguV7/USdRYkyxltvuga0oY+jUaNxW5iamSNb7gJo02sINnudl2kFaD+UltOHDRnQeoREY1lYDMZtP4sqbQfCKXNOpLRxQKVW/THP+4kEqUrL/a4TG6BdRiktgt5iwNKjKFS1OdI4Z4G9S0406T9T1P05LPJ/KerkLXrM3gGXHAUY0LJYrF8XRdmFhISgaNGiSJ8+vYQzNjY2MoKOIE33Hj2wc+dO3Lt3jyNnWawEJBqEXb9+XcJUV1dXmJubw9TUFE5OTnBzc4ODgwNMTExkvln6nu5/mgCQoATB26dPn8r24WsxoDU2M6A1BDOg1b8Z0LISgwwB0FJkJLVjgQbSln0NaE8/UL1mT2kNPK88xZIdJ9CgdTc4Z86KbLkLosewSdgbdFsCO/Ur+sZknUfQPnyPodOWwsomtZyozcrGDgVLlsfwGR44fO6B2DbVsf7r2VAB7bLQd5h9IgJNB89B+mz5YG5lI9+AtbBJg3o9J6qgoZZy0SYaQBtExxqFCTsvolqHoXDOXkDUrwMqtuyLYWv8sMDvmWqiMGkGtCwW6zdFrzZHRETIweCZM2cQGhoqB+cEX2jmQfqewSyLlbBE9+60adMkdCXgQ1anLFEyQTj6YWbUqFEIDw//5j3PgNbYzIDWEMyAVv9mQMtKDNIHoA159C/OPv0/8fcjgh58hP/taBw+90g6OOK93qMklQCt+juCyYH3ouVEYnPW7kOhUpVglcoO2fMVxvhFG0WZaIQ+/j/x13jy0+oS0JKpjv1uv8aSnd4oV6MBkiZNJm1haY0yVeti4eaj4hy9EdfKR8XldWWDArRBUVgW9h5LAiPRZ95eZM5fBqYWVkginh/oWZ/egs2YsxAGr/CS+WgV16EBGzugJeC6/MwHzPN+hFYjl4g6LYwU5imRt2wd9Hc/isUBzyW4JYD73zIMaFksloZEoIUi5sj0b4ayLFbCFeWf7dKli4yIr169OubMnYsVK1fG8fLlK2Q+2n379uHq1at4+/atHMB9Swxojc0MaA3BDGj1bwa0rMQgnQJaCd6iRNvmh+5DJ6Fxhz4SwOXIVwQO6TIgbYYs6D5kIo7S5FAPVNGUiuvRsr8HaGM7KCJG7GsEBkyYh/SZXGGVyhalq9TBuiOh4rtoCRqVlkto1jWgJdO5p4hlrytPMHrOKmTNXQDJTEyQwtQMNuJabdapL3b4X5b1rLS8LmwogJagKEHBMZtCULxOO1ja2ou6Es9qSZPB1jkrUtqmhYmpOUo36IKFfi++gIeatvEC2kgJZ90DX2PA0mPIW7Y2zK1skT5bAbQZuVQCWxX4jvxqOQa0LBaLxWKxFEQpCvr06YNSpUrB39//u9D1V8SA1tjMgNYQzIBW/2ZAy0oM0iWgJWDpfe2phJ9Jk5ngf/9TRfbFNkX8ZXTLgSU7vPUWSfuzgJZMuWfPPP2IXQHX0bBND6S0SgUzi5Ro03MI9gTdRPDDGNFGJ+xoWn0AWrUp7UXYk//D3qBbaNNrqAT5f/6ZVF4nTuldMHTqEnFNPUdwhCoNhdI6tGV9A1qa6Msj5B1mHbuLBn2mwMYxg6wXArMW1nao030ses7aAfNUaeCYKTt6z9+D5RRlq7AuTdkYAS0dE8HXyXsuo1LLv2BqaQNr+/Ti3/0xee9VrDj78btRyQxoWSwWi8VixdEb8UCwadMmjB07Fnfu3FHMJ6skAq6U1iQ6OloRvjKgNTYzoDUEM6DVvxnQshKDdA9o/0GHviMkxCSYaWNnD3un9NI0KdQff/wp+h0TtOoxSOYiVVqPtv0rgFbt0/fp7zss2e6JUlVqwzF9RmTNVRDDprljX/BNsc4oefwJMapWn4CWLLcv+kS/W5T2wAtV6jVHGnG9UH5acpHSlTFz1W4cuxQhyusucllfgJYiORcHvsaMI+HoNGk93AqVh0kKMyRLbopU9ulRok47jFgfAI/Qf1CsVmukMLdEoWrNMNfzkYSNSuvUlI0J0BJYdQ98g2mHbqLlsIVIlzU/bJ0yomDlRhiwhNIZ0ARglM7g+8fIgJbFYrFYLFYcEaDduHEjli1bJnNM/wxkoDIPHz7EkSNH5OSBSlG3DGiNzQxoDcEMaPVvBrSsxCBdA1qfGy8wYtZyVKzTVEaZDpw4HzNW7pD5XCnVAUX/Ub7Rlt0GIFi+vq77PiY+gJZMbcaZJx/hdfU5hs9Yglyi/SbwXLZqPcxZtxdHL+oWIGrK+ga0atN+hD76V0bMjhXPIAVLlIe1jZ2MqE1hZo76rbpg2Z6T8kcAXcBw3QNaFQyc7/MUA5YeQfHabWFmZYc/xPGntLFHjhLV0GXaZizyf4FVFz5g2Go/JDe3go2DM7rP3CajbZXXqzkbA6AlAE5/55y4jx6zdoh6rSrqNw3cCpZF2zHLseDkUxmJTBHMXy+rZAa0LBaLxWKx4ujFixcYNWo0nJ2d0a1bN/j6+kpoqwRU6TMCr8HBwejXrx+KFi2KlStXKoIJBrTGZga0hmAGtPo3A1pWYpAuAS05IDwa3tdeSfuHR+H0g2iEPorB4XP3UahERSQVfU5CBbRqSzB47y22+lxCt8HjZDueJXseNGnfCws3H8KJv5+IdWofIGrKhgJo1aaUEYHi+WPnqavoNWIK8hctDYuUVjAR/aJz5qzoPGAMVh88JUH5KbHvSuvQhHUNaBecfIbha/1Rvf1gpHZ2VaUySJVaRtA27j8TU/ZdlXBRRtgGvESJuh1kZG3OktUxx/Oh1qNnyQkZ0MqUEWL/Z5+4jz7z96FMwy6wtHOCW8EyqNdzAibt+ltVv79YjwxoWSwWi8VixRHB2DVr1iJbtmwwMzND+fLlxf/X4MGDBxI4EFglU+qD58+fY8eOHahbty5MTU2RJ08e7Nq1iwFtojADWkMwA1r9mwEtKzFI14CWTNugdovuMfo//ftA2H0ULFFB5qZN6ICWTMcWHPEv/G+/gfv2E2jYtjtc3HIiV4FiEnRuPBECv9tvJahVWt6QbGiAVprq9yFdQzFYcygQTTr0lhD8D/F8QukzipStgnkbDn2+xrRhXQLapcHR6CW2kaVAGQlmTVKYIp1bXlRtOxAj1p2C+6nXWBYaIwGiR2g0hq46CUu7tLCwskX7cSvld0rr1bQTKqClVAUL/Z6LugxA7S6j4OiSC+my5kOZRt0xfK2fKBP5uX6Vlv+eGdCyWCwWi8WKIwKvjx8/xurVq1GjRg2kTp0aWbJkQf/+/REYGIioqCg5ULt06RJGjhyJHDlywNraWk4qNm/ePNy7d08RvjKgNTYzoDUEM6DVvxnQshKD9AFov7YxAlq1Va/aU4TwA0zx2ILazdojXSZXFCtXDQMnzsWe09cRFKGabExpeUOwQQLaWA4S/aXPtacYPGUhzCwsRZ/5J0zNU8r9PSWeUbQFaXUJaD1CYlCh5V8yItY2rQvKNuqKvxbuxzyvxxIuqstJgBj4BuWa9ZIQN3O+UphxOFx8rv3oWXJCA7QeIdEyz+y47efQuN80uBYsg7SueVCybjv0mrsTc0X9/m5qCAa0LBaLxWKxvqnIyEgJZIcMGSIBLUGHatWqYcOGDdi5cyfq168PGxsbODo6omfPnjhx4oRMj/AtMaA1NjOgNQQzoNW/GdCyEoMY0Ma1JgEtOVCYAGzA3XfYFXgVgycvRDHRrqTN4IIq9ZphytJNOP73E1FGeXl927ABbYwE3Dv9L6FmkzZIYUoTzf2BFOYW6DbYiABtcDRqdBqJfOXrocOENZh28Kb8jPxFuZBojN4UCvuM2ZDUJDmaDJgtX9t3D4z8opy2nJAALYHtmUfvivpchQIVG8LRJQdyl6qBtqOXYcq+61gSRPX++2CbAS2LxWKxWKxvigAqAQaaKGzr1q2oU6eOjJTNmjUrsmfPLgEcwdC1a9fizp07suz3oCsDWmMzA1pDMANa/ZsBLSsxiAFtXGsa0MY2RdT63nyDzZ5n0GfUdLjmzC/zptZs3AZLdpyA/+3IT6/uawcqxseGDGiDH37AzlNXULJSLSRPYYYkSZKIZ5SkcMuZD7PX7BX7qb161GmKg6C3GLMlDBN3XhTbea2KlFUoR6/i1+k+DmYpUyGVQwZM2nMlDsTVphMCoKVUBRQ128/9MIpUbwGHTNmRKXdxNB0wC+O2ncUi/5dyMjalZeNjBrQsFovFYrF+KBqUUV7aPXv2yHQGBIHowZYiZ/fv349Xr17JtAg/EgNaYzMDWkMwA1r9mwEtKzGIAW1caxPQkgPlJFcf4HX1H6zYF4DmXfrB0TmTzE/bvu8IbPW5IM7DO1Evysvr2oYKaCniePfp6yhdpY6cICxJkj/k8wnl+h2/cK1ov+l6Ng5Aq7aM6PwGPKQ0CJN2XUbmfCVlKoTyzXqJ8vSd7iCpIQNaOQlYSBQm7LqIqu0GwTlbfjnZWuXW/TFkpTfmeT+W9RufPLPfMwNaFovFYrFYPxSBVS8vL9SqVUtOBEYgLmnSpDAxMUHx4sUlpI2JifkhcGVAa2xmQGsIZkCrfzOgZSUGMaCNa20D2q/tfe0pFmw+gvI1GyKVbRrkLlgcw6YtEe3PU4QYQDStIQJaShlx4vI/qFK/BZKnMJUBBjRBGKWNmLBoHfzDX4v9Vl5WU9YHoP2mg6KwPOw9Wo90h3WatEhhZolByz1lygPF8lqyIQJa2qcVZ99LANt44Cw4ZHRDSht7FKjYCAM9jmG+zxPF5TRlBrQsFovFYrEURfD0/fv3csKvKVOmyJQGlpaWcHFxkeBn27ZtyJYtGywsLJApUyYMHDhQwlFa5lvglQGtsZkBrSGYAa3+zYCWlRjEgDaudQ1oCSTSNg+du4ORs5YjZ4GiYtsOEtgu3nYc/uGvRBn99bWGBmhpf/xuRcpoY8tUtkgi+kiCs1Rno+es0AmcJRsSoCUIOc/rEfKVq4tkyU2RtWglLPB9rrPcs2obGqClPLOLAl6i97zdyFKwHCzFfjm65kWniesw1/ORxqNllcyAlsVisVgsVhyp4eypU6dQvXp1Cd4ItNWsWRNBQUEyWpYGao8ePUK7du1kJC2VyZs3r5w87FvRtAxojc0MaA3BDGj1bwa0rMQgBrRxrWtAqza1OSGP/sXBM3fRttdQuX0z85Ro0qE39gXfxpmn+ommNTRAG/roA6Z4bIJj+oyif/xT9pFm5hb4a9xs+Z2u6siQAO2y0HcyGjSda2788WdSNBs0F8vDKNdq4gS0FDm8/Oy/Mqds0VptYGZpg+Tm1qjTfTzm+/yDFWc/6ATOkhnQslgsFovFiqOoqCg5KRhFy5qZmckI2VGjRn0xERiZBmuvX7/GkqVL4ebmBnNzc+TOnRs7duyQ330tBrTGZga0hmAGtPo3A1pWYhAD2rjWF6BVO0hszz88Ekt3eqNinSZwSJcBGVyzY8gUdxw5f1/s31tRTnf1YkiAliJjd/hdEddKefEsklRGzyYzSY5G7XqIOovSGZwlGwqgJdBIE1vV6jZGvrpvbm2P0ZtCJCxVKq9N6x/QRsL91GtM2XcF9XtPQlrX3EiVJi1K1GmHEesCVTl5g75eRrtmQMtisVgsFiuOnj17hmHDhiFVqlQoU6aMhLUEbb8FVCna1s/PD3Xr1pVRtCtXrpSffS0GtMZmBrSGYAa0+jcDWlZiEAPauNY3oCVT+xP6+CO8r73A+IXrkbtgMVilskXh0pUwY+UunPj7IQKpv9bBq/yGAmhpP3yuv0bP4VNkOoP//e9/sn/MmrsgDp29h6AI3e6ToQDaZaExcuKrXCWqIplJCuQtWwdzvR6J73QfvaovQKuOhp117K7cbrYiFWFuZYscxaugy7RNWOj3XObo/dYEa9o0A1oWi8VisVhx9OrVK8yfPx9dunRBWFjYd/PKkug7AhHXr1/H4sWLcfz4cY6gTRRmQGsIZkCrfzOgZSUGMaCNa0MAtLEd9CAGu0/fRI+hk+QEYvRqf72WnbFw82Fxzh6JMgRqtbePhgJoCcCuPhSIAsXLyTaZometbewwfcVOhDxSXkabNiRA2236ZjhkygaTFGZo1Heq2JeXimW1bV0DWgKz5DmeD9F34X6UrNsedukyw61gOTT8axqm7LuqFygb2wxoWSwWi8VixREB2Vu3bskcswRRf8WUf5ZALP37azGgNTYzoDUEM6DVvxnQshKDGNDGtaEBWnLww49iP95j9YFANG7fE1my50bmbHnQdfAErDkUCJ8bL8W5U172d20QgJYmUgt/h35jZyGVnb2Es/QsUq1+S9EPvlReRss2BECrTm9Qo+NwpDC3hKWdI/q7H4a7vtIt6BDQLg1+KyNjR6wLQK1OI2CfMTvSueVFhWY9MWyNn6wbykWrtKwuzYCWxWKxWCxWHKlBK6U1+FW/i46WUEINXwn2EphVr48BrTGZAa0hmAGt/s2AlpUYpGtAK2Hf/S+BJwPan/dp0TecuPwMs9fsQq2m7ZAlR14UKlURf42diS0+F0SZqDj1+7s2BEBL8HlfyG1Ua9BS9Il/SkBLKR/mrNuPoAd0znR/nRgEoA2OwuS9l5G/Qn1ZJ26FymPS7stwDzRWQBsFD7ENOr4xW0JQv9dEZMlXCmmcXVGmYWf0nr9XpndQR9Yqr0O3ZkDLYrFYLBYrjqKjo+Hl7Y2xY8di4sSJP+3x48djzpw5OHfuHD5+/CgB7KFDhzBu3Dhs2LABkZGRDGiNygxoDcEMaPVvBrSsxCBdA1q6p078/VS0W/RavuozBrS/ZgKwBCX3BN3EsOmLUapSLWRyzYFKok+YuHg9Dp+LkP2z0rLxsUFE0N6NhvuO48iZv4gq96x4DilStgoOnr2j9Wv2WzaMFAeR8tV+52z5kSTJHyjXpAfmej6UnyuX1661DWgJuk47eAttxyxH/goNYJUmnYTT7cT/Zxy5IyNmaR+UltWXGdCyWCwWi8WKoxcvXkioamVl9Uu2tLREtmzZsH79egkmCNL27t0btra2qF27Nl6+fMmA1qjMgNYQzIBW/2ZAy0oM0h2gVfUti7edQPPO/bByn7/oP6IQFEHw7yMD2niYAPfJm6+x6cRZ9B83B3mKlIJLtlyo2bgt5m88AP/wKAQ//P3zqW9AS9s/eTMSQ6cvgZ29E/6XJIl4NjFB96ET4XtLe6kdfmR9A1qClQt8n6Nx/5mwsE6NP/5MiqYDZ2NRgH7yz5K1AWjpOCnP7jzvx+gxazuK12oDu7QuyF6sMpoNmouJuy7KiFpDA7NqM6BlsVgsFosVR69fv4a7eDAoWrQoihcv/tOm8gRi9+/f/xnQTp06VX5HoJYmH2NAa0xmQGsIZkCrfzOgZSUG6QzQir7i9IMYTFi8Ub6anr94WfQdMxO7A2/Izw+G3UPBEhUZ0P6iqZ0iQOl97TmW7fZGq+4DkS6jK3LkLYzWPQdhi/d5Wb/Upygt/zPWN6CliOFjl57Ic5Lc1AxJkiSBtW0azF67T+alVVpGF9Y3oPUIjpZRo2Ubd0NSkxQwtUiFnrO2K5bVlTUNaAnOuge+xoh1p1C5VT+kz5oP6bMVQPX2QzB8rR8W+j6XKQ8MJZ2BkhnQslgsFovFiiMahD19+hRXrlzB1atXf9pU/saNGxLEquErTTRGn9+7dw9v34oHDwa0RmQGtIZgBrT6NwNaVmKQ7iJoCWi9x5y1+5HSykZGQKayTY2SFWtiisdW7PC7hsKlKzOgjadVUaQxos16jIWbj8hcrdY2dsiWpyD6jZuNw+ceIPTxv6Jv+fVj0TugFfV/ICwc9Vt2EddHMglos+UpjE2eZ8W50lwqh1+1vgHtstBojNkSipwlq4vnNRM5SdaQFT56hZWaArR0DMvDYjDjcDga9JmCtFnyyKjZEnXaYcDSo5jn80RxOUM0A1oWi8VisVjfFAHU2P6Wfha00mRhRgNoKRJFDDp+2WI5xfX9hmmd9OpnyMMYhDwSFn+DH6oiSbT7Op9hAVo5MJT59j6Iwbrqr6oOdDNglufh07bJtG26TpTKatIJAdBS3cS+D5TKxMex1/lL1vB5ofUxoGUZu3QJaMnH/36GyUu3oGDJ8jARbZmpuQVSO6ZD2er1kTZDZtG/JI0FaPXzA2BCBLRkejYgB9x9h2OXIjBpyWbkzF9M1m+RspUxY9UunLz5UjxbUBnldSiZ2kJ9Alrqg3eduoKq9ZrLa4MAbZkqdXAg9EaiBrRLg6PRd9FBOGbOKfqoZHArWBZjt5yRnyuV14V/F9C6B0bKPLKLT71G91nb4Va4PFLZp0eW/KXRecpGzDp616DTGSiZAS2LxWKxWKxvigAqRcPevn1b5qX9GqjS/8nqCcF+JGMBtP7h0fC6+lIOUH/Fxy7+A++rrzQGKoPEIIiiXDyvPseqA6cxyX0zRsxchjFzV2P22v0yyogGj2FPPyI+kTA/tmEA2qAHH3H22UecEoOvg2EPsPZIKJbt8cXqQ0HYG3wHfuFRCHvyEUEPRRmF5X/HNBgNefwRIY9UgG6L10V47D6JFXv9sSvgOnxvRYpz9BHBEeIcKCyvCRs6oKVt+lx/La//45eeiXp6Ke8hpbK/Yhpse4l1Kd1r3zftwwuNXo8MaFmJQboGtAQQ6ceuw+fuoe/oWUjv4ibbOAKzNAs9TQBFEK5NzyHyx8mAO8rr0aYTKqCNbeqbQh5/EOf0MXoOnwI7+7RIaW2D6o3bYLP3RXkO6HlDadmvbQiAdpvPBZSrVk+2xQRo67bohKMX7ovv9QPxyYYwSVjbMSuQ3MJaAlqaLGvKvsvwCNEfvPwdQLssOBorz33AuG1nkVccSwqzlEhlnw4N+07F7BP3ZcSwIacy+JYZ0LJYLBaLxYojAqcEFi5cuIAmTZqgdOnSOHHihByckQjIEmz18fGRwLVZs2YYNmwY/Pz8EBUVJcsoyRgALT387/C7iPI1GsjceNY2qX/aKa1SyYHCwTO35cBTaf0/72jsDryOHkMnwzVnPphZpEQKUzMkT2EqncLMHOYWlnIikJEzl+PE5adiGU0PYPUNaGPkoGdnwHWZn7BQqQpIZZcGZuYWMBXHT9FW1rapkadwKTlY3CoGbQF338rllNf3az4tBqInb7zCoq3H0aBNNwkPzFNaft62pbUtcuQvKre9xfsC/MPfysGr0rp+x4YMaE8/eI+9QbeQu1BJef1bprJDkTKVsT/4zk8P+JUcFPEv9ofclbkprWx+/T6kffC9Eamx88GAlpUYpGtAS1ZHegbee4cNx8/IPtTO3lGmPSBISzP0V2vYGj7Xxf6IfkZpHdq0MQBatWU933+LDcfOoFaz9rBJbQ8Xt5zoPWK6aG9vijI/zuGqb0BLP0YfvfgYPUdMg5NzZvk8RBHWJy4/Et8nVkAbhUV+L9Gg92Rxz/wpAW2xmq0w/dCNBAdoJXQNeoNpB26gdrexsLS1ly5Rpz3Gbj0jjidK5plVWjYhmAEti8VisVisOFKDzubNm0volj9/fuzdu1fCBoKq79+/x/bt22FmppqAgSBc0qRJ4ebmhg0bNnwTShgFoI34gPXHApG7YHE5MKQIHqqDn3Xlus2wL/iaGMTEf59o2aW7vJG7cMnP+0DngACteUorCWaTmSSX26Pv6PMqdZtjh98VCZiV1hk/6w/Q0kDS99YrTFq8Ub7qKo+V6licdzp2GpRRfkJ1lBX9TZfJFRNF+YA7kYrr/BXTIPTYxSfoOni8HJjL7YjtU8675KYqSE5RXrRtOkdZcxfA9JU75EzZmoa0hgpo6Ti9r71Aw7Y9ZH1QXZDdcuXH7sCbvw1ot/teRobMWT+vN/Z99k2L+iG7ZMsj9u2V2EfN1AcDWlZikD4Ardp0j4U8orcgojB7zV4UKl1R/kj6hwROSVG2Wn0s2emFkzdfiHaOyiuvR9M2JkBLpnoOfvhRHNcbTF+xE4VLqeo5X9HSmLJ0K7yuPBZ9zrfrl5bXJ6Alq1IbxcBjl4/8Mb3H0EmifVb9SK1UXhfWK6ANisJcr8eo2maA7CsJ0Jaq3xEzD9/WK8z8FUBLYJbg5ZwTD9B+3Eo4ueVDSps0yFKgDPotPiRTHSw/80GUTXhRs7HNgJbFYrFYLFYcURTs5i1bkDp1auTJkwceHh74559/ZOQsmSYCI8hKAM7V1RU1a9ZE4cKFYWlpidq1a+PSpUtyIPe1jCWCdtUBPwmZCD4SeMqSI4+M5MtfvAzyF/u28xYphS4Dx+LI+fvxHjzSwGj1wUBky1NIDkopiogGhhQR2KbXEDEAmIPeI6ehdtMOcMuZV8JKAoQU2VmneUccPhcR723Htf4ArX/4GwyfvgRpHNJKEEp2Sp8RBYqVRe1mHdCkQ28ZVZWncElZP1RPVA80m/OUZVtlZKfSen/GNPg7dvGxHPSlFtsnQGBhaY0s2fOgYp1maNFtAJp26osSlWohXUaK4DGT286RrwjmrtsH31tvNHgO6JowVEAbhVGzlon6d5B1pAapWT8BWhrEKy33M6YfSiiaLn0mVwle6TXnLDnyosCP7kPxHd2HdVt1he9NzUU0M6BlJQbpE9CqTfda0INoHDp7H4MmLZA/lhJANBF9HbXHrboPwsr9fvC6SvunvA5N2tgArdoStIq+ZW/wLfmGSn7Rt6ZJ6yz718XbjuHElUfi2UpVLs5yega0ZPX+HzkfgX1B4fC7FaVYTlfWJ6Al6Dfr2F2UbdRVPIsklakA6veahLmeD/Wan/VnAC2BWcojO+vYPfSetxsFKjVCGmdXuOQpgRZD5mP28QcyncHXyyVUM6BlsVgsFosVR8+ePcPgwYPh6OiIkSNH4uXLl5++UQ3QFi1aBFtbW6RJkwbbtm1DdHQ0AgMDUb58eWTPnh2bNm2SUbZfyxgALQ00luzwQkbXHBIK0mvts9fskdGUR84/+q4Pn3uEE5efwz+eoJIGHDRpR/maDSUEomN0dM4kBkITsPf0LQRH/Iuwx/8no4woP+fqAwEoVKqiCo4lSSJh4YRF68S6fvya4s9ZP4CWoqOW7/GFW858Es5RPdC/x85fhUNnHogyYr/u/YuA8Gjs9L8qQWq6jFlkPZApmvXw+Ye/AQijMWPVDmRyo2vgT5hZWKJm47ZYtT9AQr/T9z9KH//7H0xeuhl5ipSW54sgYoWajbDN95KoN80N4g0R0BLEXns4CDkLFJN1TpHddK7oOtQEoKWciHQNpM3gIo+ZosQXbj4m6vypuNcex7n3Ypvuw2OX/sEpjUZ0M6BlGb8MAdCqTRH4wQ8pkv5vCWXpBzL6wdREtHdZcxVA/3GzsTPgqnxrQWl5TdlYAa3KNOElTaoYjfVHQ9CkY29kzpZbPHe4oFO/0eKzYNHnvZJ9MsFaWsZQAK3atC90rWgrB/zPWt+AdsaRW6jQvDcy5i6Kxv2nyxQBNMmWUnld+UeAdmlwFBb4/oOhq7xRuVU/OLrkhFPmnKjWfjDGbj0LD/E9Rc7GXiahmwEti8VisVisOHr48KHMK5s7d26ZykANWwmovn37Vn5nbm6ORo0aITIyUkbVUoTthAkT4OTkhBkzZshyX8sYAC0NPuZtPCQHKARisuUpiFX7feUghgYhPzItr7TeHztGQqmlu3xgap5SgkFLaxu06jEAnlcei3UTlKTX+lQ+JRz8MBprD5+GQ7oMsj4oTy3lSiVwSPuivJ1fse4BLQEBmqCtVfeB8vjpuBzTZ8LCzUfEIOwdTn+K6FGb6sXn2j9o32fo59dhKap4+sqdcmKvX4d0MTh45i4atu0uo2IpMrd0lTrY4n1ORnUFigHtf9unwfsbTFu2BRlds0tASzlQx8xdA79bv59mQW1DA7Q0GD4Qekdea5TvlaKLK9ZuKo8/SZI/NBRB+x4LNon7UF7bf8q0Hps8zyPkIZ1z5XsvtjUNluh8M6BlGbsMCdCqHfTgvWxPF289inqtusAla07ZxqeyTYPW3QfhYNhdcc9rD5oaN6D9z/TWidfV5/ItkFpN2so+LU+hkug7eobo/87C73akOBef+l0DArSGYv2mOHiLeV6P0HfhfgxZ6YNFAS9lZKpiWR06LqClz1XQ1f3Ua4zeHIx6PScgS75ScMqcC+Uad8Nfiw5i/smneo381aYZ0LJYLBaLxYqjBw8eoHr16ihUqBA8PT3loIxEIPbq1asy7YGJiQlWrVolAQSB1tevX2Px4sUyqnbEiBF48eKFXCa2jALQ3v2A6St3wdbeSYKYfEVKSwiq7UFZgDDBp76jZ8ocp/Q6J0WNrtjri9BHyoMfiqI9ff8tqjVsJUEpAbJSlWrKycUIKCst82vWPaCl/aao2BIVqiO5WD8NxBu164WgCFq38vqpflbsPYnMYuAu60HsZ4e/RiL0MU2a9mv75B/+Dkt3esooXHpd305cBxS563vrtRyYfl2eBqyHzt5F4/a9ZHQXRZHWadYRh8/e00h9kA0J0BKU9rv9GoMmzZM/DND5qVynGcbNXwsTsS+0f5oBtDGYtnwb7J3SSVCeys4B2/2uiuPTDxxhQMtKDDJEQEumNxLoR5sj5x9iwuJ1KFe9PuzTOqNCjYbY7ntR/miktJwmnFgALZn6D/qhmNJLjJ6zEmWq1pVv8VSo1Qij567E/tDbsq+nfrrb4AkMaGNZv5OEkSMl/CP4aQhwlvwFoJ2yQe4XfTb90C20HeOBfOXrIpVjRhSo2BDtxq7AjMO3sSw0xmjhLJkBLYvFYrFYrDgiQFurVi0JUo8dO/YZMtDfrdu2IUOGDLC2tsbFixcltCW9evUK8+fPl4CW0iIYK6ANuPMeExZtREorGwliipWrik2eYgCig0EZDUIXb/NEl4Hj0KbnYPQbN0cMkp9+E0oRoA2OeIeO/UZ9ArSq/aVX7OnVUKVlfs26B7Q00KbZ+wdNWohmnfqifquuWLz1hDieD99cPy2z+9QNCTAJUpMpujPk4a/tE0E4n+svMXjKIlhYWklAS7l/N54IFd8rzx5Oy/jdeisGr6skMCBAmzl7Hqw5dFrCXqVlftUGA2gloBaDp53eMt8rgXA6Vo9dx2UaEHr1WJOAdsy8VRKQE6B1dM6MfcF3ZH0rlde2GdCyEoOoj+1igIBWbfqByD/8Lbb7XcbgyQvQZ9QM7A269VttzY+cmACt2qq3Q6LFs8RF9Bs/B0VKV4Zz5mwysnbWml2in3yGHkMnyjphQKuy/gGt4Tk2oO0+Ywvm+TxG1+mbUaRqU9ily4zsRSuh+ZB5mLDzAhYHvJbwUmk9xmQGtCwWi8ViseLo8ePHaNu2LXLkyIGNGzciJiZGwlRKZzBgwADY2NqiZMmSMmqWPic/evQIQ4cOlSkOZs+eLSca+1rGAGj9w6MxctYKOfETgb6y1eqJQcqFLwdl91Svt8deTlP2u/1Ozj5/4u+nOHH5HzlIUipHVgPaNj0Gx4qgrZWgI2ipbqkOPK88w5HzD3AwLBw+oj4oV55ieWEJaANvIHeh4ipAK/azedf+CH30axG0BMKPXniA5p3/kusgQNuoXQ+xHzTp27fXQ/n7ln0CqARoKR/rJPfN4jjeKpb/VRsKoKX62Rt0Aw0/pTYwt7TCX2NnieN8hlmrNQxoH0Rj0OT5sEltL68xl2x5xLl5LK6P2OVUr9vGXk5bZkDLSgySEbSdOiFVGkeZT11fP4h8z7RP1OZ7X3shU634XFd+u0FTToyAVmWq5w+ynpfv8ZF1QLl/s4vnrvZ9h6FagxZIZZcGG4+fkT8uK68j8ZgBbVx7BEejcf9ZEtBWazcY5Zr2QFq3vHBwyYHaXUZh+Fp/LPJ/AY+QdwYT9attM6BlsVgsFosVRxT9OnHiRAkZunbtinv37slIWR8fHxQrVkzmnx07bpycHIwgK+WoPX78OPLly4dcuXJ9kbc2towD0EZh8ORFMmqPYF/V+s2x5/QVhD35P4Q++RchMt1AjAS5FNUZ9lh89vCjRgeItC4CwD+CwAQf/W+/QfEK1eX+qnLQdpeRT5oBdXoAtJ+sPn45OYnC97EdKs7B0p0nkMktu9wfyhtLeWApB+2vAto9p6/J12cJwlE+1c79R8Pn+qvvnguqI3rNtkyVOnKSLHrtnyK7fG+9/OE5/BkbAqCl46DJYgZOnAcbO3t5jNUatMTuwKuinmMwa81eDUfQRqPXiMmwtrET5zSpnIyMQAxFhoc+/vg5QpzOL92HdA0Ea/g+jG1aLwNalrGLrudWrVrB0toWB8PuiX5P3GcaaMO0YVXbqrk+51tOvID2P1MdHLv0GO7bjqFuy05wzuwGK9E2pzCzwIp9/uI5SHc/lhmqGdB+aY/gd1ge+h4N+06DmZUdrFI7wcreGRWb98HQVb6Y7/1ElkssYFZtBrQsFovFYrHiiCJmvby8kDVrVjg4OKB+/fro06ePhLMWFhbIkiULQkJD5WCNfOrUKQldCdw2bNgQ169f/5z6ILaMAdD63nqDfmNny0hIAjH1WnWS0G7D8TAMmDgPjdv3RPVGbVC1QSs07tALg6csxNrDNNPxaxVM1CCk/JFDHsZg/sZDMpqRJlJKlzELJixeL+pDM6/W6xPQ/tCfthX0IAaHz91D7WYdYGZhKSNf07tkxb6QO78MCAnQbvU5j1wFi8vjMjW3QP/x8+B/+913B5903g+evYcajVrLqFvah5ZdB8D7Gr0irLzMr1jvgFYcA0Vre+zylnWTROxDjryF5aQ99LoxgfBZa/ZpFNAGisFux79GwtJaXNviXBQqVREB4c/l67SDJi9AE3Hv1WjcFtVEnTfp2Et8thDrjoTKHywCZXug2WuRAS0rMYj6WHq7xly0fcXKVxP3+HFx778V7Yrm76mEYga0Kqv6snc4eOYOxi9ch2x5CiGZaPNpIrEZK3bAT7S91B/r9DnAgMyAVu1IeARHYa5nBNqOWQ7nHIVEn5kM2YtXQfeZOzDnxH1ZLrGBWbUZ0LJYLBaLxYojgqv//PMPxo0bJyEbQR5TU1NQDlOCcFOnTfuc3oCiaPft2wdLS0sJhvbv3y8HcUoyBkDrc/0Fug+ZqAK0f/4pJ6uq1qAV0jq7yAhVglAUPUimf9NnlHu0Scc+2BVAkxipYI7SujVpiiCkCVPccheQAIuiRstUrYfD5x9Bc68bGhagpeMKe/IRYY8/yohJinZeuS9Anh8JqSVUTYkJizZ8mlRMeT3fMp239cdCkME1u1xXKjt7jJqz6vN3X5dXm/aLUjI0aN1VAloCeLWatMOJy48/DWp/z/oGtASuD4TdQp1m7eVEaBaW1ug3bjZO3qRXi1WT22kU0Iq69gt/hxZd+8tcwLTOvEXKyBnbbVI7wEycYzrmr+9DW/Fdw7Y9xL7eQ8ijj8rrjqcZ0LISg6iP7d69u3geMEMKM3Okdkgr2rVu2OpzUba51BYo3R/GbAa0X5ra/KD7UeI5abx8w4GuE/pbvmZDrDl8GqGPaEI3LfxQaOBmQKueoCwSg5d7IX+F+jC1sJJwNmlyU3SeskGUSZxQNrYZ0LJYLBaLxYojAqcEaSkX7ZIlS1CuXDm4ubnJvLPu4oHh2bNn8nsqRwDi2rVr8nOaNIyib7+lhA9oY+B15Sna9xkuAS1tg2AMRUQmMzGRcMpUDEYIBtG/CQ7R9xRRaCL+TTB37ZEgOYDRJqykAaLX1eeoXLeZ3DfahwyZ3bB0h6d83VtpmfjZcAAtwb4tPpdkbtkmHXrLKObchUvB2jYNTAhSivORMUt2sa/bRfm3CAj/du7eb5kgHA3AnZwzS0Br5+CECQvXy89VE2R9Y7n7lKfvJRq36/E58ppmvT528aG8FpSW+RXrE9DSOfW7/RpDp7pLEEp1Xb1hK+wJui7zE1IZuuY0CWipvr2vv0a9Vl3lvaaqU9U9KO9DsR1TMwuYmVsghamZ/IyuQzL9UJE1d0HsDBD7F6G5e4EBLSsxiPrYzl06wya1Izx2+6JSnWawSGkl+pes6Dd2jmjTIlQ/fiWiKEkGtF+a2kLKAdxtyET5g9n0FTvRqF1PeZ0Q0G/XZ4TMDaz6kTTxXCeJGtAGRmJZaDSmHbyFqu0GyZyzqRwzoFKrfijXtCdS2tijy5SNWJJIo2ZjmwEti8VisVisH4qg66tXrz5PFhZfGQOgPX7pIZp16iuhkIyG/DOpjKSs2bgtZqzchc1eF7Dt5BWs2OuPnsOmwDVnPglq//e/JHIZyllLeTm/Nev/b5kiVx68x6Gz91G9cRsJxAgOp3FMh3EL14qBo6YHQ4YDaOm45204hORim3Tu6dyQ6d/OmbOihzgXB8LCEfpYlP8OTP2eaeC5bLcv7NNlkIA2jZMzJi/dIqGnhLQKy5DVQLFpx75ifwgUJkWZqnVx9EKE+E55mV+xvgHtqgOn4JIttzy2XAWLwX3HcXFc/51rjQNacQzH/34m7qWWSGFqLs8zXec0IU21hq0xbcUObPK8gK0+l+V92H3oJGTOnlveh+ofVvIWLSXq/1G89+FrM6BlJQZJQCva9lSpHUR7Qjm032KKx1aZ2oQi1wsUL4fZ4l73vvZM3Ft0XyjfL8ZkfQJaql9Dq2NqC6ldJUBLdbLZ6zzCnn6A+05v0T5Wk5NkZsmeRz4XHL9EbbBqGaV1GZMTI6ClNAU0Edj8k/+g3diVsHV2g7mVLXKUrI4BS49ieVgMmg6ajZS2jugydaNYxhABLe2T7vaLAS2LxWKxWKyfkiZgaoIHtGIgRK+ldx00Hlly5JEm0DZ7zV4xWH0u86tRVB5FDgZF0AN5FDaeOItqDVvJwSuBJAsrawyesujTxFKaHJRQbrdIGaFboWYjuT2axMwxXQYZ3RgoI1WMGNCKel+y3Useb2oHJzlRFaU1oMhZq1R2yF2oONr0HAKPXT7wvv5CLPPr+0Lni6LG7NOqAC2lrpi8dOsn6Pl9QEsTWH0BaKsYB6A9euG+/NGBImdT2zuh7+gZ8LsdKe8VdRlNA1o6Bs/LL9Ci6wA5Y3iW7LmRp0gpzFm7F/5i28ER/92HwfLvO2z2Oosy1epJoEvngCLde4+cLupfM/mY6RwzoGUZu2ID2uN/Uw7tD6L9eYe9QTfRY+gkeT+my+QqJ6NctuckvK4+E/eH9tp9Q7C+AK1/+Ds5MSOZ/m0osJauidiAlvKC01skFDF7/NITDJu2BHkKl0TaDJlRqXZTzFt/AMcuPsKpO1r40dqAnJgALUFGyjVL+WR7z9uD3GVqy0nAMucRz2GjlorPI+AR8k44Bo36zZARtYYEaAksk91PRWKx/yssCngN98BI8Z32948BLYvFYrFYLJ3JGHLQ0qvxRy88EQPScOwLDseJy88kCFLKvScHKuLzdUeCULhURQloCd6UrV5fLH9dcZn4mLZz8sYLLNh8EPmLl5VpDQhC0WunExatE9tRlVFa9vdsOIA28N6/2Hv6NkbO9BADQHf8NXYW2vQagrJV68l6oFfd6ZpwdHbB4CmL5aD2VwezFLm5cv8puQ4CtPS6JuWzpW3/MMXB1ZfyNU/5Ov6flOKgcYJPcUADzoET58sfAmjCtOoNW2JP0A2Z/zh2OU0DWrK/uA+PnH8s78G9Qbdx7NJTmVeW6vrrsnTt0yziG0+EyW3TPUj7nDN/UTlZnNIyv2raBgNalrHrC0B7iQCt6h4OFvdy0INorNofgHo0i7+Lm4xa7zFsMraePAe/2zSRmPK9k9Cta0BLfcbRi48wd8NBDJq0EIMnL8Tstfuww/9veF97Lr4X/aweQa187lED2tQqQKvud+gv5SSnnMWtew6ES9ac4lrJKvOHrz18Cj7XXxrtdZIoAO0nsDn/5FMMXeWD8s16wtLOAWldc6Nq+yGYsu8qlp95L6NqJQQNfmdYgPbT/i/yf4lpB25gwJJjaDvaQ3rIypNY4Ptcfq+4rIbMgJbFYrFYLJbOZAyAlkxglQYglGftR5CVBlM0sVjXweNgksJUglMnZxc5kNMMNKWolMcYM28lsuYuIHNs0qvcFKEye81usZ8UlaItMGo4gFau+060jNKhY6bBEM0ufvTCYyzcfBhV6jWTEbUEr1Na28rUBLTvSuv6liVsPxp7krA0nycJ+xGgPfH3P6jfqouE9AQHazVtn6AnCaNB9LLdPjJajvIr5xXX27LdXgimyPFP94X6Pgl9/AFz1u2PBWgLYG/QLQlyqUx87wM6lv/uwx8fF10THfuNUsF6cf4o9ceirUcR8uj370MGtKzEoG8BWvU9cFq0Rcf/fozpK7ajeqNWSC/ah6Jlq8i3OHYF/C3aZGqbNdHvGY51CWipnzt+6Sk6Dxgr2q/08g0RSutjk9oeRUpXQtdBE7BM9AVe116IelZeh7b9PUCr+l7VZ3lff4ZFW46iYdtucMmaC/mKlpZvNWzyDIX/7bfyh+/Y603oNmpAG0SpDN5hwclnGLHuFOr1nIB0WfPDOVsBlG7YBUNW+sA98I0s899yhgVoad8W+j3H6M2haD5oLvKXrw+rNOnlc7tJCjM4ueZF+/Erscj/lVZz5TKgZbFYLBaLpTMZC6D9VdPgZMLijUjjlF7mykxuaoY5a/cj8Duvxf+MaSB08Mx9OWN+JrccMjqT8ruVrVoXy3Z7i0FStJYjaQwH0CqZ6ofgXeijj9h68jxKVa4lB7QUwZq7cEkcOU8RrD9/DggsbPU5J/Mt0nGZWqTEgAnzP71e+u31BIqB8oGwuzLVhQS0op5adRsI72sEOJSX+RXrGtBSPRw8cxfFylWVsNkqla0YjE8Q9RmBoxcfir+PPpvyvJ64/AiT3DfKHw5o/yglwfpjIaD8g1TG+9orxe1o2iGP3mPW6t0wF+eN9sPGLg3GzV8jAbJS+V8xnX8GtCxj1/cArdryR5OID9gfGi4j7IuXr4ZUdg6o1qAlpizbKu75B7Ld00TbZwjWJaClXOvzNxyGrb2TfJZQ57an9ox+dCKYROle+o2f8+ktHeX1aNPUFn4P0KpN/UhQxL+yzxg7fzXK12yINGkzyLRRY+auwgFx/RjTdWKsgFamAjj9BpP2XEarEYuRo3gVOGTKIQEnQdd53o+xLCxGMfLUIADtp/2acegW2o3xQJ7StWCWMpW8r8h0j6me25Ija+EKmLDjAjxCouOuR0NmQMtisVgsFktnSsyAduaq3XKyKtovAlU0s7FS2V8xwdlug8fDMX1GCf0oiqZx+14y3+apu1Fxymve+gG06gFgsBjckZXKfG16/XbkrGUy6pWimC0srbB463GZo1SpvJJpQLnn9DWUq15fQjgaEHceOO5TPmHlZcgUVbbV5zxKVaqF/4kH/mQmJug7eiZ8b/16mgUl6xbQqvK7TlqyWUbEEiQwT2mJcjUaoF7LzqjTvEMc0+fFylaR+0YDHgK6les2Q90WnVCvVRfMWLkbfrfexv/HhJ9cjlItLNnhCQuxv7Qv1rapMWKmB0fQslg/qZ8BtGrT5E8UCbnpRKiEdfmLlUV6F1c0atcD8zYcFPfLM9l+f+/HrYRgXQLa0Efv5Q+y1KYnSfKH7Mvs7B1RqGR5FC5dEQ7pMsh2mdq2ynWbwmOXl1hO9NM6rOOfBbRqE0QOuBOF7X6X0H/CPBSvUB32Ts5y4lV6tqD8tNRPJ/TrxNgALQFXyiM769g9dJ68DgUrNYRTltzIXbqmBLWT91wR5d4oglm19Q9oVdsbsS4Q5Zv2gJ1TJvEsbQLTlDawz5gN1vYUVPGnfG6je80xU3b0mb8HK868/2o9mjMDWhaLxWKxWDqTMQBaAmr0GrfqVXrlMl+bcpcS0KLBE+1XCjMLzF1/UHwX/wHHicv/oOfwyXJSLFqnU/pM6NhvJHafuq7aLw2Avx9bP4DW5/obHD4bgZ0BV8Wg7m/4EtxTKBfbIQ/FA/X2E2Lgl07WF+VMHT13pRjw/vw5IEB79MIDNO/8l3yIp6iKhm264/C5++K6+PaxBd6LxpIdx5AjfxEJKCnVwhSPbTIvo1L5X7UuAS2dwyBRl/3Hz5Wv1hKkpohkiqQlMKlo8T3tlyoa5X/yr3o5ggmd+o+Gz43XvzQAV9+HNCGY6j788bVF18DcdftgbqECtPSDxvhFazmClsX6Sf0KoCWrJoeiSRJfwWOXJ5p17IvM2fMgV8Fisr9afzQE/uGREtIpLZ8QrEtAS239qgOBqNWkHaxs7OQzRef+I7HmoC/WHg7AuAVrZPoca5vUMvVMgeJlRV+zFQGfJhFTWqem/auAlkzL0HXie+uNOI5AdOg7Eq458wvnE/1tX9G/+YjvXv/0M5ch2mgAbeBbCWbdT73GoGXHUaZRN6TPll+mNKjbYxxGrA/EQv8XWBaiHDUb2/oGtO6BdAwnkK98PZimtIaFdWrkLVsHjf+agR6zdqDjxLVwzlFQ/hBNgDZ1Ohd0nroeK84yoFWLAS2LxWKxWAlYCR3QEpzaH3oPi7cewyT39Zi9Zi/oNfnvwSEaFPndjkLfMTORwoxmkP8DTs6ZsXJ/IE7/YHCrZNqHgDuRGDZ9Ceyd0kswRhG0fUZOE/sSIbanmWP9OesW0NIgjupz+sqdqFi7sZwQrXCZyth16uYPB4DBD99jwcZDSOOYVp4DUzMLjJ6z4pfgHG2fQMPgyYtgYWktYWMRsX3KmXfqrvIM1LSM7y1xvmYshR29lpokCdxyFZC5bCk1gtIyv2qdR9A++IDJS7Ygt9he3iKlhEt/1/mKlkFGytsr9o0iUajus+ctLL8rULwcRsxcDt+bb2VdKW/zS1O5vcG34b79uLgPN2Di4g3ivHwf8AbcoWsgBv3GzRLbF/ehuC45By2L9Wv6VUCrNrXb1DfRxIhz1u1FzcbtkN7FTeYd7T9uNg6E3pGv75/+yTbAkKzTHLSi/aUJEil9AU122a7PcGzzuSDfEKH69Q+PEnV5S/Rtqpz09AOYW678mLBo/Q9T8WjKtI1fBbSxTcfhdfUZlu7wRNOOfZE+kxty5CuCTv1HYbvv32Jdqj5IaVlDtjEAWnq1f1loNCbuvIjKrQcgQ/aCsHXKhEqt+mHQ8hOY5/1IcblvWZ+AluDx4BVecC1YFsnNUsIpc0407jcdE3ZewELfZ6qcuSFv0WLoAtmnE6C1z+CGHrO3cQRtLDGgZbFYLBZLjyKg+vHjR2kaqH1t+pzKfAu8JnhAKwY4c9cdkDPBp82QGQSn5qzbJwZo3871StGTe4Kuyvx7BOfoQa905TryVXmKyFSXI4BEA1QCieSgiLjrItPn9Jp22gwuEjLRoLDTgNESFAc9+KiTAdh/1jWgpbr5V0Y9psuYRR5/UhMTTFi4AaGPqQ6/tf4YOTjqN3aWfL2eHrTptfwFm4+I9cWuLzoeGlz+Z/os9rpokLt0p5cc/BKgpfqnwa/f7Ui5f7HLkmkgeTAsHA1ad/s8SVaD1l3F+bqPU79ZH2rrFtCSY3DkwmNsPHHu+/Y8h03C206exZCpi+WPCXQPZMiSTdT9YWzxPiu+P49DZyO+PHfi33RePt8Log5jf0/XAOW0JbhLkxCRl+05KXPMfusaOC2jnyNQuHQlcZ2ayH1xy50fe4PDv7gP42sGtKzEIOpj4wNo1aY21T/8rez/Rs1eifziHqa+tGKtRpi5ejd8brwQZb7XlhuedQloydTWEMT0vvYCh849kD8Axv6OopH9br/G8r2+yFmgmJwUkQDn7DV75DNG7HVpw78LaMnUJgfcjRZ9wx35fFG6al04pMuIEhWqS/hMeWsTWjRtgga0Mp1BFGYdu48WwxbCtUBpWNo5IG/5eugxe7v4/I4EnkuDfw2w6gvQLg16hwk7LyFH8apIltwUGbIXENvfIAEzRQerI3+Xh73HQI/jok83Ec+bSWW54WsDsCyUAa1aDGhZLBaLxdKD1NCVYMOrV69w69YthISEwM/PD76+vjh9+rQEQk+fPkV0dPRnUPu1jCGCds3hEGTNXVBCPppwqmaTttgXfA2hj/5PDkw+lxf/Dn74Eb43n8kIIXrlkIAeQbpeI6aKwdWzL8r7334nBzLTV+7AjFW7sGy3L078/WUZSpVAEZxqCESTjdVo3AZHL9xHyKOPCI74PwT9yA9oPzUB6ci6T3FAcG7d0WDkL1ZGFdUg1p+3cGlRBw9lJOQX50CY/h/2+F/sDPhbLkNwjvYpbUZX7A2688XAkeDrwTMPsNXnb2z2uiiWuS4jO2PvNw2MD5+7h4Ztu4vzmUSmOqhUuyn2hVyX51tdTlVWBd1nrt4JJ2cVUE9pZYPxCzfIbcUu+zvWPaD9NVPk6uw1++Qrt7R/9APH7sAbygNsUWc0aRjB8xkrd4Im9Vp3hGb1/q++QsQ14LHbB24588ncywRbS1SsBc/L/4j7kHJa/neMdP7pmqEfNvqMniFfC6Z9oHu3Q5/h4nvN5Gqm7TCgZRm7fhfQ/meK9ozErlNX0H3oJPmjDUW012rWXv5oE/aEQKPu26r4WNeANra/7u9im34cpnQIaTO5iueO5DIPOOVC1zbYpH36XUD7n+mNoSjRL9/GkKnuyJankMy5W65GfSzZ4SX613eibU8Y10nCBLRRWBYaI/5Gyn3OVrgCLG0d4OSaFx0nrMHsEw/kd8rL/tj6ALQEXxf6vUCJuh2Q3MwCDhmzodPktTLdAcHR2GWXh31A/8WHRZ8unjPEc1SecnUx6+h9eATzJGFqMaBlsVgsFkuHItD6/v173L17F6tXr5bwLU+ePHBycoK9vT3SpEmD1KlTy78ODg5wdXVFzZo1MWXqVJw9exaRkZFyQKdWws9BGwPPK0/Rsd8oCYUIxKQwNUWtpu2w/thZBIS/QcjDdwh99E4MUN5iX8gdOUihwSyVJ6hLM99vPBEqo0PU6yUAePLGMzTv3E9GeFrb2KFizUbY7HXu8+CDylDOzXEL1kq4RDmxnNJnxISF63Ho7APsDQr/Ke8PuQevKy/FIOrrY4uPdQ9oafBHoLF935GfYRtB7+Llq4v6uiD2Jwohj6IR/DBanAt67TMKm0Q9VqzTBGYWKeX+EKTt2HeUOEf/7RPBb6+rL9G213CkcUwvBpYOyF2wBA6E3lPc75mr9yCDa3Z5XgmANu3UF4fO3EOoOP+Un5i2f/reGyzd6S1f8Sc4S9utWr8FdgdeFfWhuUG8oQPakIcfMIsArdiP/wDtTTG4jrsvtH/7xDWaLpOrvA8oLUTdll3gI/ZdDSPoL6U0aNb5L5lqguqWosQq1GqMjcfPSvBD54HuxdPietgXfAddB41HGqf04vyr8uXS+ncGfBnF/jumfWJAyzJ2aQ7Qqkz3n9/tN1h9KBDVG7eBnYN4thD3ac8RU3Hs0mPZjiotZ0jWJ6D9nqnfOv0gCkOnucs2j54taD/pR15t9gOaBbQqy4jaO2+xxfscWnTpDyfnTLJvaN19kOgvwmVfr7ScITkhAlqCmeO2nkWZhl1h65gRVqnToVankZi6//ovR8sqWdeA1j0wEsvDYtBx4jqYmJojZao0qNl5FBb5vZD7olS21fBFEtBa2tij6cDZsk5il9O0GdCyWCwWi8X6pl6+fImNGzciX758qol9/vhDPOgnlSDOxMREmgCQ+t/0HQEwKksAd8TIkV+A2IQPaCki8l9sO3kBZavVQzKT5J8mPfoDlqnsUKJSLZkzrWW3AahSr4UqalLshzq1QUbXHJixaqcYwNAg5r91UooEn2tP0aBNNwmbaDBVvHw1bDge+gWgPXnzLQqUKC/XRdulV65SWKT8eZtbyNQI4xasFgMaTQzQdA9oyfTK+96gm/J1dXpwVl+b5imtUblec/QeOV0MSpeg7+iZqN6oNVJ/yjurPg8UhXP0/BOxnv8iXmkASRHLNMO4BIlivwni7Tl9C5TzL/b2abB4/O+n6PDXSDnhl9y+KE+TmnTsPwZj56/FsOkeqNO8E6zt7CVMp2skW+6CWLj5qDzfsdf3uzb8CFplQEuD+K/LUoqJPadvw8bOQcJUyhdbrWFreF17JQf+6nLyGjh9E3mKlJL3y+drwNJKwvomHXrLHzzoenBIn0meH/V5SmlpjbnrDyD40Zfb/h0zoGUlBmka0KpNUe4U8Tlv/UHZPtMPLhnccsjJFE/djZLf/86kmtq0oQJaMrVLB8LuyhQH9ANh7gLFsGy3J0Ieaa8f0AagVTtYPA/R2xDL9/rLdp5SFdnYO2GkzGP+6tMbFIZ5nSQUQEsAksDknBP30aT/TNhnyCrTABSq2gwjNwRhWeg7jUWQ6jyCVhzbrGMRcMiSWz4/Z8xZCJN2X4ZHCEUJf1mWAC3loc1VurZ8zqQctRN3XlIsq0kzoGWxWCwWixVHFDlLcHbx4sVwdHSEpaWljJotVKgQWrVqheHDh2PmzJlYsGABFi1ahNmzZ2PcuHHo0qULypYti0yZMsHa2loCuu7du+PevXtyYGcMgFY+/N+JwYbjZ1C9YSsxKHOQg0kZmUeQ0iS5NL36rp6lniIBCSbOWr0HfrcoV+mXAwgJaK8/la/NE2xKZmIic61t/ALQvhdl3iBLjnxyoEWgiR4waRs/a1q3fVpnjJztoaEBmn4ALW2XookpwrhM1XqwsbOXdS6PUewD1XlysW0Ck3QeqK7oe4ogoknFNnueF8t/eQ4UAa2LmyKgJQeKa+pA2B206NJPvppLyxCYo9f4KcKZtk3nkT6jyF3KBTh56VZx/t+K5TV3PZITQgTtnLX75X1C5ye7uC/3fCOCliKZ95wOh519WlnWzDwlqjdqI9MefH3f0Kzf205eQtnqDb68D+U9pLoPZUoLcQ7o33Qf0nmgNoEm1dHc9ahqFxjQsoxd2gK0alPO6aMXHqPfuNlwzpwVDqK/qlKvOTx2eYv+75koQ29FKC+rLxsMoFWoF6ornxvP0LrHYNkfWaWyQ6+R0+Av9llbIJPWqy1Aqzb1/55XnmHUnJVyEjQ7Ufc0Yee89QfE50/EMxodn/Ky+nJCALTupyMxzysC3WduR84S1WBl54jsRSuh48S1mO/zOE6U6e9a14CWwHOL4YuQTDwTmVpYoUqbAd88JkrtMHD5CSQ3tYBZSmvU6jIKNEmaUllNmgEti8VisVisOIqJiYG/vz9y5cqFlClTolatWti+fTuePHnyQ6j6RjxMBAQEyEEcpT4wNzfHypUrERUVZRSAlkwDEMo3evTiI0xYtAEVajaGS9ZccrITh3QZ5KCSXsHLmCWbTGnQf/xc7Dl9UyzzfzJC8Ov1yejYGy/ka500+RTNcN+oXU/s8Lv8GWKpyrxBrabtZZlsoswvO08huT8zV+/6DH5/z/oCtCoTZD5x+R8MneqOfMVUE0aldkiLVLZpJIyzsUsj/59OnJf8xcui96jpOHT2PkK+yhVLpgGk5+Xn6DxgjDiXOeGc2U3C3P0hdxUBLZmieTwvP8XouatQpHQlGZ1Mg3Tadirb1PKVerou6BX9VQdOybQW2gCkhg5oKdp12R5f5MxXVF7bNZu0w8Gw+2Jf4t4LdG9RHuDSVeqK67UgchcsLtMT0I8TSkCB7kN6ZXei+0ZUqNUILm455Hlw/Oo+LFq2irgP52B/6F2Zq1jT0Xi0bwxoWcYubQNaMr3ZEPrkX2z1voSmHfvAKX0mpHdxk28sUHogmgCLJsIyFABnCIA2QPRRfuFRok5EnxyrnaQ68hf1NWjyQvkjFb1FULNxGxw+90DWYex1aMq0fW0DWjJtI/Txv6KPvoMO/UbJPpt+LKVnp5X7/XDy5gvRNxrOdWKogJYiZglSLvR/jmFrfFGmUVeYWdkhfbb8qN1tHKbsv4HlZz5oHM6SdQlo5TH6PYdrofLiedUENo4Z0GPWdtBEYHHKijpZ5P8CRWq0RFJx31BdTNz9t9ajZ8kMaFksFovFYsURRc9OmjRJRsHWrVsXYWFhMhctRdb+SARdaRBHAJZgLIGKJk2a4MWLF0YDaNWmB//TYt0nLj+TE5t47PTCvA37MWvNLizeelQMTEJx5PxjUZaifsQ+fHOgQBOmROPYxafYezoc+4Lu4PDZh2KA8d/szAQ3aaIk+lzmkxXlftkyB+1deF158Z19+RXrF9CS5TkQA5/D5x5i+R5fTFqyEUOmLsbAifMxbMYSTF6yCR67vCSYoxx23xus+d2OEnV0C2uPBGH1wUBs9jovoeb39juQ6kCc24Nn7mPJjhMYO3cVBkyYJ/ZhEaYt34YNx8Lgde2F1gbDZEMHtHSdeF99iX3Bd+W1fehshKxrpbIBwr633uJg2APsE9cs5Y+l++J7k6oFClM+Ya+rL2Qe4qXiPpy/cT/mrBODYLoPxTk4cv6RKKeOqtLGdciAlmX80gWgJVObS22mz/WXmLt+v0xVk9E1O/IVKyva9nnY7ntBtCH0Nory8rq0vgEtten7gsNlOohVB/xFO/hc9kn0A5jM3Rr+GoMmLZARtP9LkgQlK9bAFu+z4jttPRfpBtCqTRD21L13WLHPT76F5JozH7LmKSi2P0G0/UGi36O3L2i/4i6rSxsaoJVgVpig5cgNp1Gn21jYZ8qO9FnzoWyT7hi62heLA17JMpQaQGkdv2tdAtplITEYuyUMlqmdJHAt17QXph24qRwVK463+8xtsEiVGqYpU6Ht2BWinOYBtZIZ0LJYLBaLxYqjR48eyVQGGTNmxLx58xAdHf3pm58XgYnDhw8jR44cMhL34cOHRgdo1abXsimSL+yx8BOK/lH9DXn08ZcGJlSWoofI9O/YkTBKZeJrpfXGz/oHtGqromlE3QtTvVOULP1Vf6b0Or2SKbJYLvdpHT87qKP1y22pty2s3helqGlN2vABrWrQHvsaVCqj9tdlf3afqZ5j34dq/+p9GB/TPjOgZRm7dAVo1Vbd0//i4Jl7GDrdHcUr1IBTBhdUrtMUUzy2ys8pd60+4Zu+AS3Vz4ZjoSgm2p6CJSvgr7Gzse5IoDg/j0Wb/xr7gq+idvMOMvXL//6XBAVKlMOaQwGiTTQOQEumbVKfS2kPJi/dLPq7xjKHPOWpHTV7BXYHXpPnSZ/XiSEBWoKulF914u5LaDlsAVwLlIGNY0YUrNgQ3WdsxQLfZ1geGqOCswrLa8q6BLQEYoeu8kW5pj3Rd9EBLDj5HB4KUcH02YRdl5CzZHU5kVj+So1F2X80lnf3R2ZAy2KxWCwWK44iIiJQu3ZtZM+eXU4SRtGzvyoayFHkbf78+ZEuXToJTinNgTEC2sRrwwG0idkJAdAauxnQshKDdA1opWX0Ywz8br3BJs+z6D1yKgqVrIAs2fOiXqsumLt+L7yvvpB5SfUB4PQNaOlHRcrFXbpKHZmHmyauLFiinMyn3qn/GJkWydo2tewbaHJRSvey8XiIUQHa/xwjzsdb7Dp1DUOnLkKpyrWQOVtuVKvfEpOXbMSR8w8/XSe6PUdkQwC0S4Nogq93mHbwJtqNW4GClRvDLl1m5C9fD21GeYjPb2FJkCirZTCrti4BLR3XPK8nmO/9VGxXFT38dRn6bIHvP6jWfjDMrW2RPlsBjNoUorPoWTIDWhaLxWKxWHFEEbQtWrSQk30tXLQo3hG0np6eMno2a9asuHf/PgNaozMDWkMwA1r9mwEtKzFIL4D2k+keo3zW9Mo6pTFp1X0gMrrmQI58RdC211CsO3Ia/uFvRRunvLy2rFNAS6kfxPpjg2iKMj7+91OMW7AOJSvWhIWllewHKN+sSQrTT//+Q/6lPLR1W3TCoTP3v1iHJq1fQEvbJxj6QV4Law6fRpcBY2Tu86y58qNR+55YvtsLfrfFdfJAeXltWd+AlmDofJ+n6Lf4EMo16QH7jNmRJX9p1O0+HmO3hskyupgEK7Z1CmiFCVCTlb4jKO0eGIlu07fAIVM2mFraoO2Y5ao6EZ8rLqMFM6BlsVgsFosVR5QvduzYsTIHbdOmTSVwI5j6s0CVyj179gwjR46Eg4ODnGSM/m+sKQ4SrxnQGoIZ0OrfDGhZiUH6BLRqq8BiDI5eiJD5aRu07ir3p2CJ8ug5Ygp2nbqKoAhV/lWl5TVtXQFaamO8rr7Coq1HxbE/QvDD/46R+lZKZ7DJ8wx6DJ2E9BldZTtEgDZz9jxwSJcRqR3ToUSFGqLODojyyhNfasL6BrRqq6+TE38/gft2T7TqPghOzpmRq0AxtOszHJu9ziHoAaVH0s11oi9Aq4r+fINRG4JQvf0QOGfLLyNDq7YdhMErPCW01XYqg29Z14D2e14WEo0R604hd6kaMLWwQukGXTDXM0LndcOAlsVisVgsVhzFxMTI6FdKcZAmTRq0bt0aR48exdOnT2U0LaU8IBN8UJv+T8u9EQ8TFy5cxJgxY2XkbMqUKTF//ny8ffuWAa3RmQGtIZgBrf7NgJaVGGQIgFZtOQHWnWgcCLuFsfPXSvjokC4DylWvj4mLN+L4309EGepztNvv6ArQ0vF6X3uFMlXryhy8M1bt/HQOVNuTYPT+e9EOPcHcdftRpGxlmfKA8tIOn+GBOeKzDcfDxDpefl5GGzYUQKu2CmLH4PD5e5i+YofsC+3snVC0TGU5oejhc/cR9ED714nOAW1gJJaFvsPMI3fQfPBcmWfWIWN2FK7aDD3n7MSso/dEuUgJSRWX14ENBdAShJ119C4qNu8NM8tUyFakAkZvDNJp5KzaDGhZLBaLxWLFEYHT58+fY8aMGUiVKpWErJTugMBn7969MXv2bKxduxbbtm3Djh07ZJ7aJUuWyIjZxo0bI0+ePLC1tZVwqFmzZrhx44Yc2DGgNTYzoDUEM6DVvxnQshKDDAnQqh0o+nf/8CjsOX0VAybMk/2+fdr0qN6wFTx2nxT9zluZp1VpWU1YlxG0QQ+iUb1RG5iZW8jcqkOnLRHtPx3bf9tURY5GY/epa6hSr4XMP1uuRgNs9bmA4Ajtg0hDA7Rq03VC5+rwuTsS6OctUlqCWspTO3vtXvjeeoWQhzQ5q/Lyv2tdAtploe8lXCQQ61qwHGwcnJE5X2l0nLgGMw7fgbse8t8q2RAALaU8WOT3Aq1GLIZtWhdY2zuj67TNeqsjBrQsFovFYrEU9fHjRzx8+BALFixAjhw5JOgxNTWFpaWlhA/29vZwdHSUpjQGqVOnljDX3NxclrWxsZEDuUuXLsnoWoKxDGiNzQxoDcEMaPVvBrSsxCBDBLRkuv+oPyLItuFYKJp27AOnDC7I5JYTHfuNxu7TN2QfpIKTmu2HdJmDNuTRe4ycvUK26SbCNAGY97XXn47/v3L0fwKNB8/cQ7nqDWBhaY1KdZthX/AtUQ+JE9CS1fXkHx6JXQFX0XnAeKR3cUO6jFnkpGobj58RZd7JZ0ZNP69oHdAGUjRsFDyER28MRpGarSWYTWWfHvV7TcSkPZfFNl+pImb1lNLga+sf0Io6E3UxZKWPzMebwtwSNToOx5wTlNpAObJY2ykPGNCyWCwWi8X6pgigEmC4fv26jJqtUKGChLAE4pImTRrHZmZmyJkzJ3r27AkfHx9ERkZK0KsWA1pjMwNaQzADWv2bBv4MaFnGLkMFtLFNE4mdvv8Wi7cdR5EyVWBqZgGXbLkwbuE60Qe9QbCGo2l1CWhP3XmPXYE3kTlbXlVbX7wsNp04I3OpKpU//eAjtnpfRIYs2WGZyhYtug0U7dRzCVCVymvChgxoY5tSHwQ/jBb7F4LKdZvD3MIKaZ0z46+xs+F5+Yn4TrPRtNoEtAQ6l595j9nH76Nml1FIaZMGJinMUKRGS0zceVF8F/NN4KhP6xvQEgydeSQcZRp2FvfTnyhQsQEm7r6IJeLzr8tSLl/y/JPPtBr9zICWxWKxWCzWD0WDMsov++rVK9y6dQunTp3C3n37sHnLFmwR3rVrF7y9vWW0LOWpJRBLYOJrAMuA1tjMgNYQzIBW/2ZAy0oMSgiAlkz3I+UVPXrxoUwDkD1PQVjb2qFc9YZYvtcf/uEvRDnqj36/T9IloKU+lCBzn5HTZQRtaoe0+GvMLJy8+UYes9Iy/uGvMHDSPJiaWyCja3ZMXrpJ9ANxy2nKCQXQklX7GgPva/+IetkqJ5pLZZdGtONVMGv1XvH5E1FOHXmtvI6ftdYAbeAbzDnxAJ0mrUPGXMVgaesA10Ll0XfBPiwJioRHSLTycgZgfQJaioRd4PsczYcugJmVHRxdcqLnnF1xyrkHRmJx4GtM2HkR1TsMRbX2Q7Dg5DO5/NdlNWEGtCwWi8VisXQmBrTGZga0hmAGtPo3A1pWYlBCAbRqBz34F6GPPmJX4DU079pPvspuntIKLbr2xxbvCxJ2Bt5XpQNQWv5nrNMIWmFqw3f6X0OB4uVgItr3vEVKwmPXCQmklY4jIDwam73Pi+ehwkiS5A9Urd8C+0PDxXriltWEExKgVZv2L0RcJzRhWI+hk5Ale26ZFqJG47ZYczAI/rdfijJ0ncT/3GoS0BIcJC/0e4YBS46iQKXGsEqdFo6Zc6HpoNmY5/0IK85+0BpE1JT1CmjFtoet8Uf6bAVgkSo1anUdJertificgLaqfgmWzjp2D61HLIaTax7RtydDkWotseDkc/GddiKSGdCyWCwWi8XSmRjQGpsZ0BqCGdDq3wxoWYlBCQ3Qqh0U8QF+tyPhvu04KtdtJiNJXXPmw8AJ87Dt5EX43nwlQa3Ssj+yrgEtQVh/cSzTV2yDc+asMDFJgSr1mmHTiVCxL2/l97HLB9yJxsEz4ajWoBWSJEkiJxebvWa33O/Y5TTlhAho1ab0GAF3orD6YCDqt+kG1xx54ZA+E7oOGo/1x0Lhc/25rN/4AH2NANpP0HD+yacYsc4f1TsMQTq3vEjrmgeVW/fDqA3BotwbCRcVlzcw6w/QRmL28Xso26ibTAVBqQ0m7Dgv9kcFZt0D38jUB12nb0Gu0jWRLLkpTEzNkcbZDXV7TMDigNdaq2MGtCwWi8VisXQmBrTGZga0hmAGtPo3A1pWYlBCBbRkukdDH/0Lr6svMG7BGhQuVRFpM2ZGyYq1MGHROhwIDRfl3on2VHn5b1nXgFZaPNP4XH+GgRPmwt4pvYwKrt6wNVYd8EdA+FvRzv9XlgDtkfP3UKd5RwloKTK0+9BJ8BLtVXyh9PeckAEtmfY/RFwnlDZi9trdKFmpFtJmcEGewqUwdNpi7A68Kuo46os6/hn/LqD1CKaIzUhM2n0RzQbNhWv+MrBxzICiNVui97w9WOj7D5aHvU8wcJasT0DbecpGud00zlnQYcJqmQqC9mee1yP0X3IU5Zv2hJmlLZKIZyozK1vkLFEVbUYvw8wjd7VaxwxoWSwWi8Vi6UwMaI3NDGgNwQxo9W8GtKzEoIQMaNWWEZCiP9rhfxV9x8xEkTKVkDlbLtRu2h4zV+3AkQsPZZtK97TS8l9bL4BWmI7jyPn76DNyKtJnygKTFKYoVq6ahM8HQu+I72MQ/JBgaTR2n7osvqsqAW2yZCZo3L4nDp+9r5V9TeiAVu1AYUobcfDMfQyfsQSlq9SWkdcVazfG+IVrcSCMgH60OLafq8P4AlqChgQEpx+6hXZjV6BApYawccqEAhUbos1oD/l5QoKysa0PQEvbnH7wJtwKloO5lQ3KNuoio2kXB7zC0FUnUbPTCKR1zSsjZk1MLeBaoAzq9ZqE8TsuqJbXcl0zoGWxWCwWi6UzMaA1NjOgNQQzoNW/GdCyEoOMAdCq/AHBER/he+sNVuw9iTY9ByNL9jzIlqcQ2vYZhhX7/MR3r3H6gdKyX1pfgJasgrQP0H/8bGRyyyEnDqM8u/VadcVUjy3Y5BkqHIZ+42bBzt5RAtqkop+u27wj9ofclq/0K633d2wsgFbt4Ih/xTFFY+OJMHQfMgG5CxaHS7ZcaNqxNxZuPgyvq8/E8SkvG9u/DGiDouAREoV53o/Re/4elG3YBansnZElf2nU6zkBY7eGSViomgSMAe3P2P10JJaHxqDZ4LniPkgOp8w5MGDpYRmV3HzIPGQvUhEpLCxlrtm0WXKjYou+GLLKG+7iXC0Ty+kEIDOgZbFYLBaLpSsxoDU2M6A1BDOg1b8Z0LISg4wH0MZ2NI5efIi56/ehQZvuyOSWEwWKl0X3oROww+8yQh4SXPv2ceoT0JIJ0p64/ATTV2xHmap1ZQoDArXpXdxQqGR5FC5dCU7pM+IP0Rf/73//kxG0TTr0xuFzD7Syr8YGaNWmiGTPq8/gscsTrXsMgluu/MiZvyja9hqCdUdCxPfv5KR0SsuSfxbQqqDrO7gHvsaQld6o2KI30mfNj7RueVGz43AMW+2LBb7PJMgjiKu0joRiXQNa2t7U/ddl3t7kphbIW7YOWo90R74KDWCdJq2Ettb26VGqfkf0XbAXc05EiGWU16UtM6BlsVgsFoulMzGgNTYzoDUEM6DVvxnQshKDjBPQEjyjGfpjsDfoBsaK/qpU5TpIlykLSlaojnELVuP4308RFKHcf+kb0JIpgpMmt9pwPExOaOWSNReSmSSXUJaiZmM7lV0a9B8/Fz7XX8t2S2l9v2NjBbRkytlLdX3o7D1MW74N1Rq2khO1FS5VAYMnz8ehMw8Q/I3r5KcAbZAK0E3acxkN+k6BW6FysE2bGaXqdUSf+Xsx1+sRPIKjRRnKR/vVsgnQugW0UTIKtlG/6eLeSIFk4rkotbMb7DNmFf82g6mFNXKXqol241ZIiEvngfZPeV3aMwNaFovFYrFYOhMDWmMzA1pDMANa/ZsBLSsxyFgBrbScmT8GfrfeYGfAVQyZ6g63XAXg5OyC0lXqYMHmwxLGBj+kV97/A5uGAGjJFElL++955SlWHTiFTn+NQnqXbLI9on6B/OefSeWxbPI8I8prpz82ZkAb236332Jf6G1MWLQehUpWkNdJQfF32rKt4rtIOdFY4N3/roXvAtqgKCwLe4953o/QYfwq5CxZDVap0yJ36VroOnUzZhy+DffAN0iouWa/ZV0CWtrWHM+HcMqaX078lSSJuCfE/fBnUhOky5oPTQfOxoQd57HI/4UE5Urr0IUZ0LJYLBaLxdKZGNAamxnQGoIZ0OrfDGhZiUFGDWg/WcLXewTgXmGT5zm06TUUqdI4ytQHTTv1xVafi6CJtyTgFH2aoQBatdWg1vvaP9hw/CxGzlqOVt0GoF7Lzug+dBLWHw0R+xwlyygt/7tOLICWjpPsHx4pU2H0Gj4V9mmdkS5jZtRo1BprD52Wzz3UP1N5ZUAbqYKuQW8wZPVJFK/dBrZOGeGcvSAa/TUdk3ZfgnvAKwntEno6AyXrEtAuD4tBz9k7kMLcUgJayjNrKbZbvnlvjFgXgIV+z2U5fUNwBrQsFovFYrF0Jga0xmYGtIZgBrT6NwNaVmJQYgC0sR14n8BaJFYfDELluk1ham6BLNlzY+CkBTj+92OEPKbjjzYoQPufVf1t0INocQxvRf8bKY4nSpwz7fbDiQXQxjZBcarjrSf/Rv3WXWEmrpO0zi7o1G80DoSFI/TJR3ke+n0GtLvhHhiJlec+YObRu6jeYRjMrVPDOk06lGvaE+O2nVFFcRohlI1tnQFaUdfLwt6hdtcxMElhhqQmyZGzRDUM9DguJwAzpMhkBrQsFovFYrF0Jga0xmYGtIZgBrT6NwNaVmJQYgO0ZOq3KO/oyRsvMGHRBuQqWBwprW1QrFw1zN94CH63nqBd7yGwFXViWIA2lu+p2ihVGgftOjECWpVV18np+1FYsOkICpWqCEvrVHIisYmLN4rr5yEGTJgGh/SZ0XfBPizw/QcdJ61D6ozZYGFth6xFKqHf4kNwP/Uaqhyzxg1nybqMoF0WFoOaXUbJ1BHtxq6QEbMeIdGKZfXprwHtGwa0LBaLxWKxtCUGtMZmBrSGYAa0+jcDWlZiUGIEtGqfFvd46KOP2B8Sjk4DxsrJoaxsUqNRu56oWKcJUtmmxqoDgQgyRECrQydeQKu2uE4e/x9O/P0UAycugGvOfBLoV6nXAjUatYGdYwbU6DgS2YpWhqmFFdI4u6LV8EVY4PsMK868R2IAs2rrEtDSusdsDsX0Q7ex4uwHg4qaje2lwW/RY84OZMpRAO7uixnQslgsFovF0p4Y0BqbGdAaghnQ6t8MaFmJQYkZ0KodKJ4naCKxZXt8UatpO6TLmAVmFilhamaOuev3IuDuG1lGadnEYAa0aotr4M5bbDxxFs279ENG1xywsLRGsuSmEsw6ueRAtfZDMHHPZXgERxksMNSmdQloKaUERcx6BBte1KzadA0s9HuKtmPckTZzDsyePRsvX7781PoaphjQslgsFouVgMWA1tjMgNYQzIBW/2ZAy0oMYkCrMt3vwQ//hfe155iwaB2y5s6P5KK/K1C8PCYu3oBDZ8NFuRic1kFKAUMzA9r/LK+TiH/hf/sN5q7bh4IlyyGFmTnylq2LISs8JTBcFhqjCOsSg3UbQWu4ppQW7oFvMHX/NbQeuQQZcxWFhYUl5syZw4CWxWKxWCyW9sSA1tjMgNYQzIBW/2ZAy0oMYkD7pWlyqFN336Jl9wGwSmULt1z5YeeQFrWbd8TMVTtx6Nw9WUZVLnGYAW1cB96nOolCn1GTkdopA3rO2oElQW8UYV1icmIHtBQxSzlnZxwOR9fpm1G4ajM4ZMoBB5ccsLN3wpIlSzjFAYvFYrFYLO2JAa2xmQGtIZgBrf7NgJaVGMSAVsnv0K7PMKSyS4ORs5ahTa8hcmIoeqW9Tc8h8NjtIyNtaQIp5eWNywxolX36/jv0Hz8Ljhlc0XveHiw+xYA2MQNaj5AoLPR9joHLjqFCs15I65oHGXIUQu2uI1Cv9wQ4u+WWgDYyMvJT62uYYkDLYrFYLFYCFgNaYzMDWkMwA1r9mwEtKzFIn4CW7jGy0nf69Tu07T0MtqJOVh04BZ/rz7Fo62E0bt8TWXMXkO1ytyHjseFYGPzDI41+EjGDALQGeJ1IQDtupgrQzjVEQBuFJTrOg5sYAS2ltaB0BqM2nkbVdkPgkqc47DNmR+VW/TBgyVHMP/kIPeZsl5OELXF3RyRH0LJYLBaLxdKWGNAamxnQGoIZ0OrfDGhZiUG6B7Sij5H9dzS8r72Gz/U34t/vcPqB+M5A0gYE3PkEaNM4YuW+UwiO+CDb5INhdzF5yUZUqNVIRtOWrFQLw2cswQHxOfWHdGxK60vo1hugvUPbJseonjXuRSNIXCeGkl7CIAFtYKR8zd4j5J34f5ScSEu+dh8s/i/+rbiMBp2YAK0qnUEUpu6/jqaD5iBXyWowt06DItVaoOu0zZhxJFyeB3KP2TvgwoCWxWKxWCyWtsWA1tjMgNYQzIBW/2ZAy0oM0jmgFX3G7sAb6Dt6BqrUb4Eajdui25AJWLLDE17XXiAo4oPeoyW/BrSnP0XIEhj0ux2JXaeuSDBboHhZpHdxQ4WaDTF7zV743Xoj9t/42mP9AFoVyN/hdwX9x89F656D0XfMDLhvO4Hjfz+V18np+/q9TgwN0HoEv8OykGjMOnYPfebvQ72eE1GpVT+0HLYIU/ZdU0FaheU06cQAaCUAD43G/JNP0XnKBuQtWwc2jhmQvWhltB+3EtMPXIc7XQtB6vJvGdCyWCwWi8XSjRjQGpsZ0BqCJaDdy4BWn2ZAy0oM0jWgPRB2H7Wbd4BdGkeYiHYsuakZrG1TI5NbDtRq2g6Lt58Q/cpbCUP1FZH6LUBLpv2i//vceIF1R4PQsd9oZMiSTe5/kw69sNnrAoIioiVcNJb+UR+AlvL7bvI8j2LlqsnJlSytU8mUE5lcs6Ny3WaYsXKnzAMcKPMA66eeDQnQegRHYY5nBNqPX4WcJavBPoMbUtqkgWlKa6SyT4cClRpi7NYz8nV8peU1ZWMHtARb3U+9xtDVfijToDPsM2aFU5bcqN9rIsZvP4vFAa/kuYidWoIBLYvFYrFYLJ2JAa3x+acA7fzVYsBmvK906tunfwRoxXlgQKtdqwDtSwa0LKOWrgAtwcrAe+8wbuE6mJlbIIlo1/73vyRIkiSJbOP+EP1KClMzCeNadR+I45f/QfAj/bRt3wO0/5n6vhj43XqJVQcCUL1hG9iktodjuozoPmwyjl18gtDHhppj99esa0BL2wu4E4UajdtJiE/XB10ndM388cef8jMbO3vUbdERu05dR8gjqmPdP4sYAqClaM5loTEYse4UClZuDEtbe/HsZiLrKUmS/+otuVlKlGncHfNPPpPLKK1LEzZaQCvqbHnYe0w7eAM1O4+CfYZssLRzQpmGXTFyw2ks8n+pvJwwA1oWi8VisVg6k64Bbfa8heC+7RBCHr5D8MP3CI5ga9YxCH30FjNWbkfSpMqAlgbS4xeuEeUiZXnl9bB/x6GP3mHVfi/kKVRcXvdfA1oaoFaq01QMYt8g9LHyOti/YdG2hDyMge+tlyharir+/JMBLcs4pTtAGy3vpzotOsk+RIKjJH/APKUVsucvghz5i8Iqla1s20zNzJG3WBls9bkk70VdR6L+HKD9z5QX9eTNV5i+chfccheEpbWNOJ4imLlqF/xu049oCfuHTN0CWvFM8fBfrD54WgJ7got0rSQVzyJ2DmmR0TUnrG1Sy+uEvs+SIy9W7PVHyCOKWKYfjZXWqR3rG9ASaF186jW6Tt8C5+wFkSy5qbSFjQMy5CwCU0tbca8llfX3P+EMOQth0HJPmQpBaX2asLEBWpnDN5jq+aXMK5spbwmYWdoga+Hy6Dl7Jxb6/fPD+mRAy2KxWCwWS2fSNaBN6+wiXymcvHQrJi/ZwtawJwlP8diGlt0HyEG0IqAV56Fx+16YsmybLK+0Hvbvmc4BDYadXbIqAtpkyUyQo0BxjF+0EVOWblNcB/s3vJS8FWPnr4NLttziHPzJgJZllNIVoPUPj4bnlafIV6yMbNMIvBEA7Td2jnwTwPdWFNYfOyMBLgFOilrP4Jodaw4FIuiBYQNacuDdDwh7/C+8r79E37Gz5bIEEivVbYbV4hgoJZDMmWogE1z9inUJaAnGhzyOkduiH4kJLNJbOyUqVMfG4+fgc+01NnldQKvug5DGMb0Et+aW1pixaheCIt4prlNb1iegJThLUZutRy5BKgdnJDVJAdu0mVGvxwRM3nMViwNeY8LOi3Byy/s5Wt3SzlHCU4K62oqiNSZAuzQ4Gh6hbzFyfSAKVGoEkxSmcMyUXU4IRukklp95/1P1yICWxWKxWCyWzqQLQHvr1q3PgJYe1JOZqCIIk4uHJbZ2nDSZiYy6MDExQdu2bSUc7NKliwS0qmgWE1GOz4G2TNe3ibjO6XpXA9orV67Aw8ND5p8leE5RnXwfaNfU1hAooki/1KlTY8uWLQxoWUYl3QHad2L9T5A9X2HZphF8K1ejHnafvoKQR//K7QZHfEBAeCTGL1gLh7TOMkIyd6GSWHckBJSTVGm92nB8AK3alKM26ME7bDxxDg3bdkfaDC7Ikj0POg8ch60nz8P31mtRLiZBgVpdR9CeuhuFUlXqyLaXrhVnF1dMX7EVoY/FdXL/w6eJ5KKwaMtx5ClcCqbmFkhllwbTlm8T+xr11fq0Z30BWoKCC32fo+2YFbB1coGphRXyV6iPISu8sSToDTxC3skyK85Fo8fMrTAxNZfPbclSmKN0w66YfTxCwkeldf+uEzyg/QRcFwW8xPjt51Gj0whY2NjDIWM2lG3SXebxpWP8FcDNgJbFYrFYLJbOpG1A+/HjR9y7dw8tW7aUsJAe1tm6s5WVFfr164c7d+5g+PDhsLGxUSzH1p4pirl69eoyknzXrl0SFCb9NHBl684uLi44evSoBFoslrFIl4DW8/ITCdTofjKzsESLrv3geeX5F7CP/k1pW2av2Q0n50xIYWaOqvVa4GDYXfHdz4PS3/HvAFq1Qx79H/xuvRLHsRflazSAjajf/MXKYNScldgfelOU+RRRq7CsoVmXgJa2dfTiE7jmyi9/oKQfgwuVqihzzQZF/LdNKkc5fredvIDCZSrLSNqMbjmxYp+/zupVnxG0/d2PwMElB8xSWqNYjZYYv/0clod9+AocRmL64XCky1ZQRtH+mTQZClZsgKn7rmNZSEyscppzwgW0UWLfaV8jMXX/NbQesQSOmXMjlX165ChRA38tPIAlQW9lHlrl5b9tBrTxEA0m2fpxbCl9z9a+Y0vpe7ZurJbSd2zdmBU/aRvQ0vqioqJw+PBhdOjQAc2bN2fryM2aNcNff/0FPz8/xMTEICgoCAMGDFAsy9aeKYJ59+7deC0e6p8+fYoxY8bIc6NUlq0dU31PnToVz58/5/6CZVTSZYoDn2vPULZqPVDKEMo326n/aHhfe624TXpdfeg0d1nO3ik9+o6eAZ/rLySY+7qspq0JQEumaNrAe9HYHxKOQZMWoHj5akjv4obqDVth+srtOHz+vpyUk8opLW8o1imgvf8Be4PCkVqcc3pTxNTMAjWbtIfnFeVzHxQRg01eZ+CSNSfMU1qiaoMWOBB2TyeQVh+A1j3wLabuv478FRrIfLO5StbAyA2BEi5+HdXpLvZnUcBzFKraXN5z9NZN7lI1JMylicVil9WUEyKgVdVbJKYduIHOU9bJuqWI2RzFKqPNaA/MOREBD4K3vxA1G9sMaOOhV69e4dKlSzh//jxbh6ZIEBrw0YPu27dv5f+VyrG152vXruH169cyQo0e0O7evatYjq09X7x4Ec+ePZPngEyDP/pMqSxbO75w4YK89um1VR54/7q0DWhJtM7IyEjZZp07d07xPLK1Y0ovQYCc2qfo6Gjcvn1bsRxbO6brnVIbEJxV9xMPHz5ULMvWrh8/fsx9BMvopCtASxM4+Ye/RqtuAyV4S2mVSkJQr6svEagA+wgAHrv4CBVrN5GpXPIWLonle/0Q9EA7+xfbmgK0atM+00Rh64+Fol2f4ciRrwicM2dFy24DsGyPF3yuvxLbEGUNFNTqEtBSXW/3vQILcX0QVLS0putkqDwnSuVP3f2AkEfvMXLWclhYWkmYP2y6u9hnAt/ahbT6iqBtPmQ+kpulhK1jRrQeuVROUqX0yj1NcOUe+BpV2w2SdUkThmUvUgGjNpxmQCtNUbPvMNfrEfotPoiyjbshTYascMlTHHW6j8WEnRdEPUXLlBHKy/+cGdDGQ/SLeN26dVGjRg3UrFmTrSO3a9cOx44dk3D2wIEDMkKBzgGfB92Y6rlp06ZYu3atjMg5c+YMevfurViWrR3TOahduzbGjRuHFy9eSDg7adIk1KlTh+8DHbtPnz4IDQ3lV1fjIV1E0NIPSTQ5T5MmTVCrVi1537B1Y4pa3rdvH96IB8rjx4/LPLRK5djaMV3vjRo1wqpVq2QfQT9md+/eXbEsW3um80DR49TGESRnsYxFugO0MTh9Lxpj5q1BMhPKYW6Gui0748iFRxL+KS/zFjNW7oSdvZOMpO0yaCxO3niNQIWymrSmAS2ZYCFBQ0rpsHjrMTTv8hcyZc2JXAWKo8NfI7HuyGn4h0chSGzL0CJqdQ1ot3pfknllCSra2KVBn9HTxT5EK5ZX+/C5e8hfrKzMHV6maj3sOX1T7KNyWU1Z14B2adA7zDgcjgw5CiG5qTnylq2DyXuuYFmIcj5ZArT0Wn6jv6bJH0UI0GYtVBbD1wYkekDrIepsccBLDF3tixodhyFDzsJwzl4QVdoOxKBlJ7Dg5DNF6B0fM6CNhyiXF+XCoeTJ0vRvtnachJxE1reFhQX69u2LiIgI9O8/QH5OMzWqzsNXy7E1a6rr//1P5rVr3LixjNCZPXs27O3t5eeqc8D3glYd615wdHSUM6TTJDzp06eP1R7FKs/WvD+dA7rm6RzMnTsX79+//9QzsH5WushBSxHODRs2lPcG9xM68qd7w9zcHL169ZI5aAcPHixz0n7uJ5SWY2vG6vZJmK77ihUr4saNG9i2bZucqI37CR1Z1rHqXqBnJEq1wj/ksYxJugK0ZAKP646GIl0mVzEGMUHJCjWwxfscgh9+C9BGY2/QNZSoWEPejyUr1RTlL4j10ERScctrytoAtGrTq/cEYY9ciMDkJZtQrUFL2Dmklcc2ePJCcbwEFg0r7YGuAe2WWIDWTpyDwZMXIPD+twGthP/3o9Bz+BSZt9Y5sxsmibpVTTimvIwmrFNAGxgpoWqnyeuR1CQ5LG3s0bDvFPH562++ek+AliBji6ELPgNat4IEaP0TL6AV9bEs5J3MM9t00GxkL1oJ9hmzoUj1Fug2YwtmH78vjkEVWau4fDzMgDYeUj98URJq6pwc02eCQ7qMbC3YMX1GmKe0lgMLU1NTtGnTRg76KBqEHn7pc5lrKG0GxeXZmnEqO3v5oEOTjFCk5unTpzFq1CjY2trKeyG5mbmqbNq4y7I149QO6eQrW3TNEwCh3I4UwUk/XNBnJslNZRmlZdmas6l5SnnN29nZyUhmSrvC+jVpG9DS4JFes69UqZK8N/4UfbW1XRrF88nWnK1sUst7gyZmoxyo9AMSRc8SHKTPLUVf7SD6dKVl2Zox9dVJP02MV6BAAZnqwMPDA8mTJ//UT6RQPS/xedCa0zg5S5BE1zwFdGzZskWmw2GxjEW6BrTHLj1CgzbdRfuVHM4ubpjqsfk7aQti4H3tH3ToN1KOWwjsTnTfCP/b2p2pX5uAVm2qC3+xHQLQo2atQKlKteAo2pzKdZpIuHj878cSXGv7Nf2fsS4BLcHrbb5XYJ7SSvRzf4qxUFqMmOkhtve9CFoCtB+waMsxpDCzgLmFJRp36CWu56da20+yLgGtKl3BGxSo1FiCVntnV/RbfPib0bPSBGiDxbU8aulnQJutSHmMXB+Y6AAtgerlYTGY5/0EHSetRa4SVZHG2Q25StVAh3ErMWXfVXH+XkuYqrT875gBbTykigT5QzaKw6a5Y9kebyzZ4Q33HV5sDZrqdPleLzTr/Bf+TJr0M6ANjwVoKR9Rx36jsGjbcT4HWjDV6dKdPjJRfRrHdEiaVDUzNAHa0aNHS0BLg74KtRpjxV5PuG9XXg/797x0lzemLtsK1xx5ZH0ToKVzEBvQZs1dAJOXboKHKKu0DvZvWlzbdI1Xa9ha1jcD2vhLF4CWXuumCEI6VzTBRt+xM7FkJ51Lvj80bnFvLN3pia6DJ8oHenrTgvpqivKnQbwEtOI8tOs7XLRlJ7if0JKX7vLE4Cnzkcktp7zuCdASJF+6dKkEtPSKcIHi5bBQDEiX7uT7QBteIup1/qbDoj8u9LmfoFQrDGhZxiRdAlrKsep3+y3mrjuAdBkzy9fRm3TohaMXHojtKkc70mv/I2evkDPQ04RR7XoPE/v5RAI5pfKasC4ALVmCz/vv4XvzDTZ5hol+dwKy5y0s2v0caNSuu9i2n9iXNwikV/XvaDca9HvWaQStOK+7Am/BRtQ9PYP8HKCl5f7FtpNXkNE1h/xRrWjZyth4Iuyb0dmasC4BLaU3mLj7MqxSp5Wg1TlbAUzZew0ewT8GtG0+AVqaJCxXyWoYu/VsIgK0kTKHLMHtQcuOo0iNlnDIlB32mcQ99tc0jBN1scjvxTfz+GrCDGjjIRm5KS5aagxX7PWVswEGhFMic7YmTXVKM3IOnDhfDiyUAK1NGgeMXbAWJ0VHRa8rKK2HHX/TOaAOZYkYUBPkoIH314CWGu9mnfshOCJKPES9U1wP+/d86l60zI2Ur2hpOehTArSFSpbHrlNXxUOR8jrYv2e6tukab993hLzmGdDGX7oCtOoI2mx5CmLBpoOij4hSPLfs3zVNxBGFKUu3ygGxEqClZ6bRc1eJ9umtLK+8HvbvmM6Bx25P5C5YXBHQUvQs/Zjqfe2V7NeV1sH+PdPr1ScuP0eRMlU+9xMMaFnGJp0CWukYHL0QgRZd+4m27U84u2SVEaP+t99KEKi0zPSVu5DS2ka+7Vq1XnP5fEyRlkplNWFdAdovHQOf6y+w+kCAjP5MlzELnDNnQ5dB47AvJBwhD1WgVHlZ7VqXgJa2dejMQ2TIkl0+a9jZO2LwlIXfTXFAJrB7+Px9lKpcWwJal6w5MXPVLgRFfFQsrwnrEtBS9Gf3mVuRLLmpuA+SI1fJGpjv81SCW6Xy5K9THNAzXf7y9T7lrTV+QEt5ZglET9z9Nyq16g+HjNlgbp0alcW/x2wOxSL/56JcZJzlNG0GtPEQgUHKV0I38op9/qIB1HbHlEh97z2CRecyaOICmJgkh6mpWRxASx3huIXr4Xvr2500+/dMHSpF26QXD0TUgcUBtEmTonmXAQh9FCMhudI62L9netDbGxyO/MXKfBPQFi5VEbtP39DqA2hiNl3bdI3TxAx0zTOgjb90DmjzFsLCLUdEn8Ltk7YceD8GU5dtw5/JlAEtPTPRRC+nH4gBE/cTWjHlIFy+1wd5CpVQBLTJk6eQs5ufvBGptYFyYjc9h3peeYmiZat+7icY0LKMTboHtHRvxWDNoVMoWKI8UojxYKGSFbHm4Gnxufj+6z5F3Idz1x8UY0QneR/SRFCrDwZ8Jy3C71s/gFbV5py6+w6el59g1urdYixQWU6QlrtQSUxeuhX+4W8QFKF6hlVaXlvWJaAlU79G1wb9MGaT2h79xs0S+/B9QEv76H31EWo37yDHt1Y2dmK5ufJzbeXz1SWgJaBaq8to+SOFSQozlKjTHu4B9Er+9wEt/W3cb7oEtAR2i9VohRlH7kh4+XV5TdhQAK1HcBTmekag9cilcMldDBbWdshTtg76LzmChf7PRJkoCa+VltW0GdDGQ18A2r3+Wg2FT+xmQKt/M6DVv+lXXga0+rUa0LZnQPvbYkBrbI75SUC7WrRlFGXI50EbpnOwfK/3TwDaN1odKCdm03Oo55UXDGhZRi39ANoPMo/s9BU7P6Vx+RNFy1TBuqMhCI6gPui/Z99A4anLtiOFWUpZjt4AnLfxgASGsdepSesL0MZ28KMP8L72HIMmLYSTcyaZDqJkxZpYf+wswh5TsIfu2n06X7oCtPTmQsjDaNRq3E62u1apbNCp30jxHb3do7wMmSDsyRv/oHWPQRJi0nwFrboPkrBXW0xBl4CWJrfKV6GRqJNkSGFuiartBsMjJOa7kFEC2sDXqN5hqLx3TFNao0rbwZjn8893we7vWN+AllIVEJwd6HEc2YpUkjDbMXMutB+3UpyfVzKiVg2udWUGtPEQA1rdmQGt/s2AVv9mQKt/M6DVnBjQGpsZ0BqCJaDdw4BWn2ZAy0oM0gegVTlG5l4dNn0pnDNnlbP2u2TLhRGzluPQ2btiLPgC/uGvcDDsGhq26S5zn9OcMTR54qQlW7Q6TjQEQEum8QK9qbL15CU06dBbTrZtY5cG7XoNww7/y7J+qB6VltWkdQto6fn8PQZMmCfnSjGzsESDtj0kaFUqr7YEtDefo1P/MXJ8SxM71mneEUcuPPwC+GvSugK0BGEXB7xG+hxFQPlnTS2sULvrGCw/8158/x1AK/ZnccALFKtJ8238iVQO6dFy+GLFspqyvgAtQdfFAa8wbts5VG4zADZOmeQkYASyJ+y8KPZL7EeQ8rLaNgPaeIgBre7MgFb/ZkCrfzOg1b8Z0GpODGiNzQxoDcEMaPVvBrSsxCDdA1rRZ9xTPQtTmgLfW28wXoz9chUoJnNrU4RgroIl5KTRf42eKXNt0+c0TiToRrP7j5i5XKt9j6EAWrWJTdA+0ETPJSrVQhqndMiULReGTFmMA6HhOHUnSmsQkqxLQEumdJPL9/rL9BcUOVyuWn0cOhvx3W0SoPW9+QLdxT7S+PZ//0uCKvWaY1/ILbGc8jK/a90B2neYc+Ih7JyzIsmnSNh6vSZixdnv55ElQDvX6xGyFCwnf+DIkL0gBi47ISGqUnlNWNeAVg1epx+6gWaD5sDJNS+s7BxRqEpjDFruCffTb1QToukonYGSGdDGQwxodWcGtPo3A1r9mwGt/s2AVnNiQGtsZkBrCGZAq38zoGUlBukS0NI9tTcoHIu3ncC+kJtivBeJANHnEBD12OWN6g1bqaJpzSwkmKN2juCsmXlKCesogja5qTkGirEkTfZK+WmVtvO7NjRAq3ZwxHsc//sJRs9dgUKlKyGja3aUrV5f9NdbJaj1D6fxs/Kyv2NdA1pa97GLj+GWu4CcWDx3wWLYcDzsu4xGFUH7Aj2HT/0MaCvUaIhdp66I9Skv87vWFaD1CI7GtAM3YWXvLEGrWcpUaNh3Clae+z6gpchbmgzLWiz3Z1IT5C1bGzMOhRsFoKVjIwA9/fBNdJ68HrlL14SNYwbkEX/bjV2B2cfvwyNEe8f5K2ZAGw8xoNWdGdDq3wxo9W8GtPo3A1rNiQGtsZkBrSGYAa3+zYCWlRika0C79kgICpQoL18/n7VmL7yuPpfPxTT+PnbpMSYuXo+q9VsiX9HScMuVXz4rUyQkpT+gttAkuamc/InGiokN0JKpvQ+KiMF2vyvoNng8sucpJPP4NmrXA4u3HhZt1j+ijOiXNQhqdQ1oyUEP3qF1z8ES0Du7uGGKx5afArTdB/8XQVu2al3s8Luoqg+FZX7XOgO0IdGYvPcKUto6SkBLEbT1fyKCliJHO01ai2SiDs2t7VCr6xj5uTYnx9I2oKV9p6jZuZ4P0XfhfpRp2AVmVnbIkq8E6vWcgMl7Lsvj1tYkaPExA9p4iAGt7syAVv9mQKt/M6DVvxnQak4MaI3NDGgNwQxo9W8GtKzEIF0CWoKGh88/kADW1MxcztS/6oAYe0eotkmv6dNs/ccuPMGGY2Fw334M648GYeV+X+QrWkq0hX/KSX/6T5gHv1tRiRLQqiz6aVGXPtdfiDGdF1p1H4isuQsgd6Hi6PjXKKw+GCCjk08/UFr2160PQEtQdckOL6RxSi/TWrTo2l/mLP5WhLAEtDeeyeOnScKIK5SpUgfb/S7IdSkt87vWJaCdtPsyUtrYyyhyykFbq+toLA/79qv7EmQGRaJI9ZZIZpIC6dzyyVf+5ev+CuU1ZW0BWjWYXXDyH3kc1doPhlOWPMiUuxgqteqH4Wv9ZA5amfJAYXl9mgFtPMSAVndmQKt/M6DVvxnQ6t8MaDUnBrTGZga0hmAGtPo3A1pWYpBuI2jfizHea4ydtwa2YnvWtmnw15gZ8L/9JXijNo3G46GPPiLs8UesPXwKWXLkxR+i7zE1T4mh05aIZaJF2cQKaFWWkccR/+LI+QgZYVqjcRs4ZciM4uWrY+DE+dgTdFOUoT6dyse/r9YHoKVnC0rnULtZB9n+FiheDuuOBMnjUSqvAtZP0bxzPzm5GHGFstXqYof/pW8u87vWbQTtVaS0dVKl+TCzkFCSYOi3omGXhUZj5IYgWKVOC1MLa5Rr0hPzvJ98s7ymrA1AS/vsHvgG47efR5P+M+BWsCwcMuVAyTrt0GvuTsz3eSphtbaPLb5mQBsPMaDVnRnQ6t8MaPVvBrT6NwNazYkBrbGZAa0hmAGt/s2AlpUYpNMIWmHqM3aduopKdZqIviQpipWrhrVHgsR2KSo07jMvfTZ77T5Y29rLttAqlXheW7A+TjlNOqEAWrWp7vzDo8S44RpGzVmB0lXqIF3GLChbrR7GzV8jQSflr43v2JqW0zWgVQHlaCzYdBhpxbHYpLZHp/6jcOLyY8XzQdHXJ/5+iCr1W8jrirhCxVqNsDvwqtjXL8tqyjqbJCw4GtMPhSOVQ0YJaJOapEDh6i2xyP8VaAKxOOXFZ4v8X6B43Q5Imiw5HFxyYOgqX3gEaz8nqyYBLQHXZSHRmHn4DtqMWoI8ZWrDPlN2FKjUSKZumHbwpij3RgJQpeUNxQxo4yEGtLozA1r9mwGt/s2AVv9mQKs5MaA1NjOgNQQzoNW/6TmUAS3L2KVrQEt9DE1mNXPVTmRyywFr29Ro3KEX9py+Ltoy1fexy/reeom+Y2aKezCZbAvTZsiMOWv3yWfpL9erOSc0QEtWQdQP8LsdiU1eZ9B71HRkzp5HTiRWq2k7LNlxQnxH/cWv99n6AbSq7R6/9Bgd+o6EmYWlOJ7cmLx0k7h+IsX3Xx4Hld0deEM8IxYW18mfkitUb9QKB8PufLquNG+dAdqgd5jv/RT2mXJKQJtEHJ9r/tKYdeyBBKJflA+i1AZRaD3SHSlt7WW+2gZ9JsM98LX8/IuyWrAmAK17YKRcD6Us6O9+GMVrtYFDxmwynUHjftMxbttZUdevPwFnw4yajW0GtPEQA1rdmQGt/s2AVv9mQKt/M6DVnBjQGpsZ0BqCGdDq3/QcyoCWZezSPaD9BN7+fop+42bDPm0GWKWyRcM23bDD7zKCI2IkDKR2jZ6XdwdeQ5EyVZAkSRLZ99CzM+VYDRJllNatCSdEQKu2KlVEjOgbnmPDsVC07TUUqR3TwzVnXrTsNgBbvC+K8fgHWbdKyyuZzpc+AC2ZzsV234uoXLeZnDAsZ4Fi4vlkO/xuv0LQp9zFdLwUIbxg4yGZAoOulT/+TIqmHfvA6+oLuf9fr1cT1hWgJbsHvkXWopUlfKbjc8iUDYNXeGJZ2CdAS9GmoTESXLYZ7QH7DG4y92yJOu0w50SETuAs+XcBLUFXSlcwYedFVGjeBw4Zs8pjqd5+KEauP4UFvv8oLmfIZkAbDzGg1Z0Z0OrfDGj1bwa0+jcDWs2JAa2xmQGtIZgBrf7NgJaVGKQPQKtyDI6cf4gug8bBzt5JQlrKMzph0Ubx+SM5CdiB0Hto3vkvmJlbSCiVVPRHFA26L/imVp+PEzKgVZtALdn7+hPM33QYFWo2lmkCaOwxfIYHjl18KPoO6r9/3IfrE9Cq9u+dOA++KFKmsrgWUiJdJjf0GjkNB8/cQ3DEO/E8/w7e156hUt2mnwGmpbUt+o6ZhQBa3ggArUdIDKq0HSz6omTy+CgytkKLPljg+wQrzkbDI/gtJu+9gqptB8EunYucTC9XqRqYfvCWzuAs+XcALeXNnev5CM2GzINjpuywTpMW+So0kFG0808+EWUidXosmjID2niIAa3uzIBW/2ZAq38zoNW/GdBqTgxojc0MaA3BDGj1bwa0rMQg/QFa1fOw19XnGCjGhmkzuEgAm0KMD53FGKVk5VrI4JodycSYkYAUjRMJMNLkV9TuaXOcaAyA9j/HiHp+L+r5CcbNX4cc+YrA1MwcJSpUx6KtxxF4N1JONKa8rMr6BbRqR2PN4VMoVo7a42RIbmoK11z50WXQeIyeswrlqtWXfIGuFZpMzk18N3/TgR8e2+9Yl4B2edh79BTboKjYJOKZgGyRKg1K1uuA9uNXomq7wTKqNllyU3EfmaBA5UaYdex+3BQIWvavAlqCl3RsS4Ii0Wf+XmTIWQwpzC3h4JITXadtxqKAFzIPrdKyCcUMaOMhBrS6MwNa/ZsBrf7NgFb/ZkCrOTGgNTYzoDUEM6DVvxnQshKD9AlopemV/Hs0GdQh5ClcEuYWlhLU0j1HoE0CN9EG0mc0K/9Wn/NiH7Xb7xgXoP3PFDFLeVrb9ByK9JlcYZPGQYz5+mGH39/iu7ef+vO4dWsIgJYiYU8/eI9tvhdRo1EbWNvYSXhPaQ+IK9DEYBJciusleQpT1GjcBofO3tdqKgxdAlryPO8nyJSnlEzfQMdJJlgtoayoAzJF1lZu3Q9zPR/KaFPK56q0Lm355wEtRcNS6oY3GL0xCCXrdUQq+/SwSp0WdbqNw+zjEVgW+k4eg/LyCccMaOMhBrS6MwNa/ZsBrf7NgFb/ZkCrOTGgNTYzoDUEM6DVvxnQshKD9A5oheleC338L46cj0CvEVPlxFYE4CjSk2BbSqtU8pl57voDn9o77T4bGyugJVPe1qAH70X/4iv6kKZI7ZAWaTNkwZApi0X9PxB9T7TwB3FO/lvGEACt2sERH+Bz/QWGzViCbLkLwNLaBkk/vfZPpujRfEVLw337CdmPKq1DU9YtoI2Ukaa95++DpY29nCiM2Mn/PkFacytbZMlfWkadygnBdBw5q/bPAFq5b4FvMHXfFdTvNQlpMrjBys4RxWu3wahNwVhx9j08QvSz/9owA9p4iAGt7syAVv9mQKt/M6DVvxnQak4MaI3NDGgNwQxo9W8GtKzEIEMAtGrTq/iB995h16kbGLdgDdr0GoJG7Xuhz+gZ2HAsDP7h73QyPjRmQEuWwFX0Mcf/fiLqeS2KlK4Eh7TOMn3AFI+tOHQ2XNaBGtIaEqAl0zgq8F40dvhfxaBJC1Cmaj3kEM+G2YWpX1ywWTwj3okWZY0J0FK0qSoattPkdXArXAHp3fIiQ46CKFCxIVqNcMeUfdckDKQJw75eVleOA2hj7QtFw9IkZlMPXEeHCauRvWgl2DplQt6ydSRYnu/9RG9gWZtmQBsPMaDVnRnQ6t8MaPVvBrT6NwNazYkBrbGZAa0hmAGt/s2AlpUYZEiAVlrcd0ERHxH25COCxV9q34Ifin8L62psaOyAVm2CriGP/sW+4NsSvubMX1Tm+a3XsjMWbz0Kz8uPRf2rxi2GBGilxbVA10foo484eTMSO/2vYbvfZXhfeynzzuriWtE1oCUT5PQIjcHsYw8welMIJu66hAW+z7Es7L38XJ9wlhw3gpb2+R08xOfzvB6j78L9KFazDVI5ZESmPMXRsO9UOZHZspAYWebr9RmDGdDGQwxodWcGtPo3A1r9mwGt/s2AVnNiQGtsZkBrCGZAq38zoGUlBhkcoI1lugfVVvpeW04sgFZtgrD+4VFYczAQzbv2Q64CxZA5R1507DcSy/f6wPv6c4Q8/Bfdh0wwHEAby3R90HiJTOkZlMpow/oAtGp7EPQMiZYmAKpURh+ODWi7Tt0Ij+C3mO/7D4as9ELVNgOQ1jUvMuUqgmrtBmHYGj8s8n9plFGzsc2ANh5iQKs7M6DVvxnQ6t8MaPVvBrSaEwNaYzMDWkMwA1r9m55DGdCyjF2GDGj15cQGaMnU3gU//ACvqy8wa80uVG/QCpmz5kLBEuUxYMIc7Ay4jC4Dx8o6MTRAqy/rE9Aaqv8DtI7oPHk9xm0LlXlmM+crBVunjChVrwN6z9uLeT6PsSw0RkYEK63HmMyANh5iQKs7M6DVvxnQ6t8MaPVvBrSaEwNaYzMDWkMwA1r9mwEtKzFIDWht0jhJOMftSeIEtJ8t885GYW/QLYydvwoVajZClux5UL5GA+QvXg6WqeywyfOsqJOPcZdNZGZAG9cEXZsOnC0jaCk3bp7StWCVJj2KVGuGjpPWYvqh26qylCv3q2WN1Qxo4yEGtLozA1r9mwGt/s2AVv9mQKs5MaA1NjOgNQQzoNW/GdCyEoOoj+3WtSusbeyw9nCweO6MEW2K6jlJ6b5IDE7UgFaYJgcLevCvGI+/wWbPs/hr9AzkLFAUZhaWMBF9z4SF60QdRYkyifs6YUD7pSl6dp73Y1RpMxApzK2ELeFWqDyaDJyNiTsvYEngG5mSQWlZYzYD2niIAa3uzIBW/2ZAq38zoNW/GdBqTgxojc0MaA3BDGj1bwa0rMSgjx8/YtGiRUidOjVyFSiKfuNm49DZ+3LMRs+rSveGsTuxA9r/TP17DLyuPsPqAwGoUKsxTM0tkDFLNjTr1BdbvC8gKOI9ghJpH8SAVmVVDtlIDFvtizINO8PGwVn0mSYo36Q7Rm8+jYW+z+Isk5jMgDYeYkCrOzOg1b8Z0OrfDGj1bwa0mhMDWmMzA1pDMANa/ZsBLSsxiPrsx48fY9++faheozoc0zmjePmqmLlqJ3xuvBTtS+Jr4xnQfmkat1C0bPehE2Skdd4ipWTdZM9TEP3Hz8HhcxHiexXMVVl5PcbmxA5o3QMj4RHyDtMP30aDvlPhnL0gUqd3hbVDBpiYWaHLlA0ylUFiyDP7PTOgjYcY0OrODGj1bwa0+jcDWv2bAa3mxIDW2MyA1hDMgFb/ZkDLSiyiKFp6/nn69ClWrV6NXLlywSGtM6o1aq1KexDxQT67Kt0nxmgGtF+a2sLTD/5F9yETYZvaASv2+WLmqj3Ikb8IrG1Si36qJKav2AH/8EgEi2uFUiQorcfYnJgB7bKw9/Jvt2mbkSlPCZhb28l0Br3m7kLtbmNhaeeErlM3ijKJG86SGdDGQwxodWcGtPo3A1r9mwGt/s2AVnNiQGtsZkBrCGZAq38zoGUlNlH/HS2eg6jPHTx4EBwcHeXr7D2HT8Xhc/dEW0Njg2jF+8WYzID2S6sBbTcJaB2x/mgYQh/H4NjFx+g1YjpSOzrDzt4RtZq2x8YTZ0V5ukbIxv18kPgAbSTcxd9lYe8wbvtZFKzSDKYprWCX1gUN+07FrGN3sfxMDBr3myEnCetigICWon7VXkJWKKNpM6CNhxjQ6s4MaPVvBrT6NwNa/ZsBrebEgNbYzIDWEMyAVv9mQMtKjKI+nEx9u7+/Pxo2bAgrKyvkL1oGk5dsgdfVx6LNoftD+b4xBusT0FK7E3jvX5wWVv1bbFvPdU378DWgDRRjGXLIwxhs9rqAui06wdLaBhkyZ0X3oZOxL/iG+D5aLKu8TmNwYgK0lKZgaUgUpu6/jlpdRsHUwgopbdKgZL2OGL/9PJaf+SAnAKN8tI0MDdBSigVh1QRlkVjg+xzzT1Je3EidpF9gQBsPMaDVnRnQ6t8MaPVvBrT6NwNazYkBrbGZAa0hmAGt/k3PoQxoWYlV1JfTtU75aVcsX4GKFSshbTpn1GneQY4jvK49Fe2/cUbT6gXQir7U7/ZbHDp7D2sPh8jtbvG5iKMXI+Tn+oxGVQK0//U7MeLf7+Fz/RmmLd+OMlXqwD6tM4qUqYwJizaK47kD//AoWe7r9SZ0JxZA637qNaYdvIl2Y5cjQ66iMmI2e/Gq6LNgv/juDTyCCXx+griGBGiD6G8kFvm/xJS9V9F12iZUbtUfuUpWR47i1VC76xhM2HFR65G0DGjjIQa0ujMDWv2bAa3+zYBW/2ZAqzkxoDU2M6A1BDOg1b8Z0LJY/+nq1asYOWIECoq2KG0GF3TuPwYbT5wRYzZqg4wr76iuAS3VHUHY5Xt8UbNJO6RxTA/LVHZwyZYbDdt2x4yVu3Do7F3ZJuljfPx9QKsyXQOhj/8PB0Lv4K+xM5G3SEmksnOQx7No6zF4XX366ToxnnGNMQNaCVuFZx9/gN7z9qBAxYZI5eCMTLmLosXQBZjn/QQrz36QZb5YzkAArWq/ImXEb4fxq5GjeFUkS2GKJEmSSOZETm6WEsXrtMPMo/fgIfZbaT2aMAPaeIgBre7MgFb/Nj5Aq+rs1VYuY1hOzIDWUM4VA9pfk/qVRyX4+iNA+63lflZ6B7Sxrll9X7e6MQNaQ7AhAlq93gf3/ts+3ZPU9yuW06BpWwxoWSyVqC9++/YtfHx80KVLF+TNl09CuAET5mGLzzn43Y4U9wzdN8r3U0KyTgGt6EMDxfPM+mMhKFy6ohybJRFtPrX7f/6ZFMnEmNnOwQl1W3SWoPPkjVc6r2NqC38EaNXl6FhosrB1h4PQqvtA5CxQFBlds6Ndn+FYsdcX3teey/5NtuVfLZ/QbKyAluDmXM+HGLDkMCq1/AvpsuaDS55iqNVlJMZuPSPKvIkDZj8vawCAVu6/1yP0nr8bRWu0gpWdI0xMzWEp9okmM/vjjz/xvyRJ8Ie4v9K55sGApcew/NOkZ9owA9p4yJABLb0yQLMhBkfQ3/iYGkrldevDxgJoad8InAWJOibYRg568D5BzHJqLIBW1vunBybaT/9w1WtWqnNh6OcgYQBa2k91O0LXt1KZn7H6fqG2iM5VAJ0r8Vd9rvRxrzOg/TXRwOzJkyd4/vy5nO05tr4HaOnfL1++xIMHD+INNfQFaD+3JXTdimtW1caI61Z8ppPXHT859nMA9TFKZTRrwwK0sv341AbROZHnhfraT22K0jLasPq862q7hgRoZb1/uubpXlC/1qw+J7HLatqq+1D8W/YfYtty++rPtdt/0LoZ0LJYX4r69RcvXsh7oXGTJnDJ4oryNRpg3II1OBB6W9w3BN+U76mEYl0CWupDfW++Qrs+w/CH6FtpPExRfuYWlnB2cZM2E/9OmjQZXHPmw6DJC3D04kPRBiqvTxumtvBnAK3aVJ54yskbrzF3/T7UbNxWRl3nKlgcfUfPwFafczLtgS6PQRs2NkBLUaSUsmDM5lDU6zkRGXMVhUOmbCjToDP6LT4sUwUsC41R5XRVWJ6sb0BLcHbWsftoMWwh0mXNK6NknbLkQtEaLVG/1yTU7jYOaTK4iXvsD/lDSOq0LugyZT1WnGVAqxYD2m+YGraTNyOxw+8yVu4/KTqH+Hn1AT8cOf8Qp8TDrNJ2dO2EDmhVHVQMTvz9DBtPhGHhlkOYtnyb9LwN+0R9B2B/cLiq09FiZ/47TuiAlgZl9OBEr9As3emJsfPX4v/ZOwvwqo7t7d/eFnd3C+7u7hR3K4UWdylOcYdS3F1KcXcNlhBC8NLi7qUUl/b+v/ebdx02hHCChOQIWe/zrCdwzt77bJk9s+Y3a9b8MHAcOvT7GT1GTMXo+WvkvfG66MrPwLUBLR1rJvZfe+C8qRN3mzpor3GmTmDXGY7af/j5yAIC5ljbTt7B3I37MWTqInQZMgHtzbPqNmwSRs5aLu+R5+m/5Z44chEEBbQfJwIJRs3Mnz8fl02dTWhqKTBAS5D74MEDzJ07F+vXr5fIm6DI0YCWHQbWMWt8z2PS0i3oM3YOOvYfjfZ9Rpk6Zpp0NlZ5nzb1/DNTxu0fIzjMquvW+J4zbYuXvIuLdx7BPtM+hmzd7BqAltfPZ7H56A3M37xf7vvw6UsxcvYKU/fvwEqvU8ZPehTi9TzPg2066+PlXr9j1f7T2PHHX3a3DU5zBUDL+tvr4hNzzWcwYdFG9P55lnkXxqDTgLHoO2YOpizfJm0x34Pg9tn4XL2vPMcan3OYtGQz+pr38IdB4+T3ewyfip9MOVi4zQ+ep9h+2D/GpxqvSQGtSvW22L7/888/uHjxIqZPn46q1aojTYbMqNaguXk3V8rq/nyH3RXUOjSC1tjyPX8gRZqMUtfT4iZIjDpN2mPU3BVirboPQa5CJRA+YiTEjBMf37buio1HWPc6pp9m6/9+OKC1jPv5XH2OTUeuYtCkBShb7RskSp4SRctVNf7UZKw5cFbqb3cFtZ8LoCVUJZwdvu4M6nUfj0yFvkbcZGmRt0IDNBu6AD9tvmjb7h1g1jJnAtppvs8wctNFWcQsbtLUiJUgGQpVa4K241aZa7iEiV73McXnISq3HijRs4ykjZskFVqM+FUBrT8poA3E2CHYcvy6VMg5CxQTkBMUy1WwhHFst5vK0TVAmzsDWjYee88/lk5i7cbtkL94OWTIllvKjUfaTEibOYe538VRpkpddB44FqtNp4JRH64GOd0d0G4/eRtDpy5CpbrfI0vugkicPJU4K9FjxZGcTRxdLl6+BroOnWiclysu2ejz/XZNQGtL9E/HdNyvG6Qsc9XeHPmLoUGrrsaROg/fGx9WP9Ip33fhMaat8ES9Zh3FsUyeKh1ixUuAaOZZxYmfCCnTZUKBEl+jWed+WLTjqPldrvbqmOtVQPtxIiRlGW3UqBEGDRqEmzdvSgeNMDYgoLU+Z+TszJkzUbp0aWzbtg3Pnz9/ebSPkyMBLcv/pqPX0HfsbJSr0QAZs+dFwqQepn6Ji2gxYyNuwqRS15c270af0TOx+fi1EKlj+P7sOX8f4xZukAVZchYojmzmXaxcryl2/HEvhOtm5wNatp3bT/6JARPmS+QN60Pedw/TgU2ZLrNAy2JfV0PrHkOwaOcxs88zYyFzHjt+/xO9R81AyUo1Taeyijmfhua5bAyR5+7fnA5oTRncdOQaeo6cgpIVayK9ee8SJEmOGOZdiBk7nrwXmXPmR9nq9U2bvBiep++Z8zD1dzAEBBww93293yV0HjxOfjtj9jwSfcW2PkbsuNLWsxzkK1oWDdt0x5wN3vC5Yotwt3e8oJoCWpXq3WJb//zFc+O/+olvULBwYWQwdcV37Xpg7sYD2HeR9RPfp5Bss4LfHAloOTtm2LRlCBc+okTORowcBVXqNzH9yLPGT/0/8z0jUR9J0FX1hi0l5QH9kUZte2CbRNKGvN8cVEArZtoS22yHf7DC63d0HDDa9AlKIpHpv7EvN3reGlPP/in1vt39Xdg+B0A745Dp8+26g5Y/LUau0rUQJ0kqpMldHPW6jcXg1ScxxecRpvtxEbAPA63OBLRMa8CFv6LHSYj4ydOiRodhsjjYdL9ntmvwfYpZR/5Fx0mbTJseRiLWE6fJgq4zd2qKA39SQBuIsSJbf+i8VFzhwkfAV2HCfqCFEaMjyakQ4SNExJCpS0ylaJuO5mxzV0DLxm/r8VumMewpnYIIESO/utcB7z3/HTteQuQtVtZ0GtiouxbodFdAy/Kw8fBVNO3UB8lSpkM4U37kfptyzuugw8J/y//Nv7mCaPVvW2DFvt8dDDnfby4JaM395fu58chVtOg2AKkyZJH7yPxXYcOFQ+HSlbBsz28fVD/y+naffYBBkxcK3I0UJeqrZ8X3Q56Vv3eGcL3Y19WlXDrKiVdA+3FiJ+zPP/+UvHMeHh4YMmQI7t69KzA2IKAlUH1knI9Zs2Yhc+bMqFChgiwu4j/q9mPkOED7Aiu9T6NBy85ImDSFre2VMmurU6w6huUlbLjwSJgkhWkTumHdwfOmfgq+c+E7v+HQJbT9cZhAyYiRItvadPPOEBhvPXEnhOtm5wJadtLW+V2SSKxEyVK+rC9sdcdrsz0XwkLC60mmPLCjFFznwjqMz2HhtkOoZtqRREk9bL9pnn/chIkFWrJtt7dvcJlzAe0L8wwuom6zDoifONmrsv/6XXj5DMxn/D/zCzbv0h87/7grnXD7x/wwIxTnjAtGWHEgz//zfuP583yMRY4aHZly5JUZGQfMPfMOxjZEAa1K9X7RP+A78ddff8HT0xNdunZB1uw5kTlXfrTrPdz4shzcZ7viWr74u8yRgPbw7Rdo3nWg9GUIaD3SZsBPs5eZ+ueZ1EHchvUq/YxNRy7iG+OjsH/PurnL4HHmXEM+uIHHDzKg9We8hl1n72Pe5v1o1mUAMmTLI8EadZt2MPfZ21zLY9MGOJ/DfKi5L6B9KqkKJu9/gK4zdyB/pUZI4JEe8T0yoFq7oei76CAm7rsnYNH+/oGbcwAtf+MR6nUfh5gJkiJu0lSo32McxnretEX9+ov8nXn4X/wwebNp040PYfyXjAXLY8TGCy8hdMDjBo8poA2CXDWCduuJm+g0YAyKlK2KwmUrm79V3mO2bbLlK4Ko0WNKbo0IpmM3et46UyEqoA2ymfPYdeY+ajduj+gx40hZoaMeK15ClKhYCw3bdJPE54TpyVKnk447O1PsQGTKkR8rTIc/pKfGfIy5I6Dleew68xfa/jhcomcIDWmE5d+0+MF0lqeh39i5aNNzmHEIC5hOm/neWNRoMU2j31GmWn1qpzE4zdUALc+HdcT0VZ4oVKaSRCmx/EoSddaP5l4WLFkBS3d/GKClTVi0RSKcCbk4QknQwsjzbkMnybPqPHCcRMbFNO88j0/gXqZqXSzd85vZP+TLHcuUAtqPE0HpqFGjEC9ePCROnBiDBw/Gw4cP8fjx41eA9urVqxI5y1QIWbNmNXV9WPTo0UPy1xLmBkWOALScos0Vkhn1EyNWHOkkEf6kz5ob37f/Eb1Hz5J0Ki1MJypTjnzyHbeJGSceWnYbiO0nb8l7ZO/YH27M2/cUczf4SJRm7HgJbO+heX/4W7z2DAJob9vyONs9RnCY8wAt7+H2k3dQ9dsWiBIthtRBrEPSZckl9UfTH/qZZ9RTomd5f6QtMM+C3zNdiuQqtXPcD7cXcozdZ//G4Mm/yiykSFGiye/Qp2J9yN/tPmKyOdeQraecBWi9je05dx+NO/xofB4upvFfyX+Yp0hptDBlvffPM/HjqOlo1rm/eRdzSxlleeCgRhfj33El8qD6b4TzTF3BGUrhpJyxbYiAnAWLm2ffFz2GTZH0BjyPfGYbWxn5r7wjnKExZ+P+YM3TzOtQQKtSfbiY9uDGjRtYvXo1qlevjlRp05t39WtJT7P3wiOJFuUaBPbeN1cyRwFa1jEHb7xA5fpNpY5hW5+ncEks3/e71IcBt2W7s/nYZZnhxr501jyFMHPt3pBvj/jbwQBoaTZQ/xw7/rgjaaQq1vkOyUz9ncG0JwT66w9dlnti6wu4dllxO0Dr81iA5bSDTzFk9e+o0Kw3UmTKi6ixE6ForVboPnsXxu++Y7Z5ZgOb9o7xHnM8oH2MGYdfoMec3YiVMBmixIyLct/3wJidNyVy1v+2U8z1zzTbNhk0T3zHKDHionqH4RIlHJLnqYA2CHJFQEtjB4xTxjh9YetvN95r20/ewMbD59G21xBpUOi0ljLOO3PUuEoF546AllEy/cbOkahYdgIYLZKjQHGZur3j9xvmXO+J7Tpz23QQj8oUVEYMMvF02HAR8G3rbqYCN8dyEUDonoD2OSYv3S7TGlmuGb1DYDhjtSf2nP9LVo5lp9Dr0gOs9T2Pqt80k23YuWejP2jSryEMND7OXArQmnK5/fe/JMdmijQZBIawXGTPWxQlKtQUZ5Fl4kMBLUfH1/tdQLUGfAa2qCsOVExcvAW7z/6JfcZB33fxqUx72/bbNfQfNxfJUqaV34kcJRra9ByKnX/8GeKRFgpog6bNmzcjW7ZsAu1YX3BKI4GsBWgvXbqERYsWIW3atAJnWbYXLlwo95VRNkGRIwAt6xhO07bqedYd5ao3MHW6H/acu2fqFtYvT01d/zeW7DqKirUayTYESMwbN3bB+k9rs0x53HXmocCvZKnSv5qlwQGnfMXKSZQgr/1zB7SEa4xOZf493lvWRd+06Cw5UPec+1Pu/z7T3m797TqGTlsig3RWm1CqSm1zX55+0nPgtazafw71W/wgszA44MqITdZ/4SNElnrqcwa0vP6DN/8179dWRIth/AHzDGwDnR1M23rG3Pv7trbWtLn0ezgFl+k+WIfyWWXJld+c8274BcGP5nPbe+ExGrXrIUEGfA95/5t27ocNhy+b3zXPXtp62n1ZjIgDJrHixBd4zrbm6xrfyjUEl//I4yigVak+XGznrZk1XBx03rx5yJUzFxImToZi5Wtg7qYDpp5nXe8afe3AzJGAlv5H4TJVpL6lX1GyYm3jl9/FAbv1mG2h0plr9kgwBX0DDl4yJVBwDtQFNJ5ncAHaN8zc5+0nb2LEzOXIXbgU4pi2P0O2vBg2ban57in8bv3P/Lad/VzE3AnQErjOOPQc43bfwrd9piFl1gICM7MUqYwO49dj/J7bdvf7WHNGBC0XL+N1ELomTZ8D/ZcdxfSDb0fEEtAy127Bqk3Ft0ucNjsGrfzN7rbBaQpogyBXBbQ0qRCvvd+4HVd5nrNhn0z3o+POzsXExVvNcdiJcA3Q5m6Alo3P5mO3kKtgKYFN7DAk8UiDRZ7HZHTPNuXEdv9pvtdfSEciS57CUklwe0Z1rPO9ZL5zjXLljoCWnbFajdvK+bKDnDFHXkxetgU+V0xn/GX5f22MhLuIgqUqSqeW0/O/rtEAaw9ecKFn4DqAlveLkYEE2by/BLQ1v2tj7uFVtO8zXM7lYwAt4etPs1dJxKwt2iwRhkz5VTr0trrK/ztDKHVXoqHChLNNJ8+cq6BEwvF7e8cPLmPZVkD78Tp79izKli1rygojrP+LqFGjSiRty5YtkT59ekyaNEn+Srkx9V/27Nnh7e0dZDhLhTygfYEtx69IBIt13kzNMX+ztymzAet5vr8vsNjzkHQmWHbYqarf/AcZTGWZtv8b7zbWTVOX75Ip+2xrokaPhSr1mmLhtsNo1XOwpAHhuX3OgJadTqY2YN593lfWB0XLVZNcvNaCg/6fg6/pGPUiBXSqAAD/9ElEQVQcMfklzP1SFk+ZtGSr6dCZuiMI58TO5/pDl1CzUSvT6Y0mgJz1V5ch483zPoFIUWyQ/HMHtJxNUa76N3JPeQ+YJ3zV/lPwu/nmM7DyCq49eFH8Ij4zwgJCDa+Lr6fmfqgxz+LC7YdtEeqmLeLxytdqhH2XzPN/9dxfGwe+GYFV9OvqNv/M3KOYseMLYA+utp6/o4BWpQqa2O4/efJUFhLrY/oYMWPGQsIkyfF9h95YZ+qNgzc4Nd9W79h7/5xpDgO0pu5mnzdnwRJS5zKwp1rDVub3nxoflfWirc9ga9Ns94n3bNfp28ZnaSKpDphKYtqqnSHKL6TONfVqsANaY3J9pj/H/jODRRIkTi6zkwj052/2g68pJ6zvXbGcuAWglahZ/vshus3yRM5SNQXMJk6TDfV7TsSorZdlu6BGzAY0RwNaRs+2G7cW4SJGFitcs4Xd7WhM69B3sR8iRY2JyDFio8GPkyUHr71tg9MU0AZBrgxoP9TYKWQUbZ2m7SRyk5ClWee+2Hn6jqn87e/jDHM3QHvo1v8wYfFmJEmRSpxzRul06DcKh24H3ik9dPsfdDTbMG+g1ZmbtnK3AHR72zva3A3Q8nw3HLqKZKkzmPtpm+5ar1knWb3bfhkhXHiOn2atQBjTieW7zYXDxv+6wWVG7F0J0HLkvtuwSTI9NV7iZBg86Vfznj43v/sI7X4cIYMMLBMfAmh5XdtMPcTVZVm2+E5zqjYj+wMDV4yYm7NhD7LkLmCele0d4+rgdE7tbR9cxrKtgPbjxYW+unTpgujRo8vzlQhrU0ZixIghIC9atGhSfvmdBfbOnTv3cu+gKaQBLd+BeZsOSj3B64kQKQpa9xoKz9N/261j+Nnuc8bRNe8Np37zWpnOY96mA3KsgNt/iPE9GD1/nWk3oiBx8pToOmQiGGXudemRLBZKcMtr/6wBrTnW0Km/yvXzWiNEjCQ56RhtZX/7/2HT0evIU8Q2gEqgW7FuY/N8grZgGNuH5ftOokSFGpIeKkeBYqbTy2jQpwL9bFHMX37WgJZ1+GLP38y12lIHMMdh3zEzTHsQeHk7aO4P8yWz7mYka/5iZSX3+8cuokZ/q9/YWa/yDhM8zFzjbQPugTxP+lu9Rk19NYDBxXWYXse2z9vbf6zxXVdAq1IFXVZELdvxU6dOoXat2ogaNRqSpkyLPmNmY/fZewIhXaHP598cBWhZd+85/xhZGdhj2lX6FHWatsevO47IrB5Gli7d/bs5n0fiJxDOcj/6GlwEnLNs2Ca16z1C/IKQuo88bkgBWjHjR3Ag9tDtf2WRbeZ+Z3ohzqZo2LYnNhy+ZNpiLmTsWuXE1QEtoevMI8af23AWpRt0QsRocRA1TiKUbPADhq07I8DSf37W4DBHAlpbuoZnyF22nvFXwyJyjDio13287boCbDv94AtM2PMXshStgnARIqF43XaYIsdQQBtQCmiDwVhp7jWVO1e256IldFLzFyuHRTsOm+9DshP38eZugJYdtplr9sm0Oeb2TZclNxZuO/JOaMbpgVyRMko0W7QNVzseNWeVfG5ve0cbG1R3ArQHb/6fdNLDC/D+UiLD+4yZ+c4plCw7K71PmY5tQYF+bOQ79vtZonrsbe9ocylAazq+zK/Jkfg5633M73GhHePkXXuCdn1GSt34MYB22Z4TUv9wH5Yv3nfWT/a2pzHSaeORK+KMcXtee71mHbHj1O0QLX8KaIMmggmmMOBCYayz/RvhJs36P8v18OHDce/evZd7B00hDWhZL4yctQpRJHf7FzLr4ed5q+FlOmj2thcz78js9XslcoXXyn0HTlwY5LaL0YMTFm9B/pLlMXnZdnOMZ/Ju7D73CK16DJHc27z2zxXQsmO26+xD0/b8YAOh5viMKOJ0+ndBb96nNj8Ok04czymB8YHW+l6Wds7e9u8ytveMFK1SrwnqNGkvC8YRMvJYoQXQMmKLOV6tiNT05l1btPOoKYv2t6dx8G366j2IGiO2vD/0pX+as8J8/nFllOV9wRY/aTO4CA7hyDZO233H+8TOPP0tSU1izpcD4xyc5ef2tv9Y47usgFal+nQR1P7PvDfMW79s+TIUK1YMSZKlkFRanPnAVfwJRe29h84wRwLaveefmP5AUVtal/ARkDRlOpmVwEFKGtc8KVejgfERtpp28k+z3wt4GR+AbePW327LrLWfZq/GrtMPpM6y9zufajxuiAJaf2br9zzFJOMLMX8xF+ZMlyWnAP2NRy+baw+8T+Foc11A+1jyqo7efh2N+kxHojTZESNeEmQtVhUdJ2/CZO/7b+VnDS5zJKDlwl6jtl5F9ATJzPvzFaLEjIfvBszCzMP/vLHdNGOjtlxG0TptED5yNGQuUgm9FuzH4NW/S85dpj7wv31wmwLaIIidK3cGtOxALNtzDAVKVZAIkhix48kCDsyXZ420uYq55SJhxtgIsTHc8TtzEb6708FpgD/PXYuoLxevYH608b9ukmu3t72jjdfiPoCWEO1/GL9ws5RtOi9c7XPMgjWSl8j+PrxGRnJeRcU638t+7DQyR9O2k66xWJhLAVrj4G08fE3yXVsRxnzuQQG0fGenrtiFBEmSy7PiNKWRs1YKfAksBzP32XXmAVr3HIYo0WyAjFPH1/qeDVEIpYA2aGIkzG+//YbcuXO/AWPtWZo0abB27VpZNORTFJKAlvXBvouP0X/cPMl3+R9zTVx0Y9baPeb7d4HBF1hz4DTKVKkj18roweZd+0snU8q7nX3eZZzmyHQ6m4/deJVzje8G4VtoALSEc2sOXEBB+jHm9ziw1ti8m363390OsV2duHizpDmQujRyVExYtNl8HpRn8K/k/ft15zHzHO8INGe9xc9X7T//+QNadsDNb1aq21jqRFqBkuUFUL7r+CyLXNQlU878cp6cmtq+708SFfaxfhzbu0O3/8+8A//P3P//9979D9/+FyNnLpVnYj3/SUu2aQStSuXCYpvO/LTDhg1D5syZ4ZE6vQzOzd/sY/p/D019Y3v37L2TjjJHAVq2/V4Xn0quefrN9EHoW3EGQbyESSTwivnA2S4yzQ7XNWFOdvERzP7sT/jd+r8QOz/L+DwcBWhp/L1Dt/8nfZNeI6cifbbcEqBTpFxVjP1lnaS3oR8WFH8rOM3VAC0X/6KN9byBtmNXIUOBcogULRZSZsmPhn1nYNyu2wIvgyudgT1zJKCd4fcP+i89gvCRopj3xvgAph9Zo+MIWQiMAJr5Zift+wu95nshd9m6CBchMsIYS5WjMOIkTYv4Hhnx9fc9MHz9uRDNQ6uANghi58p9Ae0LWW24fd9RCBc+okzL42qIq33OhHhlHRRzV0BrOxd2Xt5fNvzMNXboO1KeBRvbRMlTSv4615le736AdswvG2yA1nSOU2fIivGLNr4T0LLB3vHHLTRo2UWcGpatr6s3wLqD58139vdxpLkSoOU95vnQrM+CCmi535ApS2SKOPfjyupcyO19ZZ/OKWFP/MTJxTFlPtwFWw6Zjn/IlT+eqwLajxejYB4Zx6Ju3boC6t4FaStWrIhjx45JZ+xTFOKA9sJjSathAVpObZ+zwct8/25Au+noFVmQkNfKeqbat82x9cTVN96ljzGei/992e6EFkDL+nzexv3Imts264HvZJ/Rs3HoDhdQCfz4rB8Xex5HomQecn/Yqe0yaJyAO3vbf4ixjeCzeP3/0AFoWd72XXhqOsJ5xHdhTt9qDVvC69K788ly0HqnaW95LrZnEEkikLf9difI58Xfe9dv0viMvC89RKN23WVhVpZJpkdYc+CigAR7+3ys8RwU0KpUwSsr7cHjx4/hvX8/OnTogGzZsiNX/qKm//ST8TWPmn4g1y2w/146whwGaKWue47SVepLHUOfigvmlq5cCyNmLsWERZsktV7hMpVkIJJtXP7i5TB1xU5T95q+sp1jhoTxPB0JaC2ztcVPsGjncTTp1AcZTPuUOmNW00/tJP2LHX/clfvnrIW4XQXQWsCVYPaHqVtQrHZrxIifFB5Z8qNC874YvOqkgNvgTmdgzxwKaA/9g96/+Bh/hYD2C8lfnz5/Gfy4wBtD15xE99m7UL3dUFkMLEz4iJIG4atwEfBfvmvGn2PUbbTYCVCj/TDJ1RtS90cBbRDEzpX7AtpnmL/5gIwsMfcsVzQeOXuFqbQZPRsyjcmnmLsC2g81NuBbjt9A/hLlpMNOqFiiYi3sPhty004+1twL0LLj/n8SEWOb/m5bdO2n2csE3NrbnsYO9c5Tt/Ftq66vAG3h0pWM03fMPAfnX5NrAdq3jc89KICWkYjdhky0ARZjvIaF2w7YItHsbP/anuPneSuRwtTBbGA5C2DCoq0hCqEU0AZd7FiNGjVK6guWVb5fAY3lpmPHjrhz5450xj5FIR9B+wSDJi2Ujg8BbcbseTF15Q7z/bsA7T/YfPQKqr0EtCxDJSrWxIbD5+X9trfPxxrbjNACaBkpM3HxRqTJmE3gIJ3s0QvWv6xvAj8+27P1h64iZfoscn8I2b9t0820G1bH7tMttABaHmPbb3cRJ2ES+b0o0WKg6Q/9pA16l//CWRi7z/4lUJb7sc1l7vENhy6bfT/9vGj8ffpXNJ4P/+4+97ekImG7wTJDH+HbNt3N9qb8BpO/xeMooFWpQlZMg7Rq1Sp806ABkiVPgeLlq6P/+HnYeOSyqQdtPrO99zMkzVGAljMX/IwvSuBozfhLnyUnpq7YhsN3/jH2f+JDr/O7iLY/jpAgFbaPGXPkk9kiPM/gqu/eZbY62PGAlsbfPnjj/0xb90BSQFX/tiWSpEiNLLkLoU2vYVjseUTuQ4g9o3eYKwBaAtFJXvfRe6EPqrYZiISpsiBhykwoVK0Zus/Zg6m+NpBpb9+QMMemOHiBYevPInrcxK8CRsJFjIJU2YsgR8kaAmYZNcu0BknT50C2YpWRp3wDeGTJZ7a39V/4N1vxqvh52zU5d3u/86mmgDYIsjqT7gdo2Xm7jwatuspK9ZzaRQd5ywmuJG1ve+fb5wxo6UDsMR0GjnTGiBVHAFXMuPFNB2KtUyBbYOZugJaN8sJtR18ukvMlYsaJjx8GjTENsf3taexQbzlxBV/X/FaeA8tWroIlZDDDFfIyf56A9oV5bx/IQgU8f+5TpExlLNt97L2AlqPfk5dukXyHbGAZfT5i5gpxuOxtHxymgDboIqD19PREihQppHzw/fJvfP5x48bF1KlTBWS4MqClMUJw/K+bESe+zcFjJPfASQuwz7RD7DzZ24dldqW3bUEpXjPvQ75iZbFqP/OWBh+UCjWA9tb/YeSsZRI9z3qeM4JmrvGCr6n/7W1vGe8RAVrmXAVtkC5sWFSp39R8bvvO3j4fa6EF0Ppe/z+s8bmIKNFtAy/RY8ZGx/6jzLN5vTCNPePz33vhPpr90FfuDyFDKXNenIYbHDOHePztJ//EukMXsdb3PJbsOi7tReueQ6TN4MBKOGPMZSmzx4Ix6s4qXwpoVaqQE30KvlMXLl6U+q1GjZpIniqN1OU/zV6Bbb/dkvfakf1ChwFaY/RFO/UfI+0XfZC8RUrLOhr++zn8N32S0fNWI1OOfJJvm3nap67wNPcm5O8L772zAO1rM22uzF66hkGTF0ofL3HyVNLX6DFiiulXnTPn6diFxJwJaBk1yzyzA1ecQN2uo5EhfxkkTpMN+So0QOtRSzFmx01b1KydfUPSHAloeQ94z4vXbWvLnW/6/PQF+fdL44uEDR8JyTPmRvkmvdB52laM2HBe7gsja2Mn8pDgRvrwGfKVxtC1p0MszYEC2iDI6ly5G6Al9Ji3yVfyPNIh5qja2IXrBWjZ294V7HMFtOy8MGn5YNNgMIqZjSzh5zetukgKCnv7OMvcDdCyHGw9cVMS6BO2sgKuWPs7mV5svyPGxtl0bNfuklVi2dFk2WJeydnr9plrUkD7PuNzDwqg5QBFi66DpMHjPoRXK/adfG8nnbBr+qqdyJwzvzinjIJjRKP35ad2tw8O4zUqoA2aCFxv3bqFokWLmro8rLxf/o1lJk+ePNi+ffvLPT5NIQ1oWScs2XUMOfIXk/LHqd2MZtl8jOkK7O/jdfGR6TgulzqG10yHkPsv28vV64PHh2DdFxoALa+Ti0ESijMlECFfhEhRsWDLYVP//T+7+1jGfbnASo4CxaV9YPRm6ar1ZOE3n6vB9BxCC6A19TRXC2eKGv4ey1y3YRNw+M672yA+f6+LD9Gm5zC5P6xPi5atimV7fgsWQMuZGQMmLECF2g1Rrvo35thVZJorF4ZjTkb+m77W0t0nXr6vwfdcWL4U0KpUjhNz1h85cgRDhgxGwYIFTd82Cxq07Gzqwt2mrmddZ/9dDW5zJKDlIoyj52+QwSZG83Gwl/5/QNDIep7XP27hBlmPI6Kpq8tWq4/VPmdD/L6wLnQ+oLUZnwX73exfdB40FnmKlJb8tJy5wYHe7b/fEaDNtAfedvYPTnMWoGV+VS4A1nz4QuQqUxvxUqRHpoJf45uek16CRuaiDZlo0PeZIwEtbZrvMwxacQKlvmmPLEUrInWOIogYJQYiRo0pUbTtxq7GuF13ZEExRtzSZhx6jrzlvxGQKzPnCpTBsHVnFdC+lALaIBod4gPXn8tKt3QauUo9V0HfcvyWVKD29nEF+xwBLRsKQtjBk39Bphx5Ec50XgkRy1atjw2HLprrcD7k9G/uBmhpXpdskIL3lQCFI6Y9R04xHdO/XkZnsqzYnIeDN1+Is1KuegPprHN7lq0suQti5tq95poU0L7P+NyDBmjvoVnn/gJovzL7lK5cB6u8T5lreHedxHdk1ro9AtFtgDYcBoyfb87jid3tg8N4jQpogyYCWt6n7t27S9nl++XfCPTq1KmDs2fPvtzj0xTSgJZllwtONGrbQ8o7YWviFKkxZMovkuOS7yvbI+mgmPrT17S9v2w9hCJlq0idxGvmPtnyFsHSPQpoP9Z4nRxY7jduDhIkSSGQj+Bt8c7fzPHfH0HLe5GnaBl5jzlYXax8DZsPEVzPIRQB2l93HJMcsvw9LnDa66epOPIhgNa00R36/Sz3h8+hUKmKWOx5LFgA7d7z91G/RWeBFxz85jNm+eO7lyFHPvnd1T7nTBni8wjeZ8LypYBWpXKc6F+wzX/w4AH27duHH3v3Rtbs2ZHD+MvNuvTH4l3HzXv53NR59t/Z4DJHAlra8r2nXgWV5CxQXGYKENza25bBC92GTpTB5DjxE6Ft7xG2VHoBgG5wmvg/LgJoLWPfgWkPFm47iDY9h8qMilTpM6Nag+aYsny7DO7ZQG3I3RdHA1rCxcn7H6LTlM0oUKUxEqXOihSZ86Nmx5Ho++tBTNx7T1Ia2NvXUeZoQCu5Yw88xpgd19B15g7kLldP8u8WqdFcFhCbYu7XG4uimX8T0JZu0Mm062EkF22OktVfRhxrigNKAW0Qzdc0TEt2nUD8REmlY5jMVOqj5q6SRsve9q5inxugZePA1Z67D58kufPYgWDnoXSVuli254R8b28/Z5o7AlpC1YXbDyMzO6ovO2YeaTOhY79RWOV9Rjqo+y4+xeZjNzF+4QbTQa+OmLHjSTqEsOEiSNnKlrcwZq/3wn4FtO+14AG0YVCqch2s9P7jgwDtzLW7kTVPwdeAdsICcx4KaF1R7EARUKxZswYxYsSQ98u/xYwZE/3795fFxIJDIQ9oaS8wZdk2pM2cw5T5rwQ08d+9fpqCNQcuyIr0ey88xXq/K7JwR6EylaS9ih4rruSD43vCTtXyfX8EW6eFbWBoAbRMZdB37GtASxi62PM307n6AEBr6vQ3AW11BbRBMMJULsTyBqAdOeXDImgvPUL7Pj/J/eFzYM53RqUHSwTthQdo3mUA4hp/N16iZIgWMw7ChY8gMy1ix0soA+NcHHfK8h22ZxKMfgvLlwJalco5oq9x+/ZtbNiwAd83boxUadKhUOmKpq2YLen8gjti3r85EtCyDvU886dM2WcfhzlopyzfFmgbw7y86w+dN/VSGakLmepg9gamBAqeNs+esS50NUBLk/My92PX6b9M33Yn6jTpIItFckZe8y79sXzv72Yb+kshU04cA2i5eJUtanbIqt/xdZOeSJY+J2InTomS9doLlBy/+45AyDdApJPM4YDW2DTzG5O976NCsx8RL1kagbRM/cCoWXv3hJ8XrtHctOthJD9tmYZdMMU8u5C6fwpogyB2KN0N0BJ0NunUV6IJCKsKla6MLcdvS0Vlb3tXsc8J0BKcbTp2BU1+6GM6DUkkWpMdhkp1vzed9N/MNiHXIHyKuSOg5X1k7qXBkxdJSg+eIy1m7LgyYlrYlP/i5WsIwE2UNIVM0eSiMXWbdUIk06lm2cpduBQWbD1ojqWA9n3G5x4kQHv+b7Ts9jrFARd6WL73/dNc6TxNW7lDOtoEtAQPfNaa4sB1xY7T1atX4eHh8SpK3bIMGTJg+fLlMlUxOOQIQMv2xvPU3+g+bLJAQl4TYR9hHFe1L1ymCoqWq46M2fPJwChnrbBTVL72d1LfsAwVKFH+ZQ7M4PEheE6hJoKWKQ4mzpeOFSFfhMhRTX19xNR/H5/ioFTlupriIAhGSL50zx/m3r9OcdB16Hgcvv1+QLvv4gO0Mh133h+B5OWqYdne96e3+RAjgF994AJmr9+PWeu8MWnpDgyZslhmkDHSnX5XhIiRkNQjjSws9K789B9rLF8KaFUq54n5aZ8/f47Lpq/Id69M2XJImCQZylSrhwmLt0p6lZDwkx0NaLnod++fZ0o9Ey9hEomQ9bpIH9j+73LgqtPAsVL/cdCKUbTMp886y972n2o8risCWst8+Ne0Fdt+u4ExC9bLoq0cwMtVsDh6/TQN207etPVf3pFPPSgW0oCWwHDm4ReSzqBu17FImi47osaOj5yla6HjpPUYu/MGpjCC1MlRs/7N0YCW18+I2G/7TEWUmHGRJE1W9Jy71wZb7QFXfmb2SZunpHnfwiBOYg80HbpA7vNb2waTKaANgtihdCdAywqRqQwI2FiRc/GkHwaOMY6w/e1dyT4XQMvcN1xRs9b3baTTRtDJRSrqNG6PNb6npWF/16IazjT3BLQ258Dz9D30nzAfqTNmfTXVkUYHhYvKMPKSo8nZ8hXDpCXb0HfMbEk5wbJVtFxV02H8zRzH+df0eQLaf8x7+wAd+jKKygZoC5euiCW7j34QoJ24ZKNELBKMRYwSDT/NWS3vkb3tg8N4jQpoP028V7Vr15YyYkFa/i1ZsiSOHz8uHavgkGMiaGkvsOP3u+gxYiqSp0ovdQzLBiNkbXWMLWqPC3IWKVsVM9bsNZ2VQfI96yHOnNh45IK83/aP/3HGOi80AFqaHxcJm7n09SJhpj1lp5gLV9nb3jLeo52n7iNzbn+LhNXTRcKCYkwnse7gFdPZt5W1aDFjm/p8pHk2/3vnveTz5+Dc9+17yX58F8pUrYc10n4Fkz9tfp8R0WJyLs+w5+xd47PvRS7TVvK95LvKwfJ5mw8EW7tpK18KaFUqZ4v+xNOnT3H69GkMGzoUmTNnlYCMhq27YvV+pjgxbSLbomBoj2iOTnHAumaJ8bHTZs4pszEr1G6EDYevBFqHEt5ygbC4CZNIu0T/g4sohlTqB56fKwNamq3d57N7au7dBRlwz2h8pjjxE8qMvmkrd5vtHpltgq9/G2KA1ucxph98hsneD9Bu/Fqkz18W0eMkQsLUWdF44ByM2XFDtrFFfNqBkE40RwNapn0YsOyopDWIFDUGKjT9UYCovW1pzDM7bO1pRIwWB1+FDY90eUpi6Lozchx72weHKaANgtwK0JoKxe/WP/hp9mqbQ/rlVxI1MG/zwZe5OO3s40L2OQBaNpYrvc+gaLlqch3skMSME08are2/35DGwd5+rmLuCmgtY8PKhXhadBuMrHkLI1a8hLLqdMKkKWVaZb+xc+F5+i/sO/8n2vYeLh12lq0KtejsXDQdPPvHdaR9roDW6+IT9Bwx1WxvyxGYI19RLNiy//11k3GEh01fbMpkGgF8sRMkwZQVu+B9KeTKH69RAe2niZCCsIgLhbHM8tnx302aNMHjx48lyjY45DBAe9nUL/x79bnkuWvSqQ8y5yxg2qVEiBojFpKkTItSleqYsroMu8/cxa7Tt/FNix/kuhm5Wfv7tth28rq833aP/5HGNjC0ANpDt/+HCYs2yGKnBK28n2N/2Qg/qW8CPz7bM6adSJEus9wf+kXftu4iflJgkUcfa6EF0LK8eZ66j/iv0kxEQ6N2vcx5vA/QPjfvwp8CxnmefHaV6zaWlbaDDdDaMZY7v5svTBtzEImSeUg9zkGU2k3ayTnZ2+djjdetgFalcg3RpyCopZ/GQeDGjRsjTty4iJ8oOX78aTr2XXj8ckDJ/vv8MeZ4QPsPdp/9y/RtBko9ljJ9ZtMGrg00wIHRskyll/HlzLN0mXNi8tLN5jgh4xuwLnR1QPvaTNts7icD1zirqWHbHrKIGNvwes1/wDq/S5K6513t2odaSABapjJgROiAZceRv0pjRI4RB5FixEXllv0wevs1f5GezL369v7ONkcCWgJqgtVC1ZrIjPLYCZOj+yxPzDj8j93tGW0788hz1DDnx75qdOPff99/ljlGyEJkBbRBkFsBWmM+pjKo0bCVOMGMGORiDDv/uGe+C9nGIzjM3QEtG9Ble04id6FSL+9/eCRPnV6mTzCChPDQ3n6uZO4PaG35hrhQj+epe1h74CJWep/F+kPXjcNinDPTYWOnkLC81ndt5Dmxw1+/xQ/Y8cddeYb2jutI+1wBLQEXB4+iRIsp+6XKkBVTVmx/ZwQtnyfze3YdOklgOx3NNJlyyGJLIQmhFNB+ughOjx49iqhRo8rzZrlNmDAhJk6cGGxwlnJcBO1r873xr9QxrDPWmDpmlfc5bDpy05Sbp6aO4Tv8Auv9zsuqwWy72BZzQIhR/sHVdsm7EWoiaP+HuRu8kSV3AXNsWwqbfmPn4dBt5pgN/Ph8Tgu3H0HCJMnl/jB/apch75+W/zEWmgAtwWbOgiXlGXBWSsU637/XH/MyZXHbb9dk5XGeJ9N/sEO8w/ilQTkvb9OOSAdbnvv777HXpaeoXL+p+GOM3k2dMRs2Hrkuz83e9h9jvG4FtCqV64nv4JMnT7B+/XoULlQIcePFl2j6SUu2mjrxb/P+WnWI/Xf7feZoQCtmzveXbYdlwVHWZVXqN8GGw5dMPfT2ddAHWLX/tOShpd9MANlnzGxTXz99Z30dVOMx3QfQ2kzOme305SeYtsIThcpUlkXVkqZMj96jZ5t+4h2zzbNP8mGCF9A+xlSfRxi56Rxqd/4ZidNkQ9RY8ZDn63roNc8L03xDLkdqcJojAS1zyfZffgwRo8Qw/f2wSJoxL0ZtuRzofWL0bN/FfogcMx7CGX8xW4nqGL/rT7N9yCwOZpkC2iDInQAtK8P1h66KA0oHmlMtW/UYZD43nbVPqGAcZe4MaNkwrfA+hax5Csu9Z2Rmphz5MHLWclO5PzXPwLXONzBzZ0DLMmGzl/8395x588T8TYXlNa7afwo58heT64kSPabptE94eT3Of06fK6DlfZ+zfj9SmLqU+xEqcbEvfhcYGOc+20/eQYOWXSVq4Isv/osSFWth07HL5jwU0LqyrCmHhQsXNp2Jr+SZZ8uWDTt37nRbQCv1i3k/X9cx/5O6ReoY829rO5bNuRu9pSPFtitG7HgSWcvOUXCtGMxzCS2AloM4qw+clwFnDqqxjW1s3k2/97RDB2/8g9Hz1kqny4KDE5dsM/VU8NWboQXQstwy4uibVl1sA5v8TdOGbjp6493HN89nsecJ2wwIsw9zNPf6abqA2495F/ict/32J9b6XsSyPX+AkdEfAmgPXH+Opp37yrRglsvEyVJi8c4T5r399HvCd1ABrUrlmrIiau/du4exY8cibbp0iJcgIao1aIH5mw5g7/n7pu563Z5/jDkD0PI89118hJ4jpiBajNiIkyAxOg8aZ+qgv+Q6/G9LH2Cl6ZMyFz4BLdunNj+OwK4zD6TN8r9tcBjrQncDtP7t0K3/mbbyAfqNn4t0WXIiaoyYyGXu3Zj5a8395Ro+xu8JQjkJDkBLoMlFrphPtuXIJUibu7hEzabNUwLNhi3EJK97mHEo5KbfB7c5DtA+xozDz1Gvx3iEDR9RAG36fGUwce/f8p3/bQlseV5DVp9CurylZdskabOiz8IDDrm3CmiDIHcCtH6m0zFh0WZZHIlRgdFjxpb/s5Nib3tXM3cFtJwWv8rnLAqWriQdF3YEuGL3hF83SaUe3EnHQ9LYoLoboOV5cDrP7nMPseOPO9h99r7d7cTMtnwmYxZsMA1wbHM9YZA+a25MWro1WDpswWGfL6D9F2sOnEHpKnVk9J+ddU4TZ8oJe9vTeH1cSIwLinEfPq9W3YeYZ/wyAsLOPsFhvEYFtJ8mdo64ENigQYMF0BIaVahQAdeuXXu5RfDIUYB238Vn2GXqlp2n/jR1zYNA6z8bOH2I3j/PQvTY8aTtYuTOwu2HzT6BgVO+xx/3LocmQEsQzo5l3aYdZWo9/ZtchUrIc3hXPeB9+QmamjomSrQYNjiXPJWAvYCd2U+xUANojTE6fMSM5ZIDmL+ZMl1mTF/paerpwK+VgHTo1MXmfGwDbMz5N33Vznfcn7efDc/f8/R9tOg6SAY9EpnnWL5WI/P5+/OQc4CcK3dzgI9gn6B42Z5TAhPsbf8xpoBWFVrEMv3s2TMBnsE5wOoI8Zy5kBjbqM6dOyNrtuzIkDUn2vUegYU7Dos/+bHwzSkRtMY4Q5Dp2Oq36CR9/RRpMqDv2NnYfvK2+f65XAfrJe9LTzF3w34kS5lOAC1njzTrMgA7T5trVUBr13hfODOKg8HNOveTRaa5MGnN79pgyvLt2PH7LbPdx7XrnwJorSjPsZ630HnaNhSp3gwxEqZAyqwFUbXNYAxZY9r7g09DPLozuM2REbRTzP0uXL05vgobTvqPqXMWw7hdf776Xu6x7xNM3HcP3WfvRtailRE+UhQkTJkRnSZvfJnaIORTRSigDYLcBdCyUj5061+ZRhkpSlRxnuMnSoYVXmdcBjy9z9wR0LKx3P7HbVT5pqnAWUKkzDnzYfKy7ea+2xote/u5qrknoH2GeZt80X34ZOOA9Mfw6Uux9/xDeScCbks4y9HQGo1ayzvCjianaa47eMFl3hP3BbQn3lk/0vnZeequOMWMZOM7XbBEeSzZdQQ+xrF8a3txNJ9hxMwlttXbzW/Fjp8IYxasM9+HbNlTQPvpYifuf//7P+zatQsRI0aU+qN3797SyQtOOQLQ7j3/CDNN+89oleamkzP2lw0CB+3VMeyorfY5jbLV6kt7wJH4hq27mQ7ULbvb09hOfGxbwe3tAtrjnx+gpRHoDZ26SCArrzVytJiYuWYfmMbA3vasG9eYjlbeIqXFp+CzYFobdmIDbisdsxv/e2UfE9nJ57Bq/7lQAWhZfjccumI6/enlWplfv1WPgcYneyDtVsDt+dm+i/cl1Yf1LpSr/g02H2PU7dvbW+9BwHeB/+c7WPP7NggfMZIM7nEF7qW7Tkhggv9t/RvfRea6ZSQUf5s+WpY8hbHlBCOiPvwZB2Y8hgJa1ecutuUXLlzAwoULcerUKfGD3A3SUjxn+h9btmzBN998g3QZMiJ34VLoM3qmLKDF9Q4+dPDOWYCWxnqY6fQq1f1eBiyTmv4a/QD60ntMPcltOJDc3vjoTEVDQEufu1XPofA8c1/au4DH/FRjXejugNYyrotBI+Cu2qAZPNJmQoo0GSX/78Lth6R/+aHlJCiAltBQFgDzui8RnJWa90GcpGmQwCMDitZsiV7zvcx2j19GdoYc3AwpcxSg5X1keoJMhSsZXzWs6UN+hfjmHvZbchizjrzADL/nAnCHrTuNRn2nI1nGPAgTLgKSZ8yNDhPWYebh5zaAa+fYwW0KaIMg9wG0zA/2DJXrN5FIATrP6bPlkaiD4HBEHWHuCGgZncEcs9Fi2OAlQdLw6YtN5c5cp2yw3m8h0VgG1dwR0O6/8lTACQcmmGeODtecDV44cNU4W7y/pqzQCMyZh7bvmNnSuWOnlovoDZgw33QiQyYvU1CMDb+rAFo6grxvjMLn9Fax61x85TE69PtJoCnLRKHSFbDC6wQO//nvG9seDABPWEdNX70LmXPlF6eRK4G3Nk7jtpO3ZXvbs/qf3APC2eX7TuLrGg2kYWXaEEKvNQfOhvizUkAbPGKH6M6dP5E2bVp4eHhg5cqVwQ4vQhrQ8h3YdeaegFlGoXCGRNFyVfDrjkPyLrD+tuoYQrkdf/yJTgNGC7wiEKJzz2lyAQcVWMYInbhy8ODJizBs2jKBwLvYgbJTvvle+TeCKe/Lj9Cm19BXgDZjjrzm92/B99rzN7a1vVtvHi/o5ixA+4959y+gQImvZbEHAr8yVetJPnFrMPT1c+CihA9MuzBG0hswcpJ1DVe1tqU3eH1OnH3BRUFmr9+Haat2SNux/Xf7Uf1ybH9tN+tfAuI1vhdMRzmGeQY2QNtz5BTzO8/le//b23uuQTVnAFo+S5b5pj/0tQFXY5ly5sOUZdvlWbPePmDqb0Y8HzDPhAvqjZi5AtFjxTXbms5R4mTm3kw19+HN43IW0jq/yxg2fTmGTl0q+6zYd9p89/o50fcePHnhq8E61suV6zXBpiMX5Zzkt83vym+bf7NM7Dl3D12HTkCMWHHkHtE3JlQhiPH/+0E1Pk8FtKrPXWzHt27disyZM6NmzZqYM2eOAFuWc3cDtTxfzuy5evUqZs2ejeo1aiBztpwoX/NbU+8sxaajzE9ti0S1985b5kxAS+P5/bLtEKo1aC5tDgcIGSjRoutAmb3TvMtAWQOFdSX7z3ETJpHPQ6r/bGsbPw9Aaxn9OUYms1yUM/0QrpvBur77sElYtvek8R2eSFtjb1/LPhbQCpj1foABy46g9g8/IXWOooibNDUKVGooAI/RtCG9YFVIm0MB7W4boOUALfucESJHQ8n67dBznie6zNiGb3pNRu5y9RA9bmI5n2zFKsvn0w/ynBy3yJoC2iDIXQAtK0IuBkY4RUeRlTITXgfsFLqyuRugZYO82PM4sucrKvCIncDSpsO4Yt9Jmcq92ufsB9g5bDnOxWVc4zm5I6ClozRj9R7jjGSQThhXVK9Y5ztMX+1pOtp3ZZGp3Wcfmnt9Bj1GTJaRUD4rAt3qDVti45Gr73XGHGls8F0B0PId2/HHX1i88zDmbfLG/M02m7fJCws270Hdpu3lXFg/ZstbCCNnLcLCbfvf2O6XrQfk3lvvK+8zARZHoqNG52JhtimnhL3L9/0mA0p7zj02z+1P4/TuQe3GbQV0sWFNliodhk5bZJ7n6+OFlLFsK6ANHjFihaspEyCdO3dOphsGpxwRQcvUBKPmrHwFhzhlvtb3bU0Z3y/vCOuYXWceyqrJjFqRjpE5l+ix4uD79r2w+di1txx5HnPnH7ckupCzXRgZWqdJe2w4dNm81/78DFPW9114igXmXZq9fg/mbNgrNnfjXsxYswM1GrWQ8+HvpTB14MQl6827s/vVdnM27DHvoS+2/hY8UYPOArQ8d4LXHiOmGF8gvrneL2URh8ademOV1+/Ye/6J/BaBK+/3oEkLkDZzTqljCBIr1m1s7uObkS88JvfrN24e8hUvh4w58kkH7JetR6Su8v/7PPa2k3cCtN9npa2fsXovIka2zVwiLG/dYxDW+p5+a9ttv90JvvvhBEBLY5uz2POYrArOexshUmQU/boaxi1cj01Hrpn6/hF2mTp/3cHzGGieAVMIsTxENNtxgI33IeDCkH63/sX4XzfJdNyEST2kI9xfys/re8XfXXvwIspUqye/yWvm82cbPnXFVmw4fFnaD6bCYJqPhdsOomP/UTIFmOfJ7ROnSG3emwPB1m6y/CigVX3uItS8dOkSJk+ejIoVKyJlypRo0bIl1q5di7t377pl2gOKaQ9OnjyJEcOHo2DBgsiULbe0wUzBsu/iYxnYtPfe05wPaDng94+sfdK4449IYuo2QihO4+ZgZNhwEUy/+Qsx+s9sJ6av8jT7hky/TdrnzwzQ0uiL+Vx9LrNxug+biDxFSkubUrpKXQwz/ZFtxq/yvWF8okD6kB8KaAkTma7gp80X8f2A2chZuhaix0uKLEUq4tu+0zFy00XM8Hshi1jZ29+dzKEpDnweokiN5ggTNrxwJBohbcqsBZA8U15EiclAinBImDITyjf5EQOXHzPnZ3se9o4XUqaANghyG0BrKhEu1pAmU3aZ/kWHtHK9pqZysL+9K5q7AVpW3F2HTnzZWfyvNIKpTceC0VVFylQyVvm9VqJCTbTv+xP2nnts9zccbe4JaF/A89Q9tOk13Ab9zDlGjhYdmY1DwvQF9Vt0lhxCvN9xEySWdyNipCgoUrYK5mwwjtV7RkAdba4CaNmJnrvRR2A3zyVb3sIvrRCym78Jk6aQMk/jfU+fJedb2+UpXBIrvdghf71IG9/dRTuPyVRXK58ko9wYGVelfjPJF1i+VkNky1NYwBOjEPl9y+6DZDDDEYNOLFMKaINHjFaZP38+mjdvLh2i4O7IOQLQMkp249Fr+K59T0SPGUfaWJb5HPmLmvejsdQx1b9tifwlykl0PsssyzbLMQfxpMwGBH6XnmP779eQv3g5qZM4yMd3Yu3B828ALEYEbj3xp3k/KkidliX3a2P0IldnJoDkexghYmRkyJZHItRfb1cQJSrWxCRzT4LHf3EOoKWxbiR8rfV9awF+/B0OyLFub9imh2lLR6FFt0GoUKuRQHLOqOC95RT3X3ccMfu/eS6M1ueAUJtewxAzTnx516OY401ftfeNDhf/vfvsA/QdO+eN9lusbGXptLFjzGfA36QfwM/9b1OsXFWZvbH3vP3UGB9rzgK0NK+LTzBo0i9Iniqd1N8EpvQ9S1euI21tNfMuFPu6mgxo8F3gPclq2gRGMNurvw/d/hcjZ618+Uy/QszY8dBlyHjTvgXY1ty3aat2y+Jk1rNlVCxzBZaoUAOV6zZB1W+aCQjmM6dvxneD5YRRvLIY6KWnbx7zE0wBrSo0iG0221m230ePHsXIkSNRomRJ5MyZE506dcKePXvw+PHjYB98DWnxunjO9+/fx969e9HH9HOYnzaH8WO/69BLBqII5+zBV2cDWss4+2DrbzcwbMZSqfcIZ1nncQCT7RHrZy4o9l27XgITg6PtsWefK6C1jPeNi4gt2HoQbX8cjsw5C5g2Lwcq1WuMKcu3CdC3zRh8sxy8D9ASBDJqdvzuO2g7djUKVvke8ZKnR7o8JVGz00iJpJ3i88jhwDAkzZGAlmkgWpjfCB8xinkf/msbsDD+Ev015qWNncgDhao2QdsxKzFmx42X+zkuctYyBbRBkLsAWsJCTv/jog2cSkbIWa95J/O5/e1d0dwL0Nqm0zVs2+PlAiS2CI2PNXaoy5hGVVbWDKGG82PMHQEtjfeOI5wN23STqTw8Tzom7Byy82jrzNmmRUaKHAUVajfC7PXe8DKdNVeA/f7NVQAt67qJSzbLiqYsC3L/PtLCR4yIhduOwu/mm4CW933epgMyRZWLGb5+XmElZ5a8T/y/aUQZGdCy2yCp3xwF0xXQBp/YsTt79qzkfQuJKBtHAFpGsTLiddme32WhKrZFr8rsV2GlHue0e/6fnxP21WjUCgu2HDTl3X50BY+34/fryF/i61cQi+k8GHnoH9AeuP5/2HjkBqLHiifH5rth710LzHhspnIZMnUh/G65N6Cl8V6u3n8Gtb9vi7DyW+Z+mHqCOfZimftuix4KL8+C0DtfsbKYumInvJl7NsC5vAK0PYcJFOSxokS3D2iZ04/tCzu+Vvv9wWbOJWy4cJKLePfZv+yWh481ZwJaloGdf/yFfmPnCBxl+yBl39w/3nvW4/7/X6BEeYmQ9b70zFz723W4BWjZNrO8Eqx2Hfo2oOW+fG+mLN+BslXrSz5a6z3kc+G/LTgh/ze/z+MxipeR13yGwXHvLeP5KKBVhSaxDX/w4AF27tyJLl26IHv27ChSpAhGjBgh7Tx9JHeMqOX53rp1Cxs2bJB2LE78hCho2mbWG8xj/TpNkFUnuQagpfG3WS+u8P4dfcfORZX6TZEpR16ZMcBZId936IUlu06YNiPkzpF14ecMaGm8RrKWnX/8KW0QGUvchEmROWd+NGrfA0v3/GbuAdPt2PoQ3OddgNYGXR+hz6+++LpxDyRLnxOJUmdBmYad0X2WJybsuYvpfs8x9TOCszRHAlre4zE7b5l72gVRYyeUHLMRosRA4rTZULRmCzQfthDD1p812z52KgRXQBsEuVME7YbD11C7cTuJXGDUBqftuVMF6XYpDkzn7ocBYwVgEYynTJfpg83jpaXKmBWN2vaQKbIfszBJSJm7AloaHRQ6UsxfV6NhK9Mpy4OYpsxEiR4T0WLFkfvNyCrmnF3nd0G2t3ccZ5vLRNCaOmXhtsMy5Yt1ysda0XJVJUfkmgPMEfga0NqM5eeZuc4LMg2WUbp8h6LFjIPI0WIgVrwEEvnXoFVX07HfiG2/3XoLroSkKaANPrHjw/v2KIQcDocAWjGW2edYf+gyhkxdjCrfNJMp9FLHRIslEXqMqGAk7bDpS2XKNbcPDAixjO068xead+kv7XXx8tXRoe8obDlxS9pzazvWycyJWqlOYxQpV8Xuu/Y+q9agBWas2fMG+A26ORfQiplnu/nYVfmNYuVrIE6CxAhnHG+2WfQfCGm52j/zWy/2PAKvi/ajJulHMMVBn59nSX3DNDmM9Fyw5fAbPgaf4a4zf6Nj/9GmHckseYXtteuBWvrMMi2yQ9+fsecccwy/fS4fa84FtLQX2H32Puas95K8h3mKlEH8xMkFcEeJEVtS15SsWBPdhk3C8n2/2wZD7R7HNhhIyFGyYi0pr4wEG7tggzlvO9ube8e2Y73feQyZvAg1TVufOUcBUwaS2H7bWMw4Ccx9zyzH69jvZ8zf4ivRT6/hSvAYy4gCWlVoEwEs2/SbN29i8+bNaNSoEdKlSyf9hXnz5uOvv/5yS0hrXdeVK1ewYsUKVKxUCYmSecgMiJ/mrDL9tPumDTXtgtTfrgNoX9tz6R9vOXZFZqnN2eCDRTuOYutvTKNHXyTkzpHH/twB7Wuz9V+2/nZdFoxle8VUbNnyFELnweOw+fh1yf3PvpxdQOv7FDMOv8CoLZdRs+MIJM+YB3GTpkH+So3QafJGjN5xXaJm7YG8z8EcCWgtG739BjpP244WIxaj3fi16PPrQYzaegWTvO/b3d7RpoA2CHIXQEvjQkdbjt+QjiGNufHsbeeq5o6LhG06ehNLd/+OJbtOGvvto23pnt+x4dBV8+yCZ9GKTzV3BrQ0lgsmbt9mHJLle08ZB+UApizfZTqyXliy+6R5P67J965SfuyZqwBaQgR27jcfu/6qTvkoO3TJvB9X5X0N7Pg0Lty21Tg0fIf4nCYv24k5Gw9gpfdZ0/m9Y763H3UVkqaA1n3kOED72liHcFrhsr1/SB0z1dQxs0wnbdmeP6TueVXHSEfOvrGMeZl6n9MO+a5sPHJFFstjOx5wW7YPXLyE29l9195jHLiy5YJ+87hBMxcAtMakrr/4GBsPX8Kc9T4YPn2ZRHQOmrQQU0wdstL7FHaduffea/a69BxbT9zB8n2npU1e4XVGcpkGPG9ux/Y+YBv+obbUtD8bj1yXZ+7/uEE15wNayzjQcA9rfM9jwZZDmLpiF6av3otFO46b+3XF1P+2cve+Opx5a/kOsLwyLzwXywtsUI7Hkud/6Sm2/35Tntn8zfzt3WJ8J9nebzxyGXvOP5D3MHjK/pvGc1BAqwqtsgZfL5t+GhcOK1q0qOSnZXvg4+MjKRHYPrtjNC1z5zMieMKECciePYekc2H6loXbDpl3nz7tUzRq10Oi/V0H0NrqJBsYtC2YyFkiUveGQP3n3+R3Qw2gtZm0KZefYfPRy+g/fj4y5ciPeAmToHDpihgzf52kMzp4/Qk6DfgJCZKmQtsxqzHV9yEYrdl23BqkzVsKMeMnQ8rshdF44Bz8tPmSDdh9ZhGzAc0ZgJbRsbQpr/7/TM7DmVGz/k0BbRDkToD2tdGpdU2A9i5zR0DLe2wz0xE1HbiPNj6jl8ewd3xHm7sDWpu9Lv9efC4v769l9vdxHXMVQEuT+yX3LKjG41h/Azd5Npf4fPz/23nPi7+rgNY95AxAazOWT9bjr8uq2Btl/0PN2iewfa3PAm73YWY7t4DHDKq5BqC1Ga/LlrrAhykMrj4z9rrOt12/vf38Gbd7ub08z1f7vr2tfGevHf8Qe3l8W3369rE/1lwH0NKs++ffeM2cpfJh18t9bP/mX8ve3i6gvfq9gO/hS7O3T3CZAlpVaBdhJiNPCTQvXryIYcOGwcPDA3HjxkX37t0lytZdIS3P+8nTpzh9+jS6dO2GRImTIEXajLLexeajF9GkIyNoXQvQOstCI6C1jO2Mz7Vn2HD4Clr3GIYEiVMgboIkkhN98U4/dBlki6DtOHG9pDPIWaYOIkePjRjxkqB6hxEYuekCpvky76njc586w5wBaF3dFNAGQe4JaN3T3BHQfm72eQBa9zZXArSh1Vi2FdC6h5wHaEOruRKgDb3mWoA2dJoCWpXqtdgW00fiQmL16tWT9yFFihSYN2+eLMTFBUMJc91JFoBmiqZt27bh6/LlET16DPPOl0bOAiVkAS5G7LvTgtwhYaEZ0FrGiNoD155i3uaDKFfjW1lINlWGLEifPQ+ixU6ATIXKI2rMeIgYJTryVmyI/suOYsah5y4TxekoU0D7thHQtx6zHB4Zc9oA7ePHL2sg15QC2lBmCmidbwponW8KaJ1vCmjdRwpoHW0KaF3BFNA63xTQqlRvygKa9JXWb9iAfPnyIV68eChXrpwAzr///tvtIC1lXdeff97F9OnTkStXLvHHw5u+6shZy00d+0B895BIpeIOpoD2tTFPMfMVD5+xHDkLFJeFqtk+RIgcDWlyFUfHSZsw3e8ZZhx6gdASNevfFND6M6ZeMPdj4r57+KbnJCRJmd74cFMV0H6IFNA6zhTQOt8U0DrfFNA63xTQuo8U0DraFNC6gimgdb4poFWFJhFQErBev35dFgJjjll+Zi99AT9jxOzt27cxevRo5MyZE5kyZcIPP/wALy8v2Z9tt719XVm8Xl4X27uOHTsiQ8aMSJw8laQ94Cr+zDsq6VlCGahVQBvQXpjrf4HVPmdQsXZDWfy4fJNe+HnrVUz3e/4qF2poNAW0r23Cnr/QZ+EBlG/cA8nTZkHhIkWwdetWl+9rKqANZaaA1vmmgNb5poDW+aaA1n2kgNbRpoDWFUwBrfNNAa0qtIgg9dbt2xg1ahRatmyJIUOGYMOGDbJA2Pv8Ir4Px48fF6CZMWNGgbU/meOc+O03PH369OVW7ifm3V2/fj3q1KmDlClTIWOOvOj98wysOXAW3leeiS8fWkCtAlr75nfzGboOGYWEyZmDdqNdSBfaLLQD2unm+qf4PMLQtX+gXrdxSJ2tINKkSSP+Mwev3KGfqYA2lJkCWuebAlrnmwJa55sCWveRAlpHmwJaVzAFtM43BbSq0CDCWbaz8+bPt03rN3U8/dLkyZPju+++w/Lly3Hjxo13lnvuz6jZdevWoUmTJsiePTuqVauG2XPm4OzZs+JbuVs0rRUlfO/ePSxcuBBVq1ZFhkxZULZafQyZ8ivWH7po6onnpp6wX398TqaA1r4duPYMPwywLRLWbuwaTN7/yC60C00WWgGtlWuYi8I1GTIfecrVQcrU6fFNgwZYunQpbt265Ta+gwLaUGYKaJ1vCmidbwponW8KaN1HCmgdbQpoXcEU0DrfFNCqQoMIIlmmV61ahYIFC5r+WQQUKFAA1atXR4YMGZAlSxb0798fv/32mwDLd4FWpgi4du2a5HGtVKmSpD1o3LgxVq9eLQA3sJQJri6eN/2Qn0eNEl8kTfrMqNO0AyYv22bqiL/Er7dXh3wu5kxAy99m3leaq91nVwe0hIaOXqQs1AFac38ZNTtu1210mLgBRWu2QLwkKVG2bFmMHTsGFy5elPrDnaSANpSZAlrnmwJa55sCWuebAlr3kQJaR5sCWlcwBbTONwW0qtAiAgRO6d+1axe6d++OTZs24cyZM1ixYgWaN28u9Q+jaX18fCQ3bWAifOWxmNrg2LFjkjKhZMmSsuhW27Zt4enpKQvkuBuo5bnSF3n06BH2798vwLpg4SLIlqcQmnXuh7mbDmDfBdbFn6fP7hRAa3wLH+Pn7fj9LpbsOo7Fnsew3u8y9l54LH0jV4hcdkVASyBr5cEdt+tPjPW8jSk+jwWc2ts+uC00AVouBscFwLrP3o2yjTojWYacKFCwEAYMHIiDBw/iyZMnblfXUQpoQ5kpoHW+KaB1vimgdb4poHUfKaB1tCmgdQVTQOt8U0CrCk2yIOSff/4pYMH6/7lz5zBs2DCpg+rVqyf10IdAB37/4MED7Nu3Dz179kTq1KlRtGhR8bVOnjwp75E7wgue8927d7Fx4wa0aNECGTNnQ94ipdB16HgBiL43Pr820RmA9sC1f/DrjiOo3aQdCpT4GvmLl0OZKvXQuudQzF7vZdq+B7INfRZ7+zvCXA3QEhiO33MX3efsEUhapFYrFK7eHHW6jsXQtWccEk0bGgCtLTL5CYas/h012g9H+jwlkTZ9RnTo0AE7d+yQes/d6jX/UkAbykwBrfNNAa3zTQGt800BrftIAa2jTQGtK5gCWuebAlpVaBFhAtMXcFGwmzdvii/Etpef8+/t27fRu3dvpEyZEv369XuVruB94jbW/tu3b5f+Ho/B6b9TpkyR3Lb83p3Ee0JjJDHv19Jly1CzZi2kTpcR+Yt/bdrOpdh95j4O3qD//nn48I4GtDz2tpN3ULhMFUSKEhVffRVGLEzYcIgROy7SZcmJRm17YPHO42bbZ+b87B8npM1VAO30g89lYaqe8/aiaO3WSJY+J6LGio+w4SMhTPiIiB43MfJV/BaDV52U6Fp7xwgu+5wBrUQnm+sbs+MGvhswG5kLVUCyVOnwbcNGWLt27atc3R9SN7qyFNCGMlNA63xTQOt8U0DrfFNA6z5SQOtoU0DrCqaA1vmmgFYVGkTYyPQGI0aMQP78+VG8eHF06dIFO3fuxIOHD18BB29vb+TLlw8pUqSQ1citfLSMtuVCWmyr3wUmeJxLly7JO8S+h4eHh0Tkbt68GQ/N73B/Hs/dxOtnlPGUqVORLVt2pEidHuVrNcKcjT6mHnlu6mebz2mvjnEXcyigNffK79b/MGLGckSIGBlffPEF/vOfL6QdtEAtLUasOMiSuxBGzFxuzu+p2dfx99gVAC0jOcfuvIF6PcYjZdYCiBglBv775Vfmfn2JL8w9+4+5f/wbOUYcVG41AFPkHEMOmn6OgFZSRPg+NffuAbrN9EShKt/LMy9UpAhmzpolCyG+K/WLu0kBbSgzBbTONwW0zjcFtM43BbTuIwW0jjYFtK5gCmidbwpoVaFBhKp79+4V8Bo2bFixaNGiIXny5Khbty52794tAJdRsPw/v2OfwcqveOfOHQwePFgWGeNngYnwle0589NeuHAB48aNQ/bs2eV32A/8kEXIXFE8X94H5tZl3t6+/fohdpy4SJYyLb7r0BtrfS/g4A1b/8tePeMO5khAa/nnNRu1wVem3hXAaCxRUg/UbdYRzbsORJFyVRE9VhyENe1g7LgJ0L7vT9JmOpodOBvQMhp22LrTKFarFaLEjIevwoZD+Cgx4JGtENLlLY1wkaK9grQEthnylcbgVb9LFKi94wWHfXaA1vcpZh0xPvG6cyjbqAtiJ0yGdOkzYtCgwTh16pS89+46uBSYFNCGMlNA63xTQOt8U0DrfFNA6z5SQOtoU0DrCqaA1vmmgFYVGsQ2dvbs2YgZM6bU9/HixZOFwcqXLy9lnikJuHAY88ayDSCg5XdWnkUCCtZLjIgdPny4wNz3wQp+T1B79OhRtGrdGokTJ0bGjBkxefIUSZ9AUEvo6W7Qg/eS9+Pw4cOoVbs2osWIiUzZ82DgxIXYdeYvU1db7aV7tZuOBrQ+V5+hUOkqUu+y/YuXKCl6jpxkfpPt3WPsPncPY3/ZiEw5CyB8hIiIGDkKWvccZvZ7bveYIWXOBbSPMXz9GRSs8h3Cho+AsBEiIVvxaug0eTPG7LiJCXv/Qpdp2xApZjwbpP3Pf5DAIwNaj16OaQc1gva95vMYM7jY2v4HaDJoLuJ7ZETceAlQv359WSzRGqD6HKWANpSZAlrnmwJa55sCWuebAlr3kQJaR5sCWlcwBbTONwW0qtAgtrELFiyQPkCECBEwYcIE8YUIIBhZW6dOHYG3BKiEsGwDGPnKhbIoQlTWTUWKFEGJEiWwf/9+Oeb7xP34LhFoMj9tyZIlET16dDnGtm3b8OjRI7cEILwuC9QuXboUefPmken4RcpVw/RVe0yb+djU2bb6xV6944rmUEBrzOvSM+QrXs74Gl9J3cv+0krv0/C98e8rn+PQ7X+x6dg1FC9fA+EjRJJctT1HTjHbOA7SOgvQcrr9qC2XULRmc4QxvkDkmPFRufVAjN99CzMOvXi53WPMPv4cNToMx1emv88o5KixE6DWD6Nkyn7AYwaXuT2g9WVOX0YYP0aX6duRJncpRIkaDbly5cLqNWtkAIrvt7sNHn2MFNCGMlNA63xTQOt8U0DrfFNA6z5SQOtoU0DrCqaA1vmmgFYVGkQIyvyyjGKNGDEiVqxc+QpA8C/zyy5fvhxlypQRgMo2gbD21q1bL48A/P333xgzZoykSRgyZIjklH2fePyrV69KaoR9+/ZJHtfx48cjd+7cSJAgAVq3bg0/Pz85Nt85dwMiPN9/jE95/vwF8S8zZ8mCVOkyobHxOxfvOoY95x9IvlV7dY+rmUMBrbknvjeeoUSFmlLvhosQEaWq1MXW3+689ZtciG3T0euyOBvZQsKkKTB1pafZzjH31SmA1ucxJuz5E1VaDZCUBtHjJUa1dkMwfvcdTPd7M3UBFw/jwmHhI0XFF1/8FxGiREfZRt3MtncF8vrfNrjMnQHtlAOPMXHfX+jzqy9KfdNRylPatOlkZsCtmzelHvpco2b9SwFtKDMFtM43BbTONwW0zjcFtO4jBbSONgW0rmAKaJ1vCmhVoUEEDoyGLV26tABawoiAZZyw8cqVK6hevbpsQ0DLnLSW2E4fOXIEZcuWFZB78ODBl9+8Fo/hH7Lyd0+cOIFq1aoha9asWLV6tUTtMq9j586dkT59eonYHTZsmOSn5XfuBmkpnvOz58/hY/z8Jk2aCMRmvd5t6CSsO3jW1DMvpF+w34X7vY4GtIduPUet79pKvRshYiRZdG3HH/dMu/j2PTp0639Y7Hkc8RMlk23ZLm48fM0h7aJTAK3vE7QZvRJR4yRCuIiRUbRmC4z1vPEWnLVsyOpTiJssnaQ5CBM+EgrXaIHR229g2sHndrf/VHM7QOv7VM55is8jDFr5m0QYJ02TBalSpUabNm0ktYs1YBVapIA2lJkCWuebAlrnmwJa55sCWveRAlpHmwJaVzAFtM43BbSq0CCCB5bpRYsWIU6cOChUqBBOnz4tn/mHEpyy37RpU0SJEuUtQMvt7t+/j1GjRknO2okTJ74CqjT6VoS2TH/A7QhnadeuXcOPP/4oC4X1799fQDF/l9OId+zcKW0P6z7C4xkzZgi8Ze5ad4ti4z2gL/Pnn39KHVK7Th2kTJUapSvXxtDpS7HxyCV4X3lu6n37dZGzzdGA1u/Wv/hx1Ax8ZfyPcOEjoHiFmthy/Hagv3nw5gu06z1SUh3ET5wMvX+eYbYNed/E0YCWUa+jt19D+rylECZcBHhkyY/usz0x41DgsHXYurOInzKzANqvwoZH/kqNMGrrVVlgzN72n2ruBGh5P6f4PDT36AwaD5qLbMUqI32mbJJndu3atXjw4OFb9WBokALaUGYKaJ1vCmidbwponW8KaN1HCmgdbQpoXcEU0DrfFNCqQpOYlqBly5aIGzeu9MsYEfv8+fNXkPXChQuoXLmy5KkNCGgtcfGcYsWKoVatWq8iz/i+eHp6ShtO+Dtu3DhcunTp1XHZvjM9AvO1Et5aMIR/uWDYvHnz5Hf5mwQny5Ytw/UbN9w2qo3nzOvnfSB4jhM/EWp/3xYTFm/CztN3xe93tT6wIwEtjSxmwdZDiBojluRPzZG/GFbsO4WDN+z/ps/Vf7Bq/xl4pM2EsKZtLF6hBjYeYRRtyN5HhwJaLlp16AUaD5pnfLOwiBg1Bko37IKJ++5hmq/96FlGh/ZfegTR4yaxAdow4ZCvwrcYteVy6Aa05r4w4njMzptoP34NClX5HinSZBQmMmXyZFy7etUt65bgkgLaUGYKaJ1vCmidbwponW8KaN1HCmgdbQpoXcEU0DrfFNCqQpPY1hIctmvXDmnSpEHVqlVlwbAdO3Zgz5496N27N5IkSYKvzLsQGKAlUB06dCiyZcuG2bNnS/5aLvhVvHhxaTuYHiF//vzi8xKA0Pg+cUGwBw8evPVuMVKW0bSs+wg02WfJmzcvOnTogM2bt7yKxnU3mMJ7TfjNHLvsfxUpWgwZsuXC9x16Ydbavdh77oGp1211kL26ydHmaEDL39t99h7yl/gaYcKGFUYzbuEG+AXCaOiHeF9+hHrNOol/kjJtJoyev9YcJ2T9E8dG0D7GhL1/IX2+svjvl18hTpKUaDd+baCpDWiMrG0xcrFE23KRsDciaENpigPer8neD9Bt1g6UbtAJabPnR1Hz/jGVCgelGPnP9zM0SwFtKDMFtM43BbTONwW0zjcFtO4jBbSONgW0rmAKaJ1vCmhVoU0Encw1+/PPP6NIkSJIliyZRL0SsBLaMrqW9U+mTJnsAlq+G4yiZR5aRtFOmTJF2m5G3RLsEq4uXLhQwC3BKgHrmTNnZOr/u9IW8LwITriYGVMi5MmTB4ULFxa/jXls//nnH7cEtRRTR2zZsgXt2rZD5izZkKdwKXQa8DNWev1h6qDnxuzXT440RwNamu/15/hx1ExEiBRFImkbd/wRXhcf270f9EN8r7/AwIm/mLo6jGz/XYcfsevMAzn3gNsHlzkS0DLitdf8/YgQNabxCb5E0nTZMXTNafnc3vayCJjvY+Qp/43cEwLaN3PQBg52P8VcFdDyvGiDV/+OKm0GI13uYkibPiM6d+kCz507ZQaBK9YfPCf/5ggpoA1lpoDW+aaA1vmmgNb5poDWfaSA1tGmgNYVTAGt800BrSo0im0uwem+ffskp+x3330nsJURZlw0h5A2bdq0uHHjxlvAgJD077//Rvfu3QXucpEv+rissypWrIhdu3ZJDlnux22Z65bbclEwgtZ3Ra5xH757t27dwubNm9G+fXuJ5KVvMH78eNy8eVP2dxTECC7xPhAwMx/vqlWr0KjRd0ifMQuKfV0N/cbOwZYTN53eF3AGoKUvsvbgeeQz9S9z0eYsUBzzNvlI22hve57PzDVeiBg5KsKEDYfi5Wtgtc9Z+AaSFiE4zJGAdsbhF2jw4xR8Za7tv1+GQZpcxTF25y37oJXpEA4/Q6fJmxA1dgJEjB4H//niC4SPHE3SIozbdSfwtAifaK4GaAmqCbFHbb2CBr2nIkvh8oidIDGaNm2GdevW4/r161KvuFq9wfOhsU7j+XEQ69y5cy+/DVkpoA1lpoDW+aaA1vmmgNb5poDWfaSA1tGmgNYVTAGt800BrSo0ywK1zD3LuufOnTuycA4jaWPGjCkLdvkHovxLH4pgt1y5cqavF9Y2rdq8O99//z2OHz/+xrvDfQllmUohRowYErXrPwftu0SgyUhfvo/ly5dHqlSpBACvWbNG0iX4Py93kXX/CK2nTZ2KYsVLwCNNelSt3xQzVu82be1j0y7Y/Fd79VVImjMALa/T+9IzDJu2FDHjxEO0GLFM/7QDNh+7bH6b27x5H3zM+SzacRxxEyaV+ppt58y1uwNNixAc5ugI2hL1OphrCyOWsWB5jN99921AK7lqn2P4hjNIkTkfEqfJhvT5ysi7GDlGXFRrNxSTvB9IHtY39gsmcyVAy3QGk7zuocOkDchTtg7iJU2NkqVKY8GC+VKvsR5xdj3B36dxoIb1FutInhfrQvrdS5YsQa9evaQO3blz58u9QlYKaEOZKaB1vimgdb4poHW+KaB1H9FhUUDrSFNA6wqmgNb5poBWFdrlHxzQCGkZTRslShQMHjxY8sPyexr/vWnTJlkkzPJl2VZwISy2H3xv/MMQHo+AtkqVKrItc9zevXv3g4CJdV6MxmXe3JkzZyJz5sxInTq1gAzmdnUF+PKx4vnyvnC6Ne/NkCFDkCFjZiT1SI1G7XqYfsF5+N2y1U326qyQMmcAWhrTGWz97Qa+bdMV4SNEFE7Qrs8I7D57V2D1G9ua81m66yQSJPGQcpc0ZVoMm74Evjf+743tgtMcB2ifSiRojlK1JP/sF//9EqlzFMXYnbffArSEs6O3X0fOsnURNkIkfD9gFvKUqyeLhMVOlALf9Z+Fqb7+jx285gqAdtrB58aeot+SQyhWty3iJU+LzFmzYezYsZJShfUG6w9n1w9WPca6kSlcGCHLQbA+ffrIwFOGDBkk73e8ePHk3JkaxhFSQBvKTAGt800BrfNNAa3zTQGt+0gBraNNAa0rmAJa55sCWpXqTbE95kI6RYsWRYIECdC8eXPJRcuo1RUrViBLliwSOUsjqOX/Gd3622+/yb7+gYgFaCtXrizRfcwtawFaC1TyXaNZ+/rf3xIBB/O4Erx069YNiRIlQtasWSUlA6NsCWpdAcZ8rHjNBLXe3vvRoME3SJgoMZKnyShpD3afvY+DNxzXT3MWoKV5X36Gld6/o3zNb/GV6bfGSZAYLbsNwtYT1+F7w+bPe118Zs7vhenfeiJ8hEjSZsaMHQ9dh0y08YQQYgqOBLS0TEUq4b/G/+L7kjh1ZgxYegTTDz7DFJ/H5ntbWoNh604h19f1ESlaLBSs1hhjdlyWdAgEtMxb+8PUrQIv7f/Op5vzAK25B+Y+cPGzMduvo1638UieMRcSJkkqnOnw4cPyPvG9crRY97AOsuo09jW5SCDTsjAqlgMxrAetPN8cAGMdynLMhRU5GMZ6lsdwhBTQhjJTQOt8U0DrfFNA63xTQOs+okOjgNaRpoDWFUwBrfNNAa1K9bbYJt/96y/pNxDSbt26FQsWLJA+BNMZsH1gVOzRo0cxZ84cJE+eHP369XsVbWuJxwkM0HI7wgvmiNy9e7dE7nL7wCArP+f3hB6+vr6oVq2a+Na5c+fG8uXLBcw4Cm4El3hN1nURMm/ctAk5cuZExIiRkC1vUUxd4SltcEjmWLXMmYCWxpQGy3YfR4kK1RHWtH+c4l+gRHmMXbARu878Db9bz7Dl+C2UrlzHtJc2gMmI2xZdB4mPElJMwbERtM8kKlYiaJmuIHpsVGze13z3ELOP/YtJXn+j9eiVSJIuB8KEi4AM+cpKrtmha04hTvJ0AmjT5ykh/yfEtP87n27OAbQEs8/MPXqMjpM3IU3O4oho3v+SJUtK/cTo1HfVHyEp/+8w67f9+/djzJgxUu8lTJhQfGyr3qTR3+Pz5V9C2v79+793EcXglgLaUGYKaJ1vCmidbwponW8KaN1HdGwU0DrSFNC6gimgdb4poFWp7IuwgDD06tWr2LFjB3LmzCm+LCO/atasKVG2fE+4AE/x4sVlmq6Vs9YS/x0Q0FoggjCXU3zpE0eLFg3ZsmXD8OHDpQ60YEtg4u8S6M6bNw+FChWSiFqmPSAY4QJm/N4ZoOZTxPO1AA9z9Xp4pESS5B6o07Q9ft1xBPsuPMR+tsUh1B47A9B6XXpu7LG5pufm/7yu51jpfQrVv20l5xAhYiREjBQZaTLnQP4S5ZE0ZXrhC2wvWZ4YbduobQ/sPR9yTMGxOWhfCJDldX3xxX8lkjZKzHjIXrIGSn3TEWlylUCk6LERIXI0ZCxQDkPXnMaMQ8/QZdp2hI0QWdIdFKzaFBP23JN0CfZ+IzjM0YCW0cNTfB6g/5IjKFGnjSkb5p4Yf2ncuHFS//C9CWnx/WS9xXqJ/UjOKPjrr78kgp85uSdPnix+NBc1ZH1GH45QlmWV/Cugsfxyu67duuHqtWtybEfWWQpoQ5kpoHW+KaB1vimgdb4poHUfKaB1tCmgdQVTQOt8U0CrUgUuAgMa/SZGudavXx+NGzd+I50B4cjcuXMRP358dOrUScCrpcAALT8nzI0QIYJADPZNUqRIIe9fnjx5MHv2bAEv3C4w8bf5/cWLF9HH9G+Yn5bTh9nXOXnypEBeRwKP4JB1v3ldbAvatm0Lj5QpkTp9ZnTo+zNW7T8Nr4uPpY+x/6r9Oi2o5mhAe+D6/2HDoWvoNmwS5m70geepP42vwWhhUyefviv+R44Cxcy5xJdI2S+//ApfGV+FC4lFihJNyhMjTes164RdZx58FoB2xqEX6DhpEyJGjSHRsALzzHXyWm3A9itEiREHhao2EThLUDrj8AvU6jQKYYy/ECNeYjT4cbI5zj92jx9c5ghAS8BM4/0esuYUqrcfjpgJkiNt2rRo366dvB98T6x3JiTF47Neu3XrlqRZ4YDVxIkT0aRJE6l32MenD0ezPSubWTA2oPG7qFGjomPHjgJ4HRk5a0kBbSgzBbTONwW0zjcFtM43BbTuIzpZCmgdaQpoXcEU0DrfFNCqVO8XAQVBLCPGLMBqQRHChRs3biBfvnySDuH48eOvvuffwCJoCToYjUtr166d5GlkHkZG4zIK7YcffsCxY8ckijcw8Td4LMLYXbt2CTzOlCmT5M+dPn06Tp8+7TKLBX2seO8YDbx+/XrUq1cP6TKY6ypbBYMnLTT9i3Pwush+tP16LSjmcEBrju15+h5yFSqFxMlTo0nHPlhz4ILpE/1PrsvH+H+r9p/Fj6OmoVK9xshXtAyKmOtv13soCpWuaNrMLyXClBHGnqfvy/nb+51PNUcCWtrEvfdQsGoTRIwaU4Asr/GrsOEkktYjS37U/mEURm258ipClpGl6QuUFUDL7/suOiSgN+Bxg9NCGtDy2iZ5PcCwtafx/YDZSJu7BNKkS49atWpi8+bNko/ake80f4cDSoSyrMtYz7Ffb0XJvgvGBjRuSz+jTZs2Ugc6q25SQBvKTAGt800BrfNNAa3zTQGt+0gBraNNAa0rmADatQponWkKaFWqTxfb8ClTpghsJVglQCF0sAdoOYWfUOL+gwcSLct+yfjx4wUA873jQj8dOnSQhccIJpnnlsd5n/h7BJp8f5kfN3HixKhdu7b8n2kaPuQYrijeKwJwTqEuXbo0UqXNgMr1GmP8rxuw44+7OHDdVo/Zq98+xhwNaGm+N56j7Y/DES58BCRIkhx9x86SCForOvjgjf/h0O3/w76LT7H1tzsCYnecvIai5apKRC2tXnNG0D78bAAt0xwMX38WJeq1R7rcxZE6eyFkK14VlVsPRJ+Fvpjma7Y5+Ey2nXn4BXrN80b4KDEQIUp0lP72B0zcdw9TQzC9AS2kAC1z8BLOjt5+Da1HLUPucvWRLGUaKfez58zGvXv3nAIz+ZtMqeLp6SlpFZo2bYoyZcrIAolc8IuQ1j+EDcxYBzKtARdetOCss+RygHb2Oi/43eLozL9qIWB+t/5B1yHvBrQDBdA+tbu/2qebDdDu/mBAa+8Yap9mdHLWfQCgXfMS0No7htqnGfN0Hbr9Ao0V0Lq8AgLa9C8BLSMo7D1btU8zW6eDgHb5uwHt+HmmfmJuOFvnTS14jc9g5trdgQNa8xwE0J7nlNb/s3sMtU+3nabTr4BWpQq6CBo4VZfAlWDV29tbPnsXoOU7xrqOgINA1QIW/PzatWuy6nnKlCnRunVr+f+HAFZr/wsXLmDChAnyu4zGZaqADRs2vIr+dScRDvG6GAlMeD1w4EAUKVoUWXLmQ8PW3TBr3R7sPvtQQK1/sPixxrrQ0YCWg/DMr5sqfRaEjxgJFWo1xKajV825vDkozHNjZO3BG/+Htb4XkDFHPtNm2iJLG7Xr+Yop+N8nuMzRgJZGSDl+1x0MXH4MfRf5YcSG85jo9bd8bkXOEopO8r6PIjVayH1ImCozeszd+wrehqQFO6D1tV3zuF238cPULSjdoCNSZ8qJUqXL4KeffpLoVfbd+B44A9BS/F3WLTyPBw8e4OzZs9i0aZMsBta6TRuUKFECMWLECDSalp9Hjx5d4C5TxDjzWiiXAbQMEfdIkxGz1xPQ2nfS1D7d/G69EEAbRgBthLcAbcy48QXQ7uPUjGv2j6H2acYG9nUEbZhAAO0POHz7mWl8FICEhPkaR2ndwYvvAbQlsObAWfjeUPgREsayfciUcQG0XyqgdWUFBLTpshDQbjZtxHO7z1bt04ydDl/T6RgxYzm++up9gPapbG/vOGqfZgeuP39nBG1YK4JWAK39Y6h9ol37B55nFNCqVJ8iggZGwLLuYoQYgai10Jc9QGtBx5s3b6Jho0YCaTt37oxLly69AheEspwGTOA7Z86cd6Y6sCe+w35+fpKftmDBggKPuVq6r6+v26Y9oAiHmAOT+SuZczeX6Uu06TUMy/edNHXaC2kr/APGDzXWh44GtAwS2nvhIdr1HiGANkmK1Oj983TsPX9f6uaA2/N85m7yRczY8SRHa8TIUdG65zB4v+zLBtw+OMwZgJYm+WUPvZB8soyqfQ1mbTbD7znamvOJGjshwkeKivJNemHK/odvbRcSFpyAlsea6vMI/ZccRvV2Q5AmR2FkyZYD3bt1w969e6QecVWx/mCf8tTp0+jevbvk4aYv5x/M0lj3RYwYEY1MXcf82Kx7nC2XAbRMrszozW9adUb34RPRZcgEtRCw7sMnoETFmgJE7AHaCJEio3ytRvhh4Bi7+6t9unUdOgH1mnVEtJixJaF6QEDLyiN7/mLoMXw8Og8eb/cYap9mfAYtuw1C4uSp5H7bA7RJU6ZB86790c1sa+8Yap9mLNss43mKlpH7rYDWdRUQ0MZNmAS1Grcxz1HrpxAx8250Nfe2Sv2m5n5/aRfQsvPzdc1vTV02Tra3exy1T7KuQ8ejXouOSJAkhZT7gICW8DxVhqzoNGCMtCn2jqH2acb3oEO/n5E4RZpX7YQCWpXq40XowKn4derUQdasWbFnzx7xtwIDtDS+Z4ePHEHVqlUlJUH79u1fAQwCXx4jV65c4hsw+vVjgKp1fObN3bZtmyxgljdvXpkuzai8M2fPmvP756OO6QriveF18V6vWrUSTZs2Q9LkHjLtv9dP07DxyBUcuEaw+HHA0hmA1mYvsMLrd5SoUAMRIkZCphz58NPsFfC6+NAGaV+mOyDM9b3+zPj1U6RttHzF3qNnyXkGZz5e/+YsQCv2RsTsa5vu9xT9lvghbe7ikns2Y4FyLxcNC3k4SwsOQMvrmnHoGUZuuohvekxA5oLlkD5LDrRo0QJr166VwRvWAf/PBWCmPbHfwsGStevW4bvvvpO6JX/+/EiSJMlbcDZs2LD49ttv31hc0dlyCUDLm8MXmdO9Y8SKi3jmhY6bMDHiJlALVuM9NRY5anSJWLYA7eXLl9GyVSvbczCfR40eE3HiJ9JnEFJmynf0WHEEkrPjXb58eYGDffr0EUDLwQqCcrv7qgWPmbIdO24CiYBiJBqhLEftLUDLz/gdB430PQhBM/c2YuQoUubjxImjgNZFRYeFUxItQBvGODPRY8a2/0zVgs24GrLlPNLBJBxkbiy23fycbbW9/dSCz+iTcsYRy33OnDllKt+MGTNeRTEzzYH6SyFrceInlGfAQQm2E0uWLFFAq1IFQVbELBfTmTdvHh49eiT/ZwoDtin+UxwQUtAYGevl5SX5YuPFi4fvv/8eBw8eFF+N+3ORrJ49e+LixYtBAhvch+8zUzDw3ebvcCGx6tWrY+nSZbh//77LQJOPFa/r3NmzmDt3Lsp9/TWSeqRGxTqNMG7hRuw+ex8fk/bAWYCWYNXr4mNMX7lDUr+FCx8RmXLmR98xs7H95B1Z24bA2e/Gc6w9cA5Z89pmJpInpM2cAxMXbwrRtYWcA2gfy9/pB5/L3yk+/L/tsxl+zwTO5ixVA+EjRkbsJKnRdcZOMH/r6/1D1j4V0E73e45JXvfRfvwaZC9ZHUlTZRBWwTqDwRqu2v6yjrAGSLgYYpcuXZA7d24ZRBoxYoTkic6WLdsbcJYchoNW9K9Zz7iKXALQJkqUSG4Qk/iK8d9qIWNf0WxgkLk2WHhv3bolod+v7r8+h5A3c3/ZuWMn75tvvpER6QnGYeK7wM9fPwc7+6oFj5l7yymTfBcYGXDu3DnJWZMiRYo36yN9BiFjL+siGss8RzUnTZqkHW8XFB0eTmfkgiD6bjjIXr4ffDe4sAsjlxiR06tXL8SMGdNfOxFgP7XgM391FMs9Z7sQQqxZs1ZmXfAztiH6DELYXj4DWsKECWX6MOsklUr1cbJgKCPLrl+/LvA1IKBlJCy3IXwlsKBxuyNHjsgMDvZTypYtK1Gvz549E2M/kn8/RhZMofE3GI3Hxcvoi8+ePRtFihRB+vTpZdrx/v375Xt3e+95jbw2TgNnP2/0mDHIkzcfUqbLhFqN22LBVj/4XH1mN11AQHNeBC3tBfZdeITJS7cIpGUkbfxESVG+VkMMm7YEC7cfwZTlO1CsfHWEixBRyhLr7iJlq2Cl12n43vi8AO20g88x1vM2mgyah85Tt2Dm4WeYdfQfWQCs9egVyJCvlKQ1iB4/KVqNWmb3GCFpQQO0TwU4M0fuj7/4IH/lxkjkkR6Zs2bFpMmTcfr0aXk/XQli+pdVtzGyd9iwYTKgnjp1anTt2hU+Pj7iP3OhRPb3LThLn4JwlnUOr4vHcBW5BKBdvXq1VPqMEOHInJpjjB09Nhhs9Bg52KNHD30GDjTea66mys4GHSECkOHDh+szcKB9Z6xJkyb45Zdf8Mg0PA8fPsSiRYvkM35nbx+1kDGObjKa31Ub/9AsOi3sfO3eswft2rXTOsqBxnqInWZGLDEv37Fjx9CvXz99Bg403msuhLN9+3bpoHCl4tGjxwg4sLe9WsgY7zcH8dhOu1JHSqVyR/EdIvAkqOUAYNSoUdGnT99XgJZRth06dJDUOtyOEbMMYmBADyEt88ZyER62Sx/zPnJbHp8RswQn69atw8yZMzHDGGGxFZnLf3NmIYMmmMuVaeDYT2Kf1dVgyoeI95DRwLzmtsaPSuGRChmz50GXQeOx5fhNHLjOhbcsextEOhfQ2n6fkHbeJm+UrlxH8stGihJVZpAkTpZKgG248LbZPbTY8RKiXe+R2Hv+sexr75jBYY4FtI9l6v/wDedRsGoTxIyXBGlyFkGjvtPRZPA85K/0HeIkSY1wESMjZkIPtPxpCab4ODDlwksLCqBl5O9PWy6iWruhSJo2K2LGiosunbuIz8k21xUHR1gHWPUJ64wVK1bIwA4HcitWrIgtW7bgzp07Ul/cvn1b8kJLijBTPjnAzoEp1mmuWJ+4BKBlZczRJTq+ao4x3m82qlahZOHm/+1tqxZyxntujQrTCEH4ub4PjjPea9ZB1jPg89D773hj2ef9dzenO7TIaif03XC88d3gvef7wTbbaifUHGcs99YzoDGiTN8Fx5l1r3nftY1QqYJPrM+Y1mD+/PlYunSpDECxnWHuRs60ZMoBq5/CzwlwmSPWw8NDUhHs3r1bvv/Q95LHuWOOwWnHPD7TinFGAv9mzJgRU6dOxd9///2qX3r06FGZvcPFzRgRx3QBjADmcdytLrD8KJ4/B/zKlSuH6DFiImfB4hi7YAN8rj3BwRv/ZxdEOhvQ0mSxr2svsPXEDXTqPwaJk6XEV2HCgin7mNbAgrOcWZKnSGms2n/GnKP9YwWXORTQ+j7FqC1XkCxTPoQJF0HSOHz5VRiEDR8R4SJEQpiw4eV+pMpRRNIa2PazpT5wpH04oH2KmYdfSORvs2G/IkWmPIgUJRqqVasOX9+Dps21LSToqu8Z6wC+T0xRWKtWLVkEjHUS6zFCZaveoliPENrKzCfz3CpVqiRRwdzfFa/PJQCtSqVSqVQqlUqlUqlUKsfJAh2EMfw3jXCU0WiMlt28ZYsEMhBkcBtGq40ePRrJkydHoUKFJH8j9/8Q8diMZkuZMiVixIghKXv4G3HjxhXIx1Qyhw8flu0soMlBSS5MxHySCRIkkMg3LlDG8+D33NadZN1HRvdNnDQRGTNlElBbtUFzLN97CgeuPUHAaFpXALSWMS8tI34X7TyG+i07I0GS5IgcNRoiRY4qufPzFSuH+ZsPwPcGI2ftRwQHlzk6xcHEfX8jQ8Hy+Epy038pudFlTZlw4RE1TiKUatARw9adEUjqDDhLez+gtZ3XlP0P0WueF/KWb4CYcRPKoAkHQKwBElcEl9a7wzqB+XAHDRqEdOnSSb3A2WZWlL3/c+e/N27cKANAXMOBKVoYGeyq10gpoFWpVCqVSqVSqVQqlSoUKiCoILxgdGyyZMkEwvr5+b2CtDRGgXIdE4LVli1bSsTah4j7Mhp+5cqVAn65cjrTHfTv31+iLwlP+FuEMNb2NEJYAk2mwyKQYQQv08QxNy5BLbdxN/GceZ1nzpxBx06dkCKFB2LEjiepAdb6noPP1acCZglEXQnQWnbwxv+M/YuNR65j0pJtGDptMaYu94Tn6b/lc3v7BLc5GtDO8HuBvosPIVnmfIgWO4Gx+EjgkRFFarRAt1m7zDaPX8JZ+/s7wgIFtL5PzXdPJe3C4NUnUbF5H8RLmgpp0qSVtJdcDJjl0XrnXE08J8LXq1evyoJlrJe4cCHX8uFi64S21sCOJf6bM28mTJggA0IcAOK2PI4rSwGtSqVSqVQqlUqlUqlUKgEdBBsEIVysq1SpUli/fr1EvxLeEtZ6eXtLVFrs2LEFlAaEI4GJ2xEEWcaIvcGDB9sFtP7Fz5juhDnZmRc8Q4YMEuXLfLlcU4Xg90PPwZXE6+K93rlzJ6pVr4606dIjV4HiGDhhAdb7XYDXxScCaX1dDNDSBB5f+xd+N//FoVv/4KD5y//b2zYkzDmLhD3DsPVn0XbsanQYvxaDlp/AJK+/ZYEt5qi1t48j7W1Aaz7zfSL3ZsSGM/iu3wxkyFsSqdOkxbcNG8LT01MGOey9c64gvs+sc7gA2ObNmyUfPdOdVKhQQVKzWHlm7b33rA+YZ5uLhZUoUULW/fmYlCzOkgJalUqlUqlUKpVKpVKpVK9E6DlnzhzkyJFDIlcZ6coINEIRQtnMmTNLXsep06YFacowtyeg5VTl9wFaS9yHEbyrVq2S3JNMl8Ccklzkl9F1hDLuKF4XI5F5vwmTPFKlQbnq32DsL2ux7eRNgaCtewxGrLiuA2idbc4AtLTpfs8x6+j/jP2LGYdeuASYtcw/oG05YrGA4zE7rqP1zyuRs3QtJEiYWPKxLlgwX949V4eVhMf79++XxewJZgsUKIAhQ4bg3Llz7z131iNMZ8AFB9esWSMDIe4gBbQqlUqlUqlUKpVKpVKpXomwk9CQK6I3aNBAImaLFi0qsKRFixaIEyeOAFoCVkcBWor7MRKO07InTZqEypUry7kxsnbDhg3vjKpzZfF+c6r2H6dOYfjw4ShevASy5MyLhm26YfqqHfI3Vpz4CmhfmrMArSsbgWytH0YJoG3Yeyo6Td2M0t92QrzEHihdpixGjhwpC2S5ciQp3wPmwT506JAsSliwYEHJQd2hQwfs27dPBo7eV0dQ3IaDNhxMsiLs3UEKaFUqlUqlUqlUKpVKpVK9JcIcRqyNGTMGpUuXFjDL1dC5sFf48OHx66+/OhTQ+hfTLXCVdkbJ5c2bF1mzZhWA7O3tLZCHv+FuoJbny3PnYmjMtZs9e07kyFcUGbLlQdQYsfHrjiOSA9YetAxNpoD2TWMkLyN6a3cZLYA2Q/7SSJYhF3LlzoOunTtL9LuVS9oVxfPiu3/x4kXMmDFDBl6Yb5ppDRgx/7ERv9bxPqY+cQUpoFWpVCqVSqVSqVQqlUr1lgg6GH3G1AIEqIxabduunUTVduvWTVZPD0p0Go/7qYDWgjD379/H9u3bJd8kUy8wby6jUJmf1pWhVGDi+RJ637hxQ+BU8+bNkThxYoSPEBHt+4zExiNX4Hv9heSBtQcvQ4MpoH1tXACMi5QNXnUShao1RoRIUSQlQOs2bbBx40Z5P/ieuOJ7wHNi/XHr1i0sW7YMjRs3lhzTderUwdy5c3Hp0iW3yB0bXFJAq1KpVCqVSqVSqVQqleq94jR8gsOzZ89KOoGgTh0mcPlUQOtfFuQh0GzYsJHkza1Zs6YsdsZFhixA5W6gh3Dq/PnzmDpliqSYSJk2A0pVroPR81djz7mH8L1hH2B+7qaA1mZMazDW8zZajFiMXGVqI4lHWpQrVw4LFizAlStXBPS7oiwwy/QDjHjv1KmTRMAzBzNTGzB/rDsOrnyqFNCqVCqVSqVSqVQqlUqleq8syEm48inwhPsGJ6C1zolQh0CTgIoLIhHUfvvtt5JLlzl1gwqUnSXruhjBTGg1YcIE5MyZC6nSZULlek0xZ703vK88he/1f+2CzM/VQjugJZid4vMI3WftQqFqTZE0dSYUKVockyZPxvHjx1/lXf2UdzSkxHPie8pBnoEDB0qOWRpTlXBRMNYLrhrxG9JSQKtSqVQqlUqlUqlUKpXKYSJ8CU5A6188NgEVgeawYcOQPXt2mTbN/LRchIsrursqvHqXeL6crs6Fj3gtiZMkQaYcedG651CsO3gBB669gM+Vf+B9+YVdqPk5WagEtD6PMeXAY8w49BwjN11ClVYDkCRVJqROmwE//vijvD8sH65YrnlOfOcY0cuBkl8XLULx4sWRNm1a1KtXTwZQGJHvqhG/jpICWpVKpVKpVCqVSqVSqVQOE4FNSAFaise3YBBXhG/VqhVSpEgh06inTJkiEanuGKVnQS6COG8vb9StWxex4sRFtryFMGjSQuw6+xd8r//z2eenDY2AlouATfK6j+8HzEJ8j8yImyAR6tevJykCWJ5ZLlg+XFE8L0bNHjx4EFWqVEHChAmRP39+LF68GLdv35bv3HHQJLilgFalUqlUKpVKpVKpVCpViIrwxQIw/BuSgNYSf4fg59GjR9iwYQOKFCmCmDFjolTp0vDy8pJoWoItdwRDPO+7d+/i119/lSni0WPGRrnq32D+Zl/sv/LE2PPPNpo21ABan8eY5vsU0w4+Q8+5e5GpYHlEiRYDmTJnwvIVK6Rcu+pAg/XuEb5evXpVor757sWPHx9DhgyRXNb8zh3fvZCSAlqVSqVSqVQqlUqlUqlUISZCGEb5WXlg+X9HAFpL/E0e+6+//sKkSZPg4eGBaNGioUWLFjhx4gSePHki27iTLABGUMsFofr16yer9ydK5oEmHftgzYFz8Ln63AY1P7OI2s8e0BLKij3GwBXHUKJ+R8ROkASJEyfCiBEjpBz/a8qzK5dZwldGx06fPh1p0qRBvHjx0KBBA/zxxx+von0Vzr4pBbQqlUqlUqlUKpVKpVKpQkyEMWPGjEG7du1w9OhR3Lt3TyCTowCtJZ7HP//8I5Cobdu2sogY89OOHj0ap06dkty1IX0OwS0L1BIy79mzRyBYylSpkD1vYfQfPw+bjl2G16Wn2H/l84mm/dwB7STv+xi27hS+6TkRqbPmg0fK1GjWvBkOHz7s0jmUeU48v1u3bmH9+g2oWrWawNkyZcpg7dq1ePbsmctG/LqCFNCqVCqVSqVSqVQqlUqlCjERyhCCxo4dW6Doz+bfBLJcud2RgNYSARGj+Hbs2IHatWtL5GmpUqWwcOFCXLp0SSCuu4nXRGN+Wub25D2NHz8BileogZ/nrcX2kzckN+2Ba//ahZ7uZJ8joJ3m+0yiZkdtuYKWI5cga7HKSJQ0BapVq4bVq1dL9Lkrg01CY5a93bt3y+BHxowZkStXLowdO1aArYLZ90sBrUqlUqlUKpVKpVKpVKoQE+HNmTNn0K1bN+TNmxcJEiRAuXLlULJkSfznP/9xOKClCIsIYm/evIkZM2agYsWKyJkzJ5o2bSpAjDky+b27QSXea8LnCxcuyHT4EiVKIlnK1Pim5Q+Yunw7dvx+B4ym9bnqvqD2swK0voSzTzB25010mrwJJeq0QaqM2VHGvBOEmxcvXpRyyOfqiuJ5MfKc7+/w4cNRtGhR5MmTR3LOclEwK32Iwtn3SwGtSqVSqVQqlUqlUqlUqhAXpz9v3bpVICijVv/73/9KBG2xYsVkNXqCRWeIv3vy5ElJuVCwYEHkyJED3bt3x969ewU+uStcIvA+6OeHLl06I2euXEifNSfa9ByCX7b6Yd/Fxzhw3T0h7ecCaKf7PceU/Q/RZ6EPKjb7ESky5pKo0549ewrwdOVIbr4TBK8cCJg2bRoqVaok6Qz4bm/cuFGiaVUfJwW0KpVKpVKpVCqVSqVSqUJcVtQqo1OZTqBu3bpIlCgRkiZNitatW8PT0/PVQmKOFmEmFy7btWuXALLcuXOjdOnSGDp0KI4fP+7SUYyBifeb8JnXtX79erRs2RI5cuVBwZLl0WXwOKzwOoX9V55J6gN7INRVzd0B7bSDz8xfLgB2HDU6DEemAmWQNn1GdOjYEZs3b7YtAuakwYr3ySpTXABs0aJF+Pbbb5E+fXrUq1cPc+bOlRQh/N7d3hVXkAJalSqYZI0g+f9LU6lUKpVK5Rpiu8wOuP92WttqlUqlcrxY9xJ4cmGuiRMnSqoDpj3g9GhOyz99+rRAHmfU0fzNO3fuYOXKlfj++++RMmVKiQ5kGgSmQ3DXXJo87ytXrmDe/PmoUaMm0qbPhDJV62HEjKXY8fuf8L1uH4a6orktoPV9KlGzo7ddQ+NBc5GzVA3ESZhE4ObixYtw/fp1lwWbLPM8N6Ys2LlzJ1q1aiUL7BUuXBg///zzq0EMVdClgFalCiZxpJfTcjjqy4qV03fctfFWqVQqlepzFNtmLy8vbN26TdrqFy9evAK2KpVKpXKs2E9iHcyp0L6+BzFkyBBkyZIFyZIlk8hVrvrujChCnheNbca5c+ewYMECVK5cWVIy1KpVC2vWrMGDBw9eDfa5k3jOTNnAdA6TJ09B8eIlkD5zdlRr0ALTVnrC+/IT+LpB2gN3BLQEsxP3/oUOE9ajYOVGSJgiHcqW+xozZ82SAQmWN1ctUzwvwtdjx45JbtkCBQrIu8p31tfXV94HZR+fLgW0KlUwiRUqVyxs2LAhKlSogN69e2PlylWS1Jvf0bmwOoFWo69SqVQqlcpxYjvs4+MjU2q5Wjc7GUuWLMHZs2fx9OlTbatVKpXKSWLde/fuXezYsQMtWrRA3Lhx0bx5c6cAWv9iO8D24ffff8eYMWOQLVs2ZM2aFe3atcPhw4dloM9Vodq7xHNmgBHh2o+9eiFN2vRImzk7mnXui7W+l+B385+XaQ9evAVHXcHcB9A+xjTfp7II2IDlR1Huu25IkjYbsmTNjoEDBkgZevzkiUuWH54TywnfQUaOM88sB05SpEgh7ybfVb6z6isFnxTQqlTBJKvx5oqfHFGKHTs2EiZMiLRp08qUhSlTpsiIE0eXWMm5Y0OuUqlUKpW7i201p+ZxAZhYsWJJW81FLWrWrIlx48bJisPM1adttUqlUjlOrGtpBJ7MbblixQpMnTpV6mFni+dFgMx+HPtzXDyMaQ9y5syJkSNHStoAZ4PkoIjXxahI5jvlYmgNGzVE/ISJkCp9ZvQePRM7T/0Fv1v/umR+WncBtDMOvcCYHTdQr8cEJMuYG0lTpETLVq3gvX//K1/DFf0MnpMF8bngV/Xq1SVXdMWKFYV3MIe0NTihCj4poFWpglkWpGXI/1dffYUvv/wS4cKFQ7Ro0aQTyBVKBw4ciF27d0tuI0bXsmHUiB2VSqVSqUJebGPZqdizZ48MorKt5iribKujRo0qORC5gjdnwmzbtk06Ic+ePZO22j+01bZapVKpQkZWPc1+lavVtWwH7t27h+07dkjaA0b6lilTRtIxuGsgDs+VbRyBIfPu5sieA3HimbawVEVMW7kLXETswLV/4H3ZdaJpXRnQTvF5LIuATT/4GJ2nb0PmwhURM3Y8FC1SFKtWrZaoU95vVxTLArkEGcWZM2fQsWNHYRiMGmeeWc4OVjAbclJAq1IFs6xKjbmJuJohO35ffPGFdP4Ia2n8LGzYsDLy2rhxY/z666+S3+jRo0da4alUKpVKFcJiW81OtJ+fn6wcLm21aafZVlvtNT8LEyaM5EL85ptvJAchUyFwcQy21Wzr3akDrlKpVO4k1q+uWMfynNhXYxtAUDt37lyJpGUwDlez50JJHNRzt/6c/+siaCaMS5IkCWLHS4BaTdpjhdcfOHD9BQ5cc438tK4KaJnOYObhZxi27gwKVW+OiJGiIHWaNDJD588//zS+x+ugLFcTz4m+EXNCT54yRfwfRs22bt0af/zxh1sOPribXALQ8gGrqX1OxoqLo04cgfQPaf/zn/+8YewEsvMXPnx4aQCrVq2KUaN+likmV69elekm7AhqZahSqZwt//Wb9W81NXc1lmMaQStz0rKtZnscsK22Blittprpi5hnftiwYbIo6IULFyQShm01o2G0rVapVKrQI9b3bEdOnTolaQ+4on2qVKkw8qefcOnSJVmMyx0H89iWMXqZ6RyaNWuKJEmTInPOvOg+fDLWHzoPr0uP4ezctK4IaKf4PMTITedRr9tYxEqYHMlTeKBVq1Y4ceKElBNXLQeWP0SAvGnTJpQoUULYBPPNMr0ByzHLA9MdcBsyCle+HneWSwBaPmQ1tc/NmL7g1q1bWLhwoUwLYAfPf6fPf+fPMityh9Ms8+XLJ1MKFi9eLMnDCWxZKRLWqlQqlSPFzgVH0+3VdWpq7mxsq5nrcOvWrZKH9mPa6ogRI0rUVNu2bfHLL79I7lrmIWTkEWGtdlxUKpXq8xfrehqBFYNsatWqheTJkyNv3rwy84LtAr9zN/GaCO44w5MzQytVrozESZKiYKkKGDl7JbadvIH9V50XUesqgJapDLgQ2M/brqL5sIVInbMYkiZLgXLlymLb9u3y7F158JbnZeUgbtasmaR5om/DCFpGiNOf4UA0B7MZBczFwcgovLy8FNKGgFwC0Hbr1k1N7fO17t1lIZLAOn32jB1ATq9kGgTmw8ucOTMaNmyICRMnykqbHMXSylClUjlCluPGlVu7du1qv55TU3Nz696jB4oWLRrktjpKlCgShctFQUePHo19+/ZJW61SqVSq0CH6SxzQps80f/58lCtXDqlTp0aDBg1kfRIG27jj4B3Pl+d98dIlAXSMqkyTITPqNOmAqSt2Ysfvd7D/6nNj9kFqSJnTAa3vU8k1SzDbceI6FKraGKnTZ5Ho02nTpgrUZGCVKz5vnhOhMXMOky0MGTIE2bNnlwCxH3/8EadPn5Y0HRxw9vb2ls+4vk6kSJFkNhGDyVi+L1++LGVeFXxyCUDLl1xN7XMzJou3jLlb2JGz18F7l3EfVoCcYpA/f36BtIzSYcQPK1WVSqUKabGu4SJJhLOsz+zVd2pq7mpWO122bFnJCx/UtpqQlm19njx5UKduXcyYMUMic92tI65SqVSqTxd9J0bOjhw5EoULF5bUB507d8bOnTtlRpK7tg0EtUePHpV0DoyyTJspG5r+0A8Ltx/EvotP4Hv9X/g4CNQ6E9BOP/gcE/f9jR5z9qDc9z2QMmMO5M6dBwMGDHiVq9WVZS0ANnnyZBQvXlzgbJMmTSR1kxUVS3hL7sDvY8aMKdswKpz/5mA2cy4zipZlQhV8cglAe/LkSYfbb7/9JsYk3jT+2952ampBNZYp5pthioN06dK9t9PH761FSWLEiCErJVavXh0//PADZs2aJdE4165dk9EsVpra6VOpVI4Q6xo6axwld0ZbyXrUv9nbRk0tqMYyzRx7XH2bcPVD2mp2TJiTlp2TTJkyoVKlSjLdb+rUqdi1a5d0ypmrTQdSVSqVKnSKvhMjC9lv8/bej169eqFIkSJijFZkShzOsnC3dsK6LsK7TZs2o02btsiQIRPyFS+HTgNGY/ne3+B16QkOXLMPVYPTnAFouQDY5P0PMWDZUdTqNBKZ8pdG9lx5TX+9M3bs2CHwnffHFfvpPCfCVEZyk09wxg/9nvr168v/GYzB763nO3bsWGTLlg0FCxbEwIEDJRXU7t27UadOHYmk5cyh7du3K6ANZrkEoHWGWBmeP39ekh5v3rxZCqEjxReE5xDQ+LkrvtCqjxcrN04JqFatmkTW+O/08d+WsaNHKBs/fnwZYeXoFRPLs7PIEThOLdAyoVKpQqNY93Fgat26dVInOisi0WqbLVN9HuKzZFtNSMsOCqftBYSx/ttqDqLGiRNHpgB+9913GDp0qExb5UA//UgeS6VSqVQq/2Jbw7QHzOPatGlTCcLhYpNTp03DpcuXXXYa/PvEc75x8yYWLVqEuvXqIUlyD5SpWg8DJy3AluM3wNy0IRlN61BA6/sUMw49x+ht1/H9wNnIUaIqUqROj2+//RZLlywRuOmqz5DnRc7ExUy3bduGli1bIleuXJKKYfz48ZLOwMqRzG0ZXcvPmZ6jYsWKsmgY8xDzOxrBLdfX4ayhQ4cO6fo4waxQC2hZkObOnSv5xgoVKiTOuaNeKv42F6bgCASnwHHqA/OVLVu2TF4QvhSOOhdV8IvPjpXgnj17pFLjCBM7d1ZnzwKykSNHlshaJpLv16+fLAZGoMsVP1kJcjTKgvYqlUoVGsU6kI5hgQIFZCod201+5ihZ9TnTyvC3N2zYIANnjjwHVciIz5b+GKNn2VYznZDVVtOstjpChAiyIneVKlUkBxun+3FGy4ULF14tBuaq0TIqlUqlcg3Rb2Af/+LFixKtWLt2bfFr6tatKwyA7cnHtiXc3pkDg5aPxHbw1OnTApwrVqqENBmyoFqDZhj/60bsOnNPomlDAtQ6BtA+xXS/Z5iw9x7ajVuNPGXrInm6LChfoQJmzpyJ02dsuVpd1S+0ng8Hknv06CHcK3eePDLAfODAASl33IbPksZt6esSzjJydv/+/W8sBMa/Y8aMkYXEvv76a4nG1cHp4FWoBbQsfJyKxnxjLIDMpRLSL5ZV6PlbHLlgSDl/n6MPiRMnRsaMGWUkY/bs2VKBu+qLrgpcfMbs8LHzximPhLCMuLFSF/D/uXPnRosWLSTnC0ex2NnnqCr3syo/lUqlUtkcy1WrVkk7GTduXGw1daYjHEHWxVZ9zgHcdu3aSZvNqV4///yzfK5yX/HZshwdOXJUopgYOWtFyLKt5uKcXNyTM1oYRcKZVkyHwMF1+nEqlUqlUgVFbH8I9NimjDPtC9cYoW9BNuDn5ydtjAXM3iV+z1lF7HN+yPaOEFM2cMGpQYMGIWeu3EifJScad+iFxZ7H4XP12UtI++It0BpUC1lA+xjTfJ+Zv0/Rd5Efitdrj6RpsyF9howYMXKk8BxGpLrCfQ8onhPLBH1VRvYy4rVYsWJIliwZ2rRpI6kY7hh/JuC5cx8CVwYw0g/iQnf+fR5uz2vmMcg0Rhl/+OHDhy55D9xZoTrFAQsgc4UxKoajByEtviRMxszOQPTo0WXkgVEbHTp0QLNmzQTQsrDz5SE81k6Ae8mqDPfu3SvPmLnpGJHDKQDly5eXxoojUmyQr1+/LhUaR6TYSdSKTaVSqd4W68abN2/JohrMc0VA5oj6knU56+jly5fLQlLMC85UNQR5XBhD22f3Fv2xI0eOyArE9LvYVseKFUuede/evV+lLWB6DfqH/ttqba9VKpVK9SliO8I2hflK2Rb16dMHSZMmlVXy+/fvL1G2bKfe1d7QT7l37x5atWolA9mu4JfwfHked+/elf4w89OmSZcBmXPlR5fB47H1xE0cvGEftgbFQgrQMs/sjEMvMGLDeVRtNxQps+RD/IRJ0KVLV4HovO+u3H/nuT0wPiwjs7kIKtlS5cqVhUMQ2NKnYfkJKO43ZcoU8Ye4MBifo//t+D1TGtBX4iA27wU/UwWvXA7QsqCzIAS0wF4Afu7fAhO/838c6/+s/FiR2NuXn1nb+Tfr848Rt+eCEd26dZOEyoycZQQlQR07nJw+efjwYQF7nBJPeEuQx99TuYdYQfn4+Mg0SK7UyZw0TGHBJPDs5LERDqysqVQqlTvJagfttY/2ZG1r7ReYrO/9b8f92FbT+G974rbWOVjm/xgfK9bZTD3Dqe2M3CXIYxQvQV7Xrl0V0Lq52CHmLBf6YpxmOtl0SDjVjwP3zCXrfzqfSqVSqVQhJfYf2e4QaDLtXbx48STPOdMgsO8YmO/DzxixykFjzvDhTI93+UmOFNtPngsjfFeuXIlSpUojQaIkKFi6IiYt3YYD159L2gPvy58WTRvsgNbnMaYffIaJe/9Cq5+WIWP+MogeOz4qm779li1bBFjyebmif8Bz4rlxFjYhauPGjeHh4SHR2VxsnH7tu9Jo8nMGJtA3YvQsF7ILyC2YgnH4iBFIkiQJBg8eLDOAVcEvlwK0LACsVFgY6ByzENECizLk//n5h3TcuB2Pa21n/da79rW+537+z8X/MT5U3J6LknFxiZgxY8rK/CzkPC9+R+PvMM+H1QlkhaudBPcRR9PYOLIC5+gUgXzA8qLPUqVSubv8t58B22p+FrCe4/+tNthq8+zVhdZ2PIZVb1IBP/O/L/9N43f8fet8Ata9HyP+3ooVK6STlD59eskxRnjHDhAjaBXQurc4PY95jdevXy8dFv7fKi/vKp8qlUqlUgW32N6w3WEbRODKGRxMh0dewKAfLy8v8WsCtkv8P30RRs/SN8mbNy88PT1dyj/hdfF8GIzGwLQUHh6IEjUaqtRrihX7TsPv9j/wufavXfj6IRacgJZgdrrfU/ReeAB5yzdAxCgxkT1HDsyZO/dVeiNX9Q94TvRfrly5IjN206RJI4uP9+rVC5cvX5byw+/fde787sSJE5IKgXCWXIPXa4nfcxCB6Q9YLjnLiMdUBb9cAtDygbNS4igLHWZO+WfoNBNns0NUs2ZNSUZ89uw5caKtwkUAxhye7du3R8+ePSXMmsfxX/hYsEj3J5lKgXk/mTuOUassUKzEunTpIiCUhdfaj99xBIGRj0OGDpXoCmsxMWuRCKZFsACr/9+zJ+v6Zs6chTBhwkjOW0I8fuZf3I4vf506daSi5YjHrVu33ng5VK4rPic+U1etvFUqlepTxHqNbR4jCDZt3iygsmzZstJWszPB6VNcdIAOHttnqx5kncj0BGxvOTjJtpptuX9xW84kmTNnjkzX4+KZnOLHzxkJQL+AeWCZD9ZqE/kd4Rq/HzVqFOrVqyeOJRc14GwUzlhhW2utrm+dz/vEepwdnurVq8t5M1ccHVH6I1wwSgGte4vlgOXBaq9VKpVKpXIFsU2if8HBw4EDB8osnrRp00rqnVOnTonP49+f4fb0uZInTy7BXUWKFJH0jfSxXKl9s66Li6HTx4sfPwHiJ0qGTgPGYOORq/C58jRI0bTBAWin+Nj2GbHxPKq1G4oEKdLBI2UqdO7SWVJTWmDWFcXz4rOm/8yUXFzLiLO+atSoIayK5YXbfIj/y20YsU32FHDRM5Y58jMyN6ZLWLRokd1BA1XwyCUALQsAV65v2rQpIkaMKGHVDJ3m1LMUKVJI1CmBZebMmYXc06m2HGwmomZhJPjk/lxVl59bYqFlIbJyvjIcm4WOnxPWcnGu2LFjy3GsAszO3KRJk6QAMjcZc4gyRJznwu35GTtpBLUBRxfsid/z95o3by7nmStXLplGZ28/XhvPi2kOeN1W4m+Ve0grKpVK9bmKbSuhKSEr21Tm2WZb7eGRUtpIRpyyg8C2csmSpdLuWWIEKld7ZYofgk//g6L8y20JRXkctsnMwUaHk+3f4sWLxeHkvus3bHjVOeFAKqdtsfPC7xIkSCi/zWOwreb50Z9gZ4CdnQ9tS7kdB3Zv3rwpv8X/EwwroP28pO21SqVSqVxNbJvod9Av4oA2p6qTSdAHmTZtmvhh/v0rztpkABkXuORil8w5unfvPuEdriTrusg69uzZI+vwJEqcBFnzFMLQqYux5fh1+Fx7AZ+rHx5R+ymAlnlmp/k+wZid19F06Hx4ZC0g51OzZi14eu4SAMnzdVVfgedFDkU21rBhQ/GTGaTAhb2s3LFBOXfuE3A/+tucTcYUjp07dxZY66r35XOQSwBaRtoMHTZMICwhKlcxXLt2rUDTvfv24efRo2UBLXaMChQo8CqqlMaRgbnz5kmHjB3F6dOny4IOLDRWZ5Ih/+yo1a9f/1WnkBUbV7RjOgF2Bhkty+NxH29vbxmJYoJkRu8u/PVXmV7AF4DJlr///nsJG2eHcPacObLfu8TveY2FCxeWa+SCUZzCYK9g8/fXrVsnx+bUBuaf4WcqlUqlUjlTHFnnivYEsWwf2RZyKh7baqbn4eKWmTJlEkjLqNpjx469ar8INJcuXSoLYLAtHzdunLSLbB/prBOAcsSfA6B0NH///XfZl0ZAy3aaA5dc4ICfcR9GiXD1Ywv6zp+/QDolbK/XrFkjI/1s42nDjI/B3/tQsX222mj+VUCrUqlUKpXKkaKvQ9hG/6latWoSUVu3bl3xcRjsxe8J6RiAxoVMv/jiC/nLPKJkKIS09niDM8XzoQ/F6yK34SzltBkyo3LdJpi4eBO2nbgJ78vP7ALZgBZUQDvF5zHG7LiKDhPXI1/FBkiUJClKlS6D2bNny4xu3ldXFO8dfWBrcbkBAwciXbp04gtzoTlGWQdnxC9/j8yMDIwBkVWrVhVm5qr353ORSwBavqDsXDHypUGDBq8iXVgorILI6YsEluwcMTccP7PE7TmVkSMHBLjsnLFwsvBySiWhKD9nB9Lazx6g5XesyMaZDihHoZigm1E//Nw6F54XI2vatGkj0ygZRev/XOyJ+xAas1JlB5Od2sA6dzwWF5oiUKbxut93fJVKpVKpQloXLl6UAVS2ZVwEkdPqrLaRRoeNUbDWQpeEsFZbx+85As82k20uc7sS7LJ9Y+eC+a4YlUsIyvyg3J7i9/YALVMMcaYL20muJLtjx443zoVGIMspgpzyRx+BTndQxGMpoFWpVCqVSuUMkSUwvyhn2XJ1fUbUtmvfXqaxM3CNwV30kwho//Of/0gkLYEumQIjQV1R9K3ozxEq9u3bV2YYp82YBd+164m5G72w+9wD+F7/F/vfEVH7MYCWEbPT/Z5jwp676D5nN8o0/AGx4idBvnz5MWDAAJmFbfEnVxX5FReRnzBhggRC0JfmDHLOuKZfGtznzufDYEemCSUI/uWXX+QzVcjKJQAto0mZe5a551jR8MGzgFnGTh/JPTt8hK3syPkn9/z34cOHpSJi9E3Hjh0l9Jq5OBjpw8hahmVzO6vgvgvQMtKGgJaRt4S63Nb/+XA7LvjFSFsWWr7M7xK351RNpkpgpA/hbmCFm58fPXr01dRMriId2LYqlUqlUjlKHPRkTta5c+dK9CqBq9Uush1kW8UB06RJkyJGjBgyDcr/FDtud/r0GRmQZfvGv+xYMB88nUzOXOGgJH/HEo9pD9ByG3ZU2OYT0HKBRjqn/ttjbsepf+yg0PEOaieF562AVqVSqVQqlTNk+Vn0qRg81qNHDwkUI6TjolCc1s61ayxAS+NsJs4EJuOwWIYrSny6v/+WgXauN5A9R07kL14WPwwYgyW7jsHr0lMcuPZpgHbawaeYuO8e+iz0Rc0Ow5EqW0HkyVfA/F57CezjfXVVOMvzos9J9jRv3jxZG4mz1bjuAiOrGTjon3EFl3g8+vkMtqCPzgCLgIEOfHYhAYZDu1wC0Friw+WDZtoCrpbH0H3mpmXHip0yAlpWNqyU/ANaiv9fsmSJ5MawOnmMmmVnql279nI8/4UnMEDLz5mzliCVaQwYLcRFRngu/l/ejymIVieRx2OnlJUPP7Mnfs6oJAJansOHROiqVCqVSuUoWW01I1Q5A4ZQ1mqrmdaAEbZsw5j7lc6df3G/HTt3inPJAVcOiH7zzTfSNjIKgBEiASGrPUDL9phtPtt7Rt4yRxu/YxqjoLbVgYnHUECrUqlUKpXK2aJPwuA2DkwzspGpozjFnf6QBWctY8AZgZ47rLjP62JA2+JFiyQtZYpUaVC8fA0MmDAPW4/fxMEb/8Ln2pvRtO8DtASz0w4+wYgN5/Ft7ynIXKg80mXMKjO2OeOLg/3B4SeGhHheNAJY+rdkUgSlXAR38uTJ4i+H1LnzuCwvO3d6ShAEyxAXTLP8c35PX5u5hBmw6Oply93kEoDWesiMHGWBI8Dk9Mk6deqgVq1aMvpTsmRJ6Zwxr0r37t3fArQUISynMzJSlVGz7PxxP64YyILjvxDbA7QsdDR2Mr/77jvpYDLPHlenrl27jsBSjlAx5wcrxoDHDEzcjiMOVgRt27ZtAy3I/FwjaFUqlUrlamL7yChUTq+aMWOGLBbGfLH+22rmPWM7x/aLzmRAQMs2k2CX7S+34WJecePFk4UNrEUx/berbP/sAVqrre7UqZOkN2LELp1Ingd9BM7I8TXtOn+f239IWx2YuK8CWpVKpVKpVM4WfRJyELITRlUygpaM4csvv3wL0DKiln4LfSMCtk/1h0JSPC8a/cw//vgDU6ZMQYUKFZEybUZUrN0IYxashefpe/C9/g98rr4H0DKdwcFnGLvzJlqNWop8FRogTeacqF6jhqwfxPvmqouA8Xx4XmRNhJ89e/aUWd3MATt8+HBZOI7BjO86d+sY1jYfe40sJ5yNXrlyFVmkf+PGjfIZjf4v+wEjRoyQc2Kghaum0XBXuQSg5UPlQiOlSpWSnCqEkwSn1ogQk0cTkhK4vgvQ8jPmtMuaNavkXgkTJswbOfD8KzBAa33HKFYm3ObCXuz48Vj8myZNGimM7KAxrcKHVHQ8rv8ctIz0Caxzx+MxrQLvAU1z0KpUKpXKFUSHkPlhmU6IOePZRnFmC5035mxnrldrMczAAC3FNo2Rrlz8kx0KRsCyTWVe2YDtKbe1B2it7+jE//TTTzIYyzz1bKv522xvCX3btWsnI/xscz/WQbXE/RTQqlQqlUqlcrTog5Al0OchlOWsJaYDIONgBC19HfpR/tMbBDT6ZRxEJ5jkcYLqDzlKPD/6nIcOHcKwoUONn5kJ6bPkQr3mnfDL1oPYf+UZDgiofYZO/gGt90NMP/hcImd/XLAfJeu1h0fGnMiTN58wFc7y4nFdUdZzJs+y8g3Tr86ePbv4skwx9vfff7/iVQFl7U//lDO3mYqMYJWzwC2/+UPE4/AY9K3JyTgAwN/lMZiWbMGCBZKijN/R/+cC+mRnquCTSwBaQlVrZWfmT5k4caJ0qPhS8kViWD7D0JkigCkOAgO0rLS4L6Nn2emjlSpdGjdv3nyrML8L0FoFk1M3+fv8bSaPrlKliuTWixgx4qvIWk7VfF+h53EZMWR1XBmazsqBvxNQPBZhNSOQ2Nn89ddfP+qlUqlUKpUquMX2irM7OJDK9okOI503OoAczWdbyYFNtudWioPAAC3bb6YSYtvL6XdsFznwyeMHbBfZ/gUGaCkei9O/CFC5SMbQocOkE8KpfvQpeB50cJmTPqhQleekgFalUqlUKpUjRX+HPg5z6U+bNk2ALAPXOMDNqFn6RfSj3gVnaQxco/9So0YNWT/HHdgCfS+eJxeS5fV3694dqVKnRba8hdC293CsPXgevjeeoPOgl4B23FpMO/gQIzddQOXWA5EiY06kSpsRPXr2lOC3v8xxeDx7/MXZsq6VgQr0ecuUKSOpwJgCbM2aNZJG7F2zt/kZ/WFuN2HiRGFN3J8pEZjOgakjPkTWeXC2uIeHhyxIx2MyFcS2bdvQqFEjpEyZUnzslq1aYaen5zuhsSpocglAS+DKSoPRs7Nnz5YOnf8HzX+zA0iYag/QsjBxGy40wo4YO4/MZcfjMZKGcJVA1n+BDgzQchv/Zm3LyoEVmhVqzpEqRvOWL19eztf/sQOKx+UxWKkyuodgl6Nf/q/REq+L4euscDltk79nbzuVSqVSqRwhtm8cVOR0M7bVdNqYjojtov/2idsx1VDq1KkDBbR0/Dg1ioCX7TnTCXGhC85Qad++/VvH5PaBAVqrnbaM0JSOIqNzOcA7YuRIxIkTRwZVmXqB0/uCIh5bAa1KpVKpVCpHilyAqRpH/vSTMA76NPSdyBMYiEbwSjj7PkBrGRdWrVu3rvhJ9LXo37iD6PcxenOj8QEZvRk/YWIULl0RP81egdY9hiB+stRo+dMSNB0yHyky5UGcBIlRo2ZNbN26VeCk5Te6mnj/eW70KcmiuPAXgxxy5colqRgIR2lc7J6BBpyR7f+Z8d98jgS7nOFWuXJlSR3G50xOxbJC35UM60PE43Fme/PmzYWnca0HphPr1asX0qVLJ744oS0/v3rtmvrCISSXALSMyGEEDfNrnD179i0gyYLLVaMZtcqCFnCRMG7P8G3mrWXniXlWWJkx9J8dM4JaRqX6fzkDA7SWcVvrPFhYrReI+7ED2KVLFyn4HL1i5JC1rT1xX57vrNmzpUJl55WjEP6vgeJ2PD4rHt4PvpysVN51bJVKpVKpQlJsgwhe2e6xM8A2m22m/zbMaiMZ5cD2i4OjARcJ4zYchecAKgEuIS1zXNHppCOYNm1aaevZDlriMe0BWuv3aDw//p+yPue5EfaynadfwFk669evl20+VjymAlqVSqVSqVSOFP0P+jOMniSgZCQoI2k5uE2fif6WBWs/BNLSh6O/xahK+l/0l9xBvA/09QgPOX2f6wzkyZsXseMlQIw48REuQiTETJQS0WLFRbZs2bFixUrxAelPuipHsZ4tAWy3bt1kBjgB/JAhQ+QzPvNz585JgB8DA/v37y/XxP0s8doYYc08sPHixRPG1Nn46vSV+VnHjh1ldpp/v/pd4vEY8Mj0ZUwzOn7CBInW5u/zL9matRiv5Yurgl8uAWhJ4lnBFChQ4NUKznzgVsFlx7BcuXKyDaGo1TmytuGoATthLNjMi7d9xw55gRnxw6gZdqgIfzkCYFVELKgBAS2/Y2dykekMDhw0SKZq8jP/58N/89hcIIXnwpeB0b38/F3i9xy9YFQsQTNfRJ4fP7eM17R3716BvgTRvfv0kfPk76pUKpVK5QyxfWI7zAW56NyXLVtWpj+xfbbaRraVTOXTpEmTV3lg6VRao/00bj916lRJFcTRfY72s93jIpqMnuWAKv0Ba+aIdVx7gJZO6ooVK2SRAm7v3yewjA4kt+dx6ViuXLny5RW9W9b+/B3LmL7ByoVPUE0/wPrOOleVSqVSqVSqkJLFC+jfEMx5eXkJNGPqAjIQ+jsWtGXqA3sRtvw3B8kZJUnY6W4+DM+VfISzouiPkZvwmuPEjiXrBzFFpeWfupp4TtYzZMqF+QsWSAABASgjm3///XfxL7kNjbPBOFub4HXhwoXy3HkM6zjkVuRi9JErVqyI/T4+sj/vj/WXfuqH3Atuw/OiH89yRJDPv2RX9OcZqKBcyjFyCUDLKBu+WCx8q1avlhEDFir+ZTJrJkbm4lysTFjZMFKW3/HlY6HbsmWLdJxYuPlisiPJwsPvOGrAF5dQlJ1LduooFrCAgJbHY0eRx+JvcXSKUJcAmOdjnRMrM75EBLRcNZpRrh9SWNl5JZhlx5TXw0ghVq58uRhVxILPnCF8GThywYqHL59KpVKpVM4S2ze2U6NHjxanP0OGDOIoEr6yLWW7yMiOPn36yNQqOnNsx7iYGNP5sC2m00eQyvaVg6ZsC9kmso1j20vgy1QHHJxkagRGdvA77msP0HKWDHPNsj3llDDuz7aazivbag6Asq3u3Lmz/B6nBvoZR/d94rXyfNgm85roE/AvO0FWWgbCZJ6f9R19Dl6LOq0qlUqlUqlCUvQ16B9ZPpLlY9En2b17t6wPwNm4jLBlRCb9JPpu/iEtwS1ZR4cOHdwqktaSdQ/o7zFo7uvy5SVXqxX85qr+GP1LzsQmu2IQIX1mLvK2du3at6JSeR2MoGW0MCOn6W9b4nf0vQcOHCg+9w8//CBg2to/oH2IeEyyKKZYYEQ22Rlz4W7btv2jQK/q0+USgJaFlNGv7NCx8zZmzBjp/HG1PS4cwgTH8+bNE3jJzhGjb2bNmiWFlbnsmLCYHbDatWtLwbIqGRYivrgcWWIhIwDmfnwBLEDLF4OVF6NguR+/Yx5cglsu0lW6dGnJCcvfp/Hc+EIRBnNf5uSzfu994naErowGZqXI1AsNGzaUUHYmvmZKA0Yd8XOeJytbfRFUKpVK5UyxHWL7xRkeXLGV7S2n+zN6lQtZjh8/XtpnLhwwffp0tGnbFuHNNmlM54AdBbavjArgqDzb1UKFCkk6Ix6Tx6ZTSADMfeloWschAOY2zHXFdpqj+Rs2bJTPCGPZJnOwk58XNQ7uYNOWcuBz/vz5mDRpEurXr4/I5jsej1O96Li/TzwfdlYIm+k00wegg5ovXz7Jk8uBWfor/JzGdA9Mq2SBY5VKpVKpVCpHy/LVyDjoIxHuEfzRn+FC51w0ilG2ZCL04xj0xpnAXNuHU+otn8ydRP+R18oAPAvOupp4Ty0we+DAAQlQoC9N5jVy5EhJ02mP+VjPk/vye//Ph//euHGj8ChG2FoL4ltmlQEGG1jBEO8Tj8mZaZxxxoAErjXx55+uG438OcslAC1fKIJPhnizE0ZIyQLHThDTHjB3692//pJOFwsNKxN+x/wpzI2RNWtW6TytWrXqrQLOAskIF4JQgk9CXEJda8QlZ86c8rtWHlnuy8JMqMvcG1yljhUZz4lQlf/mZ/xugvltnvuHFlpux0LOcHWeO8Ezr5fHZceP58fjMhE0Xyx9GVQqlUrlKqIDzNxnbDfZDrPtonFAk46m1SZu3rxZnLt48ePLd82aNcPQoUOlnaZTumzZMnEYA4ozVpgvi9CV0bfWwCmjIrgfP2cKI8tJ5QwUglyCVC5cxihbng/ba4LgpKZNLVCwoPy2NbPmfaIfwHREnPrHwWC2yzT+27/5/5wplOifsH1XqVQqlUqlcpbo6/g3+jX0zTjziGvy9O3bVyJs6bdZK/L369dPQCH9K1XwifefzIkBhD///LNwLS62xZlY5EH8jtu8SwweJGwnRLe2Z/QsAyPo85JnkX9ZEJjPeYfxlRnsx2BE8jEGPLxPfPY7d+6UgAYGFFq+tsrxcglAywLAgrZ9+3aJVuUiYL1795ZcdYcPH5YRABY6Vi4cCWJEDoEuF/zgYlsEmsxlx9DugGLBIuxk/jgW4EWLFknkDo9HUPvLL79IBJD/zhsrMp4P0yMwGodpE3hOtEGDBslnfNH4MnDbjxX3u3b9ulwLI5C4Mh4TP/NFOn78uLyIQTmuSqVSqVQhJbZLHMDcs2ePzHDp2bOntF8Es8zZzraLbSvbTzp5dEbpHLKtZhvNNo7tHsGqvTaObbXVLjM6lg7iv8Y/YKoj/p9tL/PUW201/9IvYPu+YMECmY3CdprRIAMGDJA2/5DxIbjNh7apPCYd2W3GHyH85Tm/z+hX0CHWdlulUqlUKpWrib4NfRT6aPTVmJ6RgJAM5Mcff5Qp8vTb+J3q08X7Td7DwAMO4DMlF9ODMX0m10Pwn44gMFn+KH1ozgjjbDUGSvA50j+20onR7yVD42wz+r4McOCscQYrMFKaAJ4Lf33I7z15+lTKgMJZ58olAK1/sTCw4LlSoeC5sKCGROfLFa9XpVKpVKr3yRXbLrbVNJVKpVKpVCrVu0WfiflrOQDOCE3Vp4l+MQEsAxKaNW8ugJQLeDHw8PLlyx/kN3MbPhcGLTDamfmDGbzIAAd+zrWTCGCZS5iglrPW4sePL7mGuV4DZ5rzc6axoDGwMeAsc5XryuUArUqlUqlUKpVKpVKpVCqVKmRFcKcBY58mglOup8BoVUYkcyF5rqXElAFcyNaKTA1MvP+cSXb02DGcOXsW//z7r8wk59pF/gEtt2NkLtN+cm0mLrTPlJlMt8WF9JnWi1G7XEAsWbLkAmg5o4zR0/p83UMKaFUqlUqlUqlUKpVKpVKpVKoPkAW2GZ3KxXCZaqtIkSKyvhHTbTElGNN+vQ+M8nvCV66BVP+bbyR1F49pAdr//Oc/AmitFAeEvYsXL0bnzp0l1RjXh2DeWeaqZVovwlimsGCeYa7J4O3trQDejaSAVqVSqVQqlUqlUqlUKpVKpXqPCDsZEXvjxg1Zs4BpDJhntkXLlrJYLhep/5CoVX5PGMsUCFy0rV27dgJ1ua89QMvtaVxs9+bNm5JP2IKyFoRlJC7XR+CC9HXr1pVzed95qFxHCmhVKpVKpVKpVCqVSqVSqVSqQETQSTBrLYjboEEDAatly5aVBWsvXbr0UfleCVWZmzZbtmySR9bPz0+OTwsM0AYm69yOHz+BGjVqyjG5gJjmFnYvKaBVqVQqlUqlUqlUKpVKpVKp7IgAlPD17Nmzkmc2WbJkAkF//vlnnDlzRiJZCUg/FM5S3H7SpEmIFSsWunbtKpGxFmj9GEBrnRsBb+3atWVxMuaeffDggUBglftIAa1KpVKpVCqVSqVSqVQqlUrlTwScTCHAqNlZs2YhderUSJQoERo3biwQ9V0LgBGcWvtzGysNAcV/M0VB/vz5BdAS/FqANzBAy31oBLlMr0Aoy5QGd+/exbx585AnTx6kSpUKEydOlLy2gQFdletKAa1KpVKpVCqVSqVSqVQqlUr1UgScjIxlqoDChQsjRowY5m8RbNmyVcCoBVQDA6GEqQ8fPoSPj4+kQLh27dormEu4ys8Y7dqtWzc5nnUce4CWwJWf//333+jYqRMyZc6MBb/8gvETJqBo0aKIFi2awN5Vq1YJwOVvq9xPCmhVKpVKpVKpVCqVSqVSqVSqlyIw5YJbGTNmlEXAJkyYINGqH5Jnlt8/evQIQ4cORdKkSZEgQQJ07NgRFy9elIhaRsBWqVJFctgeO3ZMPrMUGKDlNn369BEYGz58eESOHFmib9OmTYu27drhxIkTcm4q95UCWpVKpVKpVCqVSqVSqVQqleqlCFkJSkeOHIlz5869N2LWv7gN0xJ06NBBFgD76quvJAKXkJbpDBg9S7Dav39/Abn+I17fBWhXr16N3Llzy77827JlS3h6ekqkL4/xIeemcl0poFWpVCqVSqVSqVQqlUqlUqn8ibCUYPRd8NOCtv6/57+57+3btzFkyBDJDUtIGzduXLRo0QJff/01MmXKBF9fXzm+/30DA7T8nBGyR44cwaZNmyRilrlx+bn//VXuKwW0KpVKpVKpVCqVSqVSqVQq1UeI4JYRsMwvy4hZwlL/Ijjl51OmTJFUCYS0YcKEQdiwYQXSnjp16i24ag/Q8hgKYT9/KaBVqVQqlUqlUqlUKpVKpVKp3iOCUkayEspyUS7mhW3cuDG6dOki0a3+88ByW0JcRsAyny0X8vryyy/x3//+V1IfdOrUSSCt/yhaC9AS4HLbvn37yuJgCmg/fymgValUKpVKpVKpVCqVSqVSqd4hQlKmFdi1axfatm2LrFmzIlKkSPjiiy8QIUIEiXa9f//+y61fi/txgTHmpOV2NEbTRo0aFXXq1MHhI0depSrgXz8/PwG0PP6KFSvw7NkzBbShQApoVSqVSqVSqVQqlUqlUqlUqkBEcErIOnHiRBQoUADp0qVDrVq1UKFCBcSOHVvSFjAtAfPOBhQjZBkVW7lyZZQ12/Ts2VP25z7hwoVDiRIlsHnzZtmOv3Pp0iVZSIy5Zhl9q3A2dEgBrUqlUqlUKpVKpVKpVCqVSmVHTFPANAMEqxkyZEDp0qXx66+/SnqC3bt3C2AlbM2bNy9u3Ljxcq/XYlTt6NGjkT59eowfPx5XrlwRAJsyZUqJpLX2Xbp0qQDaFy9eSG5b/+kSVJ+/FNCqVCqVSqVSqVQqlUqlUqlUAUQ4+/z5c3Tv3h0eHh5o3749Tp8+LakOCFP//PNPNGzUSFId5MmT5y1Ay+jXo0ePSsqCSpUq4dChQwJgHz58iJUrVwqkjRgxogDa9Rs2yO9pxGzolAJalUqlUqlUKpVKpVKpVCqVyp8ISpl2YPbs2YgbNy6qVq2KW7duCZglSOV3jIatXbu25JUNCGi5P0Hu1KlTZVGwYcOG4enTp/I57cmTJ9i2bRuGDh2Ks2fPyv8VzoZeKaBVqVQqlUqlUqlUKpVKpVKp/IkQ9vr16xLlGj16dGzZulXSDvBzLtzl5eWFihUrInz48JKqICCgJcj9448/BOwWL14c3t7ebwBYHofbWLlnFc6GbimgValUKpVKpVKpVCqVSqVSqfyJ0HTevHlInDgxihUrJukMGAF75swZDBw4UHLKpkmTBgkSJJA8sgEBLfPIzpw5EwkTJkSvH3+UtAYqVWBSQKtSqVQqlUqlUqlUKpVKpVK9FKNZGdk6efJkTJw4Ebdv38bdu3exes0aWRQsefLkaNq0KXbu3IkmTZogSpQobwBa7n/u3DmULVsWhQoVkmhbAl+VKjApoFWpVCqVSqVSqVQqlUqlUqn8iUCVUbBcJOzy5csYPnw40qVLh3LlymH+/PkSUXvt2jXJQcs0Bzlz5pT/E+wy0pbbxIsXD126dJFctJrCQPUuKaBVqVQqlUqlUqlUKpVKpVKpAoh5Yq9evYofOndGnDhxJFr2+PHj8jmB6/79+1G4cGGECRMGyZIlw549e7B3714cPXpUtm3cuDEOHjyocFb1XimgValUKpVKpVKpVCqVSqVSqfyJEPb+/fv48ccfES1aNLRp00YiaRlZy+8YJcv0Bx4eHgJomYeWC4KVL18e69atw6JFi3Dx4kWJqFWp3icFtCqVSqVSqVQqlUqlUqlUKtVLMeKVIHb16tWyCFjevHlx/vx5AbMUv/Pz80P79u1lAbGYMWPiyy+/RObMmTF48GDJRatgVvUxUkCrUqlUKpVKpVKpVCqVSqVSvRQB7a1bt1CpUiVEjhwZI0aMwD///COf0xhJ2717d4muXbNmDdq1a4dOnTph/fr1+Pvvv1+lQFCpPlQKaFUqlUqlUqlUKpVKpVKpVKqXImD19PREihQpEDFiRGzavFkALSNnGR3LKNnKlStjy5YtePLkCS5duoSbN2/K9ypVUKSAVqVSqVQqlUqlUqlUKpVKpXopAtpZs2Yhfvz4CB8+PObOnYuHDx/iyJEjaPH/27sTcOvKsnzg9S+bNUvFJseSrNREKXMIZ8UoCzVzwEQUp5wSE1EwUAsV0VIBxVCpwAlCmUJRUREcQDQt0bIBlbRyCDOttPb//F55vpartfde53z7nL0P331f13vtc/Ze653XM9zv877rUY+a3PGOd5z80drvV1xxxY6o2kTNBjuDELRBEARBEARBEARBEARBcCWQrccee+xkt912ay//2n333Sf77bdfO2NWOu644yZXfOlL7bogWARC0AZBEARBEARBEARBEATBlUC8Olv2x653vcnVrna1lq5xjWtM9txzz8nZZ589+cpXvrIjcjYIFoEQtEEQBEEQBEEQBEEQBEFwJRCvn//CFyYHPvKRLYr2Zje72eT5z3/+5PLLL2/nzIaYDRaNELRBEARBEARBEARBEARB0IEo2q9+9auTyy67rJ0/+7WvfS3nzAabhhC0QRAEQRAEQRAEQRAEQTCAHGUQbAVC0AZBEARBEARBEARBEARBECwJIWiDIAiCIAiCIAiCIAiCIAiWhBC0QRAEQRAEQRAEQRAEQRAES0II2iAIgiAIgiAIgiAIgiAIgiUhBG0QBEEQBEEQBEEQBEEQBMGSEII2CIIgCIIgCIIgCIIgCIJgSQhBGwRBEARBEARBEARBEARBsCSEoA2CIAiCIAiCIAiCIAiCIFgSQtAGQRAEQRAEQRAEQRAEQRAsCSFogyAIgiAIgiAIgiAIgiAIloQQtEEQBEEQBEEQBEEQBEEQBEtCCNogCIIgCIIgCIIgCIIgCIIl4SpP0P73f//35JOf/OTkAx/4QEsf/vCHJ//8z//cvg92TXz5y1+e/PVf//XkkksumVx88cWTj33sY5P//M//nPzP//zPlVesBszRf/mXf5l88IMfbHP3L/7iLyaf+cxnJl/72teuvCIIguCqga9//etNvpWuJveiq3dd0Mf08t/8zd80XV068Ktf/eqVV8yG+yXzR6r/txuq3tWW9bTjP/7jPyZ/93d/t8OG+MhHPjL593//99H3B0Fw1YBn/ktf+lKTBeSpz0984hNNxga7JviSn/3sZycf+tCHmn7wyedki+1KKJ26ne0E6LZjPW1xDVubfUU2SOaFeTDm/mBzcJUnaCmfP/iDP5jc/e53n9xtLf36r//65LTTTgvJtYviv/7rvybveMc7JgcccMDkHve4x+Sud73r5Oijj57867/+68oJInOUoPzN3/zNNn9/+Zd/eXLUUUdNPvWpT115RRAEwfYH2Wvh7OSTT/6Grr7b3Sb3ute9mq5GyMVI3PXAOXj/+98/edSjHtXmhHTwwQeP0tV+N2/+6Z/+qS3QX3bZZZN//Md/bPduJ9tPOxCqnCd6XzssYiBaxjjRrnvVq141ue9979ueqX333Xdyxhln7HIOeBDs6kDYCFDaZ599Jve85z0ne++99+QpT3lKk5HRr7sm6EQ+pTnBFz7wwAMn73vf+3Yp0l5bv/CFL0wuv/zypl/p2c9//vPt++30XLBr2DfddiDbx9jPfr/wwvdMHvGIRzQ7Czfy7Gc/u91PbgTLwVWeoDU5f+u3fmvyXd/1XZNv//Zvn/zoj/7o5MUvfnEj6oJdCwSuVcIHPOABk+/7vu+bfPd3f/fkF3/xFyfnnnvuhoSx691n1fGEE06YvPKVr2yfb3nLW5rA31nhTjB+7nOfa4LyR37kR9ocvvGNb9wWHCI4gyC4qoCsZFweeeSRk6td7WpNV3/nd35n09WJ+Nu1YKwl0Z4PfehDJz/4gz84+Y7v+I7JrW9968k555wzSC66nj78t3/7t6bjTzzxxMmhhx46eeQjH9kWOB/ykIe0Rdnf/u3fnrzgBS+YnH766ZO///u/bxGmq6RHtUP7rrjiiskFF1ww+aM/+qPJM57xjMmjH/3oyf7779/a8fCHP3zy5Cc/udkBf/7nf96cbM7Z0DOibRZ5EbTf//3f356p29zmNpN3v/vdU+8JguCqB3Ll/PPPn1zjGtdo8pQ/cac73akROZEDuxbohS9+8YuTY445ZnKjG92ozYXrX//6k+c85zktcnIjOtE9/F6L7OUPv+Y1r5lceumlK6Vj1eUrX/nK5K/+6q8mb3jDGya/93u/N3nc4x43edjDHtb0Kz2LM+J3v+51r5v85V/+ZQsecN8qPSfqQ4d7fi26Itqf+MQn7mgH2+kxj3nM5JnPfObk1a9+9eSiiy9u7SAHhtrBjjD+N7jBDZp8+KEf+qEWvKavIh+Wg12GoOX0feu3fmsjujh9iLVg1wEBwyEjiDl85sJP//RPN2UiymQjIOisVD3wgQ+c/NiP/VhLFgA4hH/10Y8uRCmp99/+7d82RxOh/C3f8i2Tn/mZn5m89rWvbc5oEATBdgc5h6D9/d///SabyTkkbQjaXQ/0piiQgw46qOnqb/u2b5tc5zrXmfzJn/zJTCLSsUUIfpFhN7zhDZuTYS510//7f/9vcs1rXnNyi1vcYrLffvtNTjnllEaGrsL8Ugc2BYJZ2+94xzs2m2KoHfrkWte6ViOt2RsctGmRMvrGovEee+yxY/FDBB0HdRE2ShAEqw+y5V3vetfke7/3e5scJAvIGDsMol93LdAVp556avOB6ROkPR/TcUIbgfnzX2u6+eUvf/nkJje5yQ5fmH5C1K5KQJx68tkR03aT3PSmN93xPHT1q/+/53u+Z7L77rtPfuVXfmXykpe8ZPLpT3+6PUOrAO3g///Zn/1Zs2N+9md/ti3A9tshWZRFutpBg3R25NGQ3vcdWYDUlRcbA2mPpM5i7nIQgja4yoPgsVpo3K0KcVAIoCOOOGLDZxwSVuaQFScOH2FGOEoEurNcFiXMRfmIeLH1wBw2l+985zu37Z8RnEEQbHeQYSFoA0CYvvSlL20kK33KwRAxOrRrxLygZ0WbPvjBD5788A//cCM0Sx+bQ/Sl7/zt+0oWPG92s5u1SFRzbyN2wKKgHZxYET13uctdmsPcra82TGuH/rnlLW85eeELX9gWm/vPiv85c8ced9zkWte+druH8+noCFs5l9nuIAi2BiFog9KXokLtpDAHzAXzwNzYKC9SOljwEP0kT+l617teIzdXgaDlK/PLH/vYxzbCkt4sHVp2QqVqg9/873rEJQJbW5f5vCjfsSTIVgvN1Y5ufYfa4W8L3Y5K1A997sDfbAHv5dlrr71avu5B/r73fe9r5QZbixC0wVUexpryoTzMAULnV3/1V9sh+RslZwmrt7397W2VkABEKFQqAbgogaY82wysRFrRImw5l0960pOaoI6DFQTBdgYZF4J214YxluhqRw+x2ehW56HRp0NOHh37gUsuae8WKOJBMndEByEhDz/iiDVn5jnteAPk5w/8wA+0a8wzn3TqH//xHy/VieQsnX322ZOf+7mf22GrqpujmPSFrYvPetazW/I3B+rqV7/6jnawCX78x398cvzxx7c+6T8v/ndcEhK7+pXzvErRTUEQbB7IhRC0uzb4igJ+kJQW+8wDC6HHHXfchreyy9OxCL/2a7+2Y7dH+cIiaVeBoNUuO2xECduVo27aXnaCY4N+9/DD23EHhzz96c2eoB/pVe2RBHXxuZd9vKAFbIFh7Jau/hcoJjjMOf3PXvv90MMOmzzoQQ9q5HLZFJIxuve9792ORhhqB87s1See2Ba75e96/SHILXJiaxGCNrhKg0ARJetcGStC5sBP/dRPtbNxKKSNgFCzBdMKJAFfgq+U0qIJWtAOWxOqHQTnta997bZNxRwPgiDYriDfQtDu2qBXbSNEpFqA5HTQcaWrh+YAJ8P1Ik7NG/f4+3d/93cnl37sY81xdC6exA6gQ53HZutl6W6fIlGcwbYMx0u7PrZWV0czOAuwHEfnzTvWwdFM6t5th++cT8v5+rYr28HGve1tb9uOLhiyPXznBTB2Eeknjhfyl62S5ysIrtoIQRtYCOQzIinNAQuAziqldzcyB9yDS3n+85/fojPlSReVDbcKBC2djly0w6R7DADb4pBDDmnvkPHizc9/nn79YlvI1B9vf/vbG+nsOXGPVD43knsZ0N+vf/3r286fqpdPC7aOMfIsqz87we4YPMV73vOetjDLLqp2WKR+3vOeN2gn6C+2uHNs2SNsBTbD8a94RRvHyIqtw8oTtCbDUBqLsQTtUBnSzmIoz0qbgc0sZyhvaVWhbgTKm970ph1GCcfHy0I26ozJ09z5nd/5nSa85EfwWW0rpbQZBC0oV1tsOVCWsr3pnEBe5XEIguCqj9IH/TQGrhtL0Hbz7qZFYChfaTMwVI60CAzlK60yOD1vfOMbGzFp/NlszldFqg7Vnf72kqyf/MmfbE6EeUMnewnYrCgX8wnpW+fvSRY9X/WqVy3lyCD15DxWxEo5UBxE9utQfXynHSevtYPTWc+MPP7wD/9w0CF2j/yQ1+XccdS9TC2OVxCsPjyj/TQWYwnafv6VFoGhfCstGkNlSIvCUN7SqoKe+dznP79jcdIcEKxEh26EQNVWeSIGu4ShPH2uCkFr3n/4wx+e3P72t9+h7x3xI1rWAu6Qn65tbAELmhZO9Zf7fHrnzEbfW7Mz0NeIZOVXfdg92mXBFj8wNP+0zzMuapZ9VPfZraP9Q/coy5EVCGnXGlsBaR//+MdXeo5f1bDSBK2JYHJ5UDzgkr99N3aSjCFoqxz5+17y93rKGUK3/pVvN28PwXogv27qo8qrdlR/rbecIfTz3pl2QLcdlRYN9SJIkZiEjMQpc87bRsp0vTZzIgkuQtK2gsc//vFta4H8N5Og1R5krO0YpQxFwXhhmHHejD4MgiCYB7KHvBvS1WP0g/vHELRVzpAe2hn55171rPrvbN6u76Y+fNdvR+nqoevXg6G8/V35bwTVjkqbgX/4h39oi6d0m/G36OklXkM7RNRBVMyznvWspgfNGckLMzgr2j8N+sBc87bj2lVjriGDkcQb7aONQDs4XV5Ywn6oujz3uc9t4zarLn5TX1E+dS/yxS4bfTME94gOcjSTe/SdqNucMRcEqwtywrPb1a9dmT5GJnu+xxC0VU7pDsn/Y8qYBfn29VLlPbYNXbi+m7rwf78dylV+/9r1YijvnWkHuKefFgn5ab+XeNUuDSQlHbgzRxuI0OT78kPNp1/4hV9o0bTFt6wCQfvlL3+5Lb5qb+lXOhNpO2u8fG9c9RlbhE2i3xwltIyoc/MLmY5g1w7JWL7jHe9ov81qh98doSTKWTvce6Mb3agd0zik993DtijuTLvd6yWssRO2DitF0NZEQqoxIp0RetZZZ01OPPHE9tKIl7zkpZMTXvnK9t0ll1zSoiBdO2tyTiNoTT73MdStCsjT9w5etrLyspe9bHLuuee2N+h7wcJYwe6Bl7fwcgdKv+1tb5u86tWvbhES8nV2iLaIhETiOUP0K2t1nCfYCQpCQTi+frF9r+qlHULaL7300vY232OOPbaFrx+9Vuaf/umfthB3gpQgHqtAXONa99hSZ9tcy/uYY3a048VrgvfPTjut1clKjGvH9JPftVv73Ss5H2ZatMhGoV/OPPPMHQrJ52/8xm+0ftwI9Ie5QgmVQuLcWGVDyhL8m0nQgv7xVsWKGpK8PMxzoH5BEASbDXKIfKWDEEyM3XPOOWdNV/9x0z90qfMtTz/99PbSAVvRnZ3FUB+S8b7rE7Tkq3wY2MpyP/LtzW9+8+TYtTJKD/lb2Z/4xCfm2gNduIZepTtFaTJ0nUX6ohe9qNWj6bi18r0pl87VztJxs+B37aUD3OdTG8hn7Uee2dLOYGZn0NVHHXVUs3O8DHKjuprdIXKUHSBv58pVH3kRloXJD3zgA01XI73H5O93/V5tkejqflTzzkA++sW4FnFoDtiWp6yh/naPubD/moNpBwvSQSTpCSecMKpufje2Ik6VRXeLKKlx2ioo64Mf/FBbRFZ/58pa/NXuMeNjrrMny771yR5Adk+DOS9qlg3jHo4Xu1e/BUGwGvD884nIdPLgne98Z7P9X3788Y30etnLX962OyNd+al8TjpgmtwgR/sE7Z3udKfmD7mHzqkt0XTRc9f0kgUwOxKUy08TIEJ+uH4e1KFsBP48O8CCG31tAUredB+b4fzzz28yi66Zp7+V7TovuqKP2B7qXfUiw+lfeTrORv2VRx8iuPhwbI1ptsgQXOd696mnftRH6k92IiWVZYzYErNsnT7IXeNbvnD189i6jYF+ofdvd7vbNV1HxzoeBw8xZiyHYFy1v3Z+CFY67bTTGt9RC5+rQNCy7+waoefYCte61rXafDBG82AumkeiVIvYxCOYd4scnzHQh694xSua7+9oCoTzPe95z2bzzquL3/E4u+++e2uDtrC1HKGkjX24nry46KKLdpx1LzlKAa+10TkTrA8rQ9CaEJQLoXv00UdP7nrXu7YHihIpIqqS7zxkDFHOlHumkXt9gpbAQDKa1B/96Ecnhx9++OSmN71pEyj9ciiyn//5n2/XE/hDE7kL5RMGSNknPOEJLdS/zlLrJ/VBFjvEWUQmJTzL8aOAnvKUp7Q+sS1tzz33bM4cZcR5cg4bgVvCt5L/XW+Vy9kpYw+4VhcOqXse8IAHtH7r5135O5/EIdKUr3vm5e93ToX277bbbi3d+c53bg7X0BhuFBSfeqmjsb/+9W/QHOKNKAv1opwdEs6R0nb1RgATWBWlu9kELTAArADWWbTmGMNj3vwMgiBYBOhVjg7daAsYHUCnTdM/InUY8wzbISKo5GufoKUn6DgOqPu96HGoHGTTHnvs0Zwx8nGe7FUeA53xTa/e/OY3b3n085WUd93rXndy3/vetzmq83QcR9fZZvQbO8UnXc2BtNB52GGHNUNZvt1ylM3oZvucfPLJzaAeo6td41o6QASqIwL6eVf+xoJ+snDLppjVT/rI7xaq6TrEYdldFsjH1G0M5INc0Gfqafw5Uhy7aXad7zixJ63105Of/OR2jt6BBx7YnPWh6/twjWMORMPQocr9iZ/4iTYHF9WuMVAP5AVH6Ygjjmi7ccwPc35MO+h8NkjZAsadLWWxYhrcgywxp91jXnD0EANBECwfnn0yXVCMHXM3uclNmm7o6yf/e/b5ml78ZJGLXBySYWR5l6Cl7+gavi35awGPn+h4lW4ZErlCB3jJUvmd88CftxBJh9MZteuwn7fvytdGnNGRdOg08N/obX47fUa/PuMZz2h6WeCPhWFEEiKtX57v7KIka+kK+mUejIX2IqsQfXzvobwlxJnfLYqSp7PaUfjIRz4y+aVf+qUmjyX9xM5YpP9oPrzmta+dXPs63zgn1tgbE3NsjJ7pgw5B7t7ylrds7TYHH/OYxzT96axS/xffsmyC1hjgZNiWT33qU1syh8fUSb999NJLm3/PJpX03fvf//4ttRNAfS2eaAdOiz2KsPWcjYF+uMMd7tDGXzvY7BYtpvWDecFm9UJ1c914irp19v1/rH0fbD5WgqA1Eeoh2meffZrwKwfDZ0VHSF0l5TfsPuPyzDPPaqRrH32C1pvvrOCJlrnPfe7TlBFhQrBWBINrTWJJOSby05/+9KbIpgkzwtQKFWXEifQQu1dd5S9vysQqU5e09TuHykMnfw/9UBmMeKSvfLWDIKe8nVPmRQ/6zG/y5txoj/+rDcqhyCjAaQoclE34Ir2RvuqsP9xf/Y0klvytDL9JnLeD1pxdzoE8pvWVstWj3qYsXwbGIldm5KMNlF2N5W1ve7tGEGxE8SEVrJhy6PSnOcmhJMAQAhSs77eCoCWQrdial+aCvmfEjRXUQRAEG0Hp6vPOO6/pT/qs5D853tXV/i7dQTbSUcgjekv0RVfWy7dL0Ep0GQOSo1MvOaBLq4zScfJ2vU/2AT0pKmiW/OWYeOO9s9PkWXWUn3JKV5e9UXqK3iP3Z+VPDquD+quX+0ThcsScA+b7vq5WB+UrR3nKZXPQ+7N0tTrQP8849NBmE1R/+5Rv6Wr9Vbrab3T3ox/96Kanpunqyt94ubfGRTTJe9/73oXpN+VzykWwar9+4KyzbaZB3ST36m92Hh3t/zFwL5Ka7VV97mz3/rzcbHTbwZaQOExj6+A+c8v80Q6fbBG25DTIWxS3hfeacxwvEWCLGtMgCDYGzye5b6GGjV86joyiQ+kMuqnvf/mbf2vXxJCv6tnuErRkhcVVeskOC4uGviu9JCmvZITkf/LfjhWyql8G+I5Mdobl/e53v1Ze1Z/u8T/fT6KjfO93SZtwAG9961ubnTGUP/moHfSaOmm3xTk7GfWZiE7fSfLXDm3qtwPxdMGFF7a6DpUDvmcr8P3opC7/IA8+L+KavaCM7m93u9vdBm2dPix27rXXHVvfqJsxQDKP1WXzoA10o0VMdaTD9QkfctoYzoJ5hHi3G1WdJbtKi/AW4a0NylkFglb71FkdSr/6f0y7Xef5uMc97tF8e20yR3EL6+23nUW3HWXz+BxjK7jXIoMdv9qgLfigOnd/Gvxm8di8MTc9uw972AGTz3z2s1deEWwmVoKgNcE4YVa9CDcTiCBEdFrRs2onSuKggw5qRJTVDGHeBINrCcU73vFOk3e+811tAnfRJ2gRbFbBHLRs0jFM5VdlWIXkRFmdk6+JbGISNCaq/IYeTM6llQX5K0cymTkdDGF521bm5VLOSXPgMqep8ifkbbmTz1D+jnNAmFI68qagRRTd5S53acJQ9Cwh4hw1zqF2UEA3uVLplnChFGe9DMNY2CLpDX6Um3vUj6GACH/c4x7XtqbY1qEczoDzWWrc9LMz0C677LKpgsP3XYJWPy+SoNUuQoxiqP6iMPXNmO0AQ+CQ6mv5aavVx4pAEvm7lQStfC0wIBdqXI0/o24jbQuCIBgDeoNsE8FPdpM9Jb85Vhwlelryt+9ErJC/pUsY87YCMi4L5FafoKUfRLrQRXQlHcyhfMQjHtF0IR2HJGYnlEMgf84HYpeuHoJy6UARk6W3tEEErh0XdkmIyBFpQZcxaunbyl9b7LzhQA5BH6lfOUPKcMQRvU9/cCBFLvm/dLVoCH1Y+ko5HAG6dlq0El35D2t6lu1S9o37OK50FQK2dLX6sGtueMMb7miz+nGy6PshvWtM6BpOpvzpGmnRBK1xslVXe9XLWDq6APE8BupZaSzKBtFXyjT+bMKxDs9mYT1tAHMNKVHjb+6LZJq1fVMZ+tzZemXjup+Nirhdbx2CIFgc6BXPNDlInpPXFt/sQimdYdcHX4y+sm2dfiz5z1dD0pIB3WeZvO4StOQ/v4UfSS8gG/mldnUqgx5U3i+u+eXkivwlssI1AnGGZCWZZHcqP6h0jfL4KPT3ox71qMnTnva0tgBJ96mD8it/99BViEt59cG3u/DCC1ufuJ4MQwQ/8YlPbAQ1XY1MZRuQhb5nQ+gnRGr5TOr0G2u++axjdPShXZddW4H+dw6ovjFObBZtUcatbnWr1r+VvwhTxyeq8zR84AMI2r1aO9xj3BdJ0Boj41Evl5bYIO+/6KIN6TqEtbNI63gg42qxk52inasWQdvFRvSr46LYhuaN8bHbCh+zTGjHetriWkdz4KfKjvPM2R01y47zm+ccT6bt5qjnSAR7sPlYCYLW6g4nguA3CRCDBPQpp546+Zu1yWH7hVUoSfSnrZW2AFY0CsFJKBKStjh0hQ5DtEvQIkKRpoSK83cIX8KrymCg2k5J4IhMVR/3+bRyYJL3hZr/RWZyisrgpdAI8HPe/OZG5Mmb8a+ttmKIDuFoUhjyln5uTanYRjEkzNzD6eXAyZ+SIDQoIw+MUHerOoQnpaIdCE+ksqilrrNIUE9TSqKAOaa1Oqk9iEAOppUkeWuHlSh/6ztvDaawyqBQ1uGHHzGVzNZf7iHgayWVE7yoIw7kob8p6FJ6lLky16uQXG/8OLjqaR5ZaSbYCG9lbTVBq07mA0Je+4yrPrfVUZmL6MMgCII+kKgWEjlzZB15KFLkpJNOavqGfu7qanoG+YYIdA9ZRYdxzOjcApnVJ2jpULqaw2lrlt0pyET5Wmij48heL0m0YFY6jkzkzDrOpy8LyUd60uIleU03+PS/IwIscsm7dDV9yKllQ9SOBddblHSe65C89R0H2iJztQUpTVfT2S980Yua8ynv0tXsCltMLRZ3dTVyG5nd1yXK5BAhihGb2mEsLFwjtW1hd9ySdkjaZHyc0aouZWu1XS9rdoW69KEMusa2WXYKEsCYIJflv15dOg3qpr/KRmN7iO4xhzYD6m2cEbJFiPssp7g/nqsIdVRXUUtIgZrL5SzPcu7daz7ZLlkEtWfZM+DZ6M+1IAi2BmTTh9Z8B75RPdPIEVvm+YbsfjqD7KcvyTHbtS0oIifrHv6UII7us+zv/hEHfBn+oDIs0LiHv6MMiT8tMhXJSfa7j6ygZ2zD5wf2gWAmv2tRtnxIxxGWr+0a/qE28Ofp9lvc4hat/vK389EZuF0bocA/JrtEAMq/+ohOltSVf22XC92qHfSbfkI6d885p9MQiEOLoOqHnENaK8M99KAXa73lLW9pebpGH2gP0s71FnVLrtJpeIQKPhrSLWT4Pe+5d8u7/GH8xqLkMF3gOJ/rXe/6O/pLnfTLenSda7XXObPGSttwNfgC81L7Vp2gHQtt1R6R6GwTY6M9nhlcwLRF81WEtuh/O2SqHd++Nnb4L3N21hzQB9rKfi/ZwsYQjOi3YHOxEgQtUhGJaAJIHn7nss4SUCYcFt8kK5LK6pxI3O59BEqXoDXBXG/FijAdetBMWALXtoZyyiRny1CSXeO3hJaXi3RXGdWrzp0bgvvkpc5Vfw4dwnjIMSEACQoCggKTtEXUjRW6aQa58jl+HL1SSvLgCA/dQ/iKSOo+jIS7Nk6D+mo/YVztp8CnndOi7SJwrNyKYpFENFGms4TFWCiT4+7cpppTDBFHaKw3f84jYSQv7aLQ1bs7RltN0IJxdV5dRTlTiCLDfb+IPgyCIOjD4qWFRwYeWSeyBAGLzJwGuhqhVzJSoreQtyWrfHYJ2tJv9DYCShTnNNmmbKSUXS/uKzlNBvevL11dO12UQTdw+KYZnL5XV1HDpX/Vi7zVtn4ZrrdTpgjaqhOnzYLpv6/ZFkPtoC/YNHR13YfU5RDQQ124ln3RvRbZyhlCzA7lD3Q+e0H7td1YyIPeH4K2iKCgo42NyCy6ep5hvx5wwtlLpT/ZH86+n2bT7CzMF86KcVeefhDpZNfPotq0aKhXN3kWECeO/igiBLEvsg3BMqYdnmULH9XvFg9sXd6sfg+CYDo8s/SJBVB6xjONTLVDYpZMB7rTwhxZQJ4hLxGi/NgCndElaOXvE2EpEnTay5OVS1bwVUtWWBSk//hsfSAukZquVQYfWgCWhdVpkI/6IpDkzyfeZ82PQl72oY/IvvI3XS9pF3J2lhyny/Sn+rtHHQU4DR0Jw6+zC4Uedy2dL6hq1k5Pfey4nvvf//7ftGCs/UO2AugvNkn5wvTshz/ykallrBcWaEUsI36rPojq9cp5bbNArm1lO1ic7/r52rgdCVrj0k36xpwwHhU9KrFFx55fuyrQHosgdXyoduCqvETemM6Ce9ka3gtVPJV5ffDBBzc7yu/B5mElCFqCULh1PfQiA4cEcxcmBqXEkLfyR1lw0jgOXcE2RNASGlbsOD3ThKD8RbmIFukqmjp7p+A6JC8Ba1WKoc/wt+KJeJ4lZCldWxBre4o62rYytGpIiHP6ugStemm3lbBZ5VCM+qDKcR/DvEuI+nSdrS0Ukn7yQBLsyMhZ+ftNnW3xKAGgrGc+85mDTrX/K6qnkod9nrAYC/VxRiKHVVv1q6ghyrlfl2lwnXyco2QOUDjyesADH9gUdFe5LYOgVTeKT0S4/tZGETAMsrFtDIIgWA9E2JGHdANZJ3JVJOksY588ooebrj7ooKazvFyMTiu4pk/Q+uRU2Pkwa/GuHAcyuHQjPXn66ae337r30TOiUzibCCkEM/thlgPsewa5bX1I1tKN+oG87etG14sq6UbQut4RO9rRv77gPv0kGqocdJ8Wk7Wv6udTOyzY1tEL5L8oh3k2h9/U+elrZZTBXY4tPVxlFPxvbNkAFVVVurp/7UYgD/q062zbiXTRxRcvXH8qS55IcDZmEZtsFQvjXbtuFWCs9LXoarYLJ0sAAoKd3Wj+IRqMo7bsu+++O5zlMWNj0d+RYfUss28tRs9ajA+CYHPgmSWD+GDlr7Lv+arzZKHfyYinPvXgycEHP62RnY4B4GcVXNMnaPk1v7YmNz4+ZUdlgW6wi7Krl5CXQ8QmgpQscsyARVN6WWTuLBuBfkW6Inblr37uFQnbl2V1rWhZ15bO59POCooC/cEuqC3r7idDnXmr/VWWvwVwqQO/znXaQ3d0+7QP92unXT14APdK8tFXQ7rZ9eR8+cJ07ZDfvFHYSeQICMSafjXmFihnjUcf6iIfvIboZv1hkR3nos4FY7OdCFrjLArdsyMh140xe8DiZx0JZb6bM2zHeXzIKkE98Tp4HIsfZbuyf4Z2g/dR87leRGpMJUEa+m279MN2xUoQtFbnrOLV5BFNQQCbHLOElMnxpbWHhaPH8eF49JVMn6CVv22EyNd5UK+H7r9/u5cwJ8hFk3ZXJcEEFrUgIhahJ1LTwz5PABLCImqs0Mhf3UTp2FbSR5+g1RZbWijhWYoV1MN2lCrHvRxN203qAZMH457RX9dYheV8j3kI3X/KKac0h9o4queYEPrNgLrYynmNNcdLXSgmZ/whAMbWRZspVNFLDBpC2lYgW1v6ynNZBK23aNa2JnPH4kBtNQmCIFg0HHPTjXYUfSL6lAE+T7Yy5L1c4AtrurpIvoJ7hwhaRxWMIYDdiwAl791LZw9tWfc/nUT/0510tRdezHMg5EGHdiNPOSiclr68dW2XoC0dNCY6UZ9wMsuJVo7dKGR9tcMnwpZDSs+6zvWiYOfpHPeqrz6tIyf0l/Plke9bqTuqLtqLYFQPiTM5zZndKJSlbzhg5omdJ/qN3jzwwEe28jZTX28E5go7gk2ItPbc3e72t2/bhY2dumuDF5097ZBD2rM5b351YVGCw102pTmE+PV9EARbCzKKb4H4pL8828gwC4N9PdaH3+gwviOdhETq62TyrUvQSo5S8IKweXKDH00HlU5Tv/0e8pC2uNYH3U5usQsEyvDlvzjH91I3PrP3tchfQk57AWJfLmtXn6DVFiTUmAVK/pqze+teclSkZPWXxJ7Q72Sj6+Rv4XRI3w/hsk9+svmESC330m9j9POioS0W9izy1pxii+i/sXWRh3lpF1MRlrgQ/d0/UlIfbieClk3qTGT6VRJk57hGfnWNnWfQvERSmhfbBTWPBTjUy1AlXBseY55MKbjGwrDnsZ4Zc3uzOY5ghY44cGaOB98EQh6KvkRKjlFM3dRHn6ClnGwNV+Y8MNpFtLrXpKScOH1DxyIQUiar+hJGYyau6whtWwzlr/1WNpBsffQJWtd6gZpVkFn9A+omIhnB6F6JgHU+btVTXaz62cpf+SOy1WVe/qAMCrZ7rIBVQ2/JHHP/IqFNzuYrQ4Qz5rB4K59j60Jwiyapc47MSSvIIoX7eSyLoKVk6/B6yXEUW+1kB0Gw68BWf85N6URbpQ455JC2QDlGV5NNPvvX+X+IoH3iE5/0f3bF9OHe0vOlHzldonT7dfK3vEpXV+rXpw+/I1iRsiVvLXgORRG4tkvQupYupMPn6QR5sU3qSKIyqLWl6uiTs9yN0GGAz+ungvtFVfS3t886KmkzoB76gxNe80l9DjjggLlbetcD+WgXAtMun2teudXTXKGrvT+A/bOo8hYFdXL+MAdR/5jTUs0Lzq85L8pszPPXBzvWQnZFEusPW18vX5tHQRBsLTy7nvkuMeh5Rxo5Eq4CQ6Y94/XbtGvI2i5BS4544REZMy3PgrLJmYqeJI9sdRfk04e8Sr9qzxi5RG85YgFZJn9JsI+AKHl04f8uQSupl2CneWX5ja3Q1c/62NEF2qgekhdUWsjr1sVRgcqe1xb4yloZtoHXsQL6yzES6reVUFcvA3OWf+kOkZSCz+bZIgXX4Rks4spDW+xAEtDlt25/6J/tQtCqN3/esQXaVDq29Cvbll8v2hjJTV+O7bNlQz3ZUBZf2Inapk14HxyWRZQx87ggKp4NKw92GtuRLNku/bFdsRIErYl/6KGH7phEEraegPTiDg8R4Um4mRAEqMk1ZoL1CdpakfT9PDB6RVCW02flycu4rE5Ogzqpn3qWguom7agkEte2zy5B60yXMQSt9qjbULRtH+rEefP25XrAKGlv8S2F5oF9wQte0LZM+p2g0m+cRdfMS9pj+2OdJawcCtQWCP2xldD3VqG7Wxidz6SO8+aM393Paeu+TMVcRE5oax/LIGjVU7miaUqpWA0nNLe6v4Mg2DXA6BNt0o0OpTM4ayIs6Gp6jpxcj672+xBB63/fz7tfmY4qoKPdRyaKHFCPaff6vqurpWm62uIeWwRBq83krWiSoUhP+fYdQP0zdBxCH353XTlD7udQ0V/VDp+cHvK+6uL62hpZbZmV7DiyaOleZVjcY7i7f6ugHepinKqt7BJ2Dvus2rsz0J/aJAJEJKox0WblWQzvbwNeJai3CDTjzw5RZ0n9JW1BzHtZrvclGFNzeWy/1Xbf7hFbDzvggOa8B0GwtfDcen7txCwSlR6k02yvJyf5IPRDyfGujp0H13YJWrLEkQLds+CngSyy9dtiYek0uxLtSJgGeVabqr5d/drVseQ9f6ZL0LIrbCl3XRf+7xK02iL4yG6YseDrFtlc+lMd9KX68t/4slUXJJf8lV1tmZZcY4wsflV/KUN/9duy2dD/Fpb5iaU3nPE+L9K44H79glyuXSf4CuOijX1o33YjaC1Ol26tpJ/oQ8f+WCCxs8SuJTpz7PO2DNTzhkPyvoDaYSuxF8iQeUdiDgF/JMJYPmSS501EsfkebB5WgqA1oURfiqL1UHiwCQIPOaFAoDjY+9VrRqiHhMDwwLtvHlzbJWg9cFYVKIV5MCk5feshaNUJ2WllkRDjWHnrIyPaFjUrD5StVRtCkwBXN/mb/GMJWp/elMkonwcPLSdXxG2V5WHtHlxe55Roo9/1v+MORI3qL8m5RvOSF7y5V0Kyu3+9wmBnQWg4P0YfGXMOjnOcqq2zYPyQ3hU5LXk5nDdZ+23o/mURtOYEA0sdlX3d6163kQhb3d9BEOwaINNEIiK7yJyS9WQtx09EP31n9wFSrLZazjNq/dYnaOVPp1jAnSe3lXHQQQd9Eyk6i6D1nToxuDmoXnRmu7dIGmd5M0YtaJauptc4G6VT1G09BC07gs0xTzZXnfSh+9zPBrIYWzaL/DlMFZ2j/xnMdG1fH/dT6XIJQelefU1HWrge2h20WdAO42a3VLVVm9gl8/ppDKovnX9o/GrsfIoA4uSPsQmWBc+ayB3nAzsr1pzg5LNHjJd20P0+zRHHgdhWPM1O6cN8QjqY1zVPnWPMxg6CYOvhufVcOqddgAn5XM8m38yOPr4GWW3xht9Gxk3Tc12QC12Cluyw9X3MyxHVyVE0RYqqzzyClvwlX/lT55771jV9/OIWoU/G0D3K5r+I7iSfHeUjapE+UsZYgpYupq9FdI4F+8SipH5wP5nK/tBH+lLEsjrJX9LvdPBYP9iL3tgS9Fn50+wI3MBWwriybWq3jXFDONLz83Sse/WF7fD0i3st5rFl7DAdut/YbKcjDvQDe4N+NV5esmkumVvaUDrWs2d3sGjajRCcWwXjhY/AXxgzY27usRecq1t1n/e89+EZtnPOHDCfPasVUR5sHlaCoAUKQDSDh8PE8lCYWJW8NdoDI0SbYLeiQWGI6Jm1qtEnaAlawrOcnVlYD0FLsJv8Dhv3kCOCKdh6yOtB7yaTvR4g+ft7LEErXw9c94DuWaAYRPG4Xz9oi62p+kG/KdPh9JW/a9TH/8oak1yrTTVmhAKCequFmfnAeKgxd14bhUx4zYJ+sCrohW9lxBjHo446amY/L4ugdR6SVV79rq51ZtOqKo8gCLY3yB3yhQND5tHH5GzpMYkOoA84WM6otTvmvHe8o0Vt0MdDclG+fYJWPnT1mO1YDEUvzZpH0Fb95SkiaP/9928LW/Rh6TCpq6craWPVzd/rIWhnvcW5C7/TyXSx+9yvbqJdK2JF/3F02Ul+rzLUsauPZyVtrDFzv7o+/elPH21PLAL6TVuNW7WVrn7e85535RUbgz7UR+y0k046qY2vtkpsMosL8841XgVUO8wbNo3k+fGcWCTxrDgTucbS+Fv09x6EMW2Tr2dAHjWH9I1jkoIgWA7IRbKePEbwkVldWe1vz3yRRsilk1/zmnZEAMLpa2syY0jPkCV9glbQEB02Ty+RFWMJWnm53rZ4stwxCn39KpVerSRP9Sr/cyxB6z4+lwXhsaAXLCYrT3/aGYPsLnnrOIeSi5XUsa9Hp6Vqn7zdqxxHIgmomtfXi4Sy7GKtM0j1lRe70iN9u6UPfYED8W4T92mT+UL3TGuDvttOBG3N1a5+9QxZtHDko4XcLtHp2cEleD63chznwViqv6MsEanV/8bMQoQdNjtDLOMa7CI2Dzyf5tPQsxksFitD0JrsBAKhbnXQ9nJkaj0cJeRKoJooBLhol9Pe+MYWqu7+PraCoFV3BCdl1A0plziwHATKhENnYhP8lIMkgpYCLqdvPQTttPNwh+DhRRzXg6stFZWj/o5zeOxjH7sjf9foY9dx3sYk13YTwlCkz0aFwkbB+aaw1V87nB9b5xNNgz5QTwaHiG33GhdvK0TAzmpDn6AVqbwVBK3FCQrEmHoubNlxZtNW93cQBLsOSldz7ESLiDSlx+g6MnBIV/vNmeZetEW/9WWjPLeCoCUbOUmcBrrYdeooMb7pLE5FX1eLQNHG0p+uXw9Ba5FPHee1w+90svvLZlEmJ5yu97s2sWkq/6rPenS1VHqanhMZYweNMdgq6Ddt1RZ9pB109dFHH33lFRuDfNlLFvH1nb4xF5G/Xvr6l2s63jXzxmIVoI6S+naT58d8QqaKiNJ/2mhc6yVr82AeWWixZbXm6T777NNslyAIloN63pFAdsQhXJB7FTXvOfe8ln6VfI+stQvESy9rMa8LMqNP0Iq6R+zOk4VkzViC1rUi+fmyRVIqj57RBj440qjvC/ubT1/+53oIWgtLiMOxQL6JAqw+VDadoY/opHPPPbfVUf7q4zq6pK9DZ6WufpW0URlbqXeU5aiFihbWV3zjeQSt+yzWWiiuMXQGqSMZZ/nRxmY7EbRQz1s3mQeSdwx4ORwOR3v0gzbRka7byrGcBTay3TBs8bIFjIEIdUFbOCt13Wh9LV7YxW4ueB7wXK961asarxRsHlaGoC2Y9ISHc7AIUZEiVm2scDlzjcCrCVgCh/BBBDrY++u9h2azCVr1JciOP/745tx5gJVDuTjbRNnOej3jjDNbtILzhbxB2koH5ea37ou51kPQErxD0bxD0A/eRFiCU1s4gUXQaquw+Mpf39o26aUaoow2kmwZOOWUU7ZciA0RtFYRZykW40gI1SqRZEuKl7EgQiWO/VBiGNiyY/z0nfOMRIPXPVauKKhF9oO85I/0MKbGC0HLoNGWIAiCzQL5I9Efog3IefqJw2eBC5nJESxdTQ77myx2FIG3P3flsby2gqClLy1sIlzVi8xWT1E+DFC7UpzL+c53vqttmSxd7RgEOys4cnXfeghai7djdIDf9ak+cp/7OXfqVv3AceA4qbff1YezO6SDx6SHPvShTVcjz5WxVdBv2rpIgtZ4sx2rf4wT289YeWmLuTrLDthOMBe0xTz1vNW8ZE9aqJ0318zHIYJ2PZFoQRBsDur55kMgVp39jhTdY49bNcKWj0m2ee67uszRdIjdfpTfZhO08iDTHVdoZ1/53PwTPjoSlX6nZ5BJSFw7GcgbC03+F0TkHmk9BK1ALXp6LMjHrg2ArLXDRx/JXwQtnVp1sbjHp3TMzJAOnZf40WwCYzmvrxcJZfUJWgFEswha9yDe9JEIbv0jUA4XYqv7LF/Yb2y2Lt/iKEYRmH5n47ExtouPaj4IGhSoVdyJtrF1zZOtHMsh6Ef8Qr3LqOSBZ8c429E9j4wfgyJozR+2OYLWcQ9jeLRg41g5ghZMesmkoqCQhyaaM9acLeqsWg++ieiB8UmAEv4mUveh2WyC1kPqhVLOqqv6OEeH08Nwroejm6p96oAA5BzKnyBcD0Hrzc5jtiQqS53vc5/7tPvVUVsOP/zwVge/U04cXM5gCSFbbAhcbdxoIuC2GpRL94gDxOW8Iw78hmTQL8ZRP4hMYRRxGB0qP5T85gy97hsOLSZwBus+RMG8KNz1wpj1jzi4zm454iAIgq1D6TIyh6ynR7wVmo7lzDhznSPFsCOLySkylny066Ugj60gaOlkOrbqoy777rvvjm3hpaMrddv3lrec24xgelpaD0HrTEF1nNcOv9NfXnJZdeRQO4e0ohWU53iiermT6zgQHHL6vKt/15OM37z6LRLaob6LOuJA3REGBxxwQIvYlp9xsu3fPGLLbGX7tgL60Lzwcp3qQ20XDW1MZ8HvCBuLDjWPcsRBEKwWyCzPucSP+9CH/qIFnPBNBYPwN8pvK5nHL7D40vV5yPfNJGhLnpM95Xupi0AfAUzIvWpHJeVK6kaXOsqn2rEegtYORn74WNjyjYDVD+poGz8CUT2qrbVw5Rrn5Aq60Z9+32jaav2jvPUeceAekaPmRvmWxgL/YMdU3wfuJmf0ivjWp/qOjUKn2EHkdz6xM23H7vxdBegPJDd7r+YLvoe9Oq0PtwLqhZwVyepZUC/1Q6qzvS18LMqmyxEHy8FKErR9mGAmGuH/hTUhSjhzvqwUcoJMSsKAEPVCiO6k2WyClvPoO7+VslAvwnzew6EOooQ3EkHr87lrjgylMg/qgLgmmJXhfkpaP5TSQPR66x9yWTv01+Mf//jm1Gw3UKL9l4TVNotp4+EeZGwpJMlY+h8ZPi0xjOoeZdU41n1+16dWjM2HRUE7zIn+S8LOzkvCgiBYEsil0tV0kwgZC4ki88hhMpKsYlB2daS0mQStpE6MWSRg12ZAziK5ZpXhtze+8Y1NV6u/tB6CVkSn8ufJZr+rS72Qwf2cI9vsSn/In8Njx07pKQ4qgnY7yX7tMG7dl4Rp60ZeEmackQWOguCgyE9yBrJIoFWN2lEndTd2bDCLFuzLWXOxi+pDjrH21nPDmfL8zcrHfBT4IPq25mleEhYEq42SGWSaaNXTTjutLdDU8XqeZbrWrtLuIij9sdkEraPy6oVUyvAODzp93vmX6iaIhdySf+mCMQStsrQDIT0WbJIK8nK/XbpIQ3VUFztn6A75u0YAjoXn7Qbj6mVO3ZeEWTSnY6aNh+9FI7vH9dUHXZ+26wNXKl+4xp4u8ikP3/vd3LNTl++6VTCeeCBtxmewM8suHAsR6V4ap20S28t8LZtsq6Hu2mHhw3OvjyW7zO0695J647ieNs6CxRVHJynDuJobeUnY5mNbELR9mHQmBmVjBdEDY9KIHPC2fsqgsNkErYcEkVn5qwNnqqsYp4FCEBUswlP+2jGWoFWeB9GDMw/6S5i+VR91dL8tC6ItCRi/6w+rRM5XqbrYNiIiartBmxgsFIL2fv+aoj/iWc9qbZwmsAjsLkGrDxaR5KUe55xzTitjUdAOR3qIviY0jRfh7JmYZQgFQRBsJcjdiy++eMcODnKRzBIpWcSotNkELcJKJGvlTzbT1RYv58lM91vk6zp16yFo6dIxBKrf2RecKPcpi5PLTqg+8CkqxjbXqktt0dxOsl87jM8frI2TtuorDpy+Y7etB46g4PixpeSjTyyUIyDLxllFmP8WKswtc5ONZyFgrOOnXea+uc4mrHntOKv+brI+9LHjPBAh+sz9Im8cEREEwfaAZ9yzLsDG4lTpnP5xJWTKZhK08kdiVtCUawSQOLpgHtyLFBT5K39pLEGrLMcqicwcAzrSWb0l9+gKRyuQxX5Tl49//OPNXqm6WNQtf3k7wbjyPe0i0U5JX4mInGYr+N4ZqxajjSGdsqhkzvHNcStbAe1XFt7GmLMtjjvuuDbn12Mr6UOR4NWHIoMd07Ws+WCueq9OBQx4Bvj/Xsou+nne87xe4KS8wF9ZxhFZfcYZZyyU0wj+L1aCoDXJDTRHbhaJ1oVrELEeNg+LScP5sy2/S1puNkGLiGUMl4PhIbE6N8bBsPrpKIQyrE1+Ua5jCFrXOn8U8ToP+re2bLhX0meim0pI6X8KTkSR3z3wHEAKeKwgc52yJH8vWkiMhfI5O2WIIKO9AK3IgCGor4Phke0SZ29Mci2nxiqWsvQdx92W08rLy9hqRWtRkJfzjPsRXc7DXWQ5QRAEQHaSLXQFJ4kOHSNr3OfaY489ti0AllNkG3+Rlq7ZbIKWXeBs19KB5DX7oV6+NQ3qx6Ghq2unTMnbMQSta20Jo9fpplnwO4JMP5VctwW9e6aoT6Qeh0E7tYOzyfmel39BHvpmmbpamcp/wymnfJMN5IiCsccRqLt+pe/ZXvpDsnDP5jEvltG2sWAn2jbqBTLsFfPr/ve//0xbpQvtd63Feu0230QzOS9ORO6sPMx75zHXQjbb0lEaouCCINh6eJ7JxNKv/h4jB8hypKKFPfqAHHUU4HnnnXflFd/QLZtJ0KrDm04/vckT+buGPzvGR6XjX//61+94GZM0lqCVENPOxJwn7/1modZRCqVz1NNCbd1rDPjbbAXtkL9rLSizUcaMR+Wjz8eO4WZAufpqzz33bO00Lyxitvf1rNVrCO6hA7xk086fIb93WqI/kOzK0W9877322qtxMHxh+bFlukF0mwltMUfZSjgPc9OiAa7DfB0DeXj/QPdIDP4+InRaH24mzFOEsRfp0/XqY/6bn+atebfo+ebsfkepaL9nxsvI7FZfRvt3JawEQfveNQFiq78JdtJJJzWnbcwEo8Bs7xBhYtIwMDlGn+mEz281QSt/LxphNE+DtqkX5VMPfTknoj7GELTKosysWM5TAB5okcW2stW9HjYRN3Wfh9qKEKXr9+pPIfTzlB74ncFPSRpLxsIsx9r3Q2kR0B/GydEC+ta4Cc//1zWlMK0M36u/Mdf/60miw4yb8dNvXhhGeFFy8jN2Qw5XtVnfl1DtXzMNrhf9UtuazD/nKCnPb0EQBIsEnel8Si/58OIHuhpxORa2RNVZ3WSWF1NtNUHrGnlL6uElnfPyb47nm97UolDqXvUne4ciMeTVJWhLB8ljnlPgd5E6rnefdnhZpbNzq44+6W66uq5jqD/tkEN2tHcW/E4fKYfjwYFB5k3TG67vp0VAPspkw5RdIzneYYj4HgJbTBtEENe4cFzo3zF9MRbVbnWS6v+dhXmr/gha9Tdf2LPOU6xyZoGtY17f+ta3bm13v+3NImm+Nsd5clyYqLvqe8QNp3w7HmsVBNsdnnX65Oyzz25BPp5hi3Vj5CA5wPbn55R+tWPSDoKCazaboOWTdAlavhByZxaq3fzoIk2VgVBjYyi7C/93CdqS+/zjIqimQR8IYnEkkPskZSKH/aYuEv3oOKSKSJbsgvnrkVGTrrGIalfquy+4oPEE03R/ldlPi4B8Pvaxj7X3qWincWEzsCdmtUMfszGG/N1Z6fK1OeisWTpFn+FD2HTG1+/mKDtvqGx1Lf06RveNhQWCIo2NtzGl9+btMAG/sw/Zc91z7UWTsj2G5tpmtQPkxQYX3e05Vh99fehhhzVbfJFlFeQpotqxDsrTh3vvvXezUcY8C8HGsRIErUOknWnBMEV01Qs75sGD7uwtjpBJQzE4m617LutmE7TqYFWo8rdiVC/XmgZlUzAmOceK0JS/T0p1KIKhT9BKFKDoTO0dEhTg4bJapo8rUkJdrSB2+8B1lBLHu862kxj+/Tdu9+Fev3NAEb+cDatmBPVQP7tevxGcznGR9LVr/bazIDSc+WpbCmGqvfqVsTMrf79V6grYaamu1b8UfikAb/u0tUifdPPswv3afO6aAWVLo77z5tArrpj/0jdwP9K9xkobvbVxDJkRBEGwHpApDNpDDz20Re2LVmT0k1nk7SyZ4zfX2MZNx9NBdJe8auFK2myCdtoRB9O2+7lHvS3AeZEY3e4e95P1Fkhtre8bqe7rErRVHw7eLF3te7aFc0Bd7z55PPCBD/w/zoT2Ipcr4kh96N53v/uC9lv32i58r0/YH3bUWCBGaDr3tWs3FVyv/+loek6it4YWHDcCeVjMrXNQjQvnR5/3+7UP99oFRPeyo9wvqlmEzryo6PWCTYbsQEBIzqT74tp83dkyjLmtvdqs/pKxR1JzkGc9W+41DuysIl1qHghcmFc3NuWBBx7YytPv5pKXqY7Z/RUEwWLhebZYI9rR4p9dFPThGFlLptNF7iUHPNOOyyPnC2TJZh9xIP9aNCSL+F2zjjjQZtGUjpcT2VmySJJPyaNu/dSlT9BKe+yxR7NH9Nc00GV8eHrCPerJX6WDumX4G4mJj1An5fAnX3rMMc1OmdZfvpfoSYSzXai3XKsX38x32tuH+tKp5Qvzi/XJtDLWC3oEcd9dzBVIZc5MQ7VDUud5qa7lwx+/1r9F0JrD7L6aw5W68L+Ferq8fGE61nyeVcexwMVYeCwbwbzEa4hCVS/1nwZzzc5a0ej6zv2eGwRv387qtkMbJO0xt2bp8bFwP7vGy92vc53rtHaYm85tNn/m2UsbgTKNwVlnnbWDP/LceMfP2EX0YONYCYK2iEeDzwlyHoxVAhPDpBtKHg4ClIIpAUrQmkhdUnCzCVoCn6NUD7+6MLbrBSiSSVx/qw9Fx6kgvBCZFf3hforDilfdVw/1UAStBxRBp04ETbe8KlNkDOXHoS6lSUFPC08nXKw26S/Xeyg5lhRHdzy6bdKXtgwQenUfZWZLa1+IgXspCELPWSa2H1D2izo7Rf7IWMpReyULAOettXkR+fehb/oErRWnof4t6Bcr5be7/e0nN7jBDdq463fCfAyMhW2Ntapn/nnZyqJI7iAIggKZQu8xtru6gRMiIoXcKX3QT2Sdl25wUujHurfOsJK3tNkErTqKaKmXlUktOvWii3boz65eo6s5grac240hGqiOspHYKrWN3n1VjtQnaOkG5R555JHNyC5d6r4qU/3o8iKxJcRlbd3swj1IQw5k2Tb69G53v/vkoosvHsxfkg8db4uaOpWuRtD6Td27cO/555/fdLTzzqWHPOQhCz1KB0GO7C/96Yw80b3aMA3qab5YUK5IEolOFLFlPLVnbFKWpE39PgB2Jf3MppDYE8iJne0DZamraDkERc0tel0/e2FX1a/GsOrK8RaQwI50j/abc8jdoUX+Ptgt3X63AwfxLO8gCLYWZAkyk6/mmSTXLbaIIiUjujLAtV15QDeT4XRS6QKLL3yqgms3m6BVHl+mdAv/FJlFhw/V26Ig8oyes1iIVJY/eeR+u2pd4/qqo7p0CVrJtWQfe4QPVX2lvCrTd/qXHi9/XR8IsBpanPQd+do915z+t4OIbdAtw2eVQf/Ik753j77yEjKkq2v74O87Pon85Q/7PP30M1p+i4C64g665xML7FLXRcPYIGirf4ug9f006BPRtY5IMHf4w5IApLG7qWdB2fgYBH7pSTwK7oUNiiOpseyOo2fqzDPPbHPSM1Nz0hwo3d+tm7/pXe2oNrAV2LDqsLPtUC/Pbx1jUv3LnluvvSN15+80qDO71DFM5o0yyRbzaYxdHuwcVoKgJVBFc5RQR4Q6C/XI5z53cv6aUkC2IUslq1De1khwcxY8aO5xr3O3CMfuhNtsgtYk94AgWeUvEU6iY60CUX4cEKsNhAQnkmKhTJzPc+qppzYCVP7uVU+KltDwAJSA6hO0FLFz1igPgpdQkL86UywibkShqL+HuPpW/t2z//rwoNfh066XPJAUh/P6nKWqLpwDK322JyqDIJK369VRm6xcDZXhO46VurtHf9k+6kzeRTzw8te+e9/73k2oqBOnl6IYqs/OYiMErfln7J0vWEqcMWZhYh70kfGtYxVKaJ6+pmyUGaEZBMGiQXaK9rvHmt4pfUoncig4WYi8rq4mFzlSR7/whS1K07Wl42zRck3JKp+bSdCCT7tzkFJ+VwZdxeAV6cC5JFd9cuRE+JLJyLI7rjlY5Ctj3T3VDi+8oN/pG7aGPlJO/4gDziySl8Mq4uFtb397swlKVyM87bxhG5TOohfpEr/39ZYytM3CqDxLv7uHXXT00Uc3HVS6mh1SbeIMVxtcz46g1/t97H/6pKIn1EvSf8Z1UbqUrcOGqDmlPepv3KdBvczFrkPvE5Hs5TgWA9aT2AryOuvsswfbRVcjjtVR4rDN0/FjoZ89N8a6nhFj6W+khTnmrNhzznlzi+JFEBhHNrJzGssG8MkOfcu557bnYRa0kX1Y5IP+0wfm4SLaFATB+kAO0CPlc5IBZA3/bf/992+LVoghegOhRab7/9S17y3K0FOlB+gA33flgOd6MwlaMoX/+OjHPKb9XjKJDGMf8G3oSjrJwpMjBOheepFfjgzlo9E17pUsivH3LWpK2qAuXYJWGXvc6lZN9ukDxNufnnRS8yfpTnYFX9WLNZVH52m/5B55DclLZeEm6ghD1yvLgiZOgS1hLLSJLaN9jgRExvLPXSuR0SJ7u7ZIF7aKa6d6GRN2w4knntiuXwTk4zjF6i/tMO54jHnjvl7ox40QtGwuUZn6ufqNLbiInTDyR46zJR2bIW9184zRf/QeAvKMM85s44SUtTPbrimLJTVf3GNuemHrkE2qHM+SAMNqgzK8nIy/v7PtMI/pffOp7B3cz0bsHUm77SDzPE6DNhkDu7q0Rz+YR3iwRc+d4P9iJQhajo1w8CLsTAIPqsnNSLX1SnQsMovx7ju/1cPsAUJWcUBMqO7E2VmC1kHhynIvwdknaJWHiCRM1KMefnXzMFtFQT6a1FVv1/nONjQPnagP12q35HerPaJcnOeqjD5B63rKwPZHSsn/FC+iVCSr/K3gaXc9WO7lKFMqlM/QA6YswlQfceTq/hoPwkH0CGfF78rsXqPutrXMesOhMkT1Ei411hxh9/htZ6Fd2kDo1tjpey8fKcJ7kSiCVjuURfiNIWhPOeWUNl7GUz8wFjhI8yDfd51/fjPC6t4fXpvXVu/+O0IzCIJNAn0q6sCCXcl9iZwlY+lwerqOQaAz/dbVIfQDp6irg8nkImjJM3JU/hslaN3bJ2iBoW5xsLaIKcsnvUVHk6miOOg138nH4jFSzL2HHHJI06vuk+hdbUXu2Y5ZerVL0Mr/2GOPa06q6+XLgROJQVcrk9OnrKqPv/1ul9A0nagcffi6172+2QB1f/Uz/apudDVHSZtqLCR/iyC+4MILBx0o+WuP8XattkjsEuM3S7+tB+aUMwD1TY3dwx/+8ObsTIP6Whx2pnHVS6r+W29Spvnr7MehdtHVbBTXKsO1jjFaVB+Yp3Q/x1neVU6Npzmjf2r+qG9d49P4eN444tOIgILf9Ln5WjaLTy94YcvOujcIgs0DWY9UFLzjOfdsS553//O/6AVy3Se535UHPvm4/Ct6s6s7yCoEbZGHZAYykT8475knb4ugJXOU0ydoS1/4jt9bsqXqxTagS/k52lGyTBscucevtgBVwVrudR/dRU+KCJa/unQJWuU8YM0PdtQLXVpyUnkW7OrICGV15R1i2PtiLBAO6Vjt8b2XMRsPeapXtYecli9fGz9B3/bH7OpXv8bkhBNe2YjraX1sd9Fee31jJ7C+lQfyelEErTYYE/2q7RL7p845XySMTRG02mKMxhK0iE338GklkdeLIGhBHjgUu0zZWtXXkr89C+pcc8f/xrB7je8PPvjgRsgP6X3tYLPgZPSxNrhPwN0iCFp9hMPo2mLqVvNtvUl7LWbMOvpRO8kHPEX1Q53xH2w+VoKgNbERZ29+85vb8QAeIM6NyTA0sSTCj6Kp1cU687MPhqjoUsLUxB4jMApWKZGi5dgQ6LZIdglaMLk9mLYNUAqurQe7W2cPOOeOgyPyRR3c67xUhrly6h556IeK+uwTtB4uW188PCKHRYh2yVJJXh5i91CIIjTq6IhZwsJv6iYCmDOtHl3l1E/fUERXb4aBNzUitj3Y08rQnto6oh3GhsO/KIIW5KOt6lXCzJEKvltUGQUErb7VR/rCytQYgtaKOMWuD40VZ1P95oGyt4qnv7XLc2I75Jg5HQRBsFGQ6eQPnWXlnqFPV3f1Tj/5jW6y0CoaReRe32D1N4KWY0lfSfQC/TeWoKUf6Wj3ksW2yPV1HdlvIQuBynZwXV9Xk6f0El3NgCWn2SfyItdFLmqza92nfWRx91yyLkErP0Sz9omSRaSxXfp9VnnR1RxSC87zdLX2KFP0MtuJTi2Cbyipi7ItrtpWyXGbpqt95zcRJTXGkj5ZJEErH9s8RWLXONDVs5yAajPnuOpV82YjyTzQRscyDbVLBG2VpX6uXSRBW31dc9P4dEn3oWQs1UPQAgKhjtuYNV/AnEHE7rfffq0t8kI0OEpj3r1BEGweSg4ggQTu0Cul00qGDyXyi76y4IbcQzr2n2X5kpn1NnuyQ2DTeghai5fqQsc4+sfOiy7kwz6wqGdBi94np+hBcqbqS66Vz+hceLqRXOI71iKo+1zrU33VVT2kPkErgtiOCgFNgpu0kQ6v8qSuzBRkxD7w8q55bddvzkOtLfj0Z9Wtn6qu9DCfnu5kO8zyOS8RQbumu/WpOuuzeWfErgfax95CHKqbPjOnBDAtgjjsQp2PP/4VrQ3mSR1VYMymQd8gH+mj0neLJmhBOeaZSGocjDlWc0SZQ8nv7DHPlaMszRf5DNXJ93ggkcDaUXNzURG0+siLdc1f+ZftstEkH5HbdqVPq5vxFJygH/SH+aN9s6Jug8VhJQhaMEE8xCahB0gEhe0Ioj+suFkxlJBYDGXOiOhWpK5tgtMeGnmKekWaCVlH5jpna4xhLV9bDSgi95qYQuCRvn3Iz9t0HQ/gWit3VW+f6iyyksPpGAbXV33V8bzzzmsP321uc5umYG53u9u1F3tZUdS2LkHrwfegqFsdhSACmcPFsdNHyq1I13vd617NQdS38xy+gmtcy2EQacGx7uaNWKz8jQWlSoGry7y+lbctpQ4utwpru6ux1MYxdRsD+RCKjlogJPWZVSBtYUAsEraQEsLKkqyY2VJj3KZB3zIykOvmBmFpznRXpKeBQaXfzAFCk6FzxpohIM8gCILNBlnDmWK8OTIHaUeOdXV16T2OijPZOCsczyE5RV7THYgw+oAOta2Krh4jr+kcdoN73I88tl29q2cL/mdoe5kU3d7V1XSaKBw7Imyzt8WxnAv3yc+WS9E8SESkoogCDiIdrG2u6xO0nCHtEIXLZrFt3X2lTyURLpxQJDUZX3nNg2tcy/446eSTmx3AjuAgy/cnrmyX/B1PwPF/+5q9UVtGZ4EOc4RT6Wk2CTtk0Yuposbkq6/oNIvCjlRiaw31gXrbJmtBmM5VN3XcmWTMzbehdhnzxz72sc0GMq4cXOTEvP5bL+THbtHnon3YbubjDrvryrFkd3muPHunrdlSXljm3jHzxVxBZnSj4RxzocwgCJYLzzAZhNhzbN1hhx3W9Bm/kBzw/JeuIuPJJHqPvBQN5/kekmG+IzP5XRKdZVcHXTgPZItFNPKGDqCfnadOT/WhHHKbPBG0RE9WvavOCDI2AZ+RvKv6Kod/TPc6KxYxZkFUpC/CTtvo4z5BS37bgeB3n0hffimdV/2lDnSuHbUiiem/oX7qo8ZDYJb3mNBT6lN584UrfwFNiEYve/vUpz7d6jpPJiPI+M+lh/TvtHfEbBTyUicL6kU84iPYY2N0xlgox0u1zA/pYQ97WHsZ16y2KN8cFHSkX+sMZjudFr3jVV7GRFAVXginI8L6G7bS/46l/33vuXrJS1/a7ED226z5Im92DFvPEZdIenPTEV+LIGj1EbLbc8ve2ajNU/eSAZ4TduMQ1JdNzkYuDgXhjqgumzjYXKwMQQsmhOQh8DAgvqxcEfTvvuCCpqyE5XMORACUIpo18f3mOvlJHhTCYtY9hfXc6zvJ70hTilKkkHNqfPq/HKJ+nf3tO0oNSUnp+eyuvE0jaGuFyXXqh4QV2aG/3rumxChVq0ZV726581D5ulf75c2wNw5WYm39MD7GwgPbb9csdPu1+rbauigo4w1veENbTaWUaBbn3QAACXBJREFUOFbO/xsyKnYG2qz91Zbqi1movjV+tuZYSWY8GK9ZcJ+ILg5ardpSarVIEQRBsNko+SWRdwx9epmupvMkupp+YLR29YM0DaVrKvl/LPo6Zda9XfnLQbLNkLNIp2kHItX9VedC3ac9DNvS1V++Msq3Up+g5XBWH0jqh+AWkauvRMsi/MbaNX1Uud287caQL13tqAS6xVh08x9TRn9MtGM9dZsHecnTWbf0IF2t3+wKcY6gug7B9+yGbt12NumbIegDdUSC2K0kwvXv1py89czPsahxlDdb0vz84Ac/tDZP1uyuK+dojWXNqbFjCe559nOes8OWRIY7286cD4JgNVBygExCDiIu+V/vee97m39HDgjoEERDdg3pqz76MnM9snzoXt8NoeruOjtRkabqbaGLXuLbd2VXwd+SNvNb+Zx0WXcByn19ghbhpIwq17V8InJSmXQ7v1hf8bP75Y5BN296GmlHr9KvF67pWeXLn98+ZiwKrtOm6lfJ/YuEMswfPqb+4jci20Q6+21R0F51r3aYL/6f1w9+dy37EbnJdhLMJo9FozuO5oIx+4at9N52dGCNpblXAWdjx9I15u5HL720LUzo65cff/y6nrNpqLyrbxeRZj3D2o27EmnsOTNnLHpo2yLnTDAdK0XQ9lEPUqWvX/np+52d7JuNft3H1rmu6187i6Dtwn2tr64UKlX2IlB5b1b+i4Y6MgSsxBaZKaJLlJbfVqHeiA0vBXB+kRVHK3vToK85Zc6Kq3OkRM/WW75XdRyCILhqo6sb+mmV5ZK6DdV9TJ3r3v61/p9G0Hav9fdGyh2Dypue2w66Guw6EXHDxrHFUTSLBVYO77Kh34yfcaWrRXbVdsfNhHJrLGs8NzqWlQ9HnR1UNhFHUkTZNHI6CILlY1FyYKvRrfd66uyabiqQw0MEbf94OPdspNwx6Oa9HcZCvfSbI3wcpWARlA9pJ9CqBPeon+hbu5Is1DrCUd9uNmaN5UbGkx5969veNnFso0hlu4Xlu6pzYwjqalEI11DHToi+XtRxDcE4rDRBG/wvxhK0wf+CECEsnUskSkS/UU62KlrVXQUhI8rM1krOvPMJEcrTQDCeffbZk1vvuWdrC+fK2XOiuCIwgyAIlg+yeAxBG3wzRKt4GZcthghajoEjqWYtWm4VjJtIG0cBcLocIyECZRUc27HQBjaEIzTqjDxksxefcMYyN4MgWHWMJWiDbwb5LirUkRG1S8UxDY4gWIXFORHTjmLkqzsqwrGP2xEWlB3PgGS206Yiu7cT2DUiwx0LiWfAOzlSSQR/7IStQwjabYIQtBsDYcKxsl2y+s7xAEjbZUbmqJftFc7BYWh4SUe9jGYIrrfV0dtO68Vn7vP2a/kEQRAEywdZHYJ2/eAUeMmGqI160RkHx1nByNtl9p2xUw9Rvermb07tdhpPUTy25DorUd8imh2PZBtj5mUQBNsBIWg3DjqL7kKCImmdpf7whz9iTe8u9ti/9YL+cRyF83e9YOyAAw5o/u52hHOetUOEshez2SW7ncAOszvI4njZYc7TFX1tUTq2wtYhBO02QQjajYNQ8dZxh+zrO0LHwdfLXNkiBCkkL18TzfKgBz2onX04tKVDHTmoJ5xwQiNyKVZCkyNrXmynKJ4gCIKrMsjrELQbA/3nxai23dNxdJ2oVWctLjPKxzsE6Gjn2XshHiJ5O42lunK6LFTXlkVn6XppahZ4gyDYLghBu3HwFR1p8OhHP6b1Gx0rSvL4449fGvmmzObfvvKVbRu9F7Y6tm8VjjZaL/ShF3k539fispfobrd2sLNOPvnkHc8XewFPsSq7jnclhKDdJghBu3GUUqrtExSTT+epOFJgGQQnQWe7iTP2XvaylzWDgyAfEoAEphcC1Fm6BOad73zn9gKYOP1BEASrA/I4BO3GYaujaI0b3/jGjUi0Y4Tt4/tl9d+nL7+8Hb/gDca2/jkqYLtAn6kvO6PekC1KyW6cZdk/QRAEG0EI2o2DLrAIKjjpDne4Q/MlcQqOyvMitWUtglokVD69f9ppp7Vdr9tRL2mH89wR3na3epHsUNDVqkKf21Fz17vetXFMbAXn1eMftlM7rioIQbtNEIJ250AxiYJ55CMf2bb26cPdd9+9OV36cBmOH2WIlJWmKUb1Eq3zhCc8oW1HUW/nBhH+GfsgCILVApkdgnbj4CSI1njSk540ueY1r9mchN12222pxwqM0dWrCH2lP+0gcvYg+9F8dLSBt5CHnA2CYDshBO3OA5GICK1FUDtDLNjxkZehX5Up+lQk7XZ+CRV9ul3bUXaXF8dZFGd3OaYB17Cs6OpdHSFotwlC0O48CMxLLrlksu+++zbhg6i9zW1uM3n/RRctzfGDaeUSmF/4whcmzz/qqOaoWu20LfFFL3rRyrx5MwiCIPhfkOchaDcOfSRawxFA97vf/Vq0J33teJ8LL7xwaQSpem238dNXjofYe++9m83IhuCUi4jJfAyCYLshBO3Og+/IhzzmmGPaiyLpBZ92lX7uc59bmm95VdFH27EdV1xxxeTII49sRzOwt9gLR7/whe0FouEaloMQtNsEIWh3HoQmh+Xcc89txCwhpD8f/OAHt4O8V02oIpTPOuusti2xtno6d9bRCHGsgiAIVg9kcwjanQf956VWe+65Z9PVnEh/s4WCcWDX2H1jgddc9MmmSERMEATbESFoFwPyny/5lKc8ZQev4CWYImtzLvmuh1NPPXVy85vfvNlZ+AY7mNgPOdpgeQhBGwRBEARBEARBEARBEARBsCSEoA2CIAiCIAiCIAiCIAiCIFgSQtAGQRAEQRAEQRAEQRAEQRAsCSFogyAIgiAIgiAIgiAIgiAIloQQtEEQBEEQBEEQBEEQBEEQBEtCCNogCIIgCIIgCIIgCIIgCIIlIQRtEARBEARBEARBEARBEATBkhCCNgiCIAiCIAiCIAiCIAiCYEkIQRsEQRAEQRAEQRAEQRAEQbAkhKANgiAIgiAIgiAIgiAIgiBYEkLQBkEQBEEQBEEQBEEQBEEQLAkhaIMgCIIgCIIgCIIgCIIgCJaEELRBEARBEARBEARBEARBEARLQgjaIAiCIAiCIAiCIAiCIAiCJSEEbRAEQRAEQRAEQRAEQRAEwZIQgjYIgiAIgiAIgiAIgiAIgmBJCEEbBEEQBEEQBEEQBEEQBEGwJISgDYIgCIIgCIIgCIIgCIIgWAomk/8PFqsjn2RHBAwAAAAASUVORK5CYII=)\n",
        "\n",
        "- เก็บได้แค่ตัวเลข\n",
        "- อ้างอิงโดยใช้พิกัด\n"
      ],
      "metadata": {
        "id": "dd9Qo7QqUTEc"
      }
    },
    {
      "cell_type": "code",
      "source": [
        "import numpy"
      ],
      "metadata": {
        "id": "yRiz6JiNRuA4"
      },
      "execution_count": 208,
      "outputs": []
    },
    {
      "cell_type": "markdown",
      "source": [
        "### 1D array"
      ],
      "metadata": {
        "id": "H9KJVyoqYHWn"
      }
    },
    {
      "cell_type": "code",
      "source": [
        "arr_a = numpy.array([1,2,3,4,5])"
      ],
      "metadata": {
        "id": "rzprRfePViTB"
      },
      "execution_count": 209,
      "outputs": []
    },
    {
      "cell_type": "code",
      "source": [
        "arr_a"
      ],
      "metadata": {
        "id": "WUu6q5CwVriK",
        "outputId": "4d4acd32-a1a0-4eb3-dd55-22a7fe0f8f40",
        "colab": {
          "base_uri": "https://localhost:8080/"
        }
      },
      "execution_count": 210,
      "outputs": [
        {
          "output_type": "execute_result",
          "data": {
            "text/plain": [
              "array([1, 2, 3, 4, 5])"
            ]
          },
          "metadata": {},
          "execution_count": 210
        }
      ]
    },
    {
      "cell_type": "code",
      "source": [
        "arr_a[0]"
      ],
      "metadata": {
        "id": "G47eCHf0Vwxh",
        "outputId": "bc93119c-3932-49d8-eb65-fa68e9765605",
        "colab": {
          "base_uri": "https://localhost:8080/"
        }
      },
      "execution_count": 211,
      "outputs": [
        {
          "output_type": "execute_result",
          "data": {
            "text/plain": [
              "1"
            ]
          },
          "metadata": {},
          "execution_count": 211
        }
      ]
    },
    {
      "cell_type": "code",
      "source": [
        "list_A = [1,2,3,4,5]"
      ],
      "metadata": {
        "id": "dmh4KVBBVzn5"
      },
      "execution_count": 212,
      "outputs": []
    },
    {
      "cell_type": "code",
      "source": [
        "list_A"
      ],
      "metadata": {
        "id": "wg8unpcQXK4S",
        "outputId": "ac02f3ab-a4b4-4d7e-b6c5-ee7f39737ec6",
        "colab": {
          "base_uri": "https://localhost:8080/"
        }
      },
      "execution_count": 213,
      "outputs": [
        {
          "output_type": "execute_result",
          "data": {
            "text/plain": [
              "[1, 2, 3, 4, 5]"
            ]
          },
          "metadata": {},
          "execution_count": 213
        }
      ]
    },
    {
      "cell_type": "code",
      "source": [
        "arr_a[0]"
      ],
      "metadata": {
        "id": "Db1XquHGXPVS",
        "outputId": "6b9ff86b-84f0-468d-8bb2-d6fb4959e20f",
        "colab": {
          "base_uri": "https://localhost:8080/"
        }
      },
      "execution_count": 214,
      "outputs": [
        {
          "output_type": "execute_result",
          "data": {
            "text/plain": [
              "1"
            ]
          },
          "metadata": {},
          "execution_count": 214
        }
      ]
    },
    {
      "cell_type": "code",
      "source": [
        "list_A[0]"
      ],
      "metadata": {
        "id": "ZHDKpXNcXR7a",
        "outputId": "80603655-6b29-4ada-ca80-a988824f82c3",
        "colab": {
          "base_uri": "https://localhost:8080/"
        }
      },
      "execution_count": 215,
      "outputs": [
        {
          "output_type": "execute_result",
          "data": {
            "text/plain": [
              "1"
            ]
          },
          "metadata": {},
          "execution_count": 215
        }
      ]
    },
    {
      "cell_type": "code",
      "source": [
        "5* arr_a # Matrix (scarlar multiplication)"
      ],
      "metadata": {
        "id": "ovp3vlDWXUk8",
        "outputId": "7dec7347-5e91-44fe-bc80-60623e6cd6d7",
        "colab": {
          "base_uri": "https://localhost:8080/"
        }
      },
      "execution_count": 216,
      "outputs": [
        {
          "output_type": "execute_result",
          "data": {
            "text/plain": [
              "array([ 5, 10, 15, 20, 25])"
            ]
          },
          "metadata": {},
          "execution_count": 216
        }
      ]
    },
    {
      "cell_type": "code",
      "source": [
        "arr_b = numpy.array([10,20,30,40,50])"
      ],
      "metadata": {
        "id": "dGARmA63Xew0"
      },
      "execution_count": 217,
      "outputs": []
    },
    {
      "cell_type": "code",
      "source": [
        "print(arr_a)"
      ],
      "metadata": {
        "id": "LS40uK8PXoBC",
        "outputId": "29005575-d438-4e9d-d7b8-91ca6a9dca52",
        "colab": {
          "base_uri": "https://localhost:8080/"
        }
      },
      "execution_count": 218,
      "outputs": [
        {
          "output_type": "stream",
          "name": "stdout",
          "text": [
            "[1 2 3 4 5]\n"
          ]
        }
      ]
    },
    {
      "cell_type": "code",
      "source": [
        "arr_a + arr_b"
      ],
      "metadata": {
        "id": "-W0quZf5Xp1h",
        "outputId": "2be8df9e-795c-4758-a988-6c8e43be181c",
        "colab": {
          "base_uri": "https://localhost:8080/"
        }
      },
      "execution_count": 219,
      "outputs": [
        {
          "output_type": "execute_result",
          "data": {
            "text/plain": [
              "array([11, 22, 33, 44, 55])"
            ]
          },
          "metadata": {},
          "execution_count": 219
        }
      ]
    },
    {
      "cell_type": "code",
      "source": [
        "arr_a.shape # 1มิติ 5สมาชิก"
      ],
      "metadata": {
        "id": "hVl8ZRKwZuWe",
        "outputId": "0312792a-e32f-448f-f3e4-2da7a0ae9068",
        "colab": {
          "base_uri": "https://localhost:8080/"
        }
      },
      "execution_count": 220,
      "outputs": [
        {
          "output_type": "execute_result",
          "data": {
            "text/plain": [
              "(5,)"
            ]
          },
          "metadata": {},
          "execution_count": 220
        }
      ]
    },
    {
      "cell_type": "markdown",
      "source": [
        "### 2D array"
      ],
      "metadata": {
        "id": "M96aKY_UYChr"
      }
    },
    {
      "cell_type": "code",
      "source": [
        "import numpy as np # อิมพอทแล้วเปลี่ยนชื่อให้มันเป็น Np"
      ],
      "metadata": {
        "id": "PYUYn70iYTlM"
      },
      "execution_count": 221,
      "outputs": []
    },
    {
      "cell_type": "code",
      "source": [
        "arr2_z = np.array([[1,2,3],[4,5,6]])"
      ],
      "metadata": {
        "id": "eDEpRnbgXyZb"
      },
      "execution_count": 222,
      "outputs": []
    },
    {
      "cell_type": "code",
      "source": [
        "arr2_z"
      ],
      "metadata": {
        "id": "EL3PyB8bY6pS",
        "outputId": "1b519406-37e7-450e-948d-0feb4e7c66d1",
        "colab": {
          "base_uri": "https://localhost:8080/"
        }
      },
      "execution_count": 223,
      "outputs": [
        {
          "output_type": "execute_result",
          "data": {
            "text/plain": [
              "array([[1, 2, 3],\n",
              "       [4, 5, 6]])"
            ]
          },
          "metadata": {},
          "execution_count": 223
        }
      ]
    },
    {
      "cell_type": "code",
      "source": [
        "arr2_z.shape # 2แถว 3 หลัก"
      ],
      "metadata": {
        "id": "SPC_PUS6ZpX6",
        "outputId": "a795b27f-7814-4255-8099-56c1951c2951",
        "colab": {
          "base_uri": "https://localhost:8080/"
        }
      },
      "execution_count": 224,
      "outputs": [
        {
          "output_type": "execute_result",
          "data": {
            "text/plain": [
              "(2, 3)"
            ]
          },
          "metadata": {},
          "execution_count": 224
        }
      ]
    },
    {
      "cell_type": "markdown",
      "source": [
        "`np.zeros()`"
      ],
      "metadata": {
        "id": "FGEN7ouxZeGr"
      }
    },
    {
      "cell_type": "code",
      "source": [
        "arr2_3_5_0 = np.zeros((3,5)) # array 3*5"
      ],
      "metadata": {
        "id": "4PsSbd9xZCGy"
      },
      "execution_count": 225,
      "outputs": []
    },
    {
      "cell_type": "code",
      "source": [
        "arr2_3_5_0"
      ],
      "metadata": {
        "id": "7BLsoRn4aM_T",
        "outputId": "53f238ae-8fea-417e-a281-6e71d8acd891",
        "colab": {
          "base_uri": "https://localhost:8080/"
        }
      },
      "execution_count": 226,
      "outputs": [
        {
          "output_type": "execute_result",
          "data": {
            "text/plain": [
              "array([[0., 0., 0., 0., 0.],\n",
              "       [0., 0., 0., 0., 0.],\n",
              "       [0., 0., 0., 0., 0.]])"
            ]
          },
          "metadata": {},
          "execution_count": 226
        }
      ]
    },
    {
      "cell_type": "code",
      "source": [
        "arr2_3_5_0[1,2] = 9 # ใส่ค่าใน array"
      ],
      "metadata": {
        "id": "kTfY0fNnaOmz"
      },
      "execution_count": 227,
      "outputs": []
    },
    {
      "cell_type": "code",
      "source": [
        "arr2_3_5_0"
      ],
      "metadata": {
        "id": "OaU6na9MagyN",
        "outputId": "21362ca5-e75a-4e6b-b0f3-62cdf9702344",
        "colab": {
          "base_uri": "https://localhost:8080/"
        }
      },
      "execution_count": 228,
      "outputs": [
        {
          "output_type": "execute_result",
          "data": {
            "text/plain": [
              "array([[0., 0., 0., 0., 0.],\n",
              "       [0., 0., 9., 0., 0.],\n",
              "       [0., 0., 0., 0., 0.]])"
            ]
          },
          "metadata": {},
          "execution_count": 228
        }
      ]
    },
    {
      "cell_type": "code",
      "source": [
        "arr2_3_5_0[1,2] # การดึงค่าใน array"
      ],
      "metadata": {
        "id": "p_1IMDW5apcj",
        "outputId": "4f2356c5-2a8e-4ae1-c161-b953d637b8fd",
        "colab": {
          "base_uri": "https://localhost:8080/"
        }
      },
      "execution_count": 229,
      "outputs": [
        {
          "output_type": "execute_result",
          "data": {
            "text/plain": [
              "9.0"
            ]
          },
          "metadata": {},
          "execution_count": 229
        }
      ]
    },
    {
      "cell_type": "code",
      "source": [
        "print(list_A) # เปลี่ยนค่าใน list()\n",
        "list_A[-1] = 'Christmas'\n",
        "print(list_A)"
      ],
      "metadata": {
        "id": "gyjCLz_1ay8T",
        "outputId": "8d15799a-c888-4d20-da1c-743610d5d8c3",
        "colab": {
          "base_uri": "https://localhost:8080/"
        }
      },
      "execution_count": 230,
      "outputs": [
        {
          "output_type": "stream",
          "name": "stdout",
          "text": [
            "[1, 2, 3, 4, 5]\n",
            "[1, 2, 3, 4, 'Christmas']\n"
          ]
        }
      ]
    },
    {
      "cell_type": "markdown",
      "source": [
        ""
      ],
      "metadata": {
        "id": "o6RQEV_7yRQ6"
      }
    },
    {
      "cell_type": "markdown",
      "source": [
        "### `np.ones()`"
      ],
      "metadata": {
        "id": "YfHBB42XcCec"
      }
    },
    {
      "cell_type": "code",
      "source": [
        "arr2_4_5_1 = np.ones((4,5))"
      ],
      "metadata": {
        "id": "aMDRYcVRcAlv"
      },
      "execution_count": 231,
      "outputs": []
    },
    {
      "cell_type": "code",
      "source": [
        "arr2_4_5_1"
      ],
      "metadata": {
        "id": "4mmgfvdccIis",
        "outputId": "a35a8d08-0eb3-45a2-cce6-878e1e6b36f4",
        "colab": {
          "base_uri": "https://localhost:8080/"
        }
      },
      "execution_count": 232,
      "outputs": [
        {
          "output_type": "execute_result",
          "data": {
            "text/plain": [
              "array([[1., 1., 1., 1., 1.],\n",
              "       [1., 1., 1., 1., 1.],\n",
              "       [1., 1., 1., 1., 1.],\n",
              "       [1., 1., 1., 1., 1.]])"
            ]
          },
          "metadata": {},
          "execution_count": 232
        }
      ]
    },
    {
      "cell_type": "code",
      "source": [
        "arr2_4_5_200 = 200*np.ones((4,5))"
      ],
      "metadata": {
        "id": "NPLiYwjAcLFu"
      },
      "execution_count": 233,
      "outputs": []
    },
    {
      "cell_type": "code",
      "source": [
        "arr2_4_5_200"
      ],
      "metadata": {
        "id": "UeH4-arLcb_T",
        "outputId": "11924248-0225-4289-9469-338c7cb2becd",
        "colab": {
          "base_uri": "https://localhost:8080/"
        }
      },
      "execution_count": 234,
      "outputs": [
        {
          "output_type": "execute_result",
          "data": {
            "text/plain": [
              "array([[200., 200., 200., 200., 200.],\n",
              "       [200., 200., 200., 200., 200.],\n",
              "       [200., 200., 200., 200., 200.],\n",
              "       [200., 200., 200., 200., 200.]])"
            ]
          },
          "metadata": {},
          "execution_count": 234
        }
      ]
    },
    {
      "cell_type": "markdown",
      "source": [
        "### Matrix operation"
      ],
      "metadata": {
        "id": "Zl-RIH0vc3dB"
      }
    },
    {
      "cell_type": "markdown",
      "source": [
        "#### การบวก ลบ  matrix $M \\pm N$ บวกลบตัวที่อยู่ตำแหน่งเดียวกัน"
      ],
      "metadata": {
        "id": "xG5tPfgCc9Xr"
      }
    },
    {
      "cell_type": "code",
      "source": [
        "arr2_4_5_200 +  arr2_3_5_0 # ตัวอย่าง error ถ้าบวก ลบแล้ว  shape ไม่เท่ากัน"
      ],
      "metadata": {
        "id": "Sakfg7GJc19D",
        "outputId": "6ccd04d8-eb27-4e70-dd30-d5e0dbf86e8b",
        "colab": {
          "base_uri": "https://localhost:8080/",
          "height": 165
        }
      },
      "execution_count": 236,
      "outputs": [
        {
          "output_type": "error",
          "ename": "ValueError",
          "evalue": "ignored",
          "traceback": [
            "\u001b[0;31m---------------------------------------------------------------------------\u001b[0m",
            "\u001b[0;31mValueError\u001b[0m                                Traceback (most recent call last)",
            "\u001b[0;32m<ipython-input-236-7714336d2db6>\u001b[0m in \u001b[0;36m<module>\u001b[0;34m()\u001b[0m\n\u001b[0;32m----> 1\u001b[0;31m \u001b[0marr2_4_5_200\u001b[0m \u001b[0;34m+\u001b[0m  \u001b[0marr2_3_5_0\u001b[0m \u001b[0;31m# ตัวอย่าง error ถ้าบวก ลบแล้ว  shape ไม่เท่ากัน\u001b[0m\u001b[0;34m\u001b[0m\u001b[0;34m\u001b[0m\u001b[0m\n\u001b[0m",
            "\u001b[0;31mValueError\u001b[0m: operands could not be broadcast together with shapes (4,5) (3,5) "
          ]
        }
      ]
    },
    {
      "cell_type": "code",
      "source": [
        "arr2_4_5_200 + arr2_4_5_1"
      ],
      "metadata": {
        "id": "0G1Z_9bkdE6r",
        "outputId": "f32a1cf1-5133-4294-8c2c-9dd46966a9c7",
        "colab": {
          "base_uri": "https://localhost:8080/"
        }
      },
      "execution_count": 237,
      "outputs": [
        {
          "output_type": "execute_result",
          "data": {
            "text/plain": [
              "array([[201., 201., 201., 201., 201.],\n",
              "       [201., 201., 201., 201., 201.],\n",
              "       [201., 201., 201., 201., 201.],\n",
              "       [201., 201., 201., 201., 201.]])"
            ]
          },
          "metadata": {},
          "execution_count": 237
        }
      ]
    },
    {
      "cell_type": "markdown",
      "source": [
        "#### การคูณ Matrix \n",
        "- $aM$ scalar คูณ Matrix (scalarคูณกระจายเข้าไปทุกตัวของ Matrix)\n",
        "- $M\\times N$ Matrix คูณ Matrix (แถวคูณหลัก)\n",
        "\n",
        "![3.PNG](data:image/png;base64,iVBORw0KGgoAAAANSUhEUgAAAkUAAACsCAYAAAB1qtiiAAAAAXNSR0IArs4c6QAAAARnQU1BAACxjwv8YQUAAAAJcEhZcwAAEnQAABJ0Ad5mH3gAAG6oSURBVHhe7Z0HmFRF1ve/9913191117SrbnDXzW6OuhhQJCkqKooRMYKoIFGCCkpQFJCgBEVEQAQRyTnnMEOYHGFyzjn2DfX/zql7pyf1zPTMdPek+j2eh7Fv6Nv31q36V9Wpc/4fFAqFQqFQKBRQokihUCgUCoWCUKJIoVAoFAqFglCiSKFQKBQKhYJQokihUCgUCoWCUKJIoVAoFAqFglCiSKFQKBQKhYJQokihUCgUCoWCUKJIoVAoFAqFglCiSKFQKBQKhYJQokihUCgUCoWCUKJIoVAoFAqFglCiSKFQKBQKhYJQokihUCgUCoWCUKJIoVAoFE6EqUHoJTC1XJiObBgVqTDKk8kSoJdEu2VG6QXaP8k+jozOwefic/K5+TsUivaIEkUKRVsiDGogKumfUmosiqnRKCDLowYkB2ZlRrVVUMNSFufCYmCURDVupRfrHcfns86daX0fmdCL6DrK7QZLWNen6BQIs0I+X6tcpZNQibeEC5UPvTgcWuF5aPmnyU7BkXsElVm7UJmxARVp61CesgrlyctRlrQUZfEL3LQP6ZjP5HHS6Bx8Lj4nn5u/g79Lfid/d2EAXUeoLabi5TXK8snlkt8NVSYVPkKJIoXCk5DIodaHKnGH1RCxyLAFjxQdemG16CEzylOoZx1JjcJZ2UhU5hxAZfYeVGZup0ZkrdPKEz9GWez79S1mOkoiJzRqpRfernccn886NzVU3ADSdzryjkEvCqKGKZauLcu6Ru7Zk1CzBBP18KVoot9FQo5/J/3BP9r67Yo2hJ4BPQtZ7owyu7xVlzW9JFw+X1muUlejLG4OSqPflOWjOPxVFAY8inz/Xsj3u9O3Rt/J310Y+DiKQ4fJa+Jr42vk8sllUys4V10mWSTJ8ki/j98rWR4ddjlUKFqPEkUKhacgQSRHdEovUkXuD0f2XlmpV6R8jvL4eVKMsEApCnuJGoJHUHj+YRScf4hsAArOPWDb/WT9UXCW7b4adg8KztzdgN3lhtU5hs9XdW7+Pmn83Q/K6+Frkxb8DIojx9G1z0ZF0lJqVLfI3+XIOy5/p+kg0aSmQtocfgYsfrSiQFSmf43yhA9rlTWrjNHzleXqXioD/cisspHv37dtBFGV8XdL62NfE10bX6OzbFaXyaKQF1AS/bp8n/i94vdLLwyU5VCh8ARKFCkUTSKoZ1pKgifdmmqQPe7N1Jv9EmUJH6GUe90xM1ESNQnFEaNkz7uIer1FIc+jKPg56gU/QQ3TQKrUSQCx8CFRku/Xs37j0B6NGypqnKRAot58EYkk+btCh8rfWRwxjn77O3LkqTLtKziytssRL54GEVqhff8UnoR9cvSSCBLeZ1CZsQllcfOo7E2kZzGWRNDLKAoabAmhjlbW3LEzfaVQku8TvVf8fhXTb+ZyWHLhLZRJsbSS7stGKocnYJTFy3eX32GFwh2UKFIoCO5pS5+eygzZoOuF52zxs93yp0hcQo3PXJRenIaSyHFyqJ8FghztkT3we1xX4l3A+LfzFEhVA1USNUEKpbKERSQcv5ANlCNnvzU1V56oxFJzMB30X7Ysk1r+SXkvuSyWcDmMep3K4YtS/Lh6Li01OZIoRw0tKwx80hLD0p6lZ/ySJUQatZfkvtXHkZFYKzj/oHVeKdZcf3+LjQU83YuioKfovgyl93Q8SuVU8SeoSP8ajtzDVAYDrTJoVNDNVUJJUR8lihRdDvaHMbV8mBVplqMpNdbV/hZfSifRUup1lkSMlhW5ywrYUyanDHgqw7ZzD1qjMjy9Ro1RlclGJWRIfaNGsShseOMmR63qHEfns85dNYplibt8nk5xdZ0tNerZ82+R/iIX30F50jJq2LfIBl4j4cn33+SVSeyzpJxpuXBS2SyghjtJ+gFpecdlg84jktzI8710eZ+bMp6WYoFDxxcFDaIy8IJVDui5WCN+Y6V/UUn0m3LUsyx+vtMqkj+n92KNNGs0cJscEWzctsl9q46zbDX9jg/lOeXIavQUssn2COtYa4SVBJW8NrpGa7SLBRS/G60Y8fLvJaffisNH0PfOkGXQkb1PjrSp8qeoixJFik4MO5+y0zOvvOGVXex0mi0dmx3Z++Uwe2n0GyQQnqPKt7/rCrW55t+bKvAaPjzsuyP9Ih6w/SIeskUPCREeXQl5nirrkU4rvTgdZbFzUB6/gK5vudN41Q6PttQzXsUjV+80bI68E/WOkyuL+NzJy+QIGH8nN1DcSBYGPGYb+z0NpOvmaT+7h1/DH4V/q8t74I7ZDrbSPyRlheXkXRojn4/l1F1mNVJdwYFWaJbTsBTqqdLZvjxxMQmF0bLMuLx/Lq2nXfbo+Uh/nAfsskbljJ4rP1+rXK2k8r/HKgtUNrTiECnCTEeeLQx8iBSBRTDKEuXqM0f+aXltfI18rXzN1rsx3Cngq/2jLD877lg0WzC5KH/szM3PQK1269ooUaTotEjfC6roHM5GZqSsWGUDLx1OuVKtatw94HfBFW3go7ISZx+PUqrQy+I/sHrYWTtJwByVvdPqFV4sAAotEeA0XuHFq2rYSBhUmb3iq745ILhRbczkSri6x/HKuKrz299nr1iSq3vkaIW9Mq7AH5XZe1GRvh7lCQtJuE2Vv5F/q3SQdXUv3DHuwbOPSJVwJPHFjTevPqrM2kaNZAQ1mIWdXhjppRdRkfa1LDOyweeyScJGOkD7uX9/+V6WRIxBGft4sVN81g66hyFUznKs51prxVZVOeCVW7yKkFdNttV95s5LzVWbdF31Vm2ScZksjSbhdBIVJOrLYt9DadTrsmPRok5NnfLHIok7JVzO9eIw+s4S+/oUXQklihSdAq5EOf6OlndUjoKww2UJ+1zwkDxVmlzhceXXmkace6c87VQSMQqlF1jwzJexWCoyNtUWPDI20AWyGOm/UBULSFbsclk7i5wOsIy4apSNrllON/KSaBkvKdY57ci/Wfbs09ahLHERCcFJ8p4XBg2y7reL+9iw8UjH3XJ0Q04Xhr2CYtsvpCJtjRRnZmW2fXEdF27ojZIIVFLjW3JhCt2vEXS/npJiyPV9qWMk5AsDH6PyPYEE5GxUpKySz4DDOhgcOFHGoUqlZ5Yr3wv6RuuLOwFSMPGoL/tZyVhLF6WAkaOiPAUufa4WS98/nrLld9blPXRp1KmhDhNPmRdT2eP6oyxhgTWKVJFmvbOKTo8SRYoOiUk9X106nx6ninCT9BOQfgrSCXoo9bgfJAHEw+quKr8GjP176LiioKdlhcq+DqWxs6hiXEgNzxeydyobn7zj0KsaIBY9ctqh61aYUjSR8ONAkjoJF40EIo+M8QgZO1uXxrxrTYOE8vLwx5oplkgonb2PRNKz8nlIHxcpAvbKUSw5CtLe7z0H6NRLZAPO5YeFNDfa7DvjVhn1701l8ilZtkt5apV+f2XWdhKJp6XfkVmRIp9Bl0doJARzZGeEHaoduQflO8vlhQNKSqHEgp06SC7vc12T9cFDVkiKuA+k8Odgkxydm5+ponOiRJGi/WM3Ktz7NaqmczI2y4qOGwo5jXOGpxpcVGyujCs76pVLXwtqmKSjaeRr1Gt/Wzq0srM1x+ORS8vLrKBx1PLaF6NwFxYrVuBADk55ju7pVku8ktCUS8h5FI/EDvtZNcvBm55fcchQlMqGilcVHZHlgsuHnPJoLw2W0OWIhl4UTL99myxbRaFDmhCF9mgZO0Rz2YwYY03pkCiXv5OXmMvRH4XbUHngRRV6UYgU0+VJn9q+Ss0rf/xMWJiXp6y06gYpyrPlc1Z0HpQoUrRD2MdAk5U/T9tw7iQt3186RJZGvYHCc81xPu0lBZN0ED7/IFVsA+V0mqzc4j+kHvdu2Whx78+KZ6LwNuzEysH2NBYL1JMvjZ1pO3hzkMGHpGC1fL3cm+rk8sDlgssHlxPrWfJUJYkHKZB8OX1k+cfIkaGyRCmuSyLHurzuWubPZdSKv8PTaTxtw6NtelmMfV6FJ+EyyA7mtcqfXIHJsZ1YIDVS9qhcWk7ak+Tz5efMU3pcZ/m2rCm8gRJFinYH+9wYZRelg3TJxamWfwo74jqdT913iubjOGZKecJ8VGaTACoOh1mZJRsty7dHpatoE/h+S58ldqotJZGUZznF5x6WTsIlkWOkQHL1TOsblQcWFbzqSj7vV+h5L6byc8h61j5cUcXfZVSkg+MzcYBLFuPuTJHxlC//bkfeUdsXqKpsqmkar1Gz/FVmythk7JPEo3NNOm6zYJdC9l75nCtSV8IojZLPTdGxUaJI0Q7giNElUrDwvD0LoWKOryNXlTzgVqPCxtMS7KDLMYY44CL3tLV8P8v3pCKJGhtOLlnBLZf9vYp2Az0TOd3G+bp4mpT9xQr8qJHahHIOVhg1UfbOXT33usbiyJoa5XAHo0ggfSSXn/OIo7fgUSkecaxI/oy+k1fmPUnX0XCAQnYA5pVi7F/kyD1EZTTCnv4rorOp8ulzeHRPinP2SYqW9UZlxlbpS1QY9GSj02tyujPwCSnGOcYZ+9SxGFd0TJQoUrQZ0t+kMBCOrN0yTQT79Egh5KYjrhRBIS9Qg/k6VUYfkaBaazngFp6nBpBEEDcwar6/4yIdZ3OlX5flR7YJZQmLSTTPoOfelG9OtfG0HIsj9mXi+De8QtGKauwB3xwqX+xALcX8hSky6KCra6iyouCnUUrXX5H2FV3HSes6TI6urGhX0HPlqXvuUHF+NekcT50tfn6unmuVSb+jiLHSf4xTAXHsLeUD1rFQokjhO3i4moSKXDpfcEY2JOxEyk6zTY4GcVDEs/c6e2RyJRLHs0lfL3t1ZkWGHGlQdF6cjtvFYfTcN8jnz+WAy4OMPyWnqhoPKClj+UTyCM2ncOTso3OFyqkTHiloDjztws67nF+LV9hxXjhX3yed+s9z/KWXpHMvO/HLGDiqoexQcFBHvShATovyqCU/Tzm921C9ReWMR5i4bLAbAK+Ik35HinaPEkUKryMDCMrVYykylkh5/Fz3pkJYCEk/kQepghksV4hVJC+V0yoqK7aCkQ7bVB64XHD5sPzP3MutxUv9OYFvRfo3MHhZOwet5FGbJqZXpc9b6QWUp3whRwZcOoRLEc+hBJ5Baex7cOQdl0JK0bGRiwQqs8Fxyfi5WtHw75fPu14ZsI0DcsoykH9KllerHKgp0vaKEkUKr8PxhOT0AjVa3Jt3a2URr/AIfEwGSazM3ASOgSMj3MpGi6fEVKWiYKgc8AikDDJZKoP48WhMSdRrrstVLWMHbQ7PQOIlZAjK4maRaD8hBXxjOLJ3yxVl0vHf1Solu+zyFArHy5HOt2plUudBLhLg1bFl0Eui5apHft4N12lUzqjOKzj/MAn3sTI8RVNlTNF2KFGk8DjcE+IIsNyb4sjS3Bu3Ihzf56LCqDbucRWHWWkeHNm7qEEJklNtVoA+1ctWNE3VSiL28+ERpPK0tXLaioNGuipzllmNFserYR819h2pSF0rR4OqprlYdLEw54Sm1qoy12WZHaw5Dg6LMzn6RNej6LxwuTArM2RdxXG4Si9MbbiskWjiTiEnceYgpOwnp6ZR2x9KFCk8hJAvuOXv8Q1KY2eTGKLeNCe0bMRfyHKWHoLSmHcsR+ncw+AUCJyrSY0GKVqFMGBwg0UChTPzc2Ry9kEqCBjYeJk8009Oi7C/W3ny51Kgc+Z3LqOFAQ+7PFY6UNN2/h4OsGiNZiq6DIIT2+bJhSOy/qOywOlCGppW43hU7JvE0bY5Oj71/OwTKdoaJYoUrcN2fuXorpXZe1AWO6uJFTgcsZcaHU6lETGaxNP7VIlstJ1P1ZCywjtIJ20SSByJuDzpEymOLH+QB1yU0WrjeDUchbqYevf1trPfEG8Pe0WuauOQEjLkg6JLw/WYDC+Swk7ZVM5IHMlFAHXLD1kh+xtdeEvGp+JVlm47Y3MIATllXELHqFW2nkSJIkXLqFpJxvmcsnZQr/rtxp1bbd8NdrDmOC48KsRZ0FUUaUVboFMDxEv8Sy9MkdMdMlhfI86y9YzKs9Xbn0QN2gkZX0mhqAXVkTz9zzkAOSYVLxhxWcbYBy3gERkTSU6pNSZy7BEpHo3ktCWc/44T1qqFJ55DiSJF8+FpiYok2TvmJJ8yXkwTkaa5t1QWN1euwuH4H9JHSC6DVs6nijZA9rQdEFoh9JILKE/kZfWN+R3VNi7P5YlLZfRqKxSEKscKF8hyVinjUXGevoYdsnvJBSiciJrrVa5frfqxBlIQFaLkwltSxHMnUy5cIeMQJwrPoESRwm3ky009n8q0r2QofI7NYq3AqfuC20a9aRZNFcmfS6dXjiisIvYq2he2L1xJNGTS1vj51KsfZcegcb2aSKYRSfwYlTn7Zf42niqRQRhVHBpFA1gxtrKhFQZIR3zOteZqSo3rU65XuX7letasTLfPYCN0lMbMrHcsCy6ZnFbRapQoUjRBlQN1qAyUWHrxHXDU6cYcVa1kiW/KOC5a7mGY5UlUKShfi46AQ9eRmV+M0xeycDwyE2cuZiMoPhfBCbm4kJqPi2nVFpuej5yCEnlMR4RjzrBINyvSZdgImck/Z5+c2uWErCURo+X0GEfDliuKWOSHDZM5yng/jjtTZbzaTC+Nslacafl8cvtbqrDeo7Tcwlr3sMoikvLkfQ6My8WJqCyEJeYir1itTOp0yCm1BFRm75WrbDmOlas6lMsa17O8OEDGZdMK7BNAOmcXBT1Va39eFMDhHxStR4kiRYPIZcjl/AKzA/X79CI24kDt35t6OE/IFWfcaFhz4+wvpKYVOhIpuaVYdvAiXlwRgmeXBeOllWEYvSYCY9ZGYPKGKEzZWG0ztkRj29kEZBV2vMabY8zIJKC8dJ9TzeSfriVy2E+DxRGPHnFKjtKY90gcvSrTPfAIUa19axhPY8hcew5OOlwkRwgY0zSRX5iLFUfjat3DKpv4daS8zyO/DMdzn4Vg/FcR2B6QhoIS1ZnojLBDvnTGTl0tYxdZo+7186vxNFlJ9BtUDrfLUXoWVRxFvSRqfK39WCSxj5wwlZBuLUoUKepDLx4viecVYeWJn7gc5q0yfpHZgbAo+FlUkBjSSzhTtKrIOyK6YWJvaDZ+M+E4vjP8NL71il+jdtlofwxZFoiwZJ4S7QiQQJc+HhxzKE6ODLkSNi4t9ygqs3ZLp2qX212YTCHi4BQi1JDpBoJiM9FjTrDLe+nKBi0NhX90hn3tis4Ijx5yAlqeji0KecGqa104Y7MjdnnCfOlgzR1VHsmsux+v/DXK4+0zK1qKEkWKehjlKTI+SyH1PqzeS8MO1LxUuZJ61ByskV9wbnRk46PocKTnleCjvXH49nDXjXRd62iiqCpFA091OfL96omYpu2ki88as9PQigLl+9QSUXTbe+fw+WHVyHVuqoR6pVyEwtNg0p+tXl1rhzIJeR6O7D1UPy+rt19x+HDattM+r6KlKFGkcMI9aH6pZARguUqCV5TVfDFtq3KgTlsnl4XyVAH3hhUdm9ScYszfE+tslP88xQ9Dlgfj/W3RmMJTZzVs0tcRGL06FIv2RCMxu/3Hl5KLBDhOEYmUelNl3rQCP+mMXVmSiNiUDHywIxqvrQ2X9+/VL0Lx5jeRte7pc8uC8UMSm3z/b373HJYdirN/gaKzw9OtMiVS+kZZv9b327Qir7MfEoc14aC3NbfzKFPpxWkyHpfVOVW0BCWKFPQyWsHGynmJffgIerlcpzDgOEQ8xFueuERGnrZePiWGOgt1RVG3GX745EAs4jIKEZlSUMvCkvJxPi4XEckFKKngvF7tG3ZU5aldl8LF20bCyFEYiIK8BEQmZSEkMa/W/au6pyejMjF3RxSuGntGiaKuCtWnXK86cg7JlZAywKiL+G+cEqnw/MB6n7MbA6cbkaP2ihahRFEXx6xIpRfwoEzLUXCeg4vVXYZsD9tS74TjY1RkbJCrdVRPpPPhShStO51ib+24sPOpUZ5kT5u5EC0+sdOWj5GW1+C7k5pXiiX7LuLH45Qo6loIKqMOKdw5O4A0FkYFZ1CWtFQ6+DcVeb3KCs72R0nkeOkzV+Xkr2geShR1SXgeW4egCpozivPoj6sXjIdvWSjxS8krcWROJ0WnJT23GB/urRZFN047jTWnOr4oYuFvTZu5Eiu+NV6OLbPmu4BX/i3ccwE/skWR9Ck6ot65Tg2LocosEsyRqMw5gApe7VjDHDn75Wre4pChVB+7F3GdhVFF+nprJF/5dzYbJYq6IOxwys6fZXHz5FLQhoLU8bbyxMUwSmOtirxe7BVFZyK/qBSfHUlwiqJfTTiBjw8l2ls7Lta0mQ/9iBoxnZMd82iRC+IyizF9YziuHGv5FPWbH4gtZ5LsrYrOiFF6AaXRU+QKXp4mc2X5Z/pKfyHLz9MNYcThUYIHy5WSahqt+ShR1MXgIVpe5cDBFXmZZ31nPp6vfgAlF6bI+ERmZRppoUo6UvU4Oju6YWBTQLZTFF0//gSWHOzIokhIfzmtONSlQGm25RyHFrkBWvjX0JL2uN6nCeM4RrxS0xUsiqZtqBZFDy0OwaFQ1/sqOgdmRYqMcC2X4teph2sZd1ybWAlcbZZDdumFqdALz9nfZMEiieNzGaUx9F6ENWi8naeceV9+h7pS/a9EUReCC3lF+gYUR46zX8I6Lxj1MDh7fVniEhl8Ufo/KLoU+yPycO3Yk3JZvsdEkYNEdeBxYNUsYMFr9Ux8PAVixXuube08mDHU4y2vjujrNjJXVAG0ohCXAsUtyz0E7fwK6Ksnwpj5OMw37oE56W6YUwfAWPQitJ2z4EjbKTsaLo93YUZFsn2BtYlOK8KY1SG43F599siSEBwLV3GKOjO84oxHdGSy2Jp1sQeMHbHZWVsvPEt1f4I0GbldJpI967JsVhlv55QkWnEIOAWOjI9EYt6Zt7ITo0RRV0BwaPlYVKR8gaLQF12+QDwPXRwxSvoYKSe9rsuRqFzcMOk4LhlxGlePOYn5+zwwfVNcADF/HHDvL4D/UJVTx0T3H0D0vdalmQN+A2PNJIiMC/bJmgGLososagSCXFb8jdtJEkRH4Di5EPqcJyAG/qb+dfe8HOYrt0D7ZhIcsVtdnMO1sV8Rv5N14XhPHPeJ4z+xKHpiaShORylR1Knhurk8RdbLvKKMxRGnSaoy/qzB0ChuGGch4HQisiw3O85WbZOpbEo4lU2qFHPopDks6e1WdGqEZg3RUo9BTpfVfXH8e8sXryRqArS8k52+F6BonJqiiBvm6TuTpbhoFQU5MF8bAHHPz4A7fgDc/n3gtu/WtlsvAbp9m8TG/9QWH92/D3PqoxAxQfbJmoFscBJatuos5xgcUathjO8L0eNy4Mb/BW7+DnDnZQCJIb4u/Pf/gJu+BbPfz6HvnAtH5lHX56pjnJXfVfLY0ORCPLs0AD8cZYmi55aHISQ+y96q6KwIoxQVScukywIHbyyPX+A0/qwo7GUZSJfz7xWef5g6sPe5dHtoyHjlMMeUa85oZmNmpbKJkGVYdp472UpkJYo6OdwolMfPJeHTn16Q+vPRHBW1LGGRnEPubIVb0XzqiqJp2y5S5dfK4IwaCe2QUzA/fBXGpHtgju0FDP1XLRNP/xXmfdeT0PhWbVHU+0fA4Y1AYa59smbQClHEPkPijbuBvleRIPofiNtInD3yRzmFZnzwNMxX74S46yfWNfL2qc9A91vr8lx1rSFRdDYuH/3m+OHSkZZP17BVkbiQoqawOz+CnT1lh1SKjBpmfVZBf2bLKS2OQcTpPIqCBteryxuygrP3SGHFq9tclceW2WkZf4vz/MkEyJ2ILieKKhwaEjLy5KqO3QEpOBiSWsv8otJx7mKGtICYDEQm5aC4pFAWzo6GQWq+POFD6l08ZDnq1XxZ6P8LqNfByS7lMmE1QmRjOecGxWXK8sBlZP2phEZt+7lkmUW+M+AXk48eM0/j+69aDfP49dHIKyy0t7YQQZV+GfUq02IhEsIh4kKBi4G1TJzfA+OL8UCPHzoFkXjsdzA2zwRy06gwtyBIaEtFUd5ROKLXQjz0S6Db/0HccRmMUb2hnVkFLWIDtKhN0DdMg/nyLc5rNSfeC/3oJ67PV8caE0V3za4tii6mdm1RlJZbgmPhqdjgl4j9wbXranZCP3vBqqt5RC0mNReZeYUwzE44rUMdVh5RYj9PHvnnTAKV2ftlwN0S9hHlabaa9XsNKyQBVZ6yisr1MZflsTUmR41Ko+i6Okf9x3QpUVRe4cDZi1kYvzYUd80LRL/5Qbjvw+Baxis+Hvk4VNqjZIOWhWPx/ouITOlYapidqjmjN2eur/uSsJN1cdhwVGZslvPD3HgoLLhCTc3KwevfRMvywGXkzjkBjdpd84Iwam0UTl/IhkPv2BVy3YZ5zFfRyMhtpShqApmxPuoIjLceAm77niU0BvweYuFrMLMvUI+5heWzpaIodS+0Qx9A9L7Cupa7r4E5a1CtffTjyyFep+utEkUjukPbN6/WPg2Zu6Lo1TVRSMrsXL3w5pCaW4xPDiXggYXB6Env2b116ur+HwVj4BKrvn5iaRieXh6BUVReT0RlobCsk/tEUtnmMsT1PPsL8Qq2kguTURQ6xBZI1qwA+yqV0TZeMNBan6KGTCs8K0eM2H+Petf2BdYmu7AMUdSGBsTl4HxsDo5FZOJoI3Y2JlsGkzVM369661KiKDO/GJ8disHPxp3Ed9xMesn2wIIA7Aly0+FRKvoKWWDbxopksLqK1DX0QgytJYYsQXSfFES8nXOWuT5HJzJqcHlI2nIcb/oF00jURCZmoedc9xN3sv1h8lnM3ByBovL2n/KiMdpCFJmpYTC/mEIi5Grgpv8F7vwhMON5IMzP3qOFtFQUpewhgTMLotfllughcSTeuA96+FY4ck7Akbgb+iba/kqfalE0sjf0/Qtdn6+OuSuKfHHv2zMHQ9Lw0KLmvYccDXw51fEZ+a4DZHYqSIDILPsyWnsAKrN2ykCPnHmgKOQ5SxAlujd62Wor8Lcitjty6brq14HnLmbhw90XMWJ1OIZ/EY5nPg3G4KUN28urwjBvTxySskuoo+lbt44uJYpi0gswfXOU8wViv4kfUAV0+WjXdtkoP3z/1dMYuDAA+0IaEkXU0LIQ4oaXY0Bo+VRIk2GURrWJ6SXh9HLsIuHzSv1VC/69URw6DBXJn8sCzMOers7RqYwaRaMiw4q3YZRCyBe2YXHEI0VpOfl4cFEorhrjT5VsAzbWH1dQGbl05GkpsH823g/PfRqAvJKO3UP1ecOs0Xuz4zOYT//NKTAw5EbgwFp7h1bQUlGUy9NnX0IM+IXlTM3X9MCvIRaOl1No+pYZMCbeY4k4dgzv9m2I916Afu5r1+erY0oUuQenOOFUJ3wv/o/eMa6PXdXTbFyPf4/q6usmnsFmv3jkFnX+oIXs8sAr11iQ1CpjeUdRkbIclRkbScTzCFGNbV6109CLguUUH7eJNdlxPhn3Lghytr3u2DXjz2KTX6LPn2WXEkWchHHi15HOm/7L8Sdw64yTuG+un0vrN+c0/vbmcYz+IkhOjbiCo0NzrhqO5SArX07+KKPntpWdJFG0A2Wxc+o547FTdWn8fBkXw/WxndX4mZDRs2HB2lSUVyEEiedoDFpyDsNXBLm0l5YH4oF5/rjx7RO4ZuxJJYpaSmI08O6L1ghRlSha+R6QnmDv0ApaKorYkvfCeOcxiH7XWNfEq894dRyvkrvlO5ZD+I0kiEg0sYO4tncmHNn7XZ+rjilR5B41RdH36Z70meW6nmbjevxPrx9D93dO4Wx0GkorOr+PJHfArfrNRTmTdbx3pssaNxJGLpyvj4any7hbVW2vO8ZBTGdsCkd8VisXejSTriWKEvMwYV21KPr31NOYvzsWkanFLi2CLDCxiB5KKYpdTIvwVBXH9NEKA6XDWYMF1NeWd0xGo+Z8ZRyjojhshAwRXxr7Pio5n46rY7qIcQPJAcyacgxMzi3HhYwSxNGzd2URqUX49MBF3PjOOXx3xGklilqIufVjiOdvtITHrd+FOa43RNARa8Vaa2mNKOIl+SErYL7w92qx5sq6Xwox/QVoQbzkmRsiF+eqY0oUuUdNUXTFGH+M+zIEB8IyXdbVIclFCEgsRCj9W1LugNkZna1rwEFJrfQ1rstYmxpHbS+Lp85n9RRmeGIOpm6MQJ/ZZ/DoooAG7V9vn8ZVo0/JZ86iiCO8c6R3X0JvddchOjUfb22snj5rTRZwOU3GodJbUuH6ylgcZe2SARk527IURF5YgdDRTDoGcij78kRqnKgX0oJQBOUOHVv8E3HjuwGyLF0/yV9GIy4oUz5FbmHQPc9Mgnh7EEQv26G515Uw9i+BKEi1d2olrRFFGYegbZsG8fjvqgXQTf8L0fMqK15R1Wf89+D/wFjxGrSw9a7PVccaEkUnL+Thpqkn8T175Z8SRdWiqK0ayPaINW2WKJfouypf7cF4oICn9qooKKlAQHwedgdn4mhkdoM2bk0Y/jzFitOlRJEPiMsowLtbo+UNZ2uRKOIouY5cqdLdKZRa2gFokRuhRVCFmXuYPmuLIU03jHu5OdQQJO+FI3YbtLgd8tpd7tvWxj4f6ftbf33sHFgaSwK3qNnCqK4o+u2bZ/DWN+EoVKLIPSrLII5+Azz1T0tc3H4pxIs3w8wMl5W+R2ipKMo8DC1gNcxXbycRdJl1fT0ug3jmJhgzB8GYfC/M5/8O0ffHTnEkBv8F+ro33SqTDYmiujGiJn5zAQXFHDm4a+JVUcQjSRz7Kj/bLROVpe7VESX0rpQVSbcKb8H+kVpRM/P55ZyAHrYFWuxOWb5d7tOUcb0bQ+cIWEPn2gxH1sFGR0f1Yn6X3VvgUkXNZ37V2DOYtTUSidlq+sxrtFoUSW//UjnS4KoQ1LJcKiyxO6AfXgjj0+HQPxsBR9xG+twzUUU9ZlyoU/fBEfE1HH4Loe98D/raSdDXT4Z+8EMSc3TNKbQ9p42vO/s4tIR90KLpZQz8DNrhudD3z4cWtNbqoSfsppfUvYjCdU0O9epU6TUDFkUbTsfjP+8oUdR8BERRDsy5L0DcawVAFI/8Fsb6GbJB8RgtFUUx26B/OcFaBcei57bvQrzwX5jbFsORcQSVOVQOD8yR0a5rRuE2J98PPXid63PWMHdFkRU4s+uOjHhNFDkqgIx44CCJ8t1r3DIRfgyiMN0+QQ10et+L84HUWCA+Aji+HcJvF0TMeSCFPsvLkosJPAYJM/bZcVWuXBrX79wxP0+/YeFrML56C1qwe0FGnZZHHfmsI3BEriXhPwHmO0/Kc/H0siOz4U4Ap9exlum73+H8eH8s/vvOWfnMeSXhkn0XkZrXvLq5tShR1AxRxHOkRtlF25nadUFwGgkJY/ZgiPt/LgPA4dE/w/zqAzjSW6jSvWTse6TtmC5zOOEWquBvJuPr5RU1d14B85n/QNs8HY546mG4ON5XpkVSZfPpW8CYHkC/q63rZOM0EA/9HvqykXCEubf6p65pvGLCQT3CZlBaoWPZgQv421Sr0laiyH3k4oS0SOBeejfYWZlF0as9oBdRo+LJHnYLRZEWug7G+09YqTz42p77B3USplgdnar96G/twEI7Cre1Qk283AvG7qaXQCtR5B7eEkUiPkTWzeh5hTX96Y499Wdg13L7DDXIovZjB30+7EbgDhLRN7Mj/iVymtUcfCPE0reB5Bh751bCsxTNTXDMUawPzpZ1JG75rqzXOZGxy30bspxjJPbXwHi9P0Tfa6xFBndeBmPWIHpXGq9z+d2zRovcg9vnP0226h4linxAa0SRnMetSLOnzBp2qNaSdkPf/QGM0b0h+l1LLwn3JOk2D7wB5po50NqLKMo5TkJjA/QFL8B86i9WTiq+zprGPhTsSPrgL6B/QT0DHqVxdS4vm75/HsT4PtSIXmflnmLRVnWN3KhyJXTvT6mn3h/6gQUuz9Go2eHqmxOVlUXRp0oUtQz2JVo7l56l5UskHvgFzI9fo04Hrwr0YLC2Fooi3X85xCvdrFVmdH3m6/2gn19Vbz/NfwXM4d1l+ZO/44UboW+eWW+/uqZEkXt4TRTFBcF473Gn6HXHzJHdIY5vsM9gk55IFzkNGPBbqj8vdQp8abya8jb67J7rYM4bBhF+3D6oFXB5Loun8nzOZbmqa5U5+6lD+xbM5/9tlVG6PvPJP0HfOM3l/g2ZRh18MfsJ+Z46Q1Tc9l2ZsoenmV0d47SCM9Th5CX67gVgfWdLNP6oRJHvaI0o4mX37ih0fd8CmCyI7qDGm5fxVr0k7UkUcWLAhM0wpw0gwUM9Xe5BUG9I3P0TmENvhPlSN4hH/2D9Bvv6zWE3Q9s1x/X5vGha4m6YHw0BqgLpsd39Y5kCQjxxA3D/z6yeC30u7r6aKrtH7Rw/zfPdYrHLKwndRYmiVhB+BmJ4X6vccdkadQfM41/aGz1IS0XRqU+B5//u7NDw9fE0eN39tJPLYD79z+r9Xu0OzQ1RrkSRe3hNFCVGwJz7CnC73RHkuuXJv0CMvq+2vdYfxtSHgbkjIQ6shcioqh+EFPDim0UQT99knYM6aubjN5CY7gkxgozrJv6cjDuV5vpZcnFOa+ARVtkGNTlTcVLWgdrGyTBevhmCxZm9SEBfMhSOMPenz7T4ndA3kfB75DdWOAr7N/FKUeO1PtDOfeHyOKcV+MMojZWzLO6gRJGPaako4sLI+cFcPvSalnsU+tLhED3s1TQ1TDz2Rxib5kqfBJfH+tKyDkE7/ylEnyuta7vzMpjP/gP6vGeopzsD+o73oH8+BsboO6qvn34T/zbpbOfqnF4yLWEnjE9egRj4G4iHfkWVzs0wPxgMY+U46KsnwFw4RDq5sqMuX6c59F9wRH8lh3xdna8x04pD6eVlp76mRyuUKGoh5VTBHfgGovePrYr61u/BnP8yzMwIewcP0tLps7MrqFG83dkIiAG/hDF7EL0z1ABEb4LjwmZogV/SOzLW+Tt4P+Pt/nCEU9lzcc6a5rYo2h5H5bHC3tr18J4oioQ5b7hTFImn/gzz4zEQx7bVttM7YITtA5KirHJbBU//ZpOwmviAHEnn1DTi8T/CXP0Oiad1EIfWwfx0IsR91R0284PnYOSG2SdoAezPqpe4t+KMFwrsepfqwpus6/vv/0H0vRr69IfgCFhOdbibbVDGYdkZMF/6r3PU1GnuiqL80/T+BdC1u1eH1BVFn7dBdHL6dV2HmLTaEa3dFUWmVkgVWdMxIdgBU//sZelHJO651lq5Yk/1mIP+BO0g9SIz24EoSjsI/eRSWRmIB66jnnAPaN+8icrs3dWrCTL3Qdv8Zq0XwZg/SP7Geufzsml+y6XPkL7kZehnV8rrd25PPQDj0xGyN9ba+8zD0kZ5vGxMm0KJohaSfAFg3zC7TAnOcbZ5mb3Rw7RUFEVugLHkReCuH1WPQt77ExgzBkJfPgr6yrEw3nsC5uC/On8HTwXqnwxz6/1wVxRN35EkG8OuitdEUWwgPctHgO5Wnj1zdA8YB6kMplwEYkm4xIRaTtMpsRB56YBRZwWVowzGmTUQz1gxrMS9PyOR9ZLlcG0jos/CmNhPTjPJ73jrARjRJLBaSJX7Bk9HuSpTTss6SoJ9Dcwn/0bChX7fTd+CuPtaOdXliP2a6nc3O7XUDmgha6nOf666jPP9sqeK3RdFlvFMiztluaYouua1M/j6ZBxyCpUo8hoc0bpm8Ea3RVFlOvTiYJcPu65pMVuhH1sCbdM06jkOcEbEbVeiiI1eHv3cSuh+n0G7sKW2EymZFrcdxorR1S8EmfHhC7X28Znx6ge+Pl4Bx3/X3OZJUUS9MG6wlCjynigS/ttg8qotu0yJyYMgAo7aWz1MC0WRDJ1xYTXEuB7V07bsL8IjQiyS2PjvGj4kYvKT1NFowr/CtuZNn/l2OXJ7wmuiKOoMNehUBqlh52fH017mxLuBF/9jjTizK0Hfn8AcdhuM5a/BLEiUswVOyooh1n0IDPyj9fwfvgFi7Xz5eRXSb2lmtd+SOaEvjPOb7K3Nh8sLx1azovO7Llds7PhszHrSOXLOU2bG5PtRmbaV6k73VxDLBTifv0qd+59bv5F/w5AbIR77vfX/zRRFnJ+tqUwCjBJFPqZuRGt3RRGnhuAhQFcPu55lH5NLIB1Rm+RLIZ2tuUC1N1HE4iLjEBzpZHzNdbYbu2ZB8IoK+4XAg9fBWDOx3n5tYexA6Ij8CtrOWTDmPkuC6JfO4V3x7N+hn13h8jc1baehFQVSBdj0agklilqG6bcVJlWmVg/2pzB3r4Aobt7KP7dpqShifzSOwRL4KYz3H7PKV9V7UNOoYTAf+h30j4ZA818JLc09f0HlU+Qe3hVFVAZtUSRHc3qS+L2dBEyV0OUppzt+ANH/Ophj7oMZvIeehR0ugkeK/L6sHinqeSXMkfcAQcchijJhZobB3DiThNWPnFOrYupgiJgA6/gWYIkijk3UiCjKPQRtX53vHfRnGB88DZ3qbnPTAugHl8i6U9ahrs5hm7Z5GonCm4BuVK/ybMfjv4Px0QvSv07eHyWKOgctFUV6aYx0GHP1sBu05H1yiL3diiKXZjno6bvfhxjfu5ZzsznpLjkC5vo4H1n6QRjr3oAx+zEYE3pRz+Xf9ooIe4rjARJuc5+BlrSn3siXu8ZTaF1ZFHFU5Rs5qvII6x15Y9MFlHowdpBIj4a5bylMXvW4aSH9f4wUL16hxaKIjUcnqZHh0dTNM+RopDnnKRjTBsB8/wkYi56HvmoU9C0z5RJ+2cFweZ76pkSRe3hLFCH8FMTL1asLnUZCQvQiQdH/5zVGCOmzOy6DOXcozMiT1vGGBiMzBOb4/hC3kZDi8CV9rgHG0P9Pp07aW4/IMA5V5xUDrodYMxsoarmjtVyKL1edNbLyOWIzzEWvVP8e/u67fkzC6E9SHIln/wvzpVtgvHU/tNXjoYW48L3MOgbjxJcwx91VHWmexKG5ZJiVCJlXAfNnShR1DlosipoTLKvKOpgo0tIOQT/3FfSvx0OMoAqjt/1C3PxtmBynZeNUOOK2uzzWJ8a+TrGbIF74p9Wj42urYeLW78Mg4aadWOz6eDeNp9Cs1B+Nz393VlHk7YaZBadZkgYz2R+isoA+aH6KFbdplSiqYxmHoUVthBbwBbTw9XAk7aAGpYZvWzOsIVF0ggTpf94+ie/agvRNEqRlngxm2cHwmigKPArx5J+kmLHquEsg+v8KGPcgxPxxwPK36N+XIV7pDsHO2Df+D8TDvyYR/yEVV26gefVZGcTaeSQ2/lWvLqprYsqjEAEHre9uIVbyV9flqcqMA0uAUXe5vIaaxs7X5hN/gjGPOpAcyLEqwnX2MZl9gUe1cLcVVBU9LicBeQf081Tujy5uuSgqi7Xq1SZQosjHKFHUgKXuh37sM4hpz4MTXMpC/99vWcPHj/0e2s734Ujc7fpYXxk7CF5YC/HMX+XSexltuEZPT/S+GvoHT8ERuaZZc+f1jONqVGbV9iFwQZcRRdvdX07b7vCkKPKgNSSKfBIOoQNRUxRxyod3N0d4JmP6ucMQHFuIY+7wKM/Df4A5bzQQF06VvfX+mloejFPrYA68wZo+4jr8w5dJ0MfL7VLMh5wAXn/UWQdJY6Flj1w7bf5YIPIc4Gh5+hq3RNHXk62l8zWvhePP9fkR0PdaiDsvJzHzverro2360hHWikp2rI7dap2DY8Hxdm4DnvgrzHVzoMXtgnZkEcyxPa1tt14Cc8yd0E4vs3w9XVxPTdNLwuU9bQolinyMEkWuTds1G+awbnKoWBZ4MumgN7IntP3zZC/Z1XE+N+rJcI+Fl+OLN+4BHqOKzb5eec29fgR96gBUZlEvvmoVXXNNiaJaomj6zqbfj3aLEkUdmpqiyKMxa0KOA89ZcajEXT+FueptmOWpVF5qh+KQvkfjqn2PTKpbjJhDtMGKLC0WjQQ4Y0HNOojOJ5MG1/hM+ve8OxRIiLLP3HzcEUX6ygnST6/mtZijesL8aDjEJ5NhTBkA86l/VF8fiULzgd+Q2FlCwuYAHAfel/9fFaBRtgGjekHbPRvanjnQPxsF83l7ZIxjcz3/dxibpspFOa6up6YpUdROOROTg5dXhsobznbPvHPYEeAin00dPCGKLAfglS10APaGnZArDIzVYyCGUEHniKxc2MnYwU7/YjQcQSusvGd1V3y1lUnn8MP0Eu6EFrFBBtkzVr1Gvbk/2D2g/4N48o/Qv5lsOZC7OkdTpkSRUxT9dNxJfLQ/yd7SAVGiqEMza/sF/PUtK2O6R0VRaT5ExDFgx0og4ChEDgkiV+97QiTEByOc8YzMSXfDCNoKlBfD2DIX4mk7wCfVPWLgnwBegcYrKU/uAj5+XTonV40yiQd/S8LkbfvEzcetkaLFw6zRIXsRg77mTZkXUru4HVrsbjk15ji3DMZb1KHkup6dym++BNrO6dBOL4bxzsPy/2s5m995mVzZK+0easuqXBd4H/pbhp8ZcSuMLye4vKYqU6KoneJ3IRtDPw+RN5ztgQUB2BOUYW9tGI50rDUVH6Ku1RVFz/8TetCX7UcUZRyCtuVtiBf/XS2IOHQ7pzTYNhOOC5y8tj07hZNlH4UWtQn64pcth2v+DXdfDfOdgXT/97o+pgmzfIqoweqiPkV7w/Nw1ehT+PZwP1w//gSWHEy0t3RAOrgoGv5lFBIyWhcFuSNTs4H0qCiid1vo5UB+VuNTWkkXIT6aSPWjlRjYnHwfjIjdQFEuxMwnZV0j6xxekv/lPCA1zjpfWQkQdQ74dDLQw56K4lREY+4HMuh9MprvR+eWKPrwBeu7eASo/6+gHXaxMIbqdGPFSCt/JO9Lpn81Hvqe+RBvkCiyP2uW9f8pzAXP1v+uGmb5FNUv83VRosjHtFgUVaTIpdquHnaD1p5FEU8txW2BOfJ22ROQBbvvVdQT6gft+MfSx8jlcW1huSR8eGQoahv9zdN4dUatOFjZiU+o12YH0ut1OcT4XjI9SK393DI/es7BTY4SMZ1SFAkDO4KznO+HEkXeMXdF0dCVEYhMyrG3dj1qiSJqIH0e3TiG6oKpg5yxhsS0x2HGngbyMoGh/7WCGbKT9uj+QHoCNRQ1VlFWkHgL9ZMjRFXTURhym+Vb1IKs+XL1mYxm3fDqM+PjV6zVcHIV3Y+hHfjQ9X7fTLFGsfiayIzPR8M4sQLGmmmyTTCH/Rfi2f9APPlXiMf/UG2cUYBDF/BxPCVIbQZnEzCn9oe+fbrL76oytfqsndJSUWQ6Mu0YEa4fuEtrz6Io6xAcAUudaT7k3PorN0PjnDgcY4l9iKqMfaDacvos5hvom9+F+dlEOM4sJsG2j8RRDX8hDkJ5bImV6oN/C7+ok++1luXXPI8bxpWOUXpRNqZN0RlFka6VY/O5JOf78btJJ7H0sJo+87Q1JIrOxxeg/zx/pyh69rMwBMVl2Vu7Hl5rIB3lEFkk9hOiIHJTgEoXo0/lJcCxLcATv7emwHhaavYIIC0eyEkHeLUai487qBP29jMkgui6avkkCTp3msyUL6f2uW56sTtEbJDTmbs5cHnRi8Op/DQcp0j/YiLEvdU+ThxKwpFVZ7Q/7ziMtROAAfbIOpnBy/O5E8mZDoLXyI6xsf0jGF/NoHOOdxpHt3ZGcb/lOxBD/w39q9fhiFjTZNwjozyFOptNO5rXfOZX0zNfezwWWUoUeY+WiiJZIKkic/WwG7T2LIridkBbP6V6lIiHP+c9gcq0LdADv7AiXVdZG1+zvmIsTE6uyE7gfa6CfnABtJojWXyf33/Smu/m+/zgL2DwiopUTgpb+1xNGTee3Ih2VVGUX1yK5UcSnO8HL0T4yo2FCO2WDiaKwpKLMGRZIC4bbfnRKFHkHVEk4oNhzHka5uN/g770VZgxp+wtNQg8DvHW007/GulAve4ja1teFsznb4VMtMr155Du9UaAeLTZTIuoXtrO5xjZi8qje2mE6iKMUuqwURvUSDJYOQL0WPUIkL7gOTg4hlaNfdiPVJ//pHMfud+u2bX2kZ1gF8Yrzcx6S/JX1T62AXPHn4ipNTo47gw+Vglhvcv+kEw8vDDAWek/tywYJ6LcqHSEQYU50eXDrmua/+cwFr0EY8Sd9CJdbfUwuBB1/741BPlWf2iB7qUD8JqRKNLXT64WRewseNdVEE/8DmLgr2VMDqdxItYn/whj3rPyt7k8nxeNE9Oaj/3Buk5eIvrgL2VgSU4E6+o+8zSafuITOYLk6nyNGU+duZujpzOKovS8Yny0N875fri7OrPd0sFF0eOfhOJkZNOdts7KmDUR+Plrp+S98OhIkd9eK+ozO0j3uwbmuLvl1JF+ijqEZOLTccBLJHQ4kCPXO2QcFdqMPm4dX5QLY9rjVO/82Nre52qYYx+AWL+YxNQxuZ95aCkwZYBMFivrpTsug5j6jD1a0nTC6bpYuc/S5UIQV2WKjRMZG+8MdF6z+egfoVMd6QhcicoMXpzyNdXjz8F86NfWPiRsOP2ITHTs4nx1TfP7rAVxijhLQDCVd/fibdUVRSpLvpfhUSEeHaqq9HnUiEeP3IEd3ZpchZZ7CPoXY6y519t/WO3FX2U8D3vXj2BsmlZ7tMPXlkS9hZ3v14pY3ZSJ+6+TUX21hF2uz+kt49USUx+E6FHjWntSBTOAxFHd+/zwDTAXjbSmzpq5JF+OEpXFuV1pdUZRlJpTjPl7Yp3vhxJF3jF3RdEjS0JwLLzriqIRX4Tj2rEn5b24dvxZbD2TiLzipv1SmkJcOAeDQ3rYyVrZT4Y7rObLN0sTD11fvcrqlu/AHHojzBNfQ5Ta/l2c5sN/HcxX7rBGi3iVFgsoDuQ4sh/EOLKh/7ESCnOdz+d5uRfE/vXW8S1BOoc3kSU/ZZ+MOo0Hfm51IG+jjvjA38IcdTuMyXeT+OsJ8QCnRLqEOsL0ux76DbQ971J74F6drgWvkc7m8ve4K4oK/GS7KQz34kspUeRjWiOK5HBoZWbjzm45JIq+nAg89mfgbupF1LV7roF47HfQt8+ExkvdXZ3DF5Z5GFrAanpJ6EV9iF4SeW3XWqMwdY1XdfW7Wo4aGUuH+14U0T3VDsyRlZjg8Pt1A6ORIGJhJJ77J8yPR0E/t971eZowvSSKKh33lz+XVupYfTQW/5x+XpalziCKkrOLMGfnRef7cef7Z7DpbJq9tQOiRFGHpq4o2h2QjIKSCntry+Fce8aZDTDfuI86e1S/VWV+r2m8Woy2mZPugbnjY4icZPtoQhiyLTDXzoF4hYRG1Sq0usbChOusl3oA3ywBcpsO/9IoQrOSwjaSckqL+Abm4helyKsapaprLAI53pC+5EUSRFuoA+meewTX/bzsX9z7U/rN18KY/ZRMQOtqX6fRtfI76I6TNaNEkY9pjShiOLKvXnqx0XldPYAK5cq3IKYPqG/vDoSxYqxcRu7qWJ8ar9riOeLFQ+W1mTMfg/7R0HpmLHgBYsbDJIheaZPpM2m5h+AIWi6HsMXTf7Om+Kg3Jx7+Fcwn/wDj1Tuh75zdwhVn9LKzg3Vl8yqscoeOLf6JuPFdqzx1BlEUl1GAd7dGO98Pd33u2i0dTBRFpBbhlRVBuFyJIklNUfSTCWexLygFhaWtF0USvQLGhf0wF4yEePF26qzeYNUpbPw3fcbbeB/e1yVp8RB7VsGcMRh48m/AwBuAh0mMsD3yJ+qo3QST04Wc2kGCKNM+qBWwG0eFG8nJ0w5AXzYK5sv/tX7PvT+RU32i/89kR5ejUmsbpkj/Io5X5/IcDZh2ZDGM9wbBmNgf2r65TWQ6OC3fPdORK99Fd1CiyMe0VhQxnLvJSsznqhDUMBeOatJc7dvW1tS1tZvrtq6Te0OcCV8LW4PKzO30WSvSepC5u1y0JkoUdQA6mCjivF6c34vzfPH9V6KoWhT9lESRX1Q6yiqaXsHULISQjbaR6S/rFDb+22rI3fP9kfn8Skn0hPsDwSeliVj2T8ynjR7M7WdH0taKQlyWq7pWmUWCJXA59G+mwFj0IrTt70I/uRRa7DaX+7ttTbUXtnFsP70kmq7bfcdyJYp8zDf+qeg+06pw2MatjUBwgnte8U5YrfM0WlGQy4KgzAfGTtSclTzrML2crVgZJ4d2k+UIIFc4zaGuKLpugh+GLQ9EfmnzY5DUJb4I2BarY1VwKUq1pivmSqp3T2QIvB8o8I5fJXZdbJnfRURyPl5fX50GR4ki75i7oui+D4Ow43wH9ulqJfVEUbQXRBFD5URopdJnSBr93ZyGnHYGTNq/nI7jpfxslfQOelIQVVE1WuRO3DzuLGZSPZm4m4QQdR45oG36QZ+tJuY20qzMpmt2v25dsj8WN71zVj5zJYp8ADuNsvNoVaXPedA4H1rzEPSMK6kXkGdFum5uUEdlbW5WDyaSnmEW1TFceTVPEDF1RdHPxvvhuU8DkFfSOlEUS4JodrBAj60mun3jwPNHBE4klTfYGGSUGFgbXo4BewX+vB7441cGXjlUgbyiEphm81a51M0N+NQnQTga0YGXhHdwUdRvfiC2nq3hy9LFGPRZJC591crB9/NJ5xCdkgldb32no6NjuXHEuCxb7cX4nWvOwpUqvJbvrhl0aVE0eUMUolJaHkZfxo7gaNfs/NZIUC1l7cd46pP9wtyNm9EQ3hJFJzMEHj0g8P8+pZfTtsF7y3E8ub4oyqePtsUZ6LWxHJd8Vn1Mr62VSMzIgWE0T+wFxuVi1JfhzvejJdPL7QolijooVsfzwSXVAv26189T41jIla69T9fGdGRThzzYZflqD6aXNm/hShVKFPmYuqKI/SfYj6JVUMXLo0YcbZRHjbjR5ZEImSuNVwkoa1OTz4KfSWGArERk78XNmBmN4S1RFJwrMOyYwKWfV4sitpEngbQadUNuuYndiSaePVJbQF25Cnj6gIaM3AIYZvNEEQsgFkJV74f3RBH1HA26T5wuIT0eSI4GkqgSTYsFstOAyuZPZ7rEXVGUewIaBzQN/dpaTRO/0/V+dY0jq6cdhBa9GVrwOrk8mYPZaWF0notbrWTKLqYqGhJF8VkleHdzBK4ae0be/75zA7DBrwNHFG8hgp59RXk++i+ykndzHr7fTT6P9EI1SlSFFbcozWpn6pSvtjaub5u7cKWKmqLoRySKPtp9ASm5ShR5Da+IohpwRWdWpFLDG0N2kYRShBRLytrOjNJoahiTpIOiRxpaG2+JImbtReCmTbXFzu/XAdPPUQ+atrOtDinF7Rsqau3D9tgBIUebWoKvRJF0TC1Iglg7D+a7gyHG9IB49VYYbz0EsfQtmLHn5RRBq3FXFKXul1HQzRf+C3PozTJgqMv96hiH1dA5JcKMR2AO/idEz6us2F/Du8GYMxj63rmWL0ed4xoSRdwj5p4x95D5/nPjwI1EV4NHOHmks+98qyxePuoUer7vh6wiJYpq4k6U67awlixcqaKmKOIRUx455RFUX6JEkQdFkWx0TU2qeMsqqHAoa1PjZ0CNMP2P/ZA8gzdFUV4lVQ6RtcXOJcuBbht1fHSmBONOmvj3BhM/+NystU/fTeVYH1WJ0hYugKsrilq0EKEJzORgGGveBp74K3DPdUBvEhI9fgDccSlEryvAaRHE0O4kmOZbeaZaQxOiiEM4cCgHYziJsnt+AnS/FHjoepgLX3C5f02TketnPwVOKyOvm2PCcOJPjqPFv6XPVRD3/xzGR0OsUaMax7alKKqo1JCalecxyy10Lyhfc1CiyE2ovWFhxJ3vxiJd+8wKWr5wpQolinyM10WRosvgTVHExOTreP14CS5bUT1idDmJoH+sc+BXawS+RyKp6nOeanv6sMCmGA1pxS0Xf4fCMvH4kkDn+9GyhQgNY2ZFwvzyLSuwXFUguR6XQ9z3MxnY1PkZR+J97haIdQusCrYZjpq1aEQUyUB0aybKoJ+1oqJzHsAFz9bbv5ZFboSxcIgVmM++Zmk8SlTjd7BxnBhjwXPQYkgY2YmM20oUpdOtXB9j4PE95R6zN087EJInoHluEFaJoubAwkgrpDIVjUajXXvZ+B0zyhJbJYgYJYp8jBJFCk/hbVHk0HRczCrBYwdMXP1FtQCqa7xt4H7gSJpAa10u6sbx8rgo2kIi57l/WILh1u9aKRHmjob4fDqwZCIw+l4SJSQ0OAP3bZfCHNEb5rmddDNaGLCvEVFk7JsLMfzWWgJGmhuiSP/mbZgkpuT+HLX4/utkQDxz/rMymrD55n0Qj/4O6G7nvSIRqG+bCUfGYev4BkRRRn4ZPj8Ugx+/5h1RFJEPvH6m9rRsa+0/m4CdiQLlHhyIVaKo+fDCEV5A4lYMPQ8b+2saZRy1uhUdGBslinyMEkUKT+FtUcRUGgKHkjV021x7mqzKrloFPLTPilHEsYpai9dEEQfB4xguo+6xhASLnkdvAM4dBkptp3f+N/QkiaQXAB45YjHR5yoSGAOAQjvnVHNpTBQtGwHxBKdC+L6VGPlGO0dVY6KIA9ax/9EkEj130DE8VXbXj2HMHlw73YGMKEznf/AXzt9hvH4vHIk7aPvJBkURJzvlpKec/JTvvzdE0ZSzAleshMes53ZTllEuq55CiaKWwQtIjLJYu7w3kIrKgyYXsRQF0TvGPkQsiFpPTVHECw544UECdQ59iRJFShQpWoAvRJFOjUN8eg56bal0KYp46T4LIk/hUhQltTxkhRON7knEWeCF2yyRQGLB+GwsCaE6754tYsSo3pZAYetHAik71d6hmTQ2fea3HPq7T8B85t8wxve1Rq74++7/WcOiKPMItAPzIQb9ydq39xUQE3rXTy+TdwKVWTtgDv+v83eIvlfBEbESjtwjbSqKFoQK3L/bc/bGyUokkYBhIeMplChqOVaOziw4GsvR6Qlj/6FSKseGZ1eG1RRFakm+D1CiSOEp6oqiX79+BpO+CvNYmg92iA1OLkD3zQ784HPXUx5/3yAwP9h7omj65ijEpHng/agshX58JcTgv1ki4eHfQ6yZA5TVFQYcn8YBc+lEiAHXW/v2uRo4c6B6RKk5NCKKZET0i1uhnV0FY/N0oOfllnh59HfQl42svz+ZlrxX5gmUCZR5X07uTMfKc9XdP+849EUvOn8HJ+HUts2AI3FXm4miCoP0ZTkQR7fSU5ZWKuRUr5sZMdxCiaLWQA+Cyj2P3HA0aemEXbdstsJknLeSKBiVGfQdLQt82xhKFPkYJYoUnsKbWfI5evWhuBLcv6MC31vesA/I5SuAe3YY2B1Tjgq99a1SXVHksffDQaLozBcQz9iiaOANEF996EIUWZirZ8B8zHbG7k0C5Ng2oKgFI1aNiSLbtJT90A8uAHgFGX0ff2+DS/ITdsF86Vbgjh9a+754Ixw1HKjrmv7VGzCf/qv1O3pcBnPZ69Cit7eZKOooaCSKIhOz0HNusLwPShS1DDlqpBfKeEZ6aSyVu/DmxzXiWG9FQSSuQmV6EdORQ2W3SHZepADzMHN3XsQ/plrlX4kiH6BEkcJTlFbo+PTABfxtqtWr8ZQoKqtwYF9sKZ7aW15LALH/xl++Ae7cbi3Pr/r8mpUGHt9VgYBsgbLmpGtygddEkV4JI/EIxLBulkC461qItwYDCVEkmGpE6tbp3l0MgZg+GKKfvYqrz9UQAXvoxrTgOjwtiuJ2wGRfqJu/A9xyCczX7nK9n236xqkwn7cdsm//Acy5r0AL36REURNUiyI1UuQRhEHlrUQKGvb/0UsvUBmMdBoHtZWBh6WxAIqwttF+RnkizMp0KyWSFELeRSWE9TFKFCk8hadFEU8/VGo6TiYU4fHdtQURL7nvuV1gVqDA5niBGzdbn1Vtv2wF8MYZgcAcoLwVwshroogqZa5YxRsDgNts3507SYSs/gAIOAoRHw6RGAmEnIKYPw7ob0+dsd19DQmqE3SKFlSMHhZFWsw2iLvsqbOeV8GY+ojL/aqstii6FOasZ6CFrleiqAnU9Jl34Rh6plZUbZUZMCtSbEulzwrk57yfr1GiyMe0uSjilo/nYD05Ad8a5PW4ae0dH1+rp0WR5VSdW8+p+n/Ium0W+CrG2o/9QnYlCdxEwoi31dx3or9AeCsWi3lNFNmYX74L84k/VgseFhd3/RTm0G4wXu0Bs/+vrACINbajH21Pi6DXpgX31Sui6Grrut0RRRtqiKI7fgixcCK0iG0NiqJsH4gifj04T7AnzdMoUdR1UaLIx7SpKGJH0YizENtXAuePALkZ9oY2gqcq4sKBC0FumSiknn4b9BzcJi0eZtRRmEn+9gfexdOiqIBu7YSTOn65ptqH6DufWYJoc7y1neFGqIi+YsHZcvz769oC6urVvLrI2q8leF0U5dAz+ngSRG9LWEjr9m2g+/flSIqclqoKosjCo++PYE55GKKAM/W3oPX1+PTZTphP/QO4laNXfwvm6Dtd72ebvuq1ahF452XQ17wJLXZHg6IoLa+MypT3gjcWlZbjXEI+Fp0p9phtCC1Eek7z8+w1hhJFXRclinxMW4kiUZAE8xCJoZH9gKdvBF7pDbHjE5iOXHsP3yKy6Xq2LwEmDgRG3+eWiQ9HAIEH7TO0IyrLYB5dBzFziFzKbS54EWbyGapZvVuBeloUZZZT27kJzkjVPCV2+1aBTdQmZruIXRibr+NtfwO/XlstithePAbEND85taSuKJr8TSQiUzywJN+GR3tEXCjEhoUwpg4Anvg9/UgSRCwa+N8Hr7Ni/1SJokd+A339NKCMOhQtwdOiKH4XzGdvlIEl5b7Db0Zlzn7adrL+vmTG4mEQA35p/Z5el0Pf+T4cSXsaFEVc+XMj4C1RFF+gY1FQhYyK7ikbtLcSp1IqVJwihUdQosjHtIUo4srPPL4G5pg7nZW9rFDnPAsjO8Tey7eIuCAY7z1u9dBrXFNjJob8C+LAl/YZ2glFORCntkiHV9H7Sus6h3WTTr0wvDuq5fmRIoFRRyvw7w0GbiRx9Bz9hNUXBEob8RE6lw28dlrgujXAt5ZZouil49ZS6ZZQVxR5OqJ1FaI4G0bwbmDDfGDheGD2q8DMF4EJ/a1RGC5zt3wX5oieMKIOAJrnI1pXWbNEUeJuGKP7QPS09x3yTzgi18CRUz8TPps5jYQfp/7gctnnSmh+H8ORcbDNRJGKaK1o7yhR5GPaQhSZif4w33nCquhrmDn1QRgxbTPyIuJDwU6fcsqCr+eW71DlTaLi3l/Utv6/hHjoV8Bjf4G5YDhEGLW47YWSPIjTW0kQ9akOvMdJON97Wjr1snOvN6krin4/+Sze2RSBovKWiSKefsjILcSSYAeWRgiZT8oduKF79YTAzZt0OdW2PMre0AJ8JYrqwcEdw/whpjwlI0zzsxT9fwFz0VhbPLRwFMLToiiV9l041JnzjEeytHWT4UivE6co9yS0+L3Vq+1u/rbc1xG9Fo68o26Lou7vn8fKo61MiluDmAIDHwTq+MPX8Jg9sh846aGI6lWwf11cajZ6z1OiqKtRVxQtO3AR6XmeiZbtLvTGdh18LopMqikWjpapA2TlWMPaUhQh6SLERxOd8VZwP1Xyr98PseK9WmZ+NQv6/oVA0NGWxYnxFsKEeWoTzHG9qu/pTd+COf1huqeH7J28SwmLov3Vooj/ZZHEYsnXcM86KSNXLudvDb4XRSR2+B3hbPgr369+ljf+D8yJd8MI2Gzv10LcEUXJ+6iMz3eKIsGiaDmJIk7pUXdajCNaH/oQ5lN/tvbl/GzP/AeOmO1WrCI+hkxLOQixmn7Pw1asJXHPtTDeHwQHfRefx11R1G9+ILaeTba3tp784lIEpRRiU7zwmJ3O9Ny0WRWabiA4NhM95qg4RV2NmqKIFxzwwgNelelLqAbqOvhUFFWUQez+EnjmRqBbnRU1ZO1JFJkjb4dx6DOqNbNqW0E2RAmv8y61Gq92ghFxAOY7j9P1/6D6fn4wGGbYPsDhmzw5PCI0Y1OEHCHistSWooibJW5IzFauvPOpKJLL9FNhbl0AMeZu4K6fVD/LwX+lzxdDlLfQOaqKJkSRxtGljy6GseD56lHTB66jsjUQ2slPUJm2TY7sOI9h0ZN2EAZ3IHpcLvOl8VSa8d4T0La9C83/c+jHP4bxySsQD/5KxjLic3JCWG170wlhvS2KeDSyXDNk4mBPWWtjY7lCjhSl5aCPGinqcihR5GN8JopYRISfBV7uBXDlyRXjnZdRD/MvcihdVvxtOX2WEAZzzhBnQ2C+8C8YS0YAy6dQqaTPpz0HMWsExOczYB5dC1FGwsjL01HuIegyymAuHAnR30oayg665qwnYYbsoev0wVSPDfsOsQ8R+xJxWWpLUeQpfCGK5KKD81uorE2GmPo4xFN/sxKy8rOkd4PfEbFxIUS6B3xpGhFF2oEPYcweBPHiTRAP/7q640LliXOzma/eBn39JCtidd1jN06H+fy/rf05S/59P5ORq82Xu9U7n7jnJzDefYzOQwLLjnzdkChKzC7BrG2RMhEm339Pi6KOgvIp6rqMXxeBX044JZ/7tePPYtuZROQVt9CnsIUoUeRpUUQVMYsOseA1qmCtkRhZyY7rDWNyf+A2y5G0TUVRTACMtx90Xou4+xqIJ26QyTCrVv8Izh7+wPUwR/eEuX4ezBT6TZzrpi3RKkj87IN4/iZ5jewobj79N+h75sAM2k/3PRhmfjw9AvY09mxOnrooUdQCivIh9q+C+Xq/WmWNnaqlD9FrfWBuXACRmWgf0EoaEUXsN8T+Q/L7XRmVLV6MoIWsq3esI3oTHT8aZlVi2AZMJr5951FoR5fUOr4hURSXWYxpG8Jx5Vh/ef+VKFKiqKsx4otwXDv2pHzuLIp2BySjoESJIq/hC1Ek8lJgblksg9KxnwtH8GVHa3039UxrrPhqU1EU6UdipwdwqzW87zSOEcND/jyCxM7X/Bn9Bv4txsb3YeZctM/QRhTlwXz/aWcKCNH7KpijesjEm+acYTA/HgNj+yyY5zZDJEdAlJM48nDCwiqUKGoBCZHAjBeqy9odl8oRPzH0NpgLRsEI2AQ4PCi8GxNFW9+FOeEuiEd/KxcT1LKBv5Z52gwSTlr05nrHSqPP9TUTIZ76Iwm862VQRy6PMrhjf/r/R38HY96z0M6srHesEkWNo0RR10WJIh/jdVFkGjD3r4Y55D/VQmPQDcCu5fWWwbepT1HIMeC5vzmn8vAfaqCkgPs+zIdvoEbqJuDhX1mB9exgevybzANr6GDPO1a6B31vVgrQz542a8y4l//OIzAjDkNo3vExUqKoBSRGA++9ZAlv9gcbdiOML8bDjD1t7+BhmvIpitsB/fQyaHs/qG2HP4Ie3PBSe6flHoEjaRPMr+bAmPUcjLcHyH/Fl7Og+30OLZVjGNU/TomixlGiqOuiRJGP8bYoMiL2w5z+qHNais38ZiZEfkL7EkXnDsMc8FtUpVRgp1Ex4i7gwHqqmSOA1FhqqPxgrKfedL+f24LpezCXUQNWkW6fxMeUFAL++2WC0Kp726Dd9L9Az8thskOs3w77BJ5FiaIWoFVCZMbBjD4F84I/lbOLEAUZgMNLjpRNiCJHznE4Mg7BkXagtqUfhCOLBI9cgebiOKfR9txj0JIPyEjV7DfE/2pJJIbYqbqh7PlKFDWKEkVdFyWKfIzXRJFBDWFaPMTsFyHus5ff206jxu55MGIPwjj+BYw376v24xlzN8wT62QyPl87MYtQapRe7CanyESPK2C+/ThM/63U0ucCdrh+YVZIP52q/fiazfeehJF2Rm73ORlJ1AP/wEokaosf0fcqGRSTR4XEm48AQ28F7r22xvYfQ3wyGchJs0/iOeqKon/NCMC6E3Eoq+y4ouhYZBYGLw1yvh/ecLTmss7pYqyM214edWxKFLWRKVHUOEoUdV2UKPIxXhNFZcXUYM91xiWR1u3/YD5+A8zJ/WHOHmT9S//vXOXy0O8h3noC5lfTqdd8AqKslcuPm4HIjIe5ga73rcEQH02AOLuHKukie2s1IiYY5rRBztEtMeEemOe9M/LSFCIxAubcl4HbrWX4HAzP/OAFmMe/hhG2H+LcfmDvamD+CIgHf1ntxDuJxFKQ54NOFpAoGrM6BNdPshqwG98NwBb/RJQ7Oq4o8ruQjaGfWw0Rm1dEkS/p4KLogY+CsScw1d7adVCiqOtSUxT9ZMJZHApJRXGZb3NuKlHkCVGUnwUx7HZng90s63kZ9E3TIHI8F86/SaixEBX5luNraf3K2UmdeEZiZF+IY5vsjb7F3elHud+7j1ULuWF3QOz1fHqSvBIHnvs0AD8bb5WlziiKxq6NQHCCEkWetoZEUUxGMd5YF4orxlii6JElITgW3saJo9sAJYq6LjVF0U9JFPlFp6OsQokir+E1UVSYA0x+EOh3reVEytm+2Um5prH/Dvu6VIkh/ps/p2OMw4sgClPsk7UjkqjyrhFawJw6gISIbyJG10XEBZMoeqK2KLp4wN5ajShIrpW2QTz/L5jbPrK3eo6uIIr4b/6sw9LBRFFYchGGLAvEZaOVKFKiqGsynETRNVWiaOJZ+CtR5F28Joo42nNWMnB6D8xdS2Csexvig1G17e1BwJN/ICFkOzcP+hPMj0YAhzeRIMqkmqBlObO8Svgp4JVbqpfnz3gWiA+1N/qYpGgSaGOrBdrEu2AEbrE3VlNPFA3rAbGXV815FiWKOgBKFHVIlCjqugxcGoXvDLfqn+smnUNCRhY1r7597koUeUIUVVFSKOMUiYwLQAyJhxomjm6wgtbdZiUvNcf3geH3VS3nZp+RmwFxYD3EojdgHFwFM5Outy4JUcBn04DeJC5u+l+IO6+AWDbdWgXWFuSkA1uXAz2vssTOU3+C+Po9e2M1IjFUxoepitYtJt0LM2iXvdVzKFHUAVCiqEOiRFHX5cGPo531z3Wvn0NqdhaE6dsBAyWKPCmKGqFdLcnnjOSv9IG4+6cwR3SHueptmOf3wkw4Zxn9LT59CxhcHW/JHNkD4njb+BNJKspk6hQx4PfWtGPPy4BJAyCizkNU5FAjU0BiNBZiy6cwH7dG5ET3S2EueAVmVrh9Es+hRFEHQImiDokSRV0RIVelPrgkwln/KFHkA9pUFMWHwpxVPYJhTnsEZqznV0W5xbmDJC6qV2iJB34BY+Ld0D9+WRr/zZ9JQcSjRHdfDXPTezBzYuwTtBGFuTCnPArR58fWtd33S4jZw2EeWQnz9Fcw18yEGNHX2sb3ePDfYe5cJvOleRolijoAHVwUPf5JKE5GKlGkRFEXQJgwtQI8sDjUWf9IUZSbJ99jX9KlRNFXJIr+20aiCMkxEEvesBLEspP1u0OtCL9tgMiOg75xmpWSgIWRHbW6lvFnvK33lTA+eAYioY18iWqilcMI3QgxrJvluF73mquM7+8t34XxxQSY6SH2wZ7FlSjaekaJonZFBxdFz34WhqC4LHtr10GJoi6IC1H0i9cDkFbo+2dOLUjXYenhRPx24gnnTffpSFFFPoyI3TAH/VMmXxXrZ1vL4tsCQ5O+T8b+j2AOv0NGtK4rLPgz3sb7cBRijkbc5ggBUUmNyflDwMSB9a5ZXvet34P52F+BzZ/KiMnQvXPddUXRLe8H4khIMio13wbi9CRKFPnGlChqHCWKuiBKFLUNSw4m4vrx1aJozs6LSM6uH7TQKwgSImXZEH57qfXZDaREy0q7zTANiIIkiMAjEPtWwVw/A8bHL0njv/kzuY32kavr2hOl9MzC/En4LCOlOwXGnKdhzHoS5kevQqz5ACb7PmWnkpDz3gtVVxTdSqLoeJgSRe0KJYo6JJpuIiIxCz3nBsv7oERR58c0TeTk5aLfh5YouvTV07hxxhlktsEz79KiaP6eWKTm1K+cuhrsc2OWJMFMPmsZ/e0NPxyPw87XnKct+hiMqMMQ8UFAbjpdO2da924KCSWKOgBKFHVINN1AUGwmesxRoqir0J5GB5UoUqJI0QKUKOoAdDBRFJJUiMEfn8cPRylRpERR10KJojairiiauytGTp8ZpqhlJpuwrOr/Bf2t6NzwE+ZnrdMLqpHxv1V/V/2/YVqWXVSJZz45j5/aoui2WYE4EZaiRFF7ooOJorNx+bhrth8uHWnd/64sioLjSBR9UC2K7nzPDxmFlc46uqY562v7b2+PEis8jxJFbURdUTT8i1DsPJeI0PisWnYxJQfJmbn0kHIRnpCFuLQcFJXwlIyiM1Ne6ZDPem9gMnacS8LB4GQcDU2Rf7Px36ciUqXtPp+IHjNP4crRp2RZuoN6tQExGXBQhd5RUaLIN6ZEUeNw5yOe3sM+86obyO7vnMKx8LR6dTUbv7NcX/O/kUnZcFQU+Dy2jaJ1KFHURqw6kYx/vHXaWen/fvJZ3DE7CP0+DKll9y0MxYOLw/DAojDc82Eo5u68gPDkDpwYU+EWRWWVVPGm4j4qA91nBaLHnCD0/CBI/s3Gf/eea9kdswNxzbjTuGSEVZ56UwUek5ItK/SOihJFvjF3RdHQlRHUyOfYW7sOQpgoKcnH058G4QpqHPkdu5betd5zg+vV1Wz3L7Lqa/73sU/CcDIimd7lCvtsiraE68PEzEKcj83GqajMenY+JgthCdkIjM3CZr843PRugCz7ShT5iAOhmXhkUaCz0nfXBn0ShCMRXa/H1tXIKy7H1jMJuHb8WZfloCH7+cQzGPFlFPKLS+UwfkfFG6KIQyiYKUEQp7fBjPWHKGnme8QrHzktTeBhmMEHXKekaQh3RVHuCWiJu6CdWwV93zzoJz52vV9jFrtdHq+d+ATayU+hhX0NR+puOPKO1tvXXVE0bFUkLqZ2xc6YkIslpm2KwB/erP2uNWXXvHYGX5+MQ05hB1go0gWocBjYE5CE8esiMfjT0Hr2/OdheGlVOIauCMNDi4Lwswln5HP88djTeHDBWeQUK1HkVeIzi/Hh3jg5QvST1/xwxejT+OHIU03a44sDpKBSdG5yi8qxxS8e/5h2Dj8d749rxlEl24RdN9EfT34SjB0BKfZZOi4eF0VFORBB+2CsGANzVA8YK8fCjDlpb3SD8hKI2CAZc8qcPBDGjEdg7Ftmb3QDd0RR9lFoF7bA+GYKzJmPQbzcDeY7A+FIP0iC5qTrY6qMjnXE7YDmvwL6lxNlGh9zUj+Yb94H/aMh0Da/Ce3McmgJ+2odp0SRe/A7xe8Wv4uu6mVXdv0kf6w/GatEUTuhpELHwt3R+PPb55z1ijv2q9fPYPzaUBSU+X4atEuJIiYhqwTzd0ZKJ9me759Gt+mnmrQ31oXibEzXG8buahSWVuJkRCqmbgjH858G4InFZ5u0kauCsT8okRq5EvssHRePiSJhApVlEEfWwRxzpzOwpvniTTAPrrV3agwBDhYqIk7BmP4w0P17VmDOXldBzBxm7+MGTYminOPQojZCXz0euPOH1QFAn/8n9KAvSfQcc30cW9WxaybBfPyvELdZOQ3r2dA7YG75UO5fdawSRe7B7xS/W0M/C3RZL7uyvnT/tp2Jlx0cRdtTVK5h2oYI3DDlLC4Z4eeWfe9VXrgShJ3nklDu8L2PJr21XQteRZRf6kBGYQVS8iqQlFvepOUUV6KiA68qUrgHr1zhNB25xVb5SC9o2rKKKlFWSb0ZFgIdHI+IImHArEiBuWgcxCN/dCZAZnNXFAm9FOLAKmB4d6DHD6rT0Nz3E2DhaHsvN2hCFGmnlsGYMRCiz5VWahj7Ot0RRdXHXgXcfAldY/XxtYwjrL90i5xWc2RZU2lKFLkJvVP8bmUWVrqsl10Z1+klFZpclaZoe8oqdXx9Mh7PLg1A71l+bhnvu/JoAkordE5i4HPorVUoFAoPiaLyYhib5kAM/juJhe/UEgjuiiLz7HaIKQ9ZgqjG8ej/U2DxGHsvN2hEFGnxO2AsGQZxz7W1v4OsSVEUvh7G/GdrHSse+S2MiXfBmD0IxruPAoNuAG63BKEgMWfOHQxHijWNpkSRoqvA4jQ1txTn4/NxIjrXLQtMyEdqXttNf9IbrVAoFB4SRSUFMD+eAHH/L2VSXtG9Wti4PVK06zOIoTcD3b5t5eWzR2HEQ9dDLHvd3ssNGhNFkd/AnPpgve+wrvPf0GK+gSO3esqr1rGBq2G+ca917F3XwHytD/SV46AdXQwteC20sytgfjYCYgDdAz5njx9CDO8OLWGXPF6JIoWi/aJEkUKhkHhEFFWWQxzeBDF1EMSrfSCe7VYtNl65BeaRr+0dG0acPwIxfzQd34sEB4mPW79rHf/YH2CunmHv5QaNiaLYbTCWv0rX1A3G2N4QPa8AbvqWfZ03oTJrBxx5J+odV33saJgjusOY8QT0c6vgSD9UvU/WURgnlkM8/Xfrt9/+AxJaN8MRr0SRQtHeUaJIoVBIPCKKbMzKDIiUEOCLOdWi6LU+MP222ns0jtDyYZTFQE84DNx1jcdFkbScg6jM3A7HhTUwnv03xG2XuiWKGrW8k9BSDkCsoOsc8Hvrt/e+AmJiX2iJu+U+7oqil76IRIwSRQqFT1GiSKFQSDwpitjhGhmJLRZF7GQrtALviqL8kyRijsMRtx3mszd6RBRpaQegH1sC8eCv5PQan0/c/3MYi4fBkbpf7uOuKBr9VTTScgrsrQqFwhcoUaRQKCQeFUVMZnLLRRHBwsG7osi2+F0eEUV62BaYKydDPPcP4GZbEHX/AYxRd8AR+JkV14j3c1MUjSFRlJFbaG9VKBS+QIkihUIhUaLIFkXDb4Yj5wBtayJ4IxtHw07YBf3ghzDnDQEG/cv5e9HnSphje0DbOrXW+ZQoUijaL0oUKRQKiRJFtigacZvr/eoaB3CM3wlj/WSIUbfTdf7I+q03/a+MX2RO6AV933uolIKo+jglihSK9osSRQqFQuJ1UTS+L4TfNntj09QTRY/fAPPLd+ytbuBNUcQjRHE7YGyfCfS83PqNHGTy5m9D9P0RjMn3w3H2Y+nMXffY5vgUpecqnyKFwpcoUaRQKCTeFkVi8pMQAUfsjU1TTxQ99w+YWxbYW93Am6IoYgP0T0cAHNHajoYtelwB89U7oR9cAC1mOxxZR2jf+lNw7oqil7+IRGyaWn2mUPgSJYoUCoXE66JoymAg4Ji9sWnqiaLn/wlz20f2VjfwoijSt8yE+cw/nb+NU5AY7w2EdnIRNF5l1kgyWXdFkYpTpFD4HiWKFAqFRIkiN0VRzDYYc56BuP2HMhI2R8Q2Zz0J7cwyOHIPuz6mhrkrikZ8GYXEzHx7q0Kh8AVKFCkUComnRZHIiINYNaNaFL35KMS5/bTBveTKorIIRuQBoO/Vllh55u8wN86GMDkDuhuZIt0RRbzsPnZrbVH08s1wpB1scLRHO7II5uge1u/q9m2Yj/8Z2p650GJ2QovcCi18fbXFbocjo7ZQUo7WCkX7RYkihUIh8Ygo4rTWlSRaivNhRh2RSVerRJE5qgfMfcsgClIAvZJ3to6pi+4ASkkMJMcAu78Eel0lj5dJVz8ZBTMzECgrAswmxJUURYkNiCISPJkkVhJItJz/GOZTfydRZCdwffqv0E98DC1+l8uksPrGqXLUSv6uWy+Rv0v/bCSMVVMgPhwNY9aT1fblROjnVlrCyBZZDYmiM7H56DPLD99/1br/Y9dFIytPiSKFwpcoUaRQKCQeEUXlpRDbPgde6gXc81Pgzh86RRFu+y7Q98cQr90NI3IHoPGIT32M0N0wZz4F3PsLoM/VTkdmGSH6zsuAR26AWPEekBZvH9EAwoTpyINWFFxP2FRm74O2dgKJob9B3P1jK6M/rx7j77nlOxD9rpWjR9rJZfWOrSWK+Bj6XaInXRfnT+Pksnf8oNp6XQ7x7N+hkzhypFsr0RoSRcei8vCXN4/jkhGn5f1/e+tF0of191MoFN6D3mqFQqEAguJzMWZNuFMUPbo4EAfDMu2tblKUB8x8FiBR4RRDdUw8/meYO5eSgCqxD6qNsWUBzOdqODHXtdsvhTn7eYiEMPuIBmBRpBWQKAqpJ2wcoWtgTH9IZvJ3+R0kdnjkSN87r96x2uGFMEfd4fo4V9b9exD0ezimER/PU3o8ilWXI1G5uGGSJYquGXsS8/eS6HOxn0Kh8B70xioUCgUQlpiHCesinaLogQUB2BOUYW91ExI6YudHMN99DOLVnsCwHrWMPzPnvggRdBjQeAqtPmbAXpjLXoM58Z76xw+/E+bk/jD2fwaRl2of0RACwqiAVhxeT9g4Lm6Bvno8zJG3y7Qcdc0c8m+Yb94L7fwXro9d9ybM8X2qjxl6q/XbxvVyGl+rGNJN+iixI7YjeR+0grMwKtLt66vNvvA8XDPmJL493A/Xjz+BJQcT7S0KhcJXKFGkUCgkEcn5eOObVooiYcB0ZMKIPgjz+HqIvV/VMv7MuHAUQudRItc+RcIoh5kdCTN4Z/3jD38NI3g7zPIct0dR9LIYOAr8XYibrXLUR//m7fq2eQb0kLVwpB+qfxyZlrQHuv/nzv2NbQugH1oK7fQypxn7PoGxZQ70PR9Ai94kI2DrJNB4Sq8umm5gY0C2894rUaRQtA1KFCkUCkl8RgFmbo12Nsz955/HruaKonYIizS9ONSluPGtnYZRnixHr+qSX1SKz44kOO/9ryecwCeHlChSKHyNEkUKhUKSmlOMebtjnA3zre/642u/FHtrB0YYchWaa6HiKzsNvSgEQuPVZPVHyOqKopum+2HtqU5w7xWKDoYSRQqFQsKiaP6eWGfD3G2GHxbsikZYQrZMN5GeW4hMF1ZRUQxhOuyztE9MEiN6SbQLseIDyzuG8uyDyMyKR0ZOrrxn+UVFcmVZdn4h4jPycSwsFRPWRdS69+tOK1GkUPgaJYoUCoUkK78ESw7EORvmX070Q9+5ARiyIhzDV0dh3LpovPZ1ffvyeBxi0tt34lJhatKXRy+JgqPAz7V48ZJFXDyOqd8cwfivI5z3bNKGC5i+/SLGr7+AV9dE4cmlobjpnfPOe99r9llsPpdmX71CofAVShQpFApJSVkF1vun4NpxfnIFVFUD3ZQ9sigQB0KbuXS/LRC6XKLPzs6OgjMuBYxHrcBfxkjaeS4El408hf9zce8asic/DsKR8Cz7whUKha9QokihUDgJSizE44vP47qJZ/GjcWdw5dgzuGKMv7QfjnJtI74IxZmYHPsM7RwZu4in0iJItJx1vSqt1eYnRZdeHAbTkYvj0Xn451sncOUYP5f37/LR1v29cswZec+vfu0spm2+gKiU9j36plB0RpQoUigUThy6ibT8cmzxT8CygzGYsz0KUzeEY8r6MAxbHoQhywLr2boTcUjKLrLP0AEgYSSEBlMvgl4W70LUtNw0KYYiYFRkQBhl8rsuphdj2obQBu/fpK9C5T1+b0sElh6IwfazSUjOKYVmmPYFKxQKX6FEkUKhqIVpCuQWlyM9vwyJ2SWIyyxGbEYxwlOKEJZcWM94vwpHB4y8LAwrJpIjVy6V1woDXAodd4zzq7EjNwdm5BhM0vGcBBFTVqk3ev9YNPE9TsgqQVpeGfKLK6CROFUoFL5HiSKFQtHFsSJfm5WZUhxxGg7OTyatOAxaUaAUPU4rCpJ+SXJ76UXaP4mOzZDTcu19FZ5CoWgcJYoUCoWiJkKn/4qlmY4smBUpUvhUmVmRKkeXrH1K+QDrOIVC0eFRokihUCgUCoWCUKJIoVAoFAqFglCiSKFQKBQKhYJQokihUCgUCoWCUKJIoVAoFAqFglCiSKFQKBQKhYJQokihUCgUCoWCUKJIoVAoFAqFglCiSKFQKBQKhYJQokihUCgUCoWCUKJIoVAoFAqFglCiSKFQKBQKhYJQokihUCgUCoWCUKJIoVAoFAqFglCiSKFQKBQKhQLA/wfMow1+SP9JOgAAAABJRU5ErkJggg==)"
      ],
      "metadata": {
        "id": "zwyiBM-_dZ9g"
      }
    },
    {
      "cell_type": "code",
      "source": [
        "5 * arr_a # Matrix (scalar multiplication)"
      ],
      "metadata": {
        "id": "fx426J7YdUIk",
        "outputId": "9f20d004-33b1-4139-a0f3-c3aa01ce81f0",
        "colab": {
          "base_uri": "https://localhost:8080/"
        }
      },
      "execution_count": 238,
      "outputs": [
        {
          "output_type": "execute_result",
          "data": {
            "text/plain": [
              "array([ 5, 10, 15, 20, 25])"
            ]
          },
          "metadata": {},
          "execution_count": 238
        }
      ]
    },
    {
      "cell_type": "markdown",
      "source": [
        "$M\\times N$ (dot product)\n",
        "- (m x n) $\\times$ (n,o) = (m,o) (shape)"
      ],
      "metadata": {
        "id": "Xs9mM-PpetSt"
      }
    },
    {
      "cell_type": "code",
      "source": [
        "mat_a = np.array([[2,3,5],[4,6,7]])\n",
        "mat_b = np.array([[1,2,5],[2,4,-7]])\n",
        "mat_c = np.array([[2,3],[4,6],[7,9]])"
      ],
      "metadata": {
        "id": "BRLdQM-Werul"
      },
      "execution_count": 239,
      "outputs": []
    },
    {
      "cell_type": "code",
      "source": [
        "mat_a "
      ],
      "metadata": {
        "id": "kaz9I1uugB0c",
        "outputId": "cd6394fe-c477-4113-92e5-2da38f271180",
        "colab": {
          "base_uri": "https://localhost:8080/"
        }
      },
      "execution_count": 240,
      "outputs": [
        {
          "output_type": "execute_result",
          "data": {
            "text/plain": [
              "array([[2, 3, 5],\n",
              "       [4, 6, 7]])"
            ]
          },
          "metadata": {},
          "execution_count": 240
        }
      ]
    },
    {
      "cell_type": "code",
      "source": [
        "mat_b"
      ],
      "metadata": {
        "id": "Ai5NVc7bgTZc",
        "outputId": "0273c4eb-0d45-4edf-bd38-bc7ed275d44a",
        "colab": {
          "base_uri": "https://localhost:8080/"
        }
      },
      "execution_count": 241,
      "outputs": [
        {
          "output_type": "execute_result",
          "data": {
            "text/plain": [
              "array([[ 1,  2,  5],\n",
              "       [ 2,  4, -7]])"
            ]
          },
          "metadata": {},
          "execution_count": 241
        }
      ]
    },
    {
      "cell_type": "code",
      "source": [
        "mat_c"
      ],
      "metadata": {
        "id": "Hsoaam8-gUgc",
        "outputId": "737d71cc-6d98-4e07-9e2f-1799e86a7815",
        "colab": {
          "base_uri": "https://localhost:8080/"
        }
      },
      "execution_count": 242,
      "outputs": [
        {
          "output_type": "execute_result",
          "data": {
            "text/plain": [
              "array([[2, 3],\n",
              "       [4, 6],\n",
              "       [7, 9]])"
            ]
          },
          "metadata": {},
          "execution_count": 242
        }
      ]
    },
    {
      "cell_type": "markdown",
      "source": [
        "a x c , b x c  "
      ],
      "metadata": {
        "id": "MHvMEzJSgWfO"
      }
    },
    {
      "cell_type": "code",
      "source": [
        "np.dot(mat_a,mat_c)"
      ],
      "metadata": {
        "id": "KBgNzg6DgVwQ",
        "outputId": "7b844e7e-7c58-4556-d18a-3d9c4ca77efd",
        "colab": {
          "base_uri": "https://localhost:8080/"
        }
      },
      "execution_count": 243,
      "outputs": [
        {
          "output_type": "execute_result",
          "data": {
            "text/plain": [
              "array([[ 51,  69],\n",
              "       [ 81, 111]])"
            ]
          },
          "metadata": {},
          "execution_count": 243
        }
      ]
    },
    {
      "cell_type": "code",
      "source": [
        "np.dot(mat_b,mat_c)"
      ],
      "metadata": {
        "id": "EGyTt-wMgrKW",
        "outputId": "00a0b7a0-b864-4354-a5a4-e29ced21c4f1",
        "colab": {
          "base_uri": "https://localhost:8080/"
        }
      },
      "execution_count": 244,
      "outputs": [
        {
          "output_type": "execute_result",
          "data": {
            "text/plain": [
              "array([[ 45,  60],\n",
              "       [-29, -33]])"
            ]
          },
          "metadata": {},
          "execution_count": 244
        }
      ]
    },
    {
      "cell_type": "markdown",
      "source": [
        "cxa, cxb"
      ],
      "metadata": {
        "id": "QA3l60kfg9YC"
      }
    },
    {
      "cell_type": "code",
      "source": [
        "np.dot(mat_c,mat_a)"
      ],
      "metadata": {
        "id": "03H168bdgwO2",
        "outputId": "59ffcd45-2958-4cd9-a3a3-98ab9de1c14b",
        "colab": {
          "base_uri": "https://localhost:8080/"
        }
      },
      "execution_count": 245,
      "outputs": [
        {
          "output_type": "execute_result",
          "data": {
            "text/plain": [
              "array([[16, 24, 31],\n",
              "       [32, 48, 62],\n",
              "       [50, 75, 98]])"
            ]
          },
          "metadata": {},
          "execution_count": 245
        }
      ]
    },
    {
      "cell_type": "code",
      "source": [
        "np.dot(mat_c,mat_b)"
      ],
      "metadata": {
        "id": "Vwg05i_ohE60",
        "outputId": "57c1f00b-9e91-4854-ccd8-b12e5187463e",
        "colab": {
          "base_uri": "https://localhost:8080/"
        }
      },
      "execution_count": 246,
      "outputs": [
        {
          "output_type": "execute_result",
          "data": {
            "text/plain": [
              "array([[  8,  16, -11],\n",
              "       [ 16,  32, -22],\n",
              "       [ 25,  50, -28]])"
            ]
          },
          "metadata": {},
          "execution_count": 246
        }
      ]
    },
    {
      "cell_type": "code",
      "source": [
        "mat_X = np.dot(mat_c,mat_b)\n",
        "print(mat_X)"
      ],
      "metadata": {
        "id": "TDf57cb7zSil",
        "outputId": "05bc7675-7f6d-4042-bebe-6ac14a4c7e85",
        "colab": {
          "base_uri": "https://localhost:8080/"
        }
      },
      "execution_count": 247,
      "outputs": [
        {
          "output_type": "stream",
          "name": "stdout",
          "text": [
            "[[  8  16 -11]\n",
            " [ 16  32 -22]\n",
            " [ 25  50 -28]]\n"
          ]
        }
      ]
    },
    {
      "cell_type": "code",
      "source": [
        "mat_a * mat_b # คูณตัวตำแหน่งเดียวกัน"
      ],
      "metadata": {
        "id": "rykmUcYOhIA0",
        "outputId": "d6be8913-0c5a-4b6b-c35a-1820f3f308c5",
        "colab": {
          "base_uri": "https://localhost:8080/"
        }
      },
      "execution_count": 248,
      "outputs": [
        {
          "output_type": "execute_result",
          "data": {
            "text/plain": [
              "array([[  2,   6,  25],\n",
              "       [  8,  24, -49]])"
            ]
          },
          "metadata": {},
          "execution_count": 248
        }
      ]
    },
    {
      "cell_type": "markdown",
      "source": [
        ""
      ],
      "metadata": {
        "id": "oSPE_Zk4iW3_"
      }
    },
    {
      "cell_type": "markdown",
      "source": [
        "### Matrix Slicing"
      ],
      "metadata": {
        "id": "FDCtrCnJhzJ1"
      }
    },
    {
      "cell_type": "code",
      "source": [
        "mat_X[:2,:2]"
      ],
      "metadata": {
        "id": "NONZ04gDhrgg",
        "outputId": "787c94aa-e46d-4ae7-bc28-5f46f5d2de2b",
        "colab": {
          "base_uri": "https://localhost:8080/"
        }
      },
      "execution_count": 249,
      "outputs": [
        {
          "output_type": "execute_result",
          "data": {
            "text/plain": [
              "array([[ 8, 16],\n",
              "       [16, 32]])"
            ]
          },
          "metadata": {},
          "execution_count": 249
        }
      ]
    },
    {
      "cell_type": "markdown",
      "source": [
        "###HW 3 \n",
        "\n",
        "1. สร้าง array ที่มีรูปต้นคริสมาสต์\n",
        "2. slice เลข 1 ออกมาจาก array HW3"
      ],
      "metadata": {
        "id": "bs1-bm0Ria8m"
      }
    },
    {
      "cell_type": "code",
      "source": [
        "HW3 = np.zeros((10,10))\n",
        "HW3"
      ],
      "metadata": {
        "id": "s4UFgJ_MiTdf",
        "outputId": "313ac72c-a17a-4e05-9862-c90726d0f0ac",
        "colab": {
          "base_uri": "https://localhost:8080/"
        }
      },
      "execution_count": 250,
      "outputs": [
        {
          "output_type": "execute_result",
          "data": {
            "text/plain": [
              "array([[0., 0., 0., 0., 0., 0., 0., 0., 0., 0.],\n",
              "       [0., 0., 0., 0., 0., 0., 0., 0., 0., 0.],\n",
              "       [0., 0., 0., 0., 0., 0., 0., 0., 0., 0.],\n",
              "       [0., 0., 0., 0., 0., 0., 0., 0., 0., 0.],\n",
              "       [0., 0., 0., 0., 0., 0., 0., 0., 0., 0.],\n",
              "       [0., 0., 0., 0., 0., 0., 0., 0., 0., 0.],\n",
              "       [0., 0., 0., 0., 0., 0., 0., 0., 0., 0.],\n",
              "       [0., 0., 0., 0., 0., 0., 0., 0., 0., 0.],\n",
              "       [0., 0., 0., 0., 0., 0., 0., 0., 0., 0.],\n",
              "       [0., 0., 0., 0., 0., 0., 0., 0., 0., 0.]])"
            ]
          },
          "metadata": {},
          "execution_count": 250
        }
      ]
    },
    {
      "cell_type": "markdown",
      "source": [
        "### 1. สร้าง array ที่มีรูปต้นคริสมาสต์\n",
        "\n",
        "แบบที่ 1 \n"
      ],
      "metadata": {
        "id": "1m_e2av0QmZa"
      }
    },
    {
      "cell_type": "code",
      "source": [
        "Hw3sohard = np.zeros((10,10))\n",
        "Hw3sohard"
      ],
      "metadata": {
        "id": "TP79gtWxQfZA",
        "outputId": "86fe8ae2-7e7d-498c-8eec-09f6f4293d66",
        "colab": {
          "base_uri": "https://localhost:8080/"
        }
      },
      "execution_count": 251,
      "outputs": [
        {
          "output_type": "execute_result",
          "data": {
            "text/plain": [
              "array([[0., 0., 0., 0., 0., 0., 0., 0., 0., 0.],\n",
              "       [0., 0., 0., 0., 0., 0., 0., 0., 0., 0.],\n",
              "       [0., 0., 0., 0., 0., 0., 0., 0., 0., 0.],\n",
              "       [0., 0., 0., 0., 0., 0., 0., 0., 0., 0.],\n",
              "       [0., 0., 0., 0., 0., 0., 0., 0., 0., 0.],\n",
              "       [0., 0., 0., 0., 0., 0., 0., 0., 0., 0.],\n",
              "       [0., 0., 0., 0., 0., 0., 0., 0., 0., 0.],\n",
              "       [0., 0., 0., 0., 0., 0., 0., 0., 0., 0.],\n",
              "       [0., 0., 0., 0., 0., 0., 0., 0., 0., 0.],\n",
              "       [0., 0., 0., 0., 0., 0., 0., 0., 0., 0.]])"
            ]
          },
          "metadata": {},
          "execution_count": 251
        }
      ]
    },
    {
      "cell_type": "code",
      "source": [
        "Hw3sohard[0][3]=1  \n",
        "Hw3sohard[0][4]=1  #แถวที่ 0 หลักที่ 3 และ4\n",
        "\n",
        "Hw3sohard[1][3]=1  \n",
        "Hw3sohard[1][4]=1\n",
        "Hw3sohard[1][5]=1   #แถวที่ 1 หลักที่ 3,4,5\n",
        "\n",
        "Hw3sohard[2][2]=1\n",
        "Hw3sohard[2][3]=1\n",
        "Hw3sohard[2][4]=1\n",
        "Hw3sohard[2][5]=1\n",
        "Hw3sohard[2][6]=1   #แถวที่ 2 หลักที่ 2,3,4,5,6\n",
        "\n",
        "Hw3sohard[3][1]=1\n",
        "Hw3sohard[3][2]=1\n",
        "Hw3sohard[3][3]=1\n",
        "Hw3sohard[3][4]=1\n",
        "Hw3sohard[3][5]=1\n",
        "Hw3sohard[3][6]=1\n",
        "Hw3sohard[3][7]=1    #แถวที่ 3 หลักที่ 1,2,3,4,5,6\n",
        "\n",
        "\n",
        "Hw3sohard[4][3]=1\n",
        "Hw3sohard[4][4]=1\n",
        "Hw3sohard[4][5]=1    #แถวที่ 4 หลักที่ 3,4,5\n",
        "\n",
        "Hw3sohard[5][2]=1\n",
        "Hw3sohard[5][3]=1\n",
        "Hw3sohard[5][4]=1\n",
        "Hw3sohard[5][5]=1\n",
        "Hw3sohard[5][6]=1   #แถวที่ 5 หลักที่ 2,3,4,5,6\n",
        "\n",
        "Hw3sohard[6][1]=1\n",
        "Hw3sohard[6][2]=1\n",
        "Hw3sohard[6][3]=1\n",
        "Hw3sohard[6][4]=1\n",
        "Hw3sohard[6][5]=1\n",
        "Hw3sohard[6][6]=1\n",
        "Hw3sohard[6][7]=1   #แถวที่ 6 หลักที่ 1,2,3,4,5,6,7\n",
        "\n",
        "Hw3sohard[7][0]=1\n",
        "Hw3sohard[7][1]=1\n",
        "Hw3sohard[7][2]=1\n",
        "Hw3sohard[7][3]=1\n",
        "Hw3sohard[7][4]=1\n",
        "Hw3sohard[7][5]=1\n",
        "Hw3sohard[7][6]=1\n",
        "Hw3sohard[7][7]=1\n",
        "Hw3sohard[7][8]=1   #แถวที่ 7 หลักที่ 0,1,2,3,4,5,6,7,8\n",
        "\n",
        "Hw3sohard[8][3]=1\n",
        "Hw3sohard[8][4]=1\n",
        "Hw3sohard[8][5]=1   #แถวที่ 8 หลักที่ 3,4,5\n",
        "\n",
        "Hw3sohard[9][3]=1\n",
        "Hw3sohard[9][4]=1\n",
        "Hw3sohard[9][5]=1   #แถวที่ 9 หลักที่ 3,4,5\n",
        "\n",
        "Hw3sohard"
      ],
      "metadata": {
        "id": "z6TyDSkdQnxX",
        "outputId": "db04ccc4-1579-4b4a-ad9a-ed155fa33644",
        "colab": {
          "base_uri": "https://localhost:8080/"
        }
      },
      "execution_count": 252,
      "outputs": [
        {
          "output_type": "execute_result",
          "data": {
            "text/plain": [
              "array([[0., 0., 0., 1., 1., 0., 0., 0., 0., 0.],\n",
              "       [0., 0., 0., 1., 1., 1., 0., 0., 0., 0.],\n",
              "       [0., 0., 1., 1., 1., 1., 1., 0., 0., 0.],\n",
              "       [0., 1., 1., 1., 1., 1., 1., 1., 0., 0.],\n",
              "       [0., 0., 0., 1., 1., 1., 0., 0., 0., 0.],\n",
              "       [0., 0., 1., 1., 1., 1., 1., 0., 0., 0.],\n",
              "       [0., 1., 1., 1., 1., 1., 1., 1., 0., 0.],\n",
              "       [1., 1., 1., 1., 1., 1., 1., 1., 1., 0.],\n",
              "       [0., 0., 0., 1., 1., 1., 0., 0., 0., 0.],\n",
              "       [0., 0., 0., 1., 1., 1., 0., 0., 0., 0.]])"
            ]
          },
          "metadata": {},
          "execution_count": 252
        }
      ]
    },
    {
      "cell_type": "markdown",
      "source": [
        "##มองให้เป็นต้นคริสมาสต์ค่ะ\n",
        "\n",
        "![4.PNG](data:image/png;base64,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)"
      ],
      "metadata": {
        "id": "qLhzBbhrRykZ"
      }
    },
    {
      "cell_type": "markdown",
      "source": [
        "แบบที่ 2"
      ],
      "metadata": {
        "id": "cfc4w9jPXl7h"
      }
    },
    {
      "cell_type": "code",
      "source": [
        "Hw3 = np.zeros((10,10))\n",
        "Hw3"
      ],
      "metadata": {
        "id": "7HSCfd0fXn7Y",
        "outputId": "48792bfe-4bd4-4a2b-bbb0-9854d9915ba8",
        "colab": {
          "base_uri": "https://localhost:8080/"
        }
      },
      "execution_count": 254,
      "outputs": [
        {
          "output_type": "execute_result",
          "data": {
            "text/plain": [
              "array([[0., 0., 0., 0., 0., 0., 0., 0., 0., 0.],\n",
              "       [0., 0., 0., 0., 0., 0., 0., 0., 0., 0.],\n",
              "       [0., 0., 0., 0., 0., 0., 0., 0., 0., 0.],\n",
              "       [0., 0., 0., 0., 0., 0., 0., 0., 0., 0.],\n",
              "       [0., 0., 0., 0., 0., 0., 0., 0., 0., 0.],\n",
              "       [0., 0., 0., 0., 0., 0., 0., 0., 0., 0.],\n",
              "       [0., 0., 0., 0., 0., 0., 0., 0., 0., 0.],\n",
              "       [0., 0., 0., 0., 0., 0., 0., 0., 0., 0.],\n",
              "       [0., 0., 0., 0., 0., 0., 0., 0., 0., 0.],\n",
              "       [0., 0., 0., 0., 0., 0., 0., 0., 0., 0.]])"
            ]
          },
          "metadata": {},
          "execution_count": 254
        }
      ]
    },
    {
      "cell_type": "code",
      "source": [
        "Hw3[0:1 , 4:5] =1\n",
        "Hw3[1:2 , 3:7] =1\n",
        "Hw3[2:3 , 2:8] =1\n",
        "Hw3[3:4 , 1:9] =1\n",
        "Hw3[4:5 , 3:7] =1\n",
        "Hw3[5:6 , 2:8] =1\n",
        "Hw3[6:7 , 1:9] =1\n",
        "Hw3[7:8 , 0:10] =1\n",
        "Hw3[8:9 , 3:6] =1\n",
        "Hw3[8:10 , 3:6] =1\n",
        "print(Hw3)"
      ],
      "metadata": {
        "id": "sXxWmCXZXqkT",
        "outputId": "a391ed1e-acca-4074-f7c3-73979c34bbb6",
        "colab": {
          "base_uri": "https://localhost:8080/"
        }
      },
      "execution_count": 255,
      "outputs": [
        {
          "output_type": "stream",
          "name": "stdout",
          "text": [
            "[[0. 0. 0. 0. 1. 0. 0. 0. 0. 0.]\n",
            " [0. 0. 0. 1. 1. 1. 1. 0. 0. 0.]\n",
            " [0. 0. 1. 1. 1. 1. 1. 1. 0. 0.]\n",
            " [0. 1. 1. 1. 1. 1. 1. 1. 1. 0.]\n",
            " [0. 0. 0. 1. 1. 1. 1. 0. 0. 0.]\n",
            " [0. 0. 1. 1. 1. 1. 1. 1. 0. 0.]\n",
            " [0. 1. 1. 1. 1. 1. 1. 1. 1. 0.]\n",
            " [1. 1. 1. 1. 1. 1. 1. 1. 1. 1.]\n",
            " [0. 0. 0. 1. 1. 1. 0. 0. 0. 0.]\n",
            " [0. 0. 0. 1. 1. 1. 0. 0. 0. 0.]]\n"
          ]
        }
      ]
    },
    {
      "cell_type": "markdown",
      "source": [
        "##มองให้เป็นต้นคริสมาสต์อีกรอบค่ะ\n",
        "\n",
        "![4.2.PNG](data:image/png;base64,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)"
      ],
      "metadata": {
        "id": "Qe1fez-YYeXd"
      }
    },
    {
      "cell_type": "markdown",
      "source": [
        "2. slice เลข 1 ออกมาจาก array HW3"
      ],
      "metadata": {
        "id": "SHiXADL2VWql"
      }
    },
    {
      "cell_type": "code",
      "source": [
        "HW3[::4,2] = 1\n",
        "HW3[::4,4] = 1\n",
        "HW3[::4,6] = 1\n",
        "HW3[::4,8] = 1\n",
        "HW3"
      ],
      "metadata": {
        "id": "bzpBWPyLU1z9",
        "outputId": "6ea2e742-257b-4ac6-e396-93a391fe247f",
        "colab": {
          "base_uri": "https://localhost:8080/"
        }
      },
      "execution_count": 256,
      "outputs": [
        {
          "output_type": "execute_result",
          "data": {
            "text/plain": [
              "array([[0., 0., 1., 0., 1., 0., 1., 0., 1., 0.],\n",
              "       [0., 0., 0., 0., 0., 0., 0., 0., 0., 0.],\n",
              "       [0., 0., 0., 0., 0., 0., 0., 0., 0., 0.],\n",
              "       [0., 0., 0., 0., 0., 0., 0., 0., 0., 0.],\n",
              "       [0., 0., 1., 0., 1., 0., 1., 0., 1., 0.],\n",
              "       [0., 0., 0., 0., 0., 0., 0., 0., 0., 0.],\n",
              "       [0., 0., 0., 0., 0., 0., 0., 0., 0., 0.],\n",
              "       [0., 0., 0., 0., 0., 0., 0., 0., 0., 0.],\n",
              "       [0., 0., 1., 0., 1., 0., 1., 0., 1., 0.],\n",
              "       [0., 0., 0., 0., 0., 0., 0., 0., 0., 0.]])"
            ]
          },
          "metadata": {},
          "execution_count": 256
        }
      ]
    },
    {
      "cell_type": "code",
      "source": [
        "HW3[::4,2::2]"
      ],
      "metadata": {
        "id": "4SCzuTvUSwxR",
        "outputId": "53864990-e459-42c7-f565-32291e04f949",
        "colab": {
          "base_uri": "https://localhost:8080/"
        }
      },
      "execution_count": 257,
      "outputs": [
        {
          "output_type": "execute_result",
          "data": {
            "text/plain": [
              "array([[1., 1., 1., 1.],\n",
              "       [1., 1., 1., 1.],\n",
              "       [1., 1., 1., 1.]])"
            ]
          },
          "metadata": {},
          "execution_count": 257
        }
      ]
    },
    {
      "cell_type": "code",
      "source": [
        ""
      ],
      "metadata": {
        "id": "MgGN8FPiUuBo"
      },
      "execution_count": null,
      "outputs": []
    }
  ]
}